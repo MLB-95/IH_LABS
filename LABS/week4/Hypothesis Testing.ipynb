{
 "cells": [
  {
   "cell_type": "markdown",
   "id": "d92fd8aa",
   "metadata": {},
   "source": [
    "It is assumed that the mean systolic blood pressure is μ = 120 mm Hg. In the Honolulu Heart Study, a sample of n = 100 people had an average systolic blood pressure of 130.1 mm Hg with a standard deviation of 21.21 mm Hg. Is the group significantly different (with respect to systolic blood pressure!) from the regular population?\n",
    "\n"
   ]
  },
  {
   "cell_type": "markdown",
   "id": "e3a6b8eb",
   "metadata": {},
   "source": [
    "- Set up the hypothesis test.\n",
    "- Write down all the steps followed for setting up the test.\n"
   ]
  },
  {
   "cell_type": "code",
   "execution_count": 2,
   "id": "2cb50bb7",
   "metadata": {},
   "outputs": [],
   "source": [
    "import numpy as np\n",
    "import pandas as pd\n",
    "import scipy.stats as stats\n",
    "import matplotlib.pyplot as plt\n",
    "import seaborn as sns\n",
    "\n",
    "%matplotlib inline"
   ]
  },
  {
   "cell_type": "code",
   "execution_count": 8,
   "id": "be144e92",
   "metadata": {},
   "outputs": [
    {
     "data": {
      "text/plain": [
       "1.9842169515086827"
      ]
     },
     "execution_count": 8,
     "metadata": {},
     "output_type": "execute_result"
    }
   ],
   "source": [
    "# Is there a statistical difference between the mean sample and the population mean?\n",
    "\n",
    "# H0 : μ = 120\n",
    "# HA : μ != 120\n",
    "\n",
    "n = 100 # 100 > 30 -> But since we don't have the standard deviation of the population this follows a t-student distribution \n",
    "\n",
    "sample_mean = 130.1\n",
    "sample_std_dev = 21.21\n",
    "pop_mean = 120\n",
    "\n",
    "# Critical value of the t-student distribution with n-1: 99 degrees of freedom and a confidence level of 0.95? -> \n",
    "tc = 1.98\n",
    "\n",
    "tc = stats.t.ppf(1-(0.05/2),df=99)\n",
    "tc"
   ]
  },
  {
   "cell_type": "markdown",
   "id": "c44dfd83",
   "metadata": {},
   "source": [
    "- Calculate the test statistic by hand and also code it in Python. It should be 4.76190. What decision can you make based on this calculated value?\n"
   ]
  },
  {
   "cell_type": "code",
   "execution_count": 25,
   "id": "56fe211a",
   "metadata": {},
   "outputs": [
    {
     "data": {
      "text/plain": [
       "4.761904761904759"
      ]
     },
     "execution_count": 25,
     "metadata": {},
     "output_type": "execute_result"
    }
   ],
   "source": [
    "t = (sample_mean-pop_mean)/(sample_std_dev/np.sqrt(n))\n",
    "t\n",
    "# t > tc, so we reject the null hypothesis."
   ]
  },
  {
   "cell_type": "markdown",
   "id": "d6faa41b",
   "metadata": {},
   "source": [
    "(OPTIONAL) In a packing plant, a machine packs cartons with jars. It is supposed that a new machine will pack faster on the average than the machine currently used. To test that hypothesis, the times it takes each machine to pack ten cartons are recorded. The results, in seconds, are shown in the tables in the file Data/machine.txt. Assume that there is sufficient evidence to conduct the t test, does the data provide sufficient evidence to show if one machine is better than the other.\n",
    "\n",
    "Hint: use two sample t-test\n",
    "\n",
    "t= (sample_mean(x1) - sample_mean(x2)) / sqrt(square(s1)/n1 + square(s2)/n2 )\n"
   ]
  },
  {
   "cell_type": "code",
   "execution_count": 53,
   "id": "ecce7020",
   "metadata": {},
   "outputs": [
    {
     "data": {
      "text/plain": [
       "['New Machine\\t  Old Machine\\n',\n",
       " '42.1\\t        42.7\\n',\n",
       " '41\\t          43.6\\n',\n",
       " '41.3\\t        43.8\\n',\n",
       " '41.8\\t        43.3\\n',\n",
       " '42.4\\t        42.5\\n',\n",
       " '42.8\\t        43.5\\n',\n",
       " '43.2\\t        43.1\\n',\n",
       " '42.3\\t        41.7\\n',\n",
       " '41.8\\t        44\\n',\n",
       " '42.7\\t        44.1\\n']"
      ]
     },
     "execution_count": 53,
     "metadata": {},
     "output_type": "execute_result"
    }
   ],
   "source": [
    "machine=open('Data_Machine.txt')\n",
    "machine.readlines()"
   ]
  },
  {
   "cell_type": "code",
   "execution_count": 71,
   "id": "99339819",
   "metadata": {},
   "outputs": [
    {
     "data": {
      "text/plain": [
       "43.230000000000004"
      ]
     },
     "execution_count": 71,
     "metadata": {},
     "output_type": "execute_result"
    }
   ],
   "source": [
    "n = 10\n",
    "old_machine = [42.7, 43.6, 43.8,43.3,42.5,43.5,43.1,41.7,44,44.1]\n",
    "new_machine = [42.1,41,41.3,41.8,42.4,42.8,43.2,42.3,41.8,42.7]\n",
    "old_mch_sum=(42.7+43.6+43.8+43.3+42.5+43.5+43.1+41.7+44+44.1)\n",
    "new_mch_sum=(42.1+41+41.3+41.8+42.4+42.8+43.2+42.3+41.8+42.7)\n",
    "mean_old_mch= old_mch/n\n",
    "mean_new_mch= new_mch/n\n",
    "std_old_mch= np.std(old_machine)\n",
    "std_new_mch= np.std(new_machine)\n",
    "\n",
    "mean_old_mch"
   ]
  },
  {
   "cell_type": "code",
   "execution_count": 72,
   "id": "e1f1d14b",
   "metadata": {},
   "outputs": [
    {
     "data": {
      "text/plain": [
       "0.6483826030978941"
      ]
     },
     "execution_count": 72,
     "metadata": {},
     "output_type": "execute_result"
    }
   ],
   "source": [
    "std_new_mch"
   ]
  },
  {
   "cell_type": "code",
   "execution_count": 73,
   "id": "7b9ff6b1",
   "metadata": {},
   "outputs": [
    {
     "data": {
      "text/plain": [
       "0.7114070564732956"
      ]
     },
     "execution_count": 73,
     "metadata": {},
     "output_type": "execute_result"
    }
   ],
   "source": [
    "std_old_mch"
   ]
  },
  {
   "cell_type": "code",
   "execution_count": 58,
   "id": "28109e49",
   "metadata": {},
   "outputs": [
    {
     "data": {
      "text/plain": [
       "1.8331129326536335"
      ]
     },
     "execution_count": 58,
     "metadata": {},
     "output_type": "execute_result"
    }
   ],
   "source": [
    "# H0 : new_mch <= old_mch\n",
    "# Ha : new_mch > old_mch\n",
    "\n",
    "# Critical value of the t-student distribution with n-1: 9 degrees of freedom and a confidence level of 0.95? -> \n",
    "\n",
    "tc2 = stats.t.ppf(0.95,df=9)\n",
    "tc2"
   ]
  },
  {
   "cell_type": "code",
   "execution_count": 74,
   "id": "26bf4c8e",
   "metadata": {},
   "outputs": [],
   "source": [
    "t = (mean_old_mch - mean_new_mch)/np.sqrt((np.square(std_old_mch))/n + np.square(std_new_mch)/n)"
   ]
  },
  {
   "cell_type": "code",
   "execution_count": 75,
   "id": "a255046e",
   "metadata": {},
   "outputs": [
    {
     "data": {
      "text/plain": [
       "3.5809955894645813"
      ]
     },
     "execution_count": 75,
     "metadata": {},
     "output_type": "execute_result"
    }
   ],
   "source": [
    "t"
   ]
  },
  {
   "cell_type": "code",
   "execution_count": null,
   "id": "b698fb27",
   "metadata": {},
   "outputs": [],
   "source": [
    "# t > tc2, so we reject the null hypothesis"
   ]
  }
 ],
 "metadata": {
  "kernelspec": {
   "display_name": "Python 3 (ipykernel)",
   "language": "python",
   "name": "python3"
  },
  "language_info": {
   "codemirror_mode": {
    "name": "ipython",
    "version": 3
   },
   "file_extension": ".py",
   "mimetype": "text/x-python",
   "name": "python",
   "nbconvert_exporter": "python",
   "pygments_lexer": "ipython3",
   "version": "3.9.13"
  }
 },
 "nbformat": 4,
 "nbformat_minor": 5
}
