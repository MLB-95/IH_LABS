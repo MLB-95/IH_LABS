{
 "cells": [
  {
   "cell_type": "code",
   "execution_count": 1,
   "id": "237f5579",
   "metadata": {},
   "outputs": [],
   "source": [
    "import numpy as np\n",
    "import pandas as pd\n",
    "import matplotlib.pyplot as plt\n",
    "%matplotlib inline\n",
    "import seaborn as sns\n",
    "from sklearn.preprocessing import PowerTransformer, StandardScaler\n",
    "from sklearn.compose import ColumnTransformer\n",
    "from sklearn.linear_model import LinearRegression\n",
    "from sklearn.model_selection import train_test_split\n",
    "\n",
    "import statsmodels.api as sm\n",
    "from sklearn.metrics import r2_score\n",
    "from sklearn.metrics import mean_squared_error as mse\n",
    "from sklearn.metrics import mean_absolute_error as mae\n",
    "pd.options.display.max_rows = 50"
   ]
  },
  {
   "cell_type": "code",
   "execution_count": 2,
   "id": "3031f080",
   "metadata": {},
   "outputs": [],
   "source": [
    "RAND_STATE = 34 # for reproducible shuffling\n",
    "TT_RATIO = 0.3 # test/train"
   ]
  },
  {
   "cell_type": "code",
   "execution_count": 3,
   "id": "844870d9",
   "metadata": {
    "scrolled": true
   },
   "outputs": [
    {
     "data": {
      "text/html": [
       "<div>\n",
       "<style scoped>\n",
       "    .dataframe tbody tr th:only-of-type {\n",
       "        vertical-align: middle;\n",
       "    }\n",
       "\n",
       "    .dataframe tbody tr th {\n",
       "        vertical-align: top;\n",
       "    }\n",
       "\n",
       "    .dataframe thead th {\n",
       "        text-align: right;\n",
       "    }\n",
       "</style>\n",
       "<table border=\"1\" class=\"dataframe\">\n",
       "  <thead>\n",
       "    <tr style=\"text-align: right;\">\n",
       "      <th></th>\n",
       "      <th>region</th>\n",
       "      <th>customer_lifetime_value</th>\n",
       "      <th>response</th>\n",
       "      <th>coverage</th>\n",
       "      <th>education</th>\n",
       "      <th>effective_to_date</th>\n",
       "      <th>month</th>\n",
       "      <th>employment_status</th>\n",
       "      <th>gender</th>\n",
       "      <th>income</th>\n",
       "      <th>...</th>\n",
       "      <th>months_since_policy_inception</th>\n",
       "      <th>number_of_open_complaints</th>\n",
       "      <th>number_of_policies</th>\n",
       "      <th>policy_type</th>\n",
       "      <th>policy</th>\n",
       "      <th>renew_offer_type</th>\n",
       "      <th>sales_channel</th>\n",
       "      <th>total_claim_amount</th>\n",
       "      <th>vehicle_class</th>\n",
       "      <th>vehicle_size</th>\n",
       "    </tr>\n",
       "  </thead>\n",
       "  <tbody>\n",
       "    <tr>\n",
       "      <th>0</th>\n",
       "      <td>central</td>\n",
       "      <td>4809</td>\n",
       "      <td>no</td>\n",
       "      <td>basic</td>\n",
       "      <td>college</td>\n",
       "      <td>2/18/11</td>\n",
       "      <td>feb</td>\n",
       "      <td>employed</td>\n",
       "      <td>m</td>\n",
       "      <td>48029</td>\n",
       "      <td>...</td>\n",
       "      <td>52</td>\n",
       "      <td>0</td>\n",
       "      <td>9</td>\n",
       "      <td>corporate auto</td>\n",
       "      <td>corporate l3</td>\n",
       "      <td>offer3</td>\n",
       "      <td>agent</td>\n",
       "      <td>292</td>\n",
       "      <td>four-door car</td>\n",
       "      <td>medsize</td>\n",
       "    </tr>\n",
       "    <tr>\n",
       "      <th>1</th>\n",
       "      <td>west region</td>\n",
       "      <td>2228</td>\n",
       "      <td>no</td>\n",
       "      <td>basic</td>\n",
       "      <td>college</td>\n",
       "      <td>1/18/11</td>\n",
       "      <td>jan</td>\n",
       "      <td>unemployed</td>\n",
       "      <td>f</td>\n",
       "      <td>92260</td>\n",
       "      <td>...</td>\n",
       "      <td>26</td>\n",
       "      <td>0</td>\n",
       "      <td>1</td>\n",
       "      <td>personal auto</td>\n",
       "      <td>personal l3</td>\n",
       "      <td>offer4</td>\n",
       "      <td>call center</td>\n",
       "      <td>744</td>\n",
       "      <td>four-door car</td>\n",
       "      <td>medsize</td>\n",
       "    </tr>\n",
       "    <tr>\n",
       "      <th>2</th>\n",
       "      <td>east</td>\n",
       "      <td>14947</td>\n",
       "      <td>no</td>\n",
       "      <td>basic</td>\n",
       "      <td>bachelor</td>\n",
       "      <td>2/10/11</td>\n",
       "      <td>feb</td>\n",
       "      <td>employed</td>\n",
       "      <td>m</td>\n",
       "      <td>22139</td>\n",
       "      <td>...</td>\n",
       "      <td>31</td>\n",
       "      <td>0</td>\n",
       "      <td>2</td>\n",
       "      <td>personal auto</td>\n",
       "      <td>personal l3</td>\n",
       "      <td>offer3</td>\n",
       "      <td>call center</td>\n",
       "      <td>480</td>\n",
       "      <td>suv</td>\n",
       "      <td>medsize</td>\n",
       "    </tr>\n",
       "    <tr>\n",
       "      <th>3</th>\n",
       "      <td>north west</td>\n",
       "      <td>22332</td>\n",
       "      <td>yes</td>\n",
       "      <td>extended</td>\n",
       "      <td>college</td>\n",
       "      <td>1/11/11</td>\n",
       "      <td>jan</td>\n",
       "      <td>employed</td>\n",
       "      <td>m</td>\n",
       "      <td>49078</td>\n",
       "      <td>...</td>\n",
       "      <td>3</td>\n",
       "      <td>0</td>\n",
       "      <td>2</td>\n",
       "      <td>corporate auto</td>\n",
       "      <td>corporate l3</td>\n",
       "      <td>offer2</td>\n",
       "      <td>branch</td>\n",
       "      <td>484</td>\n",
       "      <td>four-door car</td>\n",
       "      <td>medsize</td>\n",
       "    </tr>\n",
       "    <tr>\n",
       "      <th>4</th>\n",
       "      <td>north west</td>\n",
       "      <td>9025</td>\n",
       "      <td>no</td>\n",
       "      <td>premium</td>\n",
       "      <td>bachelor</td>\n",
       "      <td>1/17/11</td>\n",
       "      <td>jan</td>\n",
       "      <td>medical leave</td>\n",
       "      <td>f</td>\n",
       "      <td>23675</td>\n",
       "      <td>...</td>\n",
       "      <td>31</td>\n",
       "      <td>0</td>\n",
       "      <td>7</td>\n",
       "      <td>personal auto</td>\n",
       "      <td>personal l2</td>\n",
       "      <td>offer1</td>\n",
       "      <td>branch</td>\n",
       "      <td>707</td>\n",
       "      <td>four-door car</td>\n",
       "      <td>medsize</td>\n",
       "    </tr>\n",
       "    <tr>\n",
       "      <th>...</th>\n",
       "      <td>...</td>\n",
       "      <td>...</td>\n",
       "      <td>...</td>\n",
       "      <td>...</td>\n",
       "      <td>...</td>\n",
       "      <td>...</td>\n",
       "      <td>...</td>\n",
       "      <td>...</td>\n",
       "      <td>...</td>\n",
       "      <td>...</td>\n",
       "      <td>...</td>\n",
       "      <td>...</td>\n",
       "      <td>...</td>\n",
       "      <td>...</td>\n",
       "      <td>...</td>\n",
       "      <td>...</td>\n",
       "      <td>...</td>\n",
       "      <td>...</td>\n",
       "      <td>...</td>\n",
       "      <td>...</td>\n",
       "      <td>...</td>\n",
       "    </tr>\n",
       "    <tr>\n",
       "      <th>10684</th>\n",
       "      <td>central</td>\n",
       "      <td>15563</td>\n",
       "      <td>no</td>\n",
       "      <td>premium</td>\n",
       "      <td>bachelor</td>\n",
       "      <td>1/19/11</td>\n",
       "      <td>jan</td>\n",
       "      <td>unemployed</td>\n",
       "      <td>f</td>\n",
       "      <td>61541</td>\n",
       "      <td>...</td>\n",
       "      <td>40</td>\n",
       "      <td>0</td>\n",
       "      <td>7</td>\n",
       "      <td>personal auto</td>\n",
       "      <td>personal l1</td>\n",
       "      <td>offer3</td>\n",
       "      <td>web</td>\n",
       "      <td>1214</td>\n",
       "      <td>luxury car</td>\n",
       "      <td>medsize</td>\n",
       "    </tr>\n",
       "    <tr>\n",
       "      <th>10685</th>\n",
       "      <td>north west</td>\n",
       "      <td>5259</td>\n",
       "      <td>no</td>\n",
       "      <td>basic</td>\n",
       "      <td>college</td>\n",
       "      <td>1/6/11</td>\n",
       "      <td>jan</td>\n",
       "      <td>employed</td>\n",
       "      <td>f</td>\n",
       "      <td>61146</td>\n",
       "      <td>...</td>\n",
       "      <td>68</td>\n",
       "      <td>0</td>\n",
       "      <td>6</td>\n",
       "      <td>personal auto</td>\n",
       "      <td>personal l3</td>\n",
       "      <td>offer2</td>\n",
       "      <td>branch</td>\n",
       "      <td>273</td>\n",
       "      <td>four-door car</td>\n",
       "      <td>medsize</td>\n",
       "    </tr>\n",
       "    <tr>\n",
       "      <th>10686</th>\n",
       "      <td>central</td>\n",
       "      <td>23893</td>\n",
       "      <td>no</td>\n",
       "      <td>extended</td>\n",
       "      <td>bachelor</td>\n",
       "      <td>2/6/11</td>\n",
       "      <td>feb</td>\n",
       "      <td>employed</td>\n",
       "      <td>f</td>\n",
       "      <td>39837</td>\n",
       "      <td>...</td>\n",
       "      <td>63</td>\n",
       "      <td>0</td>\n",
       "      <td>2</td>\n",
       "      <td>corporate auto</td>\n",
       "      <td>corporate l3</td>\n",
       "      <td>offer1</td>\n",
       "      <td>web</td>\n",
       "      <td>381</td>\n",
       "      <td>luxury suv</td>\n",
       "      <td>medsize</td>\n",
       "    </tr>\n",
       "    <tr>\n",
       "      <th>10687</th>\n",
       "      <td>west region</td>\n",
       "      <td>11971</td>\n",
       "      <td>no</td>\n",
       "      <td>premium</td>\n",
       "      <td>college</td>\n",
       "      <td>2/13/11</td>\n",
       "      <td>feb</td>\n",
       "      <td>employed</td>\n",
       "      <td>f</td>\n",
       "      <td>64195</td>\n",
       "      <td>...</td>\n",
       "      <td>27</td>\n",
       "      <td>4</td>\n",
       "      <td>6</td>\n",
       "      <td>personal auto</td>\n",
       "      <td>personal l1</td>\n",
       "      <td>offer1</td>\n",
       "      <td>branch</td>\n",
       "      <td>618</td>\n",
       "      <td>suv</td>\n",
       "      <td>medsize</td>\n",
       "    </tr>\n",
       "    <tr>\n",
       "      <th>10688</th>\n",
       "      <td>central</td>\n",
       "      <td>6857</td>\n",
       "      <td>no</td>\n",
       "      <td>basic</td>\n",
       "      <td>bachelor</td>\n",
       "      <td>1/8/11</td>\n",
       "      <td>jan</td>\n",
       "      <td>unemployed</td>\n",
       "      <td>m</td>\n",
       "      <td>68942</td>\n",
       "      <td>...</td>\n",
       "      <td>1</td>\n",
       "      <td>0</td>\n",
       "      <td>3</td>\n",
       "      <td>personal auto</td>\n",
       "      <td>personal l1</td>\n",
       "      <td>offer4</td>\n",
       "      <td>web</td>\n",
       "      <td>1021</td>\n",
       "      <td>suv</td>\n",
       "      <td>medsize</td>\n",
       "    </tr>\n",
       "  </tbody>\n",
       "</table>\n",
       "<p>10689 rows × 24 columns</p>\n",
       "</div>"
      ],
      "text/plain": [
       "            region  customer_lifetime_value response  coverage education  \\\n",
       "0          central                     4809       no     basic   college   \n",
       "1      west region                     2228       no     basic   college   \n",
       "2             east                    14947       no     basic  bachelor   \n",
       "3       north west                    22332      yes  extended   college   \n",
       "4       north west                     9025       no   premium  bachelor   \n",
       "...            ...                      ...      ...       ...       ...   \n",
       "10684      central                    15563       no   premium  bachelor   \n",
       "10685   north west                     5259       no     basic   college   \n",
       "10686      central                    23893       no  extended  bachelor   \n",
       "10687  west region                    11971       no   premium   college   \n",
       "10688      central                     6857       no     basic  bachelor   \n",
       "\n",
       "      effective_to_date month employment_status gender  income  ...  \\\n",
       "0               2/18/11   feb          employed      m   48029  ...   \n",
       "1               1/18/11   jan        unemployed      f   92260  ...   \n",
       "2               2/10/11   feb          employed      m   22139  ...   \n",
       "3               1/11/11   jan          employed      m   49078  ...   \n",
       "4               1/17/11   jan     medical leave      f   23675  ...   \n",
       "...                 ...   ...               ...    ...     ...  ...   \n",
       "10684           1/19/11   jan        unemployed      f   61541  ...   \n",
       "10685            1/6/11   jan          employed      f   61146  ...   \n",
       "10686            2/6/11   feb          employed      f   39837  ...   \n",
       "10687           2/13/11   feb          employed      f   64195  ...   \n",
       "10688            1/8/11   jan        unemployed      m   68942  ...   \n",
       "\n",
       "      months_since_policy_inception number_of_open_complaints  \\\n",
       "0                                52                         0   \n",
       "1                                26                         0   \n",
       "2                                31                         0   \n",
       "3                                 3                         0   \n",
       "4                                31                         0   \n",
       "...                             ...                       ...   \n",
       "10684                            40                         0   \n",
       "10685                            68                         0   \n",
       "10686                            63                         0   \n",
       "10687                            27                         4   \n",
       "10688                             1                         0   \n",
       "\n",
       "       number_of_policies     policy_type        policy  renew_offer_type  \\\n",
       "0                       9  corporate auto  corporate l3            offer3   \n",
       "1                       1   personal auto   personal l3            offer4   \n",
       "2                       2   personal auto   personal l3            offer3   \n",
       "3                       2  corporate auto  corporate l3            offer2   \n",
       "4                       7   personal auto   personal l2            offer1   \n",
       "...                   ...             ...           ...               ...   \n",
       "10684                   7   personal auto   personal l1            offer3   \n",
       "10685                   6   personal auto   personal l3            offer2   \n",
       "10686                   2  corporate auto  corporate l3            offer1   \n",
       "10687                   6   personal auto   personal l1            offer1   \n",
       "10688                   3   personal auto   personal l1            offer4   \n",
       "\n",
       "       sales_channel total_claim_amount  vehicle_class vehicle_size  \n",
       "0              agent                292  four-door car      medsize  \n",
       "1        call center                744  four-door car      medsize  \n",
       "2        call center                480            suv      medsize  \n",
       "3             branch                484  four-door car      medsize  \n",
       "4             branch                707  four-door car      medsize  \n",
       "...              ...                ...            ...          ...  \n",
       "10684            web               1214     luxury car      medsize  \n",
       "10685         branch                273  four-door car      medsize  \n",
       "10686            web                381     luxury suv      medsize  \n",
       "10687         branch                618            suv      medsize  \n",
       "10688            web               1021            suv      medsize  \n",
       "\n",
       "[10689 rows x 24 columns]"
      ]
     },
     "execution_count": 3,
     "metadata": {},
     "output_type": "execute_result"
    }
   ],
   "source": [
    "cust_an = pd.read_csv(\"Data_Marketing_Customer_Analysis_Round3.csv\")\n",
    "cust_an"
   ]
  },
  {
   "cell_type": "code",
   "execution_count": 4,
   "id": "7e365028",
   "metadata": {},
   "outputs": [],
   "source": [
    "cust_an.drop(columns='effective_to_date', inplace=True)"
   ]
  },
  {
   "cell_type": "code",
   "execution_count": null,
   "id": "355c407e",
   "metadata": {},
   "outputs": [],
   "source": []
  },
  {
   "cell_type": "code",
   "execution_count": 5,
   "id": "0cfd7a71",
   "metadata": {
    "scrolled": true
   },
   "outputs": [],
   "source": [
    "numericalx = cust_an.select_dtypes(np.number)\n",
    "categoricalx = cust_an.select_dtypes(object)"
   ]
  },
  {
   "cell_type": "markdown",
   "id": "f6a9cda3",
   "metadata": {},
   "source": [
    "####  X-y split (y is the target variable, which is the total claim amount)\n"
   ]
  },
  {
   "cell_type": "code",
   "execution_count": 6,
   "id": "5e51b039",
   "metadata": {},
   "outputs": [],
   "source": [
    "x = numericalx.drop('total_claim_amount', axis=1)\n",
    "y = numericalx.total_claim_amount"
   ]
  },
  {
   "cell_type": "code",
   "execution_count": 7,
   "id": "4fa53048",
   "metadata": {},
   "outputs": [
    {
     "data": {
      "text/html": [
       "<div>\n",
       "<style scoped>\n",
       "    .dataframe tbody tr th:only-of-type {\n",
       "        vertical-align: middle;\n",
       "    }\n",
       "\n",
       "    .dataframe tbody tr th {\n",
       "        vertical-align: top;\n",
       "    }\n",
       "\n",
       "    .dataframe thead th {\n",
       "        text-align: right;\n",
       "    }\n",
       "</style>\n",
       "<table border=\"1\" class=\"dataframe\">\n",
       "  <thead>\n",
       "    <tr style=\"text-align: right;\">\n",
       "      <th></th>\n",
       "      <th>customer_lifetime_value</th>\n",
       "      <th>income</th>\n",
       "      <th>monthly_premium_auto</th>\n",
       "      <th>months_since_last_claim</th>\n",
       "      <th>months_since_policy_inception</th>\n",
       "      <th>number_of_open_complaints</th>\n",
       "      <th>number_of_policies</th>\n",
       "    </tr>\n",
       "  </thead>\n",
       "  <tbody>\n",
       "    <tr>\n",
       "      <th>0</th>\n",
       "      <td>4809</td>\n",
       "      <td>48029</td>\n",
       "      <td>61</td>\n",
       "      <td>7</td>\n",
       "      <td>52</td>\n",
       "      <td>0</td>\n",
       "      <td>9</td>\n",
       "    </tr>\n",
       "    <tr>\n",
       "      <th>1</th>\n",
       "      <td>2228</td>\n",
       "      <td>92260</td>\n",
       "      <td>64</td>\n",
       "      <td>3</td>\n",
       "      <td>26</td>\n",
       "      <td>0</td>\n",
       "      <td>1</td>\n",
       "    </tr>\n",
       "    <tr>\n",
       "      <th>2</th>\n",
       "      <td>14947</td>\n",
       "      <td>22139</td>\n",
       "      <td>100</td>\n",
       "      <td>34</td>\n",
       "      <td>31</td>\n",
       "      <td>0</td>\n",
       "      <td>2</td>\n",
       "    </tr>\n",
       "    <tr>\n",
       "      <th>3</th>\n",
       "      <td>22332</td>\n",
       "      <td>49078</td>\n",
       "      <td>97</td>\n",
       "      <td>10</td>\n",
       "      <td>3</td>\n",
       "      <td>0</td>\n",
       "      <td>2</td>\n",
       "    </tr>\n",
       "    <tr>\n",
       "      <th>4</th>\n",
       "      <td>9025</td>\n",
       "      <td>23675</td>\n",
       "      <td>117</td>\n",
       "      <td>33</td>\n",
       "      <td>31</td>\n",
       "      <td>0</td>\n",
       "      <td>7</td>\n",
       "    </tr>\n",
       "    <tr>\n",
       "      <th>...</th>\n",
       "      <td>...</td>\n",
       "      <td>...</td>\n",
       "      <td>...</td>\n",
       "      <td>...</td>\n",
       "      <td>...</td>\n",
       "      <td>...</td>\n",
       "      <td>...</td>\n",
       "    </tr>\n",
       "    <tr>\n",
       "      <th>10684</th>\n",
       "      <td>15563</td>\n",
       "      <td>61541</td>\n",
       "      <td>253</td>\n",
       "      <td>12</td>\n",
       "      <td>40</td>\n",
       "      <td>0</td>\n",
       "      <td>7</td>\n",
       "    </tr>\n",
       "    <tr>\n",
       "      <th>10685</th>\n",
       "      <td>5259</td>\n",
       "      <td>61146</td>\n",
       "      <td>65</td>\n",
       "      <td>7</td>\n",
       "      <td>68</td>\n",
       "      <td>0</td>\n",
       "      <td>6</td>\n",
       "    </tr>\n",
       "    <tr>\n",
       "      <th>10686</th>\n",
       "      <td>23893</td>\n",
       "      <td>39837</td>\n",
       "      <td>201</td>\n",
       "      <td>11</td>\n",
       "      <td>63</td>\n",
       "      <td>0</td>\n",
       "      <td>2</td>\n",
       "    </tr>\n",
       "    <tr>\n",
       "      <th>10687</th>\n",
       "      <td>11971</td>\n",
       "      <td>64195</td>\n",
       "      <td>158</td>\n",
       "      <td>0</td>\n",
       "      <td>27</td>\n",
       "      <td>4</td>\n",
       "      <td>6</td>\n",
       "    </tr>\n",
       "    <tr>\n",
       "      <th>10688</th>\n",
       "      <td>6857</td>\n",
       "      <td>68942</td>\n",
       "      <td>101</td>\n",
       "      <td>31</td>\n",
       "      <td>1</td>\n",
       "      <td>0</td>\n",
       "      <td>3</td>\n",
       "    </tr>\n",
       "  </tbody>\n",
       "</table>\n",
       "<p>10689 rows × 7 columns</p>\n",
       "</div>"
      ],
      "text/plain": [
       "       customer_lifetime_value  income  monthly_premium_auto  \\\n",
       "0                         4809   48029                    61   \n",
       "1                         2228   92260                    64   \n",
       "2                        14947   22139                   100   \n",
       "3                        22332   49078                    97   \n",
       "4                         9025   23675                   117   \n",
       "...                        ...     ...                   ...   \n",
       "10684                    15563   61541                   253   \n",
       "10685                     5259   61146                    65   \n",
       "10686                    23893   39837                   201   \n",
       "10687                    11971   64195                   158   \n",
       "10688                     6857   68942                   101   \n",
       "\n",
       "       months_since_last_claim  months_since_policy_inception  \\\n",
       "0                            7                             52   \n",
       "1                            3                             26   \n",
       "2                           34                             31   \n",
       "3                           10                              3   \n",
       "4                           33                             31   \n",
       "...                        ...                            ...   \n",
       "10684                       12                             40   \n",
       "10685                        7                             68   \n",
       "10686                       11                             63   \n",
       "10687                        0                             27   \n",
       "10688                       31                              1   \n",
       "\n",
       "       number_of_open_complaints  number_of_policies  \n",
       "0                              0                   9  \n",
       "1                              0                   1  \n",
       "2                              0                   2  \n",
       "3                              0                   2  \n",
       "4                              0                   7  \n",
       "...                          ...                 ...  \n",
       "10684                          0                   7  \n",
       "10685                          0                   6  \n",
       "10686                          0                   2  \n",
       "10687                          4                   6  \n",
       "10688                          0                   3  \n",
       "\n",
       "[10689 rows x 7 columns]"
      ]
     },
     "execution_count": 7,
     "metadata": {},
     "output_type": "execute_result"
    }
   ],
   "source": [
    "x"
   ]
  },
  {
   "cell_type": "code",
   "execution_count": 8,
   "id": "e1b82534",
   "metadata": {},
   "outputs": [
    {
     "data": {
      "text/plain": [
       "0         292\n",
       "1         744\n",
       "2         480\n",
       "3         484\n",
       "4         707\n",
       "         ... \n",
       "10684    1214\n",
       "10685     273\n",
       "10686     381\n",
       "10687     618\n",
       "10688    1021\n",
       "Name: total_claim_amount, Length: 10689, dtype: int64"
      ]
     },
     "execution_count": 8,
     "metadata": {},
     "output_type": "execute_result"
    }
   ],
   "source": [
    "y"
   ]
  },
  {
   "cell_type": "markdown",
   "id": "4ce7f188",
   "metadata": {},
   "source": [
    "#### Train-test split.\n"
   ]
  },
  {
   "cell_type": "code",
   "execution_count": 9,
   "id": "87f1d1a0",
   "metadata": {},
   "outputs": [
    {
     "data": {
      "text/plain": [
       "customer_lifetime_value          False\n",
       "income                           False\n",
       "monthly_premium_auto             False\n",
       "months_since_last_claim          False\n",
       "months_since_policy_inception    False\n",
       "number_of_open_complaints        False\n",
       "number_of_policies               False\n",
       "dtype: bool"
      ]
     },
     "execution_count": 9,
     "metadata": {},
     "output_type": "execute_result"
    }
   ],
   "source": [
    "x.isna().any()"
   ]
  },
  {
   "cell_type": "code",
   "execution_count": 10,
   "id": "58a40410",
   "metadata": {
    "scrolled": true
   },
   "outputs": [
    {
     "data": {
      "text/html": [
       "<div>\n",
       "<style scoped>\n",
       "    .dataframe tbody tr th:only-of-type {\n",
       "        vertical-align: middle;\n",
       "    }\n",
       "\n",
       "    .dataframe tbody tr th {\n",
       "        vertical-align: top;\n",
       "    }\n",
       "\n",
       "    .dataframe thead th {\n",
       "        text-align: right;\n",
       "    }\n",
       "</style>\n",
       "<table border=\"1\" class=\"dataframe\">\n",
       "  <thead>\n",
       "    <tr style=\"text-align: right;\">\n",
       "      <th></th>\n",
       "      <th>customer_lifetime_value</th>\n",
       "      <th>income</th>\n",
       "      <th>monthly_premium_auto</th>\n",
       "      <th>months_since_last_claim</th>\n",
       "      <th>months_since_policy_inception</th>\n",
       "      <th>number_of_open_complaints</th>\n",
       "      <th>number_of_policies</th>\n",
       "    </tr>\n",
       "  </thead>\n",
       "  <tbody>\n",
       "    <tr>\n",
       "      <th>count</th>\n",
       "      <td>7482.000000</td>\n",
       "      <td>7482.000000</td>\n",
       "      <td>7482.000000</td>\n",
       "      <td>7482.000000</td>\n",
       "      <td>7482.000000</td>\n",
       "      <td>7482.000000</td>\n",
       "      <td>7482.000000</td>\n",
       "    </tr>\n",
       "    <tr>\n",
       "      <th>mean</th>\n",
       "      <td>8025.418872</td>\n",
       "      <td>51950.402165</td>\n",
       "      <td>93.312216</td>\n",
       "      <td>15.098637</td>\n",
       "      <td>47.857124</td>\n",
       "      <td>0.371558</td>\n",
       "      <td>2.987437</td>\n",
       "    </tr>\n",
       "    <tr>\n",
       "      <th>std</th>\n",
       "      <td>6990.063435</td>\n",
       "      <td>24807.850658</td>\n",
       "      <td>34.164711</td>\n",
       "      <td>10.083326</td>\n",
       "      <td>27.966835</td>\n",
       "      <td>0.890703</td>\n",
       "      <td>2.415773</td>\n",
       "    </tr>\n",
       "    <tr>\n",
       "      <th>min</th>\n",
       "      <td>1898.000000</td>\n",
       "      <td>10037.000000</td>\n",
       "      <td>61.000000</td>\n",
       "      <td>0.000000</td>\n",
       "      <td>0.000000</td>\n",
       "      <td>0.000000</td>\n",
       "      <td>1.000000</td>\n",
       "    </tr>\n",
       "    <tr>\n",
       "      <th>25%</th>\n",
       "      <td>3979.250000</td>\n",
       "      <td>29479.500000</td>\n",
       "      <td>69.000000</td>\n",
       "      <td>6.000000</td>\n",
       "      <td>24.000000</td>\n",
       "      <td>0.000000</td>\n",
       "      <td>1.000000</td>\n",
       "    </tr>\n",
       "    <tr>\n",
       "      <th>50%</th>\n",
       "      <td>5799.000000</td>\n",
       "      <td>50603.000000</td>\n",
       "      <td>83.000000</td>\n",
       "      <td>14.000000</td>\n",
       "      <td>48.000000</td>\n",
       "      <td>0.000000</td>\n",
       "      <td>2.000000</td>\n",
       "    </tr>\n",
       "    <tr>\n",
       "      <th>75%</th>\n",
       "      <td>8936.750000</td>\n",
       "      <td>72332.500000</td>\n",
       "      <td>109.000000</td>\n",
       "      <td>23.000000</td>\n",
       "      <td>71.000000</td>\n",
       "      <td>0.000000</td>\n",
       "      <td>4.000000</td>\n",
       "    </tr>\n",
       "    <tr>\n",
       "      <th>max</th>\n",
       "      <td>83325.000000</td>\n",
       "      <td>99981.000000</td>\n",
       "      <td>298.000000</td>\n",
       "      <td>35.000000</td>\n",
       "      <td>99.000000</td>\n",
       "      <td>5.000000</td>\n",
       "      <td>9.000000</td>\n",
       "    </tr>\n",
       "  </tbody>\n",
       "</table>\n",
       "</div>"
      ],
      "text/plain": [
       "       customer_lifetime_value        income  monthly_premium_auto  \\\n",
       "count              7482.000000   7482.000000           7482.000000   \n",
       "mean               8025.418872  51950.402165             93.312216   \n",
       "std                6990.063435  24807.850658             34.164711   \n",
       "min                1898.000000  10037.000000             61.000000   \n",
       "25%                3979.250000  29479.500000             69.000000   \n",
       "50%                5799.000000  50603.000000             83.000000   \n",
       "75%                8936.750000  72332.500000            109.000000   \n",
       "max               83325.000000  99981.000000            298.000000   \n",
       "\n",
       "       months_since_last_claim  months_since_policy_inception  \\\n",
       "count              7482.000000                    7482.000000   \n",
       "mean                 15.098637                      47.857124   \n",
       "std                  10.083326                      27.966835   \n",
       "min                   0.000000                       0.000000   \n",
       "25%                   6.000000                      24.000000   \n",
       "50%                  14.000000                      48.000000   \n",
       "75%                  23.000000                      71.000000   \n",
       "max                  35.000000                      99.000000   \n",
       "\n",
       "       number_of_open_complaints  number_of_policies  \n",
       "count                7482.000000         7482.000000  \n",
       "mean                    0.371558            2.987437  \n",
       "std                     0.890703            2.415773  \n",
       "min                     0.000000            1.000000  \n",
       "25%                     0.000000            1.000000  \n",
       "50%                     0.000000            2.000000  \n",
       "75%                     0.000000            4.000000  \n",
       "max                     5.000000            9.000000  "
      ]
     },
     "execution_count": 10,
     "metadata": {},
     "output_type": "execute_result"
    }
   ],
   "source": [
    "# test-train split\n",
    "x_train, x_test, y_train, y_test = train_test_split(x, y, test_size=TT_RATIO, random_state=RAND_STATE)\n",
    "x_train = pd.DataFrame(x_train)\n",
    "x_test = pd.DataFrame(x_test)\n",
    "x_train.describe()"
   ]
  },
  {
   "cell_type": "markdown",
   "id": "7f91c239",
   "metadata": {},
   "source": [
    "#### Standardize the data (after the data split).\n"
   ]
  },
  {
   "cell_type": "code",
   "execution_count": 11,
   "id": "9da964ff",
   "metadata": {
    "scrolled": true
   },
   "outputs": [
    {
     "data": {
      "text/plain": [
       "2705     236\n",
       "2209     511\n",
       "4004     478\n",
       "1898     768\n",
       "10016    450\n",
       "        ... \n",
       "5667     712\n",
       "324      806\n",
       "3157      35\n",
       "5993     422\n",
       "5242     552\n",
       "Name: total_claim_amount, Length: 7482, dtype: int64"
      ]
     },
     "execution_count": 11,
     "metadata": {},
     "output_type": "execute_result"
    }
   ],
   "source": [
    "y_train"
   ]
  },
  {
   "cell_type": "code",
   "execution_count": 12,
   "id": "41231c0b",
   "metadata": {},
   "outputs": [
    {
     "data": {
      "text/plain": [
       "5613    542\n",
       "9585     60\n",
       "2042    303\n",
       "7819    552\n",
       "8261    345\n",
       "       ... \n",
       "8764    209\n",
       "7120    355\n",
       "6782     60\n",
       "1687     93\n",
       "11      199\n",
       "Name: total_claim_amount, Length: 3207, dtype: int64"
      ]
     },
     "execution_count": 12,
     "metadata": {},
     "output_type": "execute_result"
    }
   ],
   "source": [
    "y_test"
   ]
  },
  {
   "cell_type": "code",
   "execution_count": 13,
   "id": "6798cb37",
   "metadata": {},
   "outputs": [],
   "source": [
    "sts = StandardScaler()"
   ]
  },
  {
   "cell_type": "code",
   "execution_count": 14,
   "id": "d852b4b7",
   "metadata": {},
   "outputs": [],
   "source": [
    "x_train_standarized = sts.fit_transform(x_train)\n",
    "x_test_standarized = sts.transform(x_test)"
   ]
  },
  {
   "cell_type": "code",
   "execution_count": 15,
   "id": "e2ec5fd7",
   "metadata": {},
   "outputs": [],
   "source": [
    "x_train_standarized = pd.DataFrame(x_train_standarized)"
   ]
  },
  {
   "cell_type": "code",
   "execution_count": 16,
   "id": "08cab4fa",
   "metadata": {},
   "outputs": [
    {
     "data": {
      "text/html": [
       "<div>\n",
       "<style scoped>\n",
       "    .dataframe tbody tr th:only-of-type {\n",
       "        vertical-align: middle;\n",
       "    }\n",
       "\n",
       "    .dataframe tbody tr th {\n",
       "        vertical-align: top;\n",
       "    }\n",
       "\n",
       "    .dataframe thead th {\n",
       "        text-align: right;\n",
       "    }\n",
       "</style>\n",
       "<table border=\"1\" class=\"dataframe\">\n",
       "  <thead>\n",
       "    <tr style=\"text-align: right;\">\n",
       "      <th></th>\n",
       "      <th>0</th>\n",
       "      <th>1</th>\n",
       "      <th>2</th>\n",
       "      <th>3</th>\n",
       "      <th>4</th>\n",
       "      <th>5</th>\n",
       "      <th>6</th>\n",
       "    </tr>\n",
       "  </thead>\n",
       "  <tbody>\n",
       "    <tr>\n",
       "      <th>count</th>\n",
       "      <td>7.482000e+03</td>\n",
       "      <td>7.482000e+03</td>\n",
       "      <td>7.482000e+03</td>\n",
       "      <td>7.482000e+03</td>\n",
       "      <td>7.482000e+03</td>\n",
       "      <td>7.482000e+03</td>\n",
       "      <td>7.482000e+03</td>\n",
       "    </tr>\n",
       "    <tr>\n",
       "      <th>mean</th>\n",
       "      <td>-1.221494e-17</td>\n",
       "      <td>-3.024104e-17</td>\n",
       "      <td>-8.066997e-16</td>\n",
       "      <td>1.619261e-17</td>\n",
       "      <td>-7.799161e-17</td>\n",
       "      <td>-2.546153e-16</td>\n",
       "      <td>1.649086e-16</td>\n",
       "    </tr>\n",
       "    <tr>\n",
       "      <th>std</th>\n",
       "      <td>1.000067e+00</td>\n",
       "      <td>1.000067e+00</td>\n",
       "      <td>1.000067e+00</td>\n",
       "      <td>1.000067e+00</td>\n",
       "      <td>1.000067e+00</td>\n",
       "      <td>1.000067e+00</td>\n",
       "      <td>1.000067e+00</td>\n",
       "    </tr>\n",
       "    <tr>\n",
       "      <th>min</th>\n",
       "      <td>-8.766485e-01</td>\n",
       "      <td>-1.689635e+00</td>\n",
       "      <td>-9.458407e-01</td>\n",
       "      <td>-1.497487e+00</td>\n",
       "      <td>-1.711324e+00</td>\n",
       "      <td>-4.171796e-01</td>\n",
       "      <td>-8.227467e-01</td>\n",
       "    </tr>\n",
       "    <tr>\n",
       "      <th>25%</th>\n",
       "      <td>-5.788845e-01</td>\n",
       "      <td>-9.058586e-01</td>\n",
       "      <td>-7.116653e-01</td>\n",
       "      <td>-9.024051e-01</td>\n",
       "      <td>-8.531076e-01</td>\n",
       "      <td>-4.171796e-01</td>\n",
       "      <td>-8.227467e-01</td>\n",
       "    </tr>\n",
       "    <tr>\n",
       "      <th>50%</th>\n",
       "      <td>-3.185333e-01</td>\n",
       "      <td>-5.431717e-02</td>\n",
       "      <td>-3.018584e-01</td>\n",
       "      <td>-1.089631e-01</td>\n",
       "      <td>5.109115e-03</td>\n",
       "      <td>-4.171796e-01</td>\n",
       "      <td>-4.087728e-01</td>\n",
       "    </tr>\n",
       "    <tr>\n",
       "      <th>75%</th>\n",
       "      <td>1.303839e-01</td>\n",
       "      <td>8.216536e-01</td>\n",
       "      <td>4.592116e-01</td>\n",
       "      <td>7.836592e-01</td>\n",
       "      <td>8.275668e-01</td>\n",
       "      <td>-4.171796e-01</td>\n",
       "      <td>4.191748e-01</td>\n",
       "    </tr>\n",
       "    <tr>\n",
       "      <th>max</th>\n",
       "      <td>1.077309e+01</td>\n",
       "      <td>1.936234e+00</td>\n",
       "      <td>5.991605e+00</td>\n",
       "      <td>1.973822e+00</td>\n",
       "      <td>1.828820e+00</td>\n",
       "      <td>5.196738e+00</td>\n",
       "      <td>2.489044e+00</td>\n",
       "    </tr>\n",
       "  </tbody>\n",
       "</table>\n",
       "</div>"
      ],
      "text/plain": [
       "                  0             1             2             3             4  \\\n",
       "count  7.482000e+03  7.482000e+03  7.482000e+03  7.482000e+03  7.482000e+03   \n",
       "mean  -1.221494e-17 -3.024104e-17 -8.066997e-16  1.619261e-17 -7.799161e-17   \n",
       "std    1.000067e+00  1.000067e+00  1.000067e+00  1.000067e+00  1.000067e+00   \n",
       "min   -8.766485e-01 -1.689635e+00 -9.458407e-01 -1.497487e+00 -1.711324e+00   \n",
       "25%   -5.788845e-01 -9.058586e-01 -7.116653e-01 -9.024051e-01 -8.531076e-01   \n",
       "50%   -3.185333e-01 -5.431717e-02 -3.018584e-01 -1.089631e-01  5.109115e-03   \n",
       "75%    1.303839e-01  8.216536e-01  4.592116e-01  7.836592e-01  8.275668e-01   \n",
       "max    1.077309e+01  1.936234e+00  5.991605e+00  1.973822e+00  1.828820e+00   \n",
       "\n",
       "                  5             6  \n",
       "count  7.482000e+03  7.482000e+03  \n",
       "mean  -2.546153e-16  1.649086e-16  \n",
       "std    1.000067e+00  1.000067e+00  \n",
       "min   -4.171796e-01 -8.227467e-01  \n",
       "25%   -4.171796e-01 -8.227467e-01  \n",
       "50%   -4.171796e-01 -4.087728e-01  \n",
       "75%   -4.171796e-01  4.191748e-01  \n",
       "max    5.196738e+00  2.489044e+00  "
      ]
     },
     "execution_count": 16,
     "metadata": {},
     "output_type": "execute_result"
    }
   ],
   "source": [
    "x_train_standarized.describe()"
   ]
  },
  {
   "cell_type": "code",
   "execution_count": 17,
   "id": "e89288b3",
   "metadata": {},
   "outputs": [
    {
     "data": {
      "text/plain": [
       "0   -1.221494e-17\n",
       "1   -3.024104e-17\n",
       "2   -8.066997e-16\n",
       "3    1.619261e-17\n",
       "4   -7.799161e-17\n",
       "5   -2.546153e-16\n",
       "6    1.649086e-16\n",
       "dtype: float64"
      ]
     },
     "execution_count": 17,
     "metadata": {},
     "output_type": "execute_result"
    }
   ],
   "source": [
    "x_train_standarized.mean()"
   ]
  },
  {
   "cell_type": "code",
   "execution_count": 18,
   "id": "09bf8593",
   "metadata": {},
   "outputs": [
    {
     "data": {
      "text/plain": [
       "0    1.000067\n",
       "1    1.000067\n",
       "2    1.000067\n",
       "3    1.000067\n",
       "4    1.000067\n",
       "5    1.000067\n",
       "6    1.000067\n",
       "dtype: float64"
      ]
     },
     "execution_count": 18,
     "metadata": {},
     "output_type": "execute_result"
    }
   ],
   "source": [
    "x_train_standarized.std()"
   ]
  },
  {
   "cell_type": "code",
   "execution_count": 19,
   "id": "3eea1c12",
   "metadata": {},
   "outputs": [
    {
     "data": {
      "text/plain": [
       "<seaborn.axisgrid.FacetGrid at 0x1cd76021af0>"
      ]
     },
     "execution_count": 19,
     "metadata": {},
     "output_type": "execute_result"
    },
    {
     "data": {
      "image/png": "[encoded data removed]",
      "text/plain": [
       "<Figure size 558.875x500 with 1 Axes>"
      ]
     },
     "metadata": {},
     "output_type": "display_data"
    }
   ],
   "source": [
    "sns.displot(x_train_standarized)"
   ]
  },
  {
   "cell_type": "markdown",
   "id": "772f4b26",
   "metadata": {},
   "source": [
    "#### Apply linear regression.\n"
   ]
  },
  {
   "cell_type": "code",
   "execution_count": 20,
   "id": "a0bd4ebc",
   "metadata": {
    "scrolled": false
   },
   "outputs": [
    {
     "name": "stdout",
     "output_type": "stream",
     "text": [
      "                            OLS Regression Results                            \n",
      "==============================================================================\n",
      "Dep. Variable:     total_claim_amount   R-squared:                       0.414\n",
      "Model:                            OLS   Adj. R-squared:                  0.413\n",
      "Method:                 Least Squares   F-statistic:                     753.9\n",
      "Date:                Fri, 03 Feb 2023   Prob (F-statistic):               0.00\n",
      "Time:                        17:21:46   Log-Likelihood:                -51074.\n",
      "No. Observations:                7482   AIC:                         1.022e+05\n",
      "Df Residuals:                    7474   BIC:                         1.022e+05\n",
      "Df Model:                           7                                         \n",
      "Covariance Type:            nonrobust                                         \n",
      "==============================================================================\n",
      "                 coef    std err          t      P>|t|      [0.025      0.975]\n",
      "------------------------------------------------------------------------------\n",
      "const        435.8295      2.580    168.931      0.000     430.772     440.887\n",
      "x1            -5.9960      2.834     -2.116      0.034     -11.551      -0.441\n",
      "x2           -31.7044      2.581    -12.282      0.000     -36.764     -26.644\n",
      "x3           187.0984      2.833     66.046      0.000     181.545     192.652\n",
      "x4             2.0556      2.583      0.796      0.426      -3.007       7.119\n",
      "x5            -0.6477      2.583     -0.251      0.802      -5.711       4.415\n",
      "x6            -0.5958      2.582     -0.231      0.817      -5.656       4.465\n",
      "x7            -0.1549      2.581     -0.060      0.952      -5.215       4.905\n",
      "==============================================================================\n",
      "Omnibus:                      798.517   Durbin-Watson:                   1.979\n",
      "Prob(Omnibus):                  0.000   Jarque-Bera (JB):             3714.401\n",
      "Skew:                           0.427   Prob(JB):                         0.00\n",
      "Kurtosis:                       6.344   Cond. No.                         1.55\n",
      "==============================================================================\n",
      "\n",
      "Notes:\n",
      "[1] Standard Errors assume that the covariance matrix of the errors is correctly specified.\n"
     ]
    }
   ],
   "source": [
    "x_train_const = sm.add_constant(x_train_standarized.to_numpy()) # adding a constant\n",
    "\n",
    "model = sm.OLS(y_train, x_train_const).fit()\n",
    "predictions_train = model.predict(x_train_const)\n",
    "\n",
    "x_test_const = sm.add_constant(x_test_standarized) # adding a constant\n",
    "predictions_test = model.predict(x_test_const)\n",
    "print_model = model.summary()\n",
    "print(print_model)"
   ]
  },
  {
   "cell_type": "markdown",
   "id": "0b8ce485",
   "metadata": {},
   "source": [
    "#### Model Interpretation.\n"
   ]
  },
  {
   "cell_type": "code",
   "execution_count": 21,
   "id": "c4e5d7fc",
   "metadata": {},
   "outputs": [
    {
     "data": {
      "text/html": [
       "<table class=\"simpletable\">\n",
       "<caption>OLS Regression Results</caption>\n",
       "<tr>\n",
       "  <th>Dep. Variable:</th>    <td>total_claim_amount</td> <th>  R-squared:         </th> <td>   0.414</td> \n",
       "</tr>\n",
       "<tr>\n",
       "  <th>Model:</th>                    <td>OLS</td>        <th>  Adj. R-squared:    </th> <td>   0.413</td> \n",
       "</tr>\n",
       "<tr>\n",
       "  <th>Method:</th>              <td>Least Squares</td>   <th>  F-statistic:       </th> <td>   753.9</td> \n",
       "</tr>\n",
       "<tr>\n",
       "  <th>Date:</th>              <td>Fri, 03 Feb 2023</td>  <th>  Prob (F-statistic):</th>  <td>  0.00</td>  \n",
       "</tr>\n",
       "<tr>\n",
       "  <th>Time:</th>                  <td>17:21:46</td>      <th>  Log-Likelihood:    </th> <td> -51074.</td> \n",
       "</tr>\n",
       "<tr>\n",
       "  <th>No. Observations:</th>       <td>  7482</td>       <th>  AIC:               </th> <td>1.022e+05</td>\n",
       "</tr>\n",
       "<tr>\n",
       "  <th>Df Residuals:</th>           <td>  7474</td>       <th>  BIC:               </th> <td>1.022e+05</td>\n",
       "</tr>\n",
       "<tr>\n",
       "  <th>Df Model:</th>               <td>     7</td>       <th>                     </th>     <td> </td>    \n",
       "</tr>\n",
       "<tr>\n",
       "  <th>Covariance Type:</th>       <td>nonrobust</td>     <th>                     </th>     <td> </td>    \n",
       "</tr>\n",
       "</table>\n",
       "<table class=\"simpletable\">\n",
       "<tr>\n",
       "    <td></td>       <th>coef</th>     <th>std err</th>      <th>t</th>      <th>P>|t|</th>  <th>[0.025</th>    <th>0.975]</th>  \n",
       "</tr>\n",
       "<tr>\n",
       "  <th>const</th> <td>  435.8295</td> <td>    2.580</td> <td>  168.931</td> <td> 0.000</td> <td>  430.772</td> <td>  440.887</td>\n",
       "</tr>\n",
       "<tr>\n",
       "  <th>x1</th>    <td>   -5.9960</td> <td>    2.834</td> <td>   -2.116</td> <td> 0.034</td> <td>  -11.551</td> <td>   -0.441</td>\n",
       "</tr>\n",
       "<tr>\n",
       "  <th>x2</th>    <td>  -31.7044</td> <td>    2.581</td> <td>  -12.282</td> <td> 0.000</td> <td>  -36.764</td> <td>  -26.644</td>\n",
       "</tr>\n",
       "<tr>\n",
       "  <th>x3</th>    <td>  187.0984</td> <td>    2.833</td> <td>   66.046</td> <td> 0.000</td> <td>  181.545</td> <td>  192.652</td>\n",
       "</tr>\n",
       "<tr>\n",
       "  <th>x4</th>    <td>    2.0556</td> <td>    2.583</td> <td>    0.796</td> <td> 0.426</td> <td>   -3.007</td> <td>    7.119</td>\n",
       "</tr>\n",
       "<tr>\n",
       "  <th>x5</th>    <td>   -0.6477</td> <td>    2.583</td> <td>   -0.251</td> <td> 0.802</td> <td>   -5.711</td> <td>    4.415</td>\n",
       "</tr>\n",
       "<tr>\n",
       "  <th>x6</th>    <td>   -0.5958</td> <td>    2.582</td> <td>   -0.231</td> <td> 0.817</td> <td>   -5.656</td> <td>    4.465</td>\n",
       "</tr>\n",
       "<tr>\n",
       "  <th>x7</th>    <td>   -0.1549</td> <td>    2.581</td> <td>   -0.060</td> <td> 0.952</td> <td>   -5.215</td> <td>    4.905</td>\n",
       "</tr>\n",
       "</table>\n",
       "<table class=\"simpletable\">\n",
       "<tr>\n",
       "  <th>Omnibus:</th>       <td>798.517</td> <th>  Durbin-Watson:     </th> <td>   1.979</td>\n",
       "</tr>\n",
       "<tr>\n",
       "  <th>Prob(Omnibus):</th> <td> 0.000</td>  <th>  Jarque-Bera (JB):  </th> <td>3714.401</td>\n",
       "</tr>\n",
       "<tr>\n",
       "  <th>Skew:</th>          <td> 0.427</td>  <th>  Prob(JB):          </th> <td>    0.00</td>\n",
       "</tr>\n",
       "<tr>\n",
       "  <th>Kurtosis:</th>      <td> 6.344</td>  <th>  Cond. No.          </th> <td>    1.55</td>\n",
       "</tr>\n",
       "</table><br/><br/>Notes:<br/>[1] Standard Errors assume that the covariance matrix of the errors is correctly specified."
      ],
      "text/plain": [
       "<class 'statsmodels.iolib.summary.Summary'>\n",
       "\"\"\"\n",
       "                            OLS Regression Results                            \n",
       "==============================================================================\n",
       "Dep. Variable:     total_claim_amount   R-squared:                       0.414\n",
       "Model:                            OLS   Adj. R-squared:                  0.413\n",
       "Method:                 Least Squares   F-statistic:                     753.9\n",
       "Date:                Fri, 03 Feb 2023   Prob (F-statistic):               0.00\n",
       "Time:                        17:21:46   Log-Likelihood:                -51074.\n",
       "No. Observations:                7482   AIC:                         1.022e+05\n",
       "Df Residuals:                    7474   BIC:                         1.022e+05\n",
       "Df Model:                           7                                         \n",
       "Covariance Type:            nonrobust                                         \n",
       "==============================================================================\n",
       "                 coef    std err          t      P>|t|      [0.025      0.975]\n",
       "------------------------------------------------------------------------------\n",
       "const        435.8295      2.580    168.931      0.000     430.772     440.887\n",
       "x1            -5.9960      2.834     -2.116      0.034     -11.551      -0.441\n",
       "x2           -31.7044      2.581    -12.282      0.000     -36.764     -26.644\n",
       "x3           187.0984      2.833     66.046      0.000     181.545     192.652\n",
       "x4             2.0556      2.583      0.796      0.426      -3.007       7.119\n",
       "x5            -0.6477      2.583     -0.251      0.802      -5.711       4.415\n",
       "x6            -0.5958      2.582     -0.231      0.817      -5.656       4.465\n",
       "x7            -0.1549      2.581     -0.060      0.952      -5.215       4.905\n",
       "==============================================================================\n",
       "Omnibus:                      798.517   Durbin-Watson:                   1.979\n",
       "Prob(Omnibus):                  0.000   Jarque-Bera (JB):             3714.401\n",
       "Skew:                           0.427   Prob(JB):                         0.00\n",
       "Kurtosis:                       6.344   Cond. No.                         1.55\n",
       "==============================================================================\n",
       "\n",
       "Notes:\n",
       "[1] Standard Errors assume that the covariance matrix of the errors is correctly specified.\n",
       "\"\"\""
      ]
     },
     "execution_count": 21,
     "metadata": {},
     "output_type": "execute_result"
    }
   ],
   "source": [
    "print_model"
   ]
  },
  {
   "cell_type": "code",
   "execution_count": 22,
   "id": "6ccf8691",
   "metadata": {},
   "outputs": [
    {
     "data": {
      "text/plain": [
       "-3.4644757684596925"
      ]
     },
     "execution_count": 22,
     "metadata": {},
     "output_type": "execute_result"
    }
   ],
   "source": [
    "lm = LinearRegression()\n",
    "model = lm.fit(x_train,y_train)\n",
    "model.coef_\n",
    "model.intercept_\n",
    "###"
   ]
  },
  {
   "cell_type": "markdown",
   "id": "a0c7c06e",
   "metadata": {},
   "source": [
    "#### Model Validation\n"
   ]
  },
  {
   "cell_type": "markdown",
   "id": "f91080bc",
   "metadata": {},
   "source": [
    "#### Model Evaluation: \n",
    "- MSE."
   ]
  },
  {
   "cell_type": "code",
   "execution_count": 23,
   "id": "4c6f6151",
   "metadata": {},
   "outputs": [],
   "source": [
    "y_pred = pd.DataFrame(model.predict(x_test),columns = ['total_claim_amount'] )      # model prediction\n",
    "y_pred_train =  pd.DataFrame(model.predict(x_train),columns = ['total_claim_amount'])"
   ]
  },
  {
   "cell_type": "code",
   "execution_count": 24,
   "id": "db4bd0fc",
   "metadata": {},
   "outputs": [
    {
     "data": {
      "text/plain": [
       "52330.37932325502"
      ]
     },
     "execution_count": 24,
     "metadata": {},
     "output_type": "execute_result"
    }
   ],
   "source": [
    "mse(y_test,y_pred)"
   ]
  },
  {
   "cell_type": "markdown",
   "id": "8bfaa704",
   "metadata": {},
   "source": [
    "- RMSE"
   ]
  },
  {
   "cell_type": "code",
   "execution_count": 25,
   "id": "29140a2b",
   "metadata": {},
   "outputs": [
    {
     "data": {
      "text/plain": [
       "228.75834263094106"
      ]
     },
     "execution_count": 25,
     "metadata": {},
     "output_type": "execute_result"
    }
   ],
   "source": [
    "rmse = np.sqrt(mse(y_test,y_pred))\n",
    "rmse"
   ]
  },
  {
   "cell_type": "code",
   "execution_count": 26,
   "id": "f636569d",
   "metadata": {},
   "outputs": [
    {
     "data": {
      "text/plain": [
       "49747.15936894188"
      ]
     },
     "execution_count": 26,
     "metadata": {},
     "output_type": "execute_result"
    }
   ],
   "source": [
    "##prediction on the train set\n",
    "mse(y_train,y_pred_train)"
   ]
  },
  {
   "cell_type": "markdown",
   "id": "5e9c5feb",
   "metadata": {},
   "source": [
    "- MAE"
   ]
  },
  {
   "cell_type": "code",
   "execution_count": 27,
   "id": "d3d31895",
   "metadata": {},
   "outputs": [
    {
     "data": {
      "text/plain": [
       "153.8918560923347"
      ]
     },
     "execution_count": 27,
     "metadata": {},
     "output_type": "execute_result"
    }
   ],
   "source": [
    "mae(y_test,y_pred)"
   ]
  },
  {
   "cell_type": "markdown",
   "id": "7239c532",
   "metadata": {},
   "source": [
    "- R2"
   ]
  },
  {
   "cell_type": "code",
   "execution_count": 28,
   "id": "bc653ed5",
   "metadata": {},
   "outputs": [
    {
     "data": {
      "text/plain": [
       "0.39992389876814183"
      ]
     },
     "execution_count": 28,
     "metadata": {},
     "output_type": "execute_result"
    }
   ],
   "source": [
    "R2=r2_score(y_test,y_pred)\n",
    "R2"
   ]
  },
  {
   "cell_type": "markdown",
   "id": "f1a20e7d",
   "metadata": {},
   "source": [
    "- Adjusted R2"
   ]
  },
  {
   "cell_type": "code",
   "execution_count": 29,
   "id": "a06b1835",
   "metadata": {},
   "outputs": [
    {
     "data": {
      "text/plain": [
       "0.3986108219601946"
      ]
     },
     "execution_count": 29,
     "metadata": {},
     "output_type": "execute_result"
    }
   ],
   "source": [
    "R2_test=model.score(x_test,y_test)\n",
    "R2_train=model.score(x_train,y_train)\n",
    "Adj_R2= 1 - (1-R2)*(len(y_test)-1)/(len(y_test)-x_test.shape[1]-1)\n",
    "Adj_R2"
   ]
  },
  {
   "cell_type": "markdown",
   "id": "9f1f60bf",
   "metadata": {},
   "source": [
    "#### Feature Importance"
   ]
  },
  {
   "cell_type": "code",
   "execution_count": 30,
   "id": "21118804",
   "metadata": {},
   "outputs": [
    {
     "data": {
      "text/html": [
       "<div>\n",
       "<style scoped>\n",
       "    .dataframe tbody tr th:only-of-type {\n",
       "        vertical-align: middle;\n",
       "    }\n",
       "\n",
       "    .dataframe tbody tr th {\n",
       "        vertical-align: top;\n",
       "    }\n",
       "\n",
       "    .dataframe thead th {\n",
       "        text-align: right;\n",
       "    }\n",
       "</style>\n",
       "<table border=\"1\" class=\"dataframe\">\n",
       "  <thead>\n",
       "    <tr style=\"text-align: right;\">\n",
       "      <th></th>\n",
       "      <th>Attribute</th>\n",
       "      <th>Importance</th>\n",
       "    </tr>\n",
       "  </thead>\n",
       "  <tbody>\n",
       "    <tr>\n",
       "      <th>2</th>\n",
       "      <td>monthly_premium_auto</td>\n",
       "      <td>5.476729</td>\n",
       "    </tr>\n",
       "    <tr>\n",
       "      <th>5</th>\n",
       "      <td>number_of_open_complaints</td>\n",
       "      <td>0.668978</td>\n",
       "    </tr>\n",
       "    <tr>\n",
       "      <th>3</th>\n",
       "      <td>months_since_last_claim</td>\n",
       "      <td>0.203879</td>\n",
       "    </tr>\n",
       "    <tr>\n",
       "      <th>6</th>\n",
       "      <td>number_of_policies</td>\n",
       "      <td>0.064126</td>\n",
       "    </tr>\n",
       "    <tr>\n",
       "      <th>4</th>\n",
       "      <td>months_since_policy_inception</td>\n",
       "      <td>0.023162</td>\n",
       "    </tr>\n",
       "    <tr>\n",
       "      <th>1</th>\n",
       "      <td>income</td>\n",
       "      <td>0.001278</td>\n",
       "    </tr>\n",
       "    <tr>\n",
       "      <th>0</th>\n",
       "      <td>customer_lifetime_value</td>\n",
       "      <td>0.000858</td>\n",
       "    </tr>\n",
       "  </tbody>\n",
       "</table>\n",
       "</div>"
      ],
      "text/plain": [
       "                       Attribute  Importance\n",
       "2           monthly_premium_auto    5.476729\n",
       "5      number_of_open_complaints    0.668978\n",
       "3        months_since_last_claim    0.203879\n",
       "6             number_of_policies    0.064126\n",
       "4  months_since_policy_inception    0.023162\n",
       "1                         income    0.001278\n",
       "0        customer_lifetime_value    0.000858"
      ]
     },
     "execution_count": 30,
     "metadata": {},
     "output_type": "execute_result"
    }
   ],
   "source": [
    "features_importances = pd.DataFrame(data={\n",
    "    'Attribute': x_train.columns,\n",
    "    'Importance': abs(model.coef_.reshape(len(x_train.columns),))\n",
    "})\n",
    "features_importances = features_importances.sort_values(by='Importance', ascending=False)\n",
    "features_importances"
   ]
  },
  {
   "cell_type": "markdown",
   "id": "19305940",
   "metadata": {},
   "source": [
    "#### Model Iteration"
   ]
  },
  {
   "cell_type": "markdown",
   "id": "1ef7c1c9",
   "metadata": {},
   "source": [
    "### - Please rerun the model after adding the hot encoded categorical variables as well as other numeric categroical variables (e.g. number of open complaintes).\n"
   ]
  },
  {
   "cell_type": "markdown",
   "id": "face5915",
   "metadata": {},
   "source": [
    "- #### x-y split"
   ]
  },
  {
   "cell_type": "code",
   "execution_count": 31,
   "id": "bc20e7ea",
   "metadata": {},
   "outputs": [],
   "source": [
    "x2 = cust_an.drop('total_claim_amount', axis=1)\n",
    "y2 = cust_an.total_claim_amount"
   ]
  },
  {
   "cell_type": "code",
   "execution_count": 32,
   "id": "0f4a1237",
   "metadata": {},
   "outputs": [],
   "source": [
    "numericalx2 = x2.select_dtypes(np.number)\n",
    "categoricalx2 = x2.select_dtypes(object)"
   ]
  },
  {
   "cell_type": "code",
   "execution_count": 33,
   "id": "f38dd56a",
   "metadata": {
    "scrolled": true
   },
   "outputs": [
    {
     "data": {
      "text/plain": [
       "Index(['customer_lifetime_value', 'income', 'monthly_premium_auto',\n",
       "       'months_since_last_claim', 'months_since_policy_inception',\n",
       "       'number_of_open_complaints', 'number_of_policies'],\n",
       "      dtype='object')"
      ]
     },
     "execution_count": 33,
     "metadata": {},
     "output_type": "execute_result"
    }
   ],
   "source": [
    "numericalx2.columns"
   ]
  },
  {
   "cell_type": "code",
   "execution_count": 34,
   "id": "7f4414c4",
   "metadata": {},
   "outputs": [
    {
     "data": {
      "text/plain": [
       "Index(['region', 'response', 'coverage', 'education', 'month',\n",
       "       'employment_status', 'gender', 'location_code', 'marital_status',\n",
       "       'policy_type', 'policy', 'renew_offer_type', 'sales_channel',\n",
       "       'vehicle_class', 'vehicle_size'],\n",
       "      dtype='object')"
      ]
     },
     "execution_count": 34,
     "metadata": {},
     "output_type": "execute_result"
    }
   ],
   "source": [
    "categoricalx2.columns"
   ]
  },
  {
   "cell_type": "code",
   "execution_count": 35,
   "id": "5ca621f9",
   "metadata": {},
   "outputs": [],
   "source": [
    "# one-hot encode the categorical features\n",
    "x2 = pd.concat([pd.get_dummies(x2[categoricalx2.columns],drop_first=True), numericalx2], axis=1)"
   ]
  },
  {
   "cell_type": "code",
   "execution_count": 36,
   "id": "362fbc9a",
   "metadata": {},
   "outputs": [
    {
     "data": {
      "text/plain": [
       "Index(['region_east', 'region_north west', 'region_west region',\n",
       "       'response_yes', 'coverage_extended', 'coverage_premium',\n",
       "       'education_college', 'education_doctor',\n",
       "       'education_high school or below', 'education_master', 'month_jan',\n",
       "       'employment_status_employed', 'employment_status_medical leave',\n",
       "       'employment_status_retired', 'employment_status_unemployed', 'gender_m',\n",
       "       'location_code_suburban', 'location_code_urban',\n",
       "       'marital_status_married', 'marital_status_single',\n",
       "       'policy_type_personal auto', 'policy_type_special auto',\n",
       "       'policy_corporate l2', 'policy_corporate l3', 'policy_personal l1',\n",
       "       'policy_personal l2', 'policy_personal l3', 'policy_special l1',\n",
       "       'policy_special l2', 'policy_special l3', 'renew_offer_type_offer2',\n",
       "       'renew_offer_type_offer3', 'renew_offer_type_offer4',\n",
       "       'sales_channel_branch', 'sales_channel_call center',\n",
       "       'sales_channel_web', 'vehicle_class_luxury car',\n",
       "       'vehicle_class_luxury suv', 'vehicle_class_sports car',\n",
       "       'vehicle_class_suv', 'vehicle_class_two-door car',\n",
       "       'vehicle_size_medsize', 'vehicle_size_small', 'customer_lifetime_value',\n",
       "       'income', 'monthly_premium_auto', 'months_since_last_claim',\n",
       "       'months_since_policy_inception', 'number_of_open_complaints',\n",
       "       'number_of_policies'],\n",
       "      dtype='object')"
      ]
     },
     "execution_count": 36,
     "metadata": {},
     "output_type": "execute_result"
    }
   ],
   "source": [
    "x2.columns"
   ]
  },
  {
   "cell_type": "markdown",
   "id": "ec78a47b",
   "metadata": {},
   "source": [
    "- Train-test split."
   ]
  },
  {
   "cell_type": "code",
   "execution_count": 37,
   "id": "7a394276",
   "metadata": {},
   "outputs": [],
   "source": [
    "# test-train split\n",
    "x2_train, x2_test, y2_train, y2_test = train_test_split(x2, y2, test_size=TT_RATIO, random_state=RAND_STATE)\n",
    "x2_train = pd.DataFrame(x2_train)\n",
    "x2_test = pd.DataFrame(x2_test)\n",
    "y2_train = pd.DataFrame(y2_train)\n",
    "y2_test = pd.DataFrame(y2_test)"
   ]
  },
  {
   "cell_type": "code",
   "execution_count": 38,
   "id": "b5c13f82",
   "metadata": {
    "scrolled": true
   },
   "outputs": [
    {
     "data": {
      "text/plain": [
       "region_east                        0\n",
       "region_north west                  0\n",
       "region_west region                 0\n",
       "response_yes                       0\n",
       "coverage_extended                  0\n",
       "coverage_premium                   0\n",
       "education_college                  0\n",
       "education_doctor                   0\n",
       "education_high school or below     0\n",
       "education_master                   0\n",
       "month_jan                          0\n",
       "employment_status_employed         0\n",
       "employment_status_medical leave    0\n",
       "employment_status_retired          0\n",
       "employment_status_unemployed       0\n",
       "gender_m                           0\n",
       "location_code_suburban             0\n",
       "location_code_urban                0\n",
       "marital_status_married             0\n",
       "marital_status_single              0\n",
       "policy_type_personal auto          0\n",
       "policy_type_special auto           0\n",
       "policy_corporate l2                0\n",
       "policy_corporate l3                0\n",
       "policy_personal l1                 0\n",
       "policy_personal l2                 0\n",
       "policy_personal l3                 0\n",
       "policy_special l1                  0\n",
       "policy_special l2                  0\n",
       "policy_special l3                  0\n",
       "renew_offer_type_offer2            0\n",
       "renew_offer_type_offer3            0\n",
       "renew_offer_type_offer4            0\n",
       "sales_channel_branch               0\n",
       "sales_channel_call center          0\n",
       "sales_channel_web                  0\n",
       "vehicle_class_luxury car           0\n",
       "vehicle_class_luxury suv           0\n",
       "vehicle_class_sports car           0\n",
       "vehicle_class_suv                  0\n",
       "vehicle_class_two-door car         0\n",
       "vehicle_size_medsize               0\n",
       "vehicle_size_small                 0\n",
       "customer_lifetime_value            0\n",
       "income                             0\n",
       "monthly_premium_auto               0\n",
       "months_since_last_claim            0\n",
       "months_since_policy_inception      0\n",
       "number_of_open_complaints          0\n",
       "number_of_policies                 0\n",
       "dtype: int64"
      ]
     },
     "execution_count": 38,
     "metadata": {},
     "output_type": "execute_result"
    }
   ],
   "source": [
    "x2_train.isna().sum()"
   ]
  },
  {
   "cell_type": "code",
   "execution_count": 39,
   "id": "242c92b9",
   "metadata": {},
   "outputs": [
    {
     "data": {
      "text/plain": [
       "region_east                        0\n",
       "region_north west                  0\n",
       "region_west region                 0\n",
       "response_yes                       0\n",
       "coverage_extended                  0\n",
       "coverage_premium                   0\n",
       "education_college                  0\n",
       "education_doctor                   0\n",
       "education_high school or below     0\n",
       "education_master                   0\n",
       "month_jan                          0\n",
       "employment_status_employed         0\n",
       "employment_status_medical leave    0\n",
       "employment_status_retired          0\n",
       "employment_status_unemployed       0\n",
       "gender_m                           0\n",
       "location_code_suburban             0\n",
       "location_code_urban                0\n",
       "marital_status_married             0\n",
       "marital_status_single              0\n",
       "policy_type_personal auto          0\n",
       "policy_type_special auto           0\n",
       "policy_corporate l2                0\n",
       "policy_corporate l3                0\n",
       "policy_personal l1                 0\n",
       "policy_personal l2                 0\n",
       "policy_personal l3                 0\n",
       "policy_special l1                  0\n",
       "policy_special l2                  0\n",
       "policy_special l3                  0\n",
       "renew_offer_type_offer2            0\n",
       "renew_offer_type_offer3            0\n",
       "renew_offer_type_offer4            0\n",
       "sales_channel_branch               0\n",
       "sales_channel_call center          0\n",
       "sales_channel_web                  0\n",
       "vehicle_class_luxury car           0\n",
       "vehicle_class_luxury suv           0\n",
       "vehicle_class_sports car           0\n",
       "vehicle_class_suv                  0\n",
       "vehicle_class_two-door car         0\n",
       "vehicle_size_medsize               0\n",
       "vehicle_size_small                 0\n",
       "customer_lifetime_value            0\n",
       "income                             0\n",
       "monthly_premium_auto               0\n",
       "months_since_last_claim            0\n",
       "months_since_policy_inception      0\n",
       "number_of_open_complaints          0\n",
       "number_of_policies                 0\n",
       "dtype: int64"
      ]
     },
     "execution_count": 39,
     "metadata": {},
     "output_type": "execute_result"
    }
   ],
   "source": [
    "x2_test.isna().sum()"
   ]
  },
  {
   "cell_type": "markdown",
   "id": "2f3ffc0f",
   "metadata": {},
   "source": [
    "- Standardize the data (after the data split)."
   ]
  },
  {
   "cell_type": "code",
   "execution_count": 40,
   "id": "b94ccd79",
   "metadata": {},
   "outputs": [
    {
     "data": {
      "text/plain": [
       "pandas.core.frame.DataFrame"
      ]
     },
     "execution_count": 40,
     "metadata": {},
     "output_type": "execute_result"
    }
   ],
   "source": [
    "type(x2_train)"
   ]
  },
  {
   "cell_type": "code",
   "execution_count": 41,
   "id": "3dc8f602",
   "metadata": {
    "scrolled": true
   },
   "outputs": [],
   "source": [
    "sts.fit(x2_train[numericalx2.columns])\n",
    "x2_train[numericalx2.columns]=sts.transform(x2_train[numericalx2.columns])\n",
    "x2_test[numericalx2.columns] = sts.transform(x2_test[numericalx2.columns])"
   ]
  },
  {
   "cell_type": "code",
   "execution_count": null,
   "id": "df0b26e9",
   "metadata": {},
   "outputs": [],
   "source": []
  },
  {
   "cell_type": "code",
   "execution_count": 42,
   "id": "4297a46f",
   "metadata": {},
   "outputs": [
    {
     "data": {
      "text/html": [
       "<div>\n",
       "<style scoped>\n",
       "    .dataframe tbody tr th:only-of-type {\n",
       "        vertical-align: middle;\n",
       "    }\n",
       "\n",
       "    .dataframe tbody tr th {\n",
       "        vertical-align: top;\n",
       "    }\n",
       "\n",
       "    .dataframe thead th {\n",
       "        text-align: right;\n",
       "    }\n",
       "</style>\n",
       "<table border=\"1\" class=\"dataframe\">\n",
       "  <thead>\n",
       "    <tr style=\"text-align: right;\">\n",
       "      <th></th>\n",
       "      <th>region_east</th>\n",
       "      <th>region_north west</th>\n",
       "      <th>region_west region</th>\n",
       "      <th>response_yes</th>\n",
       "      <th>coverage_extended</th>\n",
       "      <th>coverage_premium</th>\n",
       "      <th>education_college</th>\n",
       "      <th>education_doctor</th>\n",
       "      <th>education_high school or below</th>\n",
       "      <th>education_master</th>\n",
       "      <th>...</th>\n",
       "      <th>vehicle_class_two-door car</th>\n",
       "      <th>vehicle_size_medsize</th>\n",
       "      <th>vehicle_size_small</th>\n",
       "      <th>customer_lifetime_value</th>\n",
       "      <th>income</th>\n",
       "      <th>monthly_premium_auto</th>\n",
       "      <th>months_since_last_claim</th>\n",
       "      <th>months_since_policy_inception</th>\n",
       "      <th>number_of_open_complaints</th>\n",
       "      <th>number_of_policies</th>\n",
       "    </tr>\n",
       "  </thead>\n",
       "  <tbody>\n",
       "    <tr>\n",
       "      <th>2705</th>\n",
       "      <td>0</td>\n",
       "      <td>0</td>\n",
       "      <td>0</td>\n",
       "      <td>0</td>\n",
       "      <td>0</td>\n",
       "      <td>0</td>\n",
       "      <td>1</td>\n",
       "      <td>0</td>\n",
       "      <td>0</td>\n",
       "      <td>0</td>\n",
       "      <td>...</td>\n",
       "      <td>0</td>\n",
       "      <td>1</td>\n",
       "      <td>0</td>\n",
       "      <td>-0.463463</td>\n",
       "      <td>-0.259427</td>\n",
       "      <td>-0.945841</td>\n",
       "      <td>-0.505684</td>\n",
       "      <td>-0.531276</td>\n",
       "      <td>-0.417180</td>\n",
       "      <td>2.489044</td>\n",
       "    </tr>\n",
       "    <tr>\n",
       "      <th>2209</th>\n",
       "      <td>0</td>\n",
       "      <td>0</td>\n",
       "      <td>0</td>\n",
       "      <td>0</td>\n",
       "      <td>0</td>\n",
       "      <td>0</td>\n",
       "      <td>0</td>\n",
       "      <td>0</td>\n",
       "      <td>0</td>\n",
       "      <td>0</td>\n",
       "      <td>...</td>\n",
       "      <td>0</td>\n",
       "      <td>1</td>\n",
       "      <td>0</td>\n",
       "      <td>2.063006</td>\n",
       "      <td>1.144456</td>\n",
       "      <td>-0.653122</td>\n",
       "      <td>1.676281</td>\n",
       "      <td>-0.459758</td>\n",
       "      <td>-0.417180</td>\n",
       "      <td>-0.408773</td>\n",
       "    </tr>\n",
       "    <tr>\n",
       "      <th>4004</th>\n",
       "      <td>0</td>\n",
       "      <td>0</td>\n",
       "      <td>1</td>\n",
       "      <td>0</td>\n",
       "      <td>1</td>\n",
       "      <td>0</td>\n",
       "      <td>0</td>\n",
       "      <td>0</td>\n",
       "      <td>0</td>\n",
       "      <td>0</td>\n",
       "      <td>...</td>\n",
       "      <td>0</td>\n",
       "      <td>1</td>\n",
       "      <td>0</td>\n",
       "      <td>-0.230831</td>\n",
       "      <td>0.275157</td>\n",
       "      <td>-0.301858</td>\n",
       "      <td>0.486118</td>\n",
       "      <td>0.076627</td>\n",
       "      <td>1.828387</td>\n",
       "      <td>0.419175</td>\n",
       "    </tr>\n",
       "    <tr>\n",
       "      <th>1898</th>\n",
       "      <td>1</td>\n",
       "      <td>0</td>\n",
       "      <td>0</td>\n",
       "      <td>0</td>\n",
       "      <td>0</td>\n",
       "      <td>0</td>\n",
       "      <td>0</td>\n",
       "      <td>0</td>\n",
       "      <td>0</td>\n",
       "      <td>0</td>\n",
       "      <td>...</td>\n",
       "      <td>0</td>\n",
       "      <td>1</td>\n",
       "      <td>0</td>\n",
       "      <td>-0.825716</td>\n",
       "      <td>-0.119825</td>\n",
       "      <td>-0.828753</td>\n",
       "      <td>-0.803225</td>\n",
       "      <td>1.685783</td>\n",
       "      <td>-0.417180</td>\n",
       "      <td>-0.822747</td>\n",
       "    </tr>\n",
       "    <tr>\n",
       "      <th>10016</th>\n",
       "      <td>0</td>\n",
       "      <td>0</td>\n",
       "      <td>1</td>\n",
       "      <td>0</td>\n",
       "      <td>1</td>\n",
       "      <td>0</td>\n",
       "      <td>0</td>\n",
       "      <td>0</td>\n",
       "      <td>0</td>\n",
       "      <td>0</td>\n",
       "      <td>...</td>\n",
       "      <td>1</td>\n",
       "      <td>1</td>\n",
       "      <td>0</td>\n",
       "      <td>-0.085616</td>\n",
       "      <td>-0.931316</td>\n",
       "      <td>0.078677</td>\n",
       "      <td>0.684479</td>\n",
       "      <td>0.219663</td>\n",
       "      <td>-0.417180</td>\n",
       "      <td>1.661096</td>\n",
       "    </tr>\n",
       "    <tr>\n",
       "      <th>...</th>\n",
       "      <td>...</td>\n",
       "      <td>...</td>\n",
       "      <td>...</td>\n",
       "      <td>...</td>\n",
       "      <td>...</td>\n",
       "      <td>...</td>\n",
       "      <td>...</td>\n",
       "      <td>...</td>\n",
       "      <td>...</td>\n",
       "      <td>...</td>\n",
       "      <td>...</td>\n",
       "      <td>...</td>\n",
       "      <td>...</td>\n",
       "      <td>...</td>\n",
       "      <td>...</td>\n",
       "      <td>...</td>\n",
       "      <td>...</td>\n",
       "      <td>...</td>\n",
       "      <td>...</td>\n",
       "      <td>...</td>\n",
       "      <td>...</td>\n",
       "    </tr>\n",
       "    <tr>\n",
       "      <th>5667</th>\n",
       "      <td>0</td>\n",
       "      <td>1</td>\n",
       "      <td>0</td>\n",
       "      <td>0</td>\n",
       "      <td>1</td>\n",
       "      <td>0</td>\n",
       "      <td>0</td>\n",
       "      <td>0</td>\n",
       "      <td>0</td>\n",
       "      <td>0</td>\n",
       "      <td>...</td>\n",
       "      <td>0</td>\n",
       "      <td>0</td>\n",
       "      <td>1</td>\n",
       "      <td>-0.196781</td>\n",
       "      <td>-0.309858</td>\n",
       "      <td>0.166492</td>\n",
       "      <td>0.089397</td>\n",
       "      <td>0.613013</td>\n",
       "      <td>1.828387</td>\n",
       "      <td>0.005201</td>\n",
       "    </tr>\n",
       "    <tr>\n",
       "      <th>324</th>\n",
       "      <td>0</td>\n",
       "      <td>0</td>\n",
       "      <td>1</td>\n",
       "      <td>0</td>\n",
       "      <td>0</td>\n",
       "      <td>1</td>\n",
       "      <td>0</td>\n",
       "      <td>0</td>\n",
       "      <td>0</td>\n",
       "      <td>0</td>\n",
       "      <td>...</td>\n",
       "      <td>1</td>\n",
       "      <td>0</td>\n",
       "      <td>1</td>\n",
       "      <td>0.443313</td>\n",
       "      <td>-0.199805</td>\n",
       "      <td>0.547027</td>\n",
       "      <td>0.982020</td>\n",
       "      <td>0.756049</td>\n",
       "      <td>-0.417180</td>\n",
       "      <td>-0.408773</td>\n",
       "    </tr>\n",
       "    <tr>\n",
       "      <th>3157</th>\n",
       "      <td>0</td>\n",
       "      <td>0</td>\n",
       "      <td>1</td>\n",
       "      <td>0</td>\n",
       "      <td>0</td>\n",
       "      <td>0</td>\n",
       "      <td>0</td>\n",
       "      <td>0</td>\n",
       "      <td>1</td>\n",
       "      <td>0</td>\n",
       "      <td>...</td>\n",
       "      <td>0</td>\n",
       "      <td>1</td>\n",
       "      <td>0</td>\n",
       "      <td>-0.773781</td>\n",
       "      <td>1.870001</td>\n",
       "      <td>-0.828753</td>\n",
       "      <td>-0.208143</td>\n",
       "      <td>-0.531276</td>\n",
       "      <td>-0.417180</td>\n",
       "      <td>-0.822747</td>\n",
       "    </tr>\n",
       "    <tr>\n",
       "      <th>5993</th>\n",
       "      <td>0</td>\n",
       "      <td>0</td>\n",
       "      <td>0</td>\n",
       "      <td>0</td>\n",
       "      <td>1</td>\n",
       "      <td>0</td>\n",
       "      <td>0</td>\n",
       "      <td>0</td>\n",
       "      <td>0</td>\n",
       "      <td>0</td>\n",
       "      <td>...</td>\n",
       "      <td>0</td>\n",
       "      <td>1</td>\n",
       "      <td>0</td>\n",
       "      <td>-0.663618</td>\n",
       "      <td>-1.160775</td>\n",
       "      <td>-0.155499</td>\n",
       "      <td>-0.604864</td>\n",
       "      <td>-1.496770</td>\n",
       "      <td>1.828387</td>\n",
       "      <td>-0.822747</td>\n",
       "    </tr>\n",
       "    <tr>\n",
       "      <th>5242</th>\n",
       "      <td>0</td>\n",
       "      <td>0</td>\n",
       "      <td>1</td>\n",
       "      <td>0</td>\n",
       "      <td>0</td>\n",
       "      <td>0</td>\n",
       "      <td>0</td>\n",
       "      <td>0</td>\n",
       "      <td>1</td>\n",
       "      <td>0</td>\n",
       "      <td>...</td>\n",
       "      <td>0</td>\n",
       "      <td>0</td>\n",
       "      <td>0</td>\n",
       "      <td>0.062175</td>\n",
       "      <td>1.934299</td>\n",
       "      <td>0.634843</td>\n",
       "      <td>-0.208143</td>\n",
       "      <td>-0.173686</td>\n",
       "      <td>-0.417180</td>\n",
       "      <td>0.419175</td>\n",
       "    </tr>\n",
       "  </tbody>\n",
       "</table>\n",
       "<p>7482 rows × 50 columns</p>\n",
       "</div>"
      ],
      "text/plain": [
       "       region_east  region_north west  region_west region  response_yes  \\\n",
       "2705             0                  0                   0             0   \n",
       "2209             0                  0                   0             0   \n",
       "4004             0                  0                   1             0   \n",
       "1898             1                  0                   0             0   \n",
       "10016            0                  0                   1             0   \n",
       "...            ...                ...                 ...           ...   \n",
       "5667             0                  1                   0             0   \n",
       "324              0                  0                   1             0   \n",
       "3157             0                  0                   1             0   \n",
       "5993             0                  0                   0             0   \n",
       "5242             0                  0                   1             0   \n",
       "\n",
       "       coverage_extended  coverage_premium  education_college  \\\n",
       "2705                   0                 0                  1   \n",
       "2209                   0                 0                  0   \n",
       "4004                   1                 0                  0   \n",
       "1898                   0                 0                  0   \n",
       "10016                  1                 0                  0   \n",
       "...                  ...               ...                ...   \n",
       "5667                   1                 0                  0   \n",
       "324                    0                 1                  0   \n",
       "3157                   0                 0                  0   \n",
       "5993                   1                 0                  0   \n",
       "5242                   0                 0                  0   \n",
       "\n",
       "       education_doctor  education_high school or below  education_master  \\\n",
       "2705                  0                               0                 0   \n",
       "2209                  0                               0                 0   \n",
       "4004                  0                               0                 0   \n",
       "1898                  0                               0                 0   \n",
       "10016                 0                               0                 0   \n",
       "...                 ...                             ...               ...   \n",
       "5667                  0                               0                 0   \n",
       "324                   0                               0                 0   \n",
       "3157                  0                               1                 0   \n",
       "5993                  0                               0                 0   \n",
       "5242                  0                               1                 0   \n",
       "\n",
       "       ...  vehicle_class_two-door car  vehicle_size_medsize  \\\n",
       "2705   ...                           0                     1   \n",
       "2209   ...                           0                     1   \n",
       "4004   ...                           0                     1   \n",
       "1898   ...                           0                     1   \n",
       "10016  ...                           1                     1   \n",
       "...    ...                         ...                   ...   \n",
       "5667   ...                           0                     0   \n",
       "324    ...                           1                     0   \n",
       "3157   ...                           0                     1   \n",
       "5993   ...                           0                     1   \n",
       "5242   ...                           0                     0   \n",
       "\n",
       "       vehicle_size_small  customer_lifetime_value    income  \\\n",
       "2705                    0                -0.463463 -0.259427   \n",
       "2209                    0                 2.063006  1.144456   \n",
       "4004                    0                -0.230831  0.275157   \n",
       "1898                    0                -0.825716 -0.119825   \n",
       "10016                   0                -0.085616 -0.931316   \n",
       "...                   ...                      ...       ...   \n",
       "5667                    1                -0.196781 -0.309858   \n",
       "324                     1                 0.443313 -0.199805   \n",
       "3157                    0                -0.773781  1.870001   \n",
       "5993                    0                -0.663618 -1.160775   \n",
       "5242                    0                 0.062175  1.934299   \n",
       "\n",
       "       monthly_premium_auto  months_since_last_claim  \\\n",
       "2705              -0.945841                -0.505684   \n",
       "2209              -0.653122                 1.676281   \n",
       "4004              -0.301858                 0.486118   \n",
       "1898              -0.828753                -0.803225   \n",
       "10016              0.078677                 0.684479   \n",
       "...                     ...                      ...   \n",
       "5667               0.166492                 0.089397   \n",
       "324                0.547027                 0.982020   \n",
       "3157              -0.828753                -0.208143   \n",
       "5993              -0.155499                -0.604864   \n",
       "5242               0.634843                -0.208143   \n",
       "\n",
       "       months_since_policy_inception  number_of_open_complaints  \\\n",
       "2705                       -0.531276                  -0.417180   \n",
       "2209                       -0.459758                  -0.417180   \n",
       "4004                        0.076627                   1.828387   \n",
       "1898                        1.685783                  -0.417180   \n",
       "10016                       0.219663                  -0.417180   \n",
       "...                              ...                        ...   \n",
       "5667                        0.613013                   1.828387   \n",
       "324                         0.756049                  -0.417180   \n",
       "3157                       -0.531276                  -0.417180   \n",
       "5993                       -1.496770                   1.828387   \n",
       "5242                       -0.173686                  -0.417180   \n",
       "\n",
       "       number_of_policies  \n",
       "2705             2.489044  \n",
       "2209            -0.408773  \n",
       "4004             0.419175  \n",
       "1898            -0.822747  \n",
       "10016            1.661096  \n",
       "...                   ...  \n",
       "5667             0.005201  \n",
       "324             -0.408773  \n",
       "3157            -0.822747  \n",
       "5993            -0.822747  \n",
       "5242             0.419175  \n",
       "\n",
       "[7482 rows x 50 columns]"
      ]
     },
     "execution_count": 42,
     "metadata": {},
     "output_type": "execute_result"
    }
   ],
   "source": [
    "x2_train"
   ]
  },
  {
   "cell_type": "code",
   "execution_count": 43,
   "id": "5fa6f71b",
   "metadata": {},
   "outputs": [
    {
     "data": {
      "text/plain": [
       "region_east                        0.286128\n",
       "region_north west                  0.451230\n",
       "region_west region                 0.475037\n",
       "response_yes                       0.334455\n",
       "coverage_extended                  0.459583\n",
       "coverage_premium                   0.285553\n",
       "education_college                  0.457017\n",
       "education_doctor                   0.182478\n",
       "education_high school or below     0.452622\n",
       "education_master                   0.270365\n",
       "month_jan                          0.498529\n",
       "employment_status_employed         0.484302\n",
       "employment_status_medical leave    0.206821\n",
       "employment_status_retired          0.169319\n",
       "employment_status_unemployed       0.436197\n",
       "gender_m                           0.499872\n",
       "location_code_suburban             0.482353\n",
       "location_code_urban                0.378459\n",
       "marital_status_married             0.494008\n",
       "marital_status_single              0.445491\n",
       "policy_type_personal auto          0.436047\n",
       "policy_type_special auto           0.198994\n",
       "policy_corporate l2                0.245518\n",
       "policy_corporate l3                0.313904\n",
       "policy_personal l1                 0.344991\n",
       "policy_personal l2                 0.421130\n",
       "policy_personal l3                 0.484473\n",
       "policy_special l1                  0.088456\n",
       "policy_special l2                  0.131656\n",
       "policy_special l3                  0.124597\n",
       "renew_offer_type_offer2            0.463914\n",
       "renew_offer_type_offer3            0.370294\n",
       "renew_offer_type_offer4            0.318165\n",
       "sales_channel_branch               0.449749\n",
       "sales_channel_call center          0.394260\n",
       "sales_channel_web                  0.359657\n",
       "vehicle_class_luxury car           0.137865\n",
       "vehicle_class_luxury suv           0.140174\n",
       "vehicle_class_sports car           0.221755\n",
       "vehicle_class_suv                  0.397865\n",
       "vehicle_class_two-door car         0.402767\n",
       "vehicle_size_medsize               0.455821\n",
       "vehicle_size_small                 0.392583\n",
       "customer_lifetime_value            1.000067\n",
       "income                             1.000067\n",
       "monthly_premium_auto               1.000067\n",
       "months_since_last_claim            1.000067\n",
       "months_since_policy_inception      1.000067\n",
       "number_of_open_complaints          1.000067\n",
       "number_of_policies                 1.000067\n",
       "dtype: float64"
      ]
     },
     "execution_count": 43,
     "metadata": {},
     "output_type": "execute_result"
    }
   ],
   "source": [
    "x2_train.std()"
   ]
  },
  {
   "cell_type": "markdown",
   "id": "55e8f8ce",
   "metadata": {},
   "source": [
    "- Apply linear regression."
   ]
  },
  {
   "cell_type": "code",
   "execution_count": 44,
   "id": "6d8540e0",
   "metadata": {},
   "outputs": [
    {
     "data": {
      "text/plain": [
       "(7482, 50)"
      ]
     },
     "execution_count": 44,
     "metadata": {},
     "output_type": "execute_result"
    }
   ],
   "source": [
    "x2_train.shape"
   ]
  },
  {
   "cell_type": "code",
   "execution_count": 45,
   "id": "14f09e1f",
   "metadata": {},
   "outputs": [
    {
     "data": {
      "text/plain": [
       "(3207, 50)"
      ]
     },
     "execution_count": 45,
     "metadata": {},
     "output_type": "execute_result"
    }
   ],
   "source": [
    "x2_test.shape"
   ]
  },
  {
   "cell_type": "code",
   "execution_count": 46,
   "id": "d8d2b194",
   "metadata": {},
   "outputs": [
    {
     "data": {
      "text/plain": [
       "(7482, 50)"
      ]
     },
     "execution_count": 46,
     "metadata": {},
     "output_type": "execute_result"
    }
   ],
   "source": [
    "x2_train.shape"
   ]
  },
  {
   "cell_type": "code",
   "execution_count": 47,
   "id": "5dc09038",
   "metadata": {},
   "outputs": [
    {
     "data": {
      "text/html": [
       "<table class=\"simpletable\">\n",
       "<caption>OLS Regression Results</caption>\n",
       "<tr>\n",
       "  <th>Dep. Variable:</th>    <td>total_claim_amount</td> <th>  R-squared:         </th> <td>   0.774</td> \n",
       "</tr>\n",
       "<tr>\n",
       "  <th>Model:</th>                    <td>OLS</td>        <th>  Adj. R-squared:    </th> <td>   0.773</td> \n",
       "</tr>\n",
       "<tr>\n",
       "  <th>Method:</th>              <td>Least Squares</td>   <th>  F-statistic:       </th> <td>   531.3</td> \n",
       "</tr>\n",
       "<tr>\n",
       "  <th>Date:</th>              <td>Fri, 03 Feb 2023</td>  <th>  Prob (F-statistic):</th>  <td>  0.00</td>  \n",
       "</tr>\n",
       "<tr>\n",
       "  <th>Time:</th>                  <td>17:21:47</td>      <th>  Log-Likelihood:    </th> <td> -47504.</td> \n",
       "</tr>\n",
       "<tr>\n",
       "  <th>No. Observations:</th>       <td>  7482</td>       <th>  AIC:               </th> <td>9.511e+04</td>\n",
       "</tr>\n",
       "<tr>\n",
       "  <th>Df Residuals:</th>           <td>  7433</td>       <th>  BIC:               </th> <td>9.544e+04</td>\n",
       "</tr>\n",
       "<tr>\n",
       "  <th>Df Model:</th>               <td>    48</td>       <th>                     </th>     <td> </td>    \n",
       "</tr>\n",
       "<tr>\n",
       "  <th>Covariance Type:</th>       <td>nonrobust</td>     <th>                     </th>     <td> </td>    \n",
       "</tr>\n",
       "</table>\n",
       "<table class=\"simpletable\">\n",
       "<tr>\n",
       "    <td></td>       <th>coef</th>     <th>std err</th>      <th>t</th>      <th>P>|t|</th>  <th>[0.025</th>    <th>0.975]</th>  \n",
       "</tr>\n",
       "<tr>\n",
       "  <th>const</th> <td>  137.6691</td> <td>   14.656</td> <td>    9.393</td> <td> 0.000</td> <td>  108.939</td> <td>  166.399</td>\n",
       "</tr>\n",
       "<tr>\n",
       "  <th>x1</th>    <td>    3.6995</td> <td>    6.167</td> <td>    0.600</td> <td> 0.549</td> <td>   -8.390</td> <td>   15.789</td>\n",
       "</tr>\n",
       "<tr>\n",
       "  <th>x2</th>    <td>   -0.4609</td> <td>    4.275</td> <td>   -0.108</td> <td> 0.914</td> <td>   -8.842</td> <td>    7.920</td>\n",
       "</tr>\n",
       "<tr>\n",
       "  <th>x3</th>    <td>    3.6221</td> <td>    4.096</td> <td>    0.884</td> <td> 0.377</td> <td>   -4.408</td> <td>   11.652</td>\n",
       "</tr>\n",
       "<tr>\n",
       "  <th>x4</th>    <td>  -24.0469</td> <td>    5.212</td> <td>   -4.614</td> <td> 0.000</td> <td>  -34.263</td> <td>  -13.831</td>\n",
       "</tr>\n",
       "<tr>\n",
       "  <th>x5</th>    <td>  -14.7625</td> <td>    4.564</td> <td>   -3.235</td> <td> 0.001</td> <td>  -23.708</td> <td>   -5.817</td>\n",
       "</tr>\n",
       "<tr>\n",
       "  <th>x6</th>    <td>  -23.3392</td> <td>    8.745</td> <td>   -2.669</td> <td> 0.008</td> <td>  -40.481</td> <td>   -6.197</td>\n",
       "</tr>\n",
       "<tr>\n",
       "  <th>x7</th>    <td>   -9.9905</td> <td>    4.174</td> <td>   -2.393</td> <td> 0.017</td> <td>  -18.173</td> <td>   -1.807</td>\n",
       "</tr>\n",
       "<tr>\n",
       "  <th>x8</th>    <td>  -20.6117</td> <td>    9.189</td> <td>   -2.243</td> <td> 0.025</td> <td>  -38.625</td> <td>   -2.599</td>\n",
       "</tr>\n",
       "<tr>\n",
       "  <th>x9</th>    <td>    6.2334</td> <td>    4.238</td> <td>    1.471</td> <td> 0.141</td> <td>   -2.073</td> <td>   14.540</td>\n",
       "</tr>\n",
       "<tr>\n",
       "  <th>x10</th>   <td>  -16.9742</td> <td>    6.471</td> <td>   -2.623</td> <td> 0.009</td> <td>  -29.660</td> <td>   -4.288</td>\n",
       "</tr>\n",
       "<tr>\n",
       "  <th>x11</th>   <td>   -2.5505</td> <td>    3.231</td> <td>   -0.789</td> <td> 0.430</td> <td>   -8.885</td> <td>    3.784</td>\n",
       "</tr>\n",
       "<tr>\n",
       "  <th>x12</th>   <td>   -5.8444</td> <td>    8.353</td> <td>   -0.700</td> <td> 0.484</td> <td>  -22.219</td> <td>   10.530</td>\n",
       "</tr>\n",
       "<tr>\n",
       "  <th>x13</th>   <td>   19.6153</td> <td>   10.724</td> <td>    1.829</td> <td> 0.067</td> <td>   -1.407</td> <td>   40.638</td>\n",
       "</tr>\n",
       "<tr>\n",
       "  <th>x14</th>   <td>   -4.8007</td> <td>   12.310</td> <td>   -0.390</td> <td> 0.697</td> <td>  -28.933</td> <td>   19.331</td>\n",
       "</tr>\n",
       "<tr>\n",
       "  <th>x15</th>   <td>   85.1925</td> <td>    8.861</td> <td>    9.614</td> <td> 0.000</td> <td>   67.822</td> <td>  102.563</td>\n",
       "</tr>\n",
       "<tr>\n",
       "  <th>x16</th>   <td>   17.6337</td> <td>    3.249</td> <td>    5.428</td> <td> 0.000</td> <td>   11.265</td> <td>   24.002</td>\n",
       "</tr>\n",
       "<tr>\n",
       "  <th>x17</th>   <td>  377.7687</td> <td>    4.669</td> <td>   80.918</td> <td> 0.000</td> <td>  368.617</td> <td>  386.920</td>\n",
       "</tr>\n",
       "<tr>\n",
       "  <th>x18</th>   <td>  219.6835</td> <td>    5.320</td> <td>   41.291</td> <td> 0.000</td> <td>  209.254</td> <td>  230.113</td>\n",
       "</tr>\n",
       "<tr>\n",
       "  <th>x19</th>   <td>   -4.1830</td> <td>    4.768</td> <td>   -0.877</td> <td> 0.380</td> <td>  -13.531</td> <td>    5.165</td>\n",
       "</tr>\n",
       "<tr>\n",
       "  <th>x20</th>   <td>   62.1603</td> <td>    5.472</td> <td>   11.360</td> <td> 0.000</td> <td>   51.434</td> <td>   72.887</td>\n",
       "</tr>\n",
       "<tr>\n",
       "  <th>x21</th>   <td>-3.178e+13</td> <td> 1.02e+14</td> <td>   -0.311</td> <td> 0.756</td> <td>-2.32e+14</td> <td> 1.69e+14</td>\n",
       "</tr>\n",
       "<tr>\n",
       "  <th>x22</th>   <td>-6.136e+11</td> <td> 1.97e+12</td> <td>   -0.311</td> <td> 0.756</td> <td>-4.48e+12</td> <td> 3.25e+12</td>\n",
       "</tr>\n",
       "<tr>\n",
       "  <th>x23</th>   <td>  -12.5661</td> <td>   10.342</td> <td>   -1.215</td> <td> 0.224</td> <td>  -32.838</td> <td>    7.706</td>\n",
       "</tr>\n",
       "<tr>\n",
       "  <th>x24</th>   <td>   -2.0741</td> <td>    9.500</td> <td>   -0.218</td> <td> 0.827</td> <td>  -20.697</td> <td>   16.549</td>\n",
       "</tr>\n",
       "<tr>\n",
       "  <th>x25</th>   <td> 3.178e+13</td> <td> 1.02e+14</td> <td>    0.311</td> <td> 0.756</td> <td>-1.69e+14</td> <td> 2.32e+14</td>\n",
       "</tr>\n",
       "<tr>\n",
       "  <th>x26</th>   <td> 3.178e+13</td> <td> 1.02e+14</td> <td>    0.311</td> <td> 0.756</td> <td>-1.69e+14</td> <td> 2.32e+14</td>\n",
       "</tr>\n",
       "<tr>\n",
       "  <th>x27</th>   <td> 3.178e+13</td> <td> 1.02e+14</td> <td>    0.311</td> <td> 0.756</td> <td>-1.69e+14</td> <td> 2.32e+14</td>\n",
       "</tr>\n",
       "<tr>\n",
       "  <th>x28</th>   <td> 6.136e+11</td> <td> 1.97e+12</td> <td>    0.311</td> <td> 0.756</td> <td>-3.25e+12</td> <td> 4.48e+12</td>\n",
       "</tr>\n",
       "<tr>\n",
       "  <th>x29</th>   <td> 6.136e+11</td> <td> 1.97e+12</td> <td>    0.311</td> <td> 0.756</td> <td>-3.25e+12</td> <td> 4.48e+12</td>\n",
       "</tr>\n",
       "<tr>\n",
       "  <th>x30</th>   <td> 6.136e+11</td> <td> 1.97e+12</td> <td>    0.311</td> <td> 0.756</td> <td>-3.25e+12</td> <td> 4.48e+12</td>\n",
       "</tr>\n",
       "<tr>\n",
       "  <th>x31</th>   <td>   16.6673</td> <td>    4.059</td> <td>    4.107</td> <td> 0.000</td> <td>    8.711</td> <td>   24.623</td>\n",
       "</tr>\n",
       "<tr>\n",
       "  <th>x32</th>   <td>    7.9451</td> <td>    4.817</td> <td>    1.649</td> <td> 0.099</td> <td>   -1.497</td> <td>   17.387</td>\n",
       "</tr>\n",
       "<tr>\n",
       "  <th>x33</th>   <td>    7.7799</td> <td>    5.677</td> <td>    1.370</td> <td> 0.171</td> <td>   -3.348</td> <td>   18.908</td>\n",
       "</tr>\n",
       "<tr>\n",
       "  <th>x34</th>   <td>   -1.5611</td> <td>    4.038</td> <td>   -0.387</td> <td> 0.699</td> <td>   -9.476</td> <td>    6.354</td>\n",
       "</tr>\n",
       "<tr>\n",
       "  <th>x35</th>   <td>   -0.9664</td> <td>    4.568</td> <td>   -0.212</td> <td> 0.832</td> <td>   -9.921</td> <td>    7.988</td>\n",
       "</tr>\n",
       "<tr>\n",
       "  <th>x36</th>   <td>   -3.3431</td> <td>    4.969</td> <td>   -0.673</td> <td> 0.501</td> <td>  -13.083</td> <td>    6.397</td>\n",
       "</tr>\n",
       "<tr>\n",
       "  <th>x37</th>   <td>   20.6677</td> <td>   20.331</td> <td>    1.017</td> <td> 0.309</td> <td>  -19.188</td> <td>   60.523</td>\n",
       "</tr>\n",
       "<tr>\n",
       "  <th>x38</th>   <td>  -34.5047</td> <td>   20.442</td> <td>   -1.688</td> <td> 0.091</td> <td>  -74.577</td> <td>    5.568</td>\n",
       "</tr>\n",
       "<tr>\n",
       "  <th>x39</th>   <td>  -28.5692</td> <td>    9.375</td> <td>   -3.047</td> <td> 0.002</td> <td>  -46.948</td> <td>  -10.191</td>\n",
       "</tr>\n",
       "<tr>\n",
       "  <th>x40</th>   <td>  -21.9365</td> <td>    7.004</td> <td>   -3.132</td> <td> 0.002</td> <td>  -35.667</td> <td>   -8.206</td>\n",
       "</tr>\n",
       "<tr>\n",
       "  <th>x41</th>   <td>   -4.0341</td> <td>    4.224</td> <td>   -0.955</td> <td> 0.340</td> <td>  -12.314</td> <td>    4.245</td>\n",
       "</tr>\n",
       "<tr>\n",
       "  <th>x42</th>   <td>   -6.0992</td> <td>    5.354</td> <td>   -1.139</td> <td> 0.255</td> <td>  -16.594</td> <td>    4.396</td>\n",
       "</tr>\n",
       "<tr>\n",
       "  <th>x43</th>   <td>   -0.7423</td> <td>    6.252</td> <td>   -0.119</td> <td> 0.905</td> <td>  -12.998</td> <td>   11.513</td>\n",
       "</tr>\n",
       "<tr>\n",
       "  <th>x44</th>   <td>   -0.2687</td> <td>    1.775</td> <td>   -0.151</td> <td> 0.880</td> <td>   -3.748</td> <td>    3.211</td>\n",
       "</tr>\n",
       "<tr>\n",
       "  <th>x45</th>   <td>   -5.6068</td> <td>    1.858</td> <td>   -3.018</td> <td> 0.003</td> <td>   -9.249</td> <td>   -1.965</td>\n",
       "</tr>\n",
       "<tr>\n",
       "  <th>x46</th>   <td>  182.1139</td> <td>    4.723</td> <td>   38.561</td> <td> 0.000</td> <td>  172.856</td> <td>  191.372</td>\n",
       "</tr>\n",
       "<tr>\n",
       "  <th>x47</th>   <td>    3.2008</td> <td>    1.614</td> <td>    1.984</td> <td> 0.047</td> <td>    0.038</td> <td>    6.364</td>\n",
       "</tr>\n",
       "<tr>\n",
       "  <th>x48</th>   <td>   -0.3462</td> <td>    1.626</td> <td>   -0.213</td> <td> 0.831</td> <td>   -3.533</td> <td>    2.840</td>\n",
       "</tr>\n",
       "<tr>\n",
       "  <th>x49</th>   <td>   -2.1387</td> <td>    1.615</td> <td>   -1.324</td> <td> 0.185</td> <td>   -5.304</td> <td>    1.027</td>\n",
       "</tr>\n",
       "<tr>\n",
       "  <th>x50</th>   <td>    1.1300</td> <td>    1.624</td> <td>    0.696</td> <td> 0.486</td> <td>   -2.053</td> <td>    4.313</td>\n",
       "</tr>\n",
       "</table>\n",
       "<table class=\"simpletable\">\n",
       "<tr>\n",
       "  <th>Omnibus:</th>       <td>3306.413</td> <th>  Durbin-Watson:     </th> <td>   2.009</td> \n",
       "</tr>\n",
       "<tr>\n",
       "  <th>Prob(Omnibus):</th>  <td> 0.000</td>  <th>  Jarque-Bera (JB):  </th> <td>41073.574</td>\n",
       "</tr>\n",
       "<tr>\n",
       "  <th>Skew:</th>           <td> 1.781</td>  <th>  Prob(JB):          </th> <td>    0.00</td> \n",
       "</tr>\n",
       "<tr>\n",
       "  <th>Kurtosis:</th>       <td>13.912</td>  <th>  Cond. No.          </th> <td>1.13e+16</td> \n",
       "</tr>\n",
       "</table><br/><br/>Notes:<br/>[1] Standard Errors assume that the covariance matrix of the errors is correctly specified.<br/>[2] The smallest eigenvalue is 2.99e-28. This might indicate that there are<br/>strong multicollinearity problems or that the design matrix is singular."
      ],
      "text/plain": [
       "<class 'statsmodels.iolib.summary.Summary'>\n",
       "\"\"\"\n",
       "                            OLS Regression Results                            \n",
       "==============================================================================\n",
       "Dep. Variable:     total_claim_amount   R-squared:                       0.774\n",
       "Model:                            OLS   Adj. R-squared:                  0.773\n",
       "Method:                 Least Squares   F-statistic:                     531.3\n",
       "Date:                Fri, 03 Feb 2023   Prob (F-statistic):               0.00\n",
       "Time:                        17:21:47   Log-Likelihood:                -47504.\n",
       "No. Observations:                7482   AIC:                         9.511e+04\n",
       "Df Residuals:                    7433   BIC:                         9.544e+04\n",
       "Df Model:                          48                                         \n",
       "Covariance Type:            nonrobust                                         \n",
       "==============================================================================\n",
       "                 coef    std err          t      P>|t|      [0.025      0.975]\n",
       "------------------------------------------------------------------------------\n",
       "const        137.6691     14.656      9.393      0.000     108.939     166.399\n",
       "x1             3.6995      6.167      0.600      0.549      -8.390      15.789\n",
       "x2            -0.4609      4.275     -0.108      0.914      -8.842       7.920\n",
       "x3             3.6221      4.096      0.884      0.377      -4.408      11.652\n",
       "x4           -24.0469      5.212     -4.614      0.000     -34.263     -13.831\n",
       "x5           -14.7625      4.564     -3.235      0.001     -23.708      -5.817\n",
       "x6           -23.3392      8.745     -2.669      0.008     -40.481      -6.197\n",
       "x7            -9.9905      4.174     -2.393      0.017     -18.173      -1.807\n",
       "x8           -20.6117      9.189     -2.243      0.025     -38.625      -2.599\n",
       "x9             6.2334      4.238      1.471      0.141      -2.073      14.540\n",
       "x10          -16.9742      6.471     -2.623      0.009     -29.660      -4.288\n",
       "x11           -2.5505      3.231     -0.789      0.430      -8.885       3.784\n",
       "x12           -5.8444      8.353     -0.700      0.484     -22.219      10.530\n",
       "x13           19.6153     10.724      1.829      0.067      -1.407      40.638\n",
       "x14           -4.8007     12.310     -0.390      0.697     -28.933      19.331\n",
       "x15           85.1925      8.861      9.614      0.000      67.822     102.563\n",
       "x16           17.6337      3.249      5.428      0.000      11.265      24.002\n",
       "x17          377.7687      4.669     80.918      0.000     368.617     386.920\n",
       "x18          219.6835      5.320     41.291      0.000     209.254     230.113\n",
       "x19           -4.1830      4.768     -0.877      0.380     -13.531       5.165\n",
       "x20           62.1603      5.472     11.360      0.000      51.434      72.887\n",
       "x21        -3.178e+13   1.02e+14     -0.311      0.756   -2.32e+14    1.69e+14\n",
       "x22        -6.136e+11   1.97e+12     -0.311      0.756   -4.48e+12    3.25e+12\n",
       "x23          -12.5661     10.342     -1.215      0.224     -32.838       7.706\n",
       "x24           -2.0741      9.500     -0.218      0.827     -20.697      16.549\n",
       "x25         3.178e+13   1.02e+14      0.311      0.756   -1.69e+14    2.32e+14\n",
       "x26         3.178e+13   1.02e+14      0.311      0.756   -1.69e+14    2.32e+14\n",
       "x27         3.178e+13   1.02e+14      0.311      0.756   -1.69e+14    2.32e+14\n",
       "x28         6.136e+11   1.97e+12      0.311      0.756   -3.25e+12    4.48e+12\n",
       "x29         6.136e+11   1.97e+12      0.311      0.756   -3.25e+12    4.48e+12\n",
       "x30         6.136e+11   1.97e+12      0.311      0.756   -3.25e+12    4.48e+12\n",
       "x31           16.6673      4.059      4.107      0.000       8.711      24.623\n",
       "x32            7.9451      4.817      1.649      0.099      -1.497      17.387\n",
       "x33            7.7799      5.677      1.370      0.171      -3.348      18.908\n",
       "x34           -1.5611      4.038     -0.387      0.699      -9.476       6.354\n",
       "x35           -0.9664      4.568     -0.212      0.832      -9.921       7.988\n",
       "x36           -3.3431      4.969     -0.673      0.501     -13.083       6.397\n",
       "x37           20.6677     20.331      1.017      0.309     -19.188      60.523\n",
       "x38          -34.5047     20.442     -1.688      0.091     -74.577       5.568\n",
       "x39          -28.5692      9.375     -3.047      0.002     -46.948     -10.191\n",
       "x40          -21.9365      7.004     -3.132      0.002     -35.667      -8.206\n",
       "x41           -4.0341      4.224     -0.955      0.340     -12.314       4.245\n",
       "x42           -6.0992      5.354     -1.139      0.255     -16.594       4.396\n",
       "x43           -0.7423      6.252     -0.119      0.905     -12.998      11.513\n",
       "x44           -0.2687      1.775     -0.151      0.880      -3.748       3.211\n",
       "x45           -5.6068      1.858     -3.018      0.003      -9.249      -1.965\n",
       "x46          182.1139      4.723     38.561      0.000     172.856     191.372\n",
       "x47            3.2008      1.614      1.984      0.047       0.038       6.364\n",
       "x48           -0.3462      1.626     -0.213      0.831      -3.533       2.840\n",
       "x49           -2.1387      1.615     -1.324      0.185      -5.304       1.027\n",
       "x50            1.1300      1.624      0.696      0.486      -2.053       4.313\n",
       "==============================================================================\n",
       "Omnibus:                     3306.413   Durbin-Watson:                   2.009\n",
       "Prob(Omnibus):                  0.000   Jarque-Bera (JB):            41073.574\n",
       "Skew:                           1.781   Prob(JB):                         0.00\n",
       "Kurtosis:                      13.912   Cond. No.                     1.13e+16\n",
       "==============================================================================\n",
       "\n",
       "Notes:\n",
       "[1] Standard Errors assume that the covariance matrix of the errors is correctly specified.\n",
       "[2] The smallest eigenvalue is 2.99e-28. This might indicate that there are\n",
       "strong multicollinearity problems or that the design matrix is singular.\n",
       "\"\"\""
      ]
     },
     "execution_count": 47,
     "metadata": {},
     "output_type": "execute_result"
    }
   ],
   "source": [
    "x2_train_const = sm.add_constant(x2_train.to_numpy()) # adding a constant\n",
    "\n",
    "model2 = sm.OLS(y2_train, x2_train_const).fit()\n",
    "predictions_train2 = model2.predict(x2_train_const)\n",
    "\n",
    "x2_test_const = sm.add_constant(x2_test) # adding a constant\n",
    "predictions_test2 = model2.predict(x2_test_const)\n",
    "print_model2 = model2.summary()\n",
    "print_model2"
   ]
  },
  {
   "cell_type": "code",
   "execution_count": 48,
   "id": "c6cc22df",
   "metadata": {},
   "outputs": [],
   "source": [
    "# test-train split\n",
    "x2_train, x2_test, y2_train, y2_test = train_test_split(x2, y2, test_size=TT_RATIO, random_state=RAND_STATE)\n",
    "x2_train = pd.DataFrame(x2_train)\n",
    "x2_test = pd.DataFrame(x2_test)\n",
    "y2_train = pd.DataFrame(y2_train)\n",
    "y2_test = pd.DataFrame(y2_test)"
   ]
  },
  {
   "cell_type": "code",
   "execution_count": 49,
   "id": "d5e555a4",
   "metadata": {
    "scrolled": true
   },
   "outputs": [
    {
     "data": {
      "text/plain": [
       "array([[ 3.67526487e+00, -4.59708657e-01,  3.60051351e+00,\n",
       "        -2.40370209e+01, -1.47729638e+01, -2.33213052e+01,\n",
       "        -9.96019710e+00, -2.06121523e+01,  6.24564397e+00,\n",
       "        -1.69583493e+01, -2.55020532e+00, -5.82005012e+00,\n",
       "         1.96232238e+01, -4.79626324e+00,  8.52185201e+01,\n",
       "         1.76462528e+01,  3.77795310e+02,  2.19741037e+02,\n",
       "        -4.20303321e+00,  6.21294166e+01, -1.72507320e+00,\n",
       "         1.17485460e+01, -1.25762214e+01, -2.10627666e+00,\n",
       "         4.00481832e+00, -2.21649853e+00, -3.51339299e+00,\n",
       "         2.94302999e+01, -6.75047193e+00, -1.09312819e+01,\n",
       "         1.66732609e+01,  7.93584977e+00,  7.76397625e+00,\n",
       "        -1.56145592e+00, -9.37913094e-01, -3.34536178e+00,\n",
       "         2.07202364e+01, -3.44326715e+01, -2.85282795e+01,\n",
       "        -2.19164180e+01, -4.03731367e+00, -6.09771844e+00,\n",
       "        -7.65557084e-01, -3.87977967e-05, -2.26159168e-04,\n",
       "         5.33027557e+00,  3.17092688e-01, -1.25162039e-02,\n",
       "        -2.40381878e+00,  4.74837980e-01]])"
      ]
     },
     "execution_count": 49,
     "metadata": {},
     "output_type": "execute_result"
    }
   ],
   "source": [
    "model2 = lm.fit(x2_train,y2_train)\n",
    "model2.coef_"
   ]
  },
  {
   "cell_type": "code",
   "execution_count": 50,
   "id": "75310550",
   "metadata": {},
   "outputs": [
    {
     "data": {
      "text/plain": [
       "array([-351.89703403])"
      ]
     },
     "execution_count": 50,
     "metadata": {},
     "output_type": "execute_result"
    }
   ],
   "source": [
    "model2.intercept_"
   ]
  },
  {
   "cell_type": "code",
   "execution_count": 51,
   "id": "9e349331",
   "metadata": {},
   "outputs": [],
   "source": [
    "y2_pred = pd.DataFrame(model2.predict(x2_test),columns = ['total_claim_amount'] )      # model prediction\n",
    "y2_pred_train =  pd.DataFrame(model2.predict(x2_train),columns = ['total_claim_amount'])"
   ]
  },
  {
   "cell_type": "markdown",
   "id": "1962083f",
   "metadata": {},
   "source": [
    "- Model Interpretation."
   ]
  },
  {
   "cell_type": "code",
   "execution_count": 52,
   "id": "f83ed99d",
   "metadata": {
    "scrolled": true
   },
   "outputs": [
    {
     "name": "stderr",
     "output_type": "stream",
     "text": [
      "C:\\Users\\migue\\anaconda3\\lib\\site-packages\\seaborn\\_decorators.py:36: FutureWarning: Pass the following variables as keyword args: x, y. From version 0.12, the only valid positional argument will be `data`, and passing other arguments without an explicit keyword will result in an error or misinterpretation.\n",
      "  warnings.warn(\n"
     ]
    },
    {
     "data": {
      "text/plain": [
       "<AxesSubplot:>"
      ]
     },
     "execution_count": 52,
     "metadata": {},
     "output_type": "execute_result"
    },
    {
     "data": {
      "image/png": "[encoded data removed]",
      "text/plain": [
       "<Figure size 640x480 with 1 Axes>"
      ]
     },
     "metadata": {},
     "output_type": "display_data"
    }
   ],
   "source": [
    "yp_ = y2_pred.to_numpy()\n",
    "yt_ = y2_test.to_numpy()\n",
    "sns.regplot(yp_,yt_,scatter_kws={\"color\": \"red\"}, line_kws={\"color\": \"black\"})"
   ]
  },
  {
   "cell_type": "markdown",
   "id": "2bed6f77",
   "metadata": {},
   "source": [
    "#### Model Evaluation:\n",
    "- MSE."
   ]
  },
  {
   "cell_type": "code",
   "execution_count": 53,
   "id": "e1152f7b",
   "metadata": {},
   "outputs": [
    {
     "data": {
      "text/plain": [
       "20670.631194339338"
      ]
     },
     "execution_count": 53,
     "metadata": {},
     "output_type": "execute_result"
    }
   ],
   "source": [
    "mse(y2_test,y2_pred)"
   ]
  },
  {
   "cell_type": "markdown",
   "id": "3e84911b",
   "metadata": {},
   "source": [
    "- RMSE."
   ]
  },
  {
   "cell_type": "code",
   "execution_count": 54,
   "id": "21bc0715",
   "metadata": {},
   "outputs": [
    {
     "data": {
      "text/plain": [
       "143.77284581707124"
      ]
     },
     "execution_count": 54,
     "metadata": {},
     "output_type": "execute_result"
    }
   ],
   "source": [
    "rmse2 = np.sqrt(mse(y2_test,y2_pred))\n",
    "rmse2"
   ]
  },
  {
   "cell_type": "markdown",
   "id": "369f8f99",
   "metadata": {},
   "source": [
    "- MAE."
   ]
  },
  {
   "cell_type": "code",
   "execution_count": 55,
   "id": "be8ca360",
   "metadata": {},
   "outputs": [
    {
     "data": {
      "text/plain": [
       "97.7253345630095"
      ]
     },
     "execution_count": 55,
     "metadata": {},
     "output_type": "execute_result"
    }
   ],
   "source": [
    "mae(y2_test,y2_pred)"
   ]
  },
  {
   "cell_type": "markdown",
   "id": "99b28dad",
   "metadata": {},
   "source": [
    "- R2"
   ]
  },
  {
   "cell_type": "code",
   "execution_count": 56,
   "id": "c632abed",
   "metadata": {},
   "outputs": [
    {
     "data": {
      "text/plain": [
       "0.7629684336801931"
      ]
     },
     "execution_count": 56,
     "metadata": {},
     "output_type": "execute_result"
    }
   ],
   "source": [
    "R2_2=r2_score(y2_test,y2_pred)\n",
    "R2_2"
   ]
  },
  {
   "cell_type": "markdown",
   "id": "7ede87b6",
   "metadata": {},
   "source": [
    "- R2 adjusted"
   ]
  },
  {
   "cell_type": "code",
   "execution_count": 57,
   "id": "9d039e11",
   "metadata": {},
   "outputs": [
    {
     "data": {
      "text/plain": [
       "0.7592131807283584"
      ]
     },
     "execution_count": 57,
     "metadata": {},
     "output_type": "execute_result"
    }
   ],
   "source": [
    "R2_test2=model2.score(x2_test,y2_test)\n",
    "R2_train2=model2.score(x2_train,y2_train)\n",
    "Adj2_R2= 1 - (1-R2_2)*(len(y2_test)-1)/(len(y2_test)-x2_test.shape[1]-1)\n",
    "Adj2_R2"
   ]
  },
  {
   "cell_type": "markdown",
   "id": "c9541840",
   "metadata": {},
   "source": [
    "#### Feature Importance"
   ]
  },
  {
   "cell_type": "code",
   "execution_count": 58,
   "id": "67e9caf9",
   "metadata": {},
   "outputs": [
    {
     "data": {
      "text/html": [
       "<div>\n",
       "<style scoped>\n",
       "    .dataframe tbody tr th:only-of-type {\n",
       "        vertical-align: middle;\n",
       "    }\n",
       "\n",
       "    .dataframe tbody tr th {\n",
       "        vertical-align: top;\n",
       "    }\n",
       "\n",
       "    .dataframe thead th {\n",
       "        text-align: right;\n",
       "    }\n",
       "</style>\n",
       "<table border=\"1\" class=\"dataframe\">\n",
       "  <thead>\n",
       "    <tr style=\"text-align: right;\">\n",
       "      <th></th>\n",
       "      <th>Attribute</th>\n",
       "      <th>Importance</th>\n",
       "    </tr>\n",
       "  </thead>\n",
       "  <tbody>\n",
       "    <tr>\n",
       "      <th>2</th>\n",
       "      <td>monthly_premium_auto</td>\n",
       "      <td>5.476729</td>\n",
       "    </tr>\n",
       "    <tr>\n",
       "      <th>5</th>\n",
       "      <td>number_of_open_complaints</td>\n",
       "      <td>0.668978</td>\n",
       "    </tr>\n",
       "    <tr>\n",
       "      <th>3</th>\n",
       "      <td>months_since_last_claim</td>\n",
       "      <td>0.203879</td>\n",
       "    </tr>\n",
       "    <tr>\n",
       "      <th>6</th>\n",
       "      <td>number_of_policies</td>\n",
       "      <td>0.064126</td>\n",
       "    </tr>\n",
       "    <tr>\n",
       "      <th>4</th>\n",
       "      <td>months_since_policy_inception</td>\n",
       "      <td>0.023162</td>\n",
       "    </tr>\n",
       "    <tr>\n",
       "      <th>1</th>\n",
       "      <td>income</td>\n",
       "      <td>0.001278</td>\n",
       "    </tr>\n",
       "    <tr>\n",
       "      <th>0</th>\n",
       "      <td>customer_lifetime_value</td>\n",
       "      <td>0.000858</td>\n",
       "    </tr>\n",
       "  </tbody>\n",
       "</table>\n",
       "</div>"
      ],
      "text/plain": [
       "                       Attribute  Importance\n",
       "2           monthly_premium_auto    5.476729\n",
       "5      number_of_open_complaints    0.668978\n",
       "3        months_since_last_claim    0.203879\n",
       "6             number_of_policies    0.064126\n",
       "4  months_since_policy_inception    0.023162\n",
       "1                         income    0.001278\n",
       "0        customer_lifetime_value    0.000858"
      ]
     },
     "execution_count": 58,
     "metadata": {},
     "output_type": "execute_result"
    }
   ],
   "source": [
    "features_importances2 = pd.DataFrame(data={\n",
    "    'Attribute': x2_train.columns,\n",
    "    'Importance': abs(model2.coef_.reshape(len(x2_train.columns),))\n",
    "})\n",
    "features_importances2 = features_importances.sort_values(by='Importance', ascending=False)\n",
    "features_importances2"
   ]
  },
  {
   "cell_type": "markdown",
   "id": "f0114ad1",
   "metadata": {},
   "source": [
    "(Optional) Please rerun the model after removing the outliers and compare the results using R2 metric."
   ]
  },
  {
   "cell_type": "code",
   "execution_count": 59,
   "id": "4439d8ae",
   "metadata": {},
   "outputs": [],
   "source": [
    "def remove_outliers(cust_an):\n",
    "    for c in cust_an.columns:\n",
    "            pct_75 = np.percentile(cust_an[c], 75)\n",
    "            pct_25 = np.percentile(cust_an[c], 25)\n",
    "            upper_bound = pct_75 + 1.5*iqr(cust_an[c])\n",
    "            lower_bound = pct_25 - 1.5*iqr(cust_an[c])\n",
    "            condition = (cust_an[c] < upper_bound) & (cust_an[c] > lower_bound)\n",
    "            cust_an[c] = cust_an[c][condition]  # Filter out the outliers\n",
    "    return cust_an"
   ]
  },
  {
   "cell_type": "code",
   "execution_count": null,
   "id": "f1531467",
   "metadata": {},
   "outputs": [],
   "source": []
  },
  {
   "cell_type": "code",
   "execution_count": 60,
   "id": "44347fa2",
   "metadata": {},
   "outputs": [],
   "source": [
    "x3 = cust_an.drop('total_claim_amount', axis=1)\n",
    "y3 = cust_an.total_claim_amount"
   ]
  },
  {
   "cell_type": "code",
   "execution_count": 61,
   "id": "9a133986",
   "metadata": {},
   "outputs": [],
   "source": [
    "numericalx3 = x3.select_dtypes(np.number)\n",
    "categoricalx3 = x3.select_dtypes(object)"
   ]
  },
  {
   "cell_type": "code",
   "execution_count": 62,
   "id": "00673cdf",
   "metadata": {},
   "outputs": [
    {
     "ename": "ValueError",
     "evalue": "Boolean array expected for the condition, not int64",
     "output_type": "error",
     "traceback": [
      "\u001b[1;31m---------------------------------------------------------------------------\u001b[0m",
      "\u001b[1;31mValueError\u001b[0m                                Traceback (most recent call last)",
      "\u001b[1;32m~\\AppData\\Local\\Temp\\ipykernel_1444\\747827904.py\u001b[0m in \u001b[0;36m<module>\u001b[1;34m\u001b[0m\n\u001b[0;32m      1\u001b[0m \u001b[1;31m# one-hot encode the categorical features\u001b[0m\u001b[1;33m\u001b[0m\u001b[1;33m\u001b[0m\u001b[0m\n\u001b[0;32m      2\u001b[0m x3 = pd.concat(pd.get_dummies(x3[categoricalx3.columns],drop_first=True), \n\u001b[1;32m----> 3\u001b[1;33m                remove_outliers(x3[numericalx3]), axis=1)\n\u001b[0m",
      "\u001b[1;32m~\\anaconda3\\lib\\site-packages\\pandas\\core\\frame.py\u001b[0m in \u001b[0;36m__getitem__\u001b[1;34m(self, key)\u001b[0m\n\u001b[0;32m   3490\u001b[0m         \u001b[1;31m# Do we have a (boolean) DataFrame?\u001b[0m\u001b[1;33m\u001b[0m\u001b[1;33m\u001b[0m\u001b[0m\n\u001b[0;32m   3491\u001b[0m         \u001b[1;32mif\u001b[0m \u001b[0misinstance\u001b[0m\u001b[1;33m(\u001b[0m\u001b[0mkey\u001b[0m\u001b[1;33m,\u001b[0m \u001b[0mDataFrame\u001b[0m\u001b[1;33m)\u001b[0m\u001b[1;33m:\u001b[0m\u001b[1;33m\u001b[0m\u001b[1;33m\u001b[0m\u001b[0m\n\u001b[1;32m-> 3492\u001b[1;33m             \u001b[1;32mreturn\u001b[0m \u001b[0mself\u001b[0m\u001b[1;33m.\u001b[0m\u001b[0mwhere\u001b[0m\u001b[1;33m(\u001b[0m\u001b[0mkey\u001b[0m\u001b[1;33m)\u001b[0m\u001b[1;33m\u001b[0m\u001b[1;33m\u001b[0m\u001b[0m\n\u001b[0m\u001b[0;32m   3493\u001b[0m \u001b[1;33m\u001b[0m\u001b[0m\n\u001b[0;32m   3494\u001b[0m         \u001b[1;31m# Do we have a (boolean) 1d indexer?\u001b[0m\u001b[1;33m\u001b[0m\u001b[1;33m\u001b[0m\u001b[0m\n",
      "\u001b[1;32m~\\anaconda3\\lib\\site-packages\\pandas\\util\\_decorators.py\u001b[0m in \u001b[0;36mwrapper\u001b[1;34m(*args, **kwargs)\u001b[0m\n\u001b[0;32m    309\u001b[0m                     \u001b[0mstacklevel\u001b[0m\u001b[1;33m=\u001b[0m\u001b[0mstacklevel\u001b[0m\u001b[1;33m,\u001b[0m\u001b[1;33m\u001b[0m\u001b[1;33m\u001b[0m\u001b[0m\n\u001b[0;32m    310\u001b[0m                 )\n\u001b[1;32m--> 311\u001b[1;33m             \u001b[1;32mreturn\u001b[0m \u001b[0mfunc\u001b[0m\u001b[1;33m(\u001b[0m\u001b[1;33m*\u001b[0m\u001b[0margs\u001b[0m\u001b[1;33m,\u001b[0m \u001b[1;33m**\u001b[0m\u001b[0mkwargs\u001b[0m\u001b[1;33m)\u001b[0m\u001b[1;33m\u001b[0m\u001b[1;33m\u001b[0m\u001b[0m\n\u001b[0m\u001b[0;32m    312\u001b[0m \u001b[1;33m\u001b[0m\u001b[0m\n\u001b[0;32m    313\u001b[0m         \u001b[1;32mreturn\u001b[0m \u001b[0mwrapper\u001b[0m\u001b[1;33m\u001b[0m\u001b[1;33m\u001b[0m\u001b[0m\n",
      "\u001b[1;32m~\\anaconda3\\lib\\site-packages\\pandas\\core\\frame.py\u001b[0m in \u001b[0;36mwhere\u001b[1;34m(self, cond, other, inplace, axis, level, errors, try_cast)\u001b[0m\n\u001b[0;32m  10962\u001b[0m         \u001b[0mtry_cast\u001b[0m\u001b[1;33m=\u001b[0m\u001b[0mlib\u001b[0m\u001b[1;33m.\u001b[0m\u001b[0mno_default\u001b[0m\u001b[1;33m,\u001b[0m\u001b[1;33m\u001b[0m\u001b[1;33m\u001b[0m\u001b[0m\n\u001b[0;32m  10963\u001b[0m     ):\n\u001b[1;32m> 10964\u001b[1;33m         \u001b[1;32mreturn\u001b[0m \u001b[0msuper\u001b[0m\u001b[1;33m(\u001b[0m\u001b[1;33m)\u001b[0m\u001b[1;33m.\u001b[0m\u001b[0mwhere\u001b[0m\u001b[1;33m(\u001b[0m\u001b[0mcond\u001b[0m\u001b[1;33m,\u001b[0m \u001b[0mother\u001b[0m\u001b[1;33m,\u001b[0m \u001b[0minplace\u001b[0m\u001b[1;33m,\u001b[0m \u001b[0maxis\u001b[0m\u001b[1;33m,\u001b[0m \u001b[0mlevel\u001b[0m\u001b[1;33m,\u001b[0m \u001b[0merrors\u001b[0m\u001b[1;33m,\u001b[0m \u001b[0mtry_cast\u001b[0m\u001b[1;33m)\u001b[0m\u001b[1;33m\u001b[0m\u001b[1;33m\u001b[0m\u001b[0m\n\u001b[0m\u001b[0;32m  10965\u001b[0m \u001b[1;33m\u001b[0m\u001b[0m\n\u001b[0;32m  10966\u001b[0m     @deprecate_nonkeyword_arguments(\n",
      "\u001b[1;32m~\\anaconda3\\lib\\site-packages\\pandas\\core\\generic.py\u001b[0m in \u001b[0;36mwhere\u001b[1;34m(self, cond, other, inplace, axis, level, errors, try_cast)\u001b[0m\n\u001b[0;32m   9313\u001b[0m             )\n\u001b[0;32m   9314\u001b[0m \u001b[1;33m\u001b[0m\u001b[0m\n\u001b[1;32m-> 9315\u001b[1;33m         \u001b[1;32mreturn\u001b[0m \u001b[0mself\u001b[0m\u001b[1;33m.\u001b[0m\u001b[0m_where\u001b[0m\u001b[1;33m(\u001b[0m\u001b[0mcond\u001b[0m\u001b[1;33m,\u001b[0m \u001b[0mother\u001b[0m\u001b[1;33m,\u001b[0m \u001b[0minplace\u001b[0m\u001b[1;33m,\u001b[0m \u001b[0maxis\u001b[0m\u001b[1;33m,\u001b[0m \u001b[0mlevel\u001b[0m\u001b[1;33m,\u001b[0m \u001b[0merrors\u001b[0m\u001b[1;33m=\u001b[0m\u001b[0merrors\u001b[0m\u001b[1;33m)\u001b[0m\u001b[1;33m\u001b[0m\u001b[1;33m\u001b[0m\u001b[0m\n\u001b[0m\u001b[0;32m   9316\u001b[0m \u001b[1;33m\u001b[0m\u001b[0m\n\u001b[0;32m   9317\u001b[0m     @doc(\n",
      "\u001b[1;32m~\\anaconda3\\lib\\site-packages\\pandas\\core\\generic.py\u001b[0m in \u001b[0;36m_where\u001b[1;34m(self, cond, other, inplace, axis, level, errors)\u001b[0m\n\u001b[0;32m   9074\u001b[0m                 \u001b[1;32mfor\u001b[0m \u001b[0mdt\u001b[0m \u001b[1;32min\u001b[0m \u001b[0mcond\u001b[0m\u001b[1;33m.\u001b[0m\u001b[0mdtypes\u001b[0m\u001b[1;33m:\u001b[0m\u001b[1;33m\u001b[0m\u001b[1;33m\u001b[0m\u001b[0m\n\u001b[0;32m   9075\u001b[0m                     \u001b[1;32mif\u001b[0m \u001b[1;32mnot\u001b[0m \u001b[0mis_bool_dtype\u001b[0m\u001b[1;33m(\u001b[0m\u001b[0mdt\u001b[0m\u001b[1;33m)\u001b[0m\u001b[1;33m:\u001b[0m\u001b[1;33m\u001b[0m\u001b[1;33m\u001b[0m\u001b[0m\n\u001b[1;32m-> 9076\u001b[1;33m                         \u001b[1;32mraise\u001b[0m \u001b[0mValueError\u001b[0m\u001b[1;33m(\u001b[0m\u001b[0mmsg\u001b[0m\u001b[1;33m.\u001b[0m\u001b[0mformat\u001b[0m\u001b[1;33m(\u001b[0m\u001b[0mdtype\u001b[0m\u001b[1;33m=\u001b[0m\u001b[0mdt\u001b[0m\u001b[1;33m)\u001b[0m\u001b[1;33m)\u001b[0m\u001b[1;33m\u001b[0m\u001b[1;33m\u001b[0m\u001b[0m\n\u001b[0m\u001b[0;32m   9077\u001b[0m         \u001b[1;32melse\u001b[0m\u001b[1;33m:\u001b[0m\u001b[1;33m\u001b[0m\u001b[1;33m\u001b[0m\u001b[0m\n\u001b[0;32m   9078\u001b[0m             \u001b[1;31m# GH#21947 we have an empty DataFrame/Series, could be object-dtype\u001b[0m\u001b[1;33m\u001b[0m\u001b[1;33m\u001b[0m\u001b[0m\n",
      "\u001b[1;31mValueError\u001b[0m: Boolean array expected for the condition, not int64"
     ]
    }
   ],
   "source": [
    "# one-hot encode the categorical features\n",
    "x3 = pd.concat(pd.get_dummies(x3[categoricalx3.columns],drop_first=True), \n",
    "               remove_outliers(x3[numericalx3]), axis=1)"
   ]
  },
  {
   "cell_type": "code",
   "execution_count": 63,
   "id": "ad30e6d2",
   "metadata": {},
   "outputs": [],
   "source": [
    "# test-train split\n",
    "x3_train, x3_test, y3_train, y3_test = train_test_split(x3, y3, test_size=TT_RATIO, random_state=RAND_STATE)\n",
    "x3_train = pd.DataFrame(x3_train)\n",
    "x3_test = pd.DataFrame(x3_test)\n",
    "y3_train = pd.DataFrame(y3_train)\n",
    "y3_test = pd.DataFrame(y3_test)"
   ]
  },
  {
   "cell_type": "code",
   "execution_count": 64,
   "id": "d1c223d3",
   "metadata": {},
   "outputs": [],
   "source": [
    "sts.fit(x3_train[numericalx3.columns])\n",
    "x3_train[numericalx3.columns]=sts.transform(x3_train[numericalx3.columns])\n",
    "x3_test[numericalx3.columns] = sts.transform(x3_test[numericalx3.columns])"
   ]
  },
  {
   "cell_type": "code",
   "execution_count": 71,
   "id": "e5e185b9",
   "metadata": {},
   "outputs": [
    {
     "data": {
      "text/html": [
       "<table class=\"simpletable\">\n",
       "<caption>OLS Regression Results</caption>\n",
       "<tr>\n",
       "  <th>Dep. Variable:</th>    <td>total_claim_amount</td> <th>  R-squared:         </th> <td>   0.774</td> \n",
       "</tr>\n",
       "<tr>\n",
       "  <th>Model:</th>                    <td>OLS</td>        <th>  Adj. R-squared:    </th> <td>   0.773</td> \n",
       "</tr>\n",
       "<tr>\n",
       "  <th>Method:</th>              <td>Least Squares</td>   <th>  F-statistic:       </th> <td>   531.3</td> \n",
       "</tr>\n",
       "<tr>\n",
       "  <th>Date:</th>              <td>Fri, 03 Feb 2023</td>  <th>  Prob (F-statistic):</th>  <td>  0.00</td>  \n",
       "</tr>\n",
       "<tr>\n",
       "  <th>Time:</th>                  <td>17:12:39</td>      <th>  Log-Likelihood:    </th> <td> -47504.</td> \n",
       "</tr>\n",
       "<tr>\n",
       "  <th>No. Observations:</th>       <td>  7482</td>       <th>  AIC:               </th> <td>9.511e+04</td>\n",
       "</tr>\n",
       "<tr>\n",
       "  <th>Df Residuals:</th>           <td>  7433</td>       <th>  BIC:               </th> <td>9.544e+04</td>\n",
       "</tr>\n",
       "<tr>\n",
       "  <th>Df Model:</th>               <td>    48</td>       <th>                     </th>     <td> </td>    \n",
       "</tr>\n",
       "<tr>\n",
       "  <th>Covariance Type:</th>       <td>nonrobust</td>     <th>                     </th>     <td> </td>    \n",
       "</tr>\n",
       "</table>\n",
       "<table class=\"simpletable\">\n",
       "<tr>\n",
       "    <td></td>       <th>coef</th>     <th>std err</th>      <th>t</th>      <th>P>|t|</th>  <th>[0.025</th>    <th>0.975]</th>  \n",
       "</tr>\n",
       "<tr>\n",
       "  <th>const</th> <td>  137.6691</td> <td>   14.656</td> <td>    9.393</td> <td> 0.000</td> <td>  108.939</td> <td>  166.399</td>\n",
       "</tr>\n",
       "<tr>\n",
       "  <th>x1</th>    <td>    3.6995</td> <td>    6.167</td> <td>    0.600</td> <td> 0.549</td> <td>   -8.390</td> <td>   15.789</td>\n",
       "</tr>\n",
       "<tr>\n",
       "  <th>x2</th>    <td>   -0.4609</td> <td>    4.275</td> <td>   -0.108</td> <td> 0.914</td> <td>   -8.842</td> <td>    7.920</td>\n",
       "</tr>\n",
       "<tr>\n",
       "  <th>x3</th>    <td>    3.6221</td> <td>    4.096</td> <td>    0.884</td> <td> 0.377</td> <td>   -4.408</td> <td>   11.652</td>\n",
       "</tr>\n",
       "<tr>\n",
       "  <th>x4</th>    <td>  -24.0469</td> <td>    5.212</td> <td>   -4.614</td> <td> 0.000</td> <td>  -34.263</td> <td>  -13.831</td>\n",
       "</tr>\n",
       "<tr>\n",
       "  <th>x5</th>    <td>  -14.7625</td> <td>    4.564</td> <td>   -3.235</td> <td> 0.001</td> <td>  -23.708</td> <td>   -5.817</td>\n",
       "</tr>\n",
       "<tr>\n",
       "  <th>x6</th>    <td>  -23.3392</td> <td>    8.745</td> <td>   -2.669</td> <td> 0.008</td> <td>  -40.481</td> <td>   -6.197</td>\n",
       "</tr>\n",
       "<tr>\n",
       "  <th>x7</th>    <td>   -9.9905</td> <td>    4.174</td> <td>   -2.393</td> <td> 0.017</td> <td>  -18.173</td> <td>   -1.807</td>\n",
       "</tr>\n",
       "<tr>\n",
       "  <th>x8</th>    <td>  -20.6117</td> <td>    9.189</td> <td>   -2.243</td> <td> 0.025</td> <td>  -38.625</td> <td>   -2.599</td>\n",
       "</tr>\n",
       "<tr>\n",
       "  <th>x9</th>    <td>    6.2334</td> <td>    4.238</td> <td>    1.471</td> <td> 0.141</td> <td>   -2.073</td> <td>   14.540</td>\n",
       "</tr>\n",
       "<tr>\n",
       "  <th>x10</th>   <td>  -16.9742</td> <td>    6.471</td> <td>   -2.623</td> <td> 0.009</td> <td>  -29.660</td> <td>   -4.288</td>\n",
       "</tr>\n",
       "<tr>\n",
       "  <th>x11</th>   <td>   -2.5505</td> <td>    3.231</td> <td>   -0.789</td> <td> 0.430</td> <td>   -8.885</td> <td>    3.784</td>\n",
       "</tr>\n",
       "<tr>\n",
       "  <th>x12</th>   <td>   -5.8444</td> <td>    8.353</td> <td>   -0.700</td> <td> 0.484</td> <td>  -22.219</td> <td>   10.530</td>\n",
       "</tr>\n",
       "<tr>\n",
       "  <th>x13</th>   <td>   19.6153</td> <td>   10.724</td> <td>    1.829</td> <td> 0.067</td> <td>   -1.407</td> <td>   40.638</td>\n",
       "</tr>\n",
       "<tr>\n",
       "  <th>x14</th>   <td>   -4.8007</td> <td>   12.310</td> <td>   -0.390</td> <td> 0.697</td> <td>  -28.933</td> <td>   19.331</td>\n",
       "</tr>\n",
       "<tr>\n",
       "  <th>x15</th>   <td>   85.1925</td> <td>    8.861</td> <td>    9.614</td> <td> 0.000</td> <td>   67.822</td> <td>  102.563</td>\n",
       "</tr>\n",
       "<tr>\n",
       "  <th>x16</th>   <td>   17.6337</td> <td>    3.249</td> <td>    5.428</td> <td> 0.000</td> <td>   11.265</td> <td>   24.002</td>\n",
       "</tr>\n",
       "<tr>\n",
       "  <th>x17</th>   <td>  377.7687</td> <td>    4.669</td> <td>   80.918</td> <td> 0.000</td> <td>  368.617</td> <td>  386.920</td>\n",
       "</tr>\n",
       "<tr>\n",
       "  <th>x18</th>   <td>  219.6835</td> <td>    5.320</td> <td>   41.291</td> <td> 0.000</td> <td>  209.254</td> <td>  230.113</td>\n",
       "</tr>\n",
       "<tr>\n",
       "  <th>x19</th>   <td>   -4.1830</td> <td>    4.768</td> <td>   -0.877</td> <td> 0.380</td> <td>  -13.531</td> <td>    5.165</td>\n",
       "</tr>\n",
       "<tr>\n",
       "  <th>x20</th>   <td>   62.1603</td> <td>    5.472</td> <td>   11.360</td> <td> 0.000</td> <td>   51.434</td> <td>   72.887</td>\n",
       "</tr>\n",
       "<tr>\n",
       "  <th>x21</th>   <td>-3.178e+13</td> <td> 1.02e+14</td> <td>   -0.311</td> <td> 0.756</td> <td>-2.32e+14</td> <td> 1.69e+14</td>\n",
       "</tr>\n",
       "<tr>\n",
       "  <th>x22</th>   <td>-6.136e+11</td> <td> 1.97e+12</td> <td>   -0.311</td> <td> 0.756</td> <td>-4.48e+12</td> <td> 3.25e+12</td>\n",
       "</tr>\n",
       "<tr>\n",
       "  <th>x23</th>   <td>  -12.5661</td> <td>   10.342</td> <td>   -1.215</td> <td> 0.224</td> <td>  -32.838</td> <td>    7.706</td>\n",
       "</tr>\n",
       "<tr>\n",
       "  <th>x24</th>   <td>   -2.0741</td> <td>    9.500</td> <td>   -0.218</td> <td> 0.827</td> <td>  -20.697</td> <td>   16.549</td>\n",
       "</tr>\n",
       "<tr>\n",
       "  <th>x25</th>   <td> 3.178e+13</td> <td> 1.02e+14</td> <td>    0.311</td> <td> 0.756</td> <td>-1.69e+14</td> <td> 2.32e+14</td>\n",
       "</tr>\n",
       "<tr>\n",
       "  <th>x26</th>   <td> 3.178e+13</td> <td> 1.02e+14</td> <td>    0.311</td> <td> 0.756</td> <td>-1.69e+14</td> <td> 2.32e+14</td>\n",
       "</tr>\n",
       "<tr>\n",
       "  <th>x27</th>   <td> 3.178e+13</td> <td> 1.02e+14</td> <td>    0.311</td> <td> 0.756</td> <td>-1.69e+14</td> <td> 2.32e+14</td>\n",
       "</tr>\n",
       "<tr>\n",
       "  <th>x28</th>   <td> 6.136e+11</td> <td> 1.97e+12</td> <td>    0.311</td> <td> 0.756</td> <td>-3.25e+12</td> <td> 4.48e+12</td>\n",
       "</tr>\n",
       "<tr>\n",
       "  <th>x29</th>   <td> 6.136e+11</td> <td> 1.97e+12</td> <td>    0.311</td> <td> 0.756</td> <td>-3.25e+12</td> <td> 4.48e+12</td>\n",
       "</tr>\n",
       "<tr>\n",
       "  <th>x30</th>   <td> 6.136e+11</td> <td> 1.97e+12</td> <td>    0.311</td> <td> 0.756</td> <td>-3.25e+12</td> <td> 4.48e+12</td>\n",
       "</tr>\n",
       "<tr>\n",
       "  <th>x31</th>   <td>   16.6673</td> <td>    4.059</td> <td>    4.107</td> <td> 0.000</td> <td>    8.711</td> <td>   24.623</td>\n",
       "</tr>\n",
       "<tr>\n",
       "  <th>x32</th>   <td>    7.9451</td> <td>    4.817</td> <td>    1.649</td> <td> 0.099</td> <td>   -1.497</td> <td>   17.387</td>\n",
       "</tr>\n",
       "<tr>\n",
       "  <th>x33</th>   <td>    7.7799</td> <td>    5.677</td> <td>    1.370</td> <td> 0.171</td> <td>   -3.348</td> <td>   18.908</td>\n",
       "</tr>\n",
       "<tr>\n",
       "  <th>x34</th>   <td>   -1.5611</td> <td>    4.038</td> <td>   -0.387</td> <td> 0.699</td> <td>   -9.476</td> <td>    6.354</td>\n",
       "</tr>\n",
       "<tr>\n",
       "  <th>x35</th>   <td>   -0.9664</td> <td>    4.568</td> <td>   -0.212</td> <td> 0.832</td> <td>   -9.921</td> <td>    7.988</td>\n",
       "</tr>\n",
       "<tr>\n",
       "  <th>x36</th>   <td>   -3.3431</td> <td>    4.969</td> <td>   -0.673</td> <td> 0.501</td> <td>  -13.083</td> <td>    6.397</td>\n",
       "</tr>\n",
       "<tr>\n",
       "  <th>x37</th>   <td>   20.6677</td> <td>   20.331</td> <td>    1.017</td> <td> 0.309</td> <td>  -19.188</td> <td>   60.523</td>\n",
       "</tr>\n",
       "<tr>\n",
       "  <th>x38</th>   <td>  -34.5047</td> <td>   20.442</td> <td>   -1.688</td> <td> 0.091</td> <td>  -74.577</td> <td>    5.568</td>\n",
       "</tr>\n",
       "<tr>\n",
       "  <th>x39</th>   <td>  -28.5692</td> <td>    9.375</td> <td>   -3.047</td> <td> 0.002</td> <td>  -46.948</td> <td>  -10.191</td>\n",
       "</tr>\n",
       "<tr>\n",
       "  <th>x40</th>   <td>  -21.9365</td> <td>    7.004</td> <td>   -3.132</td> <td> 0.002</td> <td>  -35.667</td> <td>   -8.206</td>\n",
       "</tr>\n",
       "<tr>\n",
       "  <th>x41</th>   <td>   -4.0341</td> <td>    4.224</td> <td>   -0.955</td> <td> 0.340</td> <td>  -12.314</td> <td>    4.245</td>\n",
       "</tr>\n",
       "<tr>\n",
       "  <th>x42</th>   <td>   -6.0992</td> <td>    5.354</td> <td>   -1.139</td> <td> 0.255</td> <td>  -16.594</td> <td>    4.396</td>\n",
       "</tr>\n",
       "<tr>\n",
       "  <th>x43</th>   <td>   -0.7423</td> <td>    6.252</td> <td>   -0.119</td> <td> 0.905</td> <td>  -12.998</td> <td>   11.513</td>\n",
       "</tr>\n",
       "<tr>\n",
       "  <th>x44</th>   <td>   -0.2687</td> <td>    1.775</td> <td>   -0.151</td> <td> 0.880</td> <td>   -3.748</td> <td>    3.211</td>\n",
       "</tr>\n",
       "<tr>\n",
       "  <th>x45</th>   <td>   -5.6068</td> <td>    1.858</td> <td>   -3.018</td> <td> 0.003</td> <td>   -9.249</td> <td>   -1.965</td>\n",
       "</tr>\n",
       "<tr>\n",
       "  <th>x46</th>   <td>  182.1139</td> <td>    4.723</td> <td>   38.561</td> <td> 0.000</td> <td>  172.856</td> <td>  191.372</td>\n",
       "</tr>\n",
       "<tr>\n",
       "  <th>x47</th>   <td>    3.2008</td> <td>    1.614</td> <td>    1.984</td> <td> 0.047</td> <td>    0.038</td> <td>    6.364</td>\n",
       "</tr>\n",
       "<tr>\n",
       "  <th>x48</th>   <td>   -0.3462</td> <td>    1.626</td> <td>   -0.213</td> <td> 0.831</td> <td>   -3.533</td> <td>    2.840</td>\n",
       "</tr>\n",
       "<tr>\n",
       "  <th>x49</th>   <td>   -2.1387</td> <td>    1.615</td> <td>   -1.324</td> <td> 0.185</td> <td>   -5.304</td> <td>    1.027</td>\n",
       "</tr>\n",
       "<tr>\n",
       "  <th>x50</th>   <td>    1.1300</td> <td>    1.624</td> <td>    0.696</td> <td> 0.486</td> <td>   -2.053</td> <td>    4.313</td>\n",
       "</tr>\n",
       "</table>\n",
       "<table class=\"simpletable\">\n",
       "<tr>\n",
       "  <th>Omnibus:</th>       <td>3306.413</td> <th>  Durbin-Watson:     </th> <td>   2.009</td> \n",
       "</tr>\n",
       "<tr>\n",
       "  <th>Prob(Omnibus):</th>  <td> 0.000</td>  <th>  Jarque-Bera (JB):  </th> <td>41073.574</td>\n",
       "</tr>\n",
       "<tr>\n",
       "  <th>Skew:</th>           <td> 1.781</td>  <th>  Prob(JB):          </th> <td>    0.00</td> \n",
       "</tr>\n",
       "<tr>\n",
       "  <th>Kurtosis:</th>       <td>13.912</td>  <th>  Cond. No.          </th> <td>1.13e+16</td> \n",
       "</tr>\n",
       "</table><br/><br/>Notes:<br/>[1] Standard Errors assume that the covariance matrix of the errors is correctly specified.<br/>[2] The smallest eigenvalue is 2.99e-28. This might indicate that there are<br/>strong multicollinearity problems or that the design matrix is singular."
      ],
      "text/plain": [
       "<class 'statsmodels.iolib.summary.Summary'>\n",
       "\"\"\"\n",
       "                            OLS Regression Results                            \n",
       "==============================================================================\n",
       "Dep. Variable:     total_claim_amount   R-squared:                       0.774\n",
       "Model:                            OLS   Adj. R-squared:                  0.773\n",
       "Method:                 Least Squares   F-statistic:                     531.3\n",
       "Date:                Fri, 03 Feb 2023   Prob (F-statistic):               0.00\n",
       "Time:                        17:12:39   Log-Likelihood:                -47504.\n",
       "No. Observations:                7482   AIC:                         9.511e+04\n",
       "Df Residuals:                    7433   BIC:                         9.544e+04\n",
       "Df Model:                          48                                         \n",
       "Covariance Type:            nonrobust                                         \n",
       "==============================================================================\n",
       "                 coef    std err          t      P>|t|      [0.025      0.975]\n",
       "------------------------------------------------------------------------------\n",
       "const        137.6691     14.656      9.393      0.000     108.939     166.399\n",
       "x1             3.6995      6.167      0.600      0.549      -8.390      15.789\n",
       "x2            -0.4609      4.275     -0.108      0.914      -8.842       7.920\n",
       "x3             3.6221      4.096      0.884      0.377      -4.408      11.652\n",
       "x4           -24.0469      5.212     -4.614      0.000     -34.263     -13.831\n",
       "x5           -14.7625      4.564     -3.235      0.001     -23.708      -5.817\n",
       "x6           -23.3392      8.745     -2.669      0.008     -40.481      -6.197\n",
       "x7            -9.9905      4.174     -2.393      0.017     -18.173      -1.807\n",
       "x8           -20.6117      9.189     -2.243      0.025     -38.625      -2.599\n",
       "x9             6.2334      4.238      1.471      0.141      -2.073      14.540\n",
       "x10          -16.9742      6.471     -2.623      0.009     -29.660      -4.288\n",
       "x11           -2.5505      3.231     -0.789      0.430      -8.885       3.784\n",
       "x12           -5.8444      8.353     -0.700      0.484     -22.219      10.530\n",
       "x13           19.6153     10.724      1.829      0.067      -1.407      40.638\n",
       "x14           -4.8007     12.310     -0.390      0.697     -28.933      19.331\n",
       "x15           85.1925      8.861      9.614      0.000      67.822     102.563\n",
       "x16           17.6337      3.249      5.428      0.000      11.265      24.002\n",
       "x17          377.7687      4.669     80.918      0.000     368.617     386.920\n",
       "x18          219.6835      5.320     41.291      0.000     209.254     230.113\n",
       "x19           -4.1830      4.768     -0.877      0.380     -13.531       5.165\n",
       "x20           62.1603      5.472     11.360      0.000      51.434      72.887\n",
       "x21        -3.178e+13   1.02e+14     -0.311      0.756   -2.32e+14    1.69e+14\n",
       "x22        -6.136e+11   1.97e+12     -0.311      0.756   -4.48e+12    3.25e+12\n",
       "x23          -12.5661     10.342     -1.215      0.224     -32.838       7.706\n",
       "x24           -2.0741      9.500     -0.218      0.827     -20.697      16.549\n",
       "x25         3.178e+13   1.02e+14      0.311      0.756   -1.69e+14    2.32e+14\n",
       "x26         3.178e+13   1.02e+14      0.311      0.756   -1.69e+14    2.32e+14\n",
       "x27         3.178e+13   1.02e+14      0.311      0.756   -1.69e+14    2.32e+14\n",
       "x28         6.136e+11   1.97e+12      0.311      0.756   -3.25e+12    4.48e+12\n",
       "x29         6.136e+11   1.97e+12      0.311      0.756   -3.25e+12    4.48e+12\n",
       "x30         6.136e+11   1.97e+12      0.311      0.756   -3.25e+12    4.48e+12\n",
       "x31           16.6673      4.059      4.107      0.000       8.711      24.623\n",
       "x32            7.9451      4.817      1.649      0.099      -1.497      17.387\n",
       "x33            7.7799      5.677      1.370      0.171      -3.348      18.908\n",
       "x34           -1.5611      4.038     -0.387      0.699      -9.476       6.354\n",
       "x35           -0.9664      4.568     -0.212      0.832      -9.921       7.988\n",
       "x36           -3.3431      4.969     -0.673      0.501     -13.083       6.397\n",
       "x37           20.6677     20.331      1.017      0.309     -19.188      60.523\n",
       "x38          -34.5047     20.442     -1.688      0.091     -74.577       5.568\n",
       "x39          -28.5692      9.375     -3.047      0.002     -46.948     -10.191\n",
       "x40          -21.9365      7.004     -3.132      0.002     -35.667      -8.206\n",
       "x41           -4.0341      4.224     -0.955      0.340     -12.314       4.245\n",
       "x42           -6.0992      5.354     -1.139      0.255     -16.594       4.396\n",
       "x43           -0.7423      6.252     -0.119      0.905     -12.998      11.513\n",
       "x44           -0.2687      1.775     -0.151      0.880      -3.748       3.211\n",
       "x45           -5.6068      1.858     -3.018      0.003      -9.249      -1.965\n",
       "x46          182.1139      4.723     38.561      0.000     172.856     191.372\n",
       "x47            3.2008      1.614      1.984      0.047       0.038       6.364\n",
       "x48           -0.3462      1.626     -0.213      0.831      -3.533       2.840\n",
       "x49           -2.1387      1.615     -1.324      0.185      -5.304       1.027\n",
       "x50            1.1300      1.624      0.696      0.486      -2.053       4.313\n",
       "==============================================================================\n",
       "Omnibus:                     3306.413   Durbin-Watson:                   2.009\n",
       "Prob(Omnibus):                  0.000   Jarque-Bera (JB):            41073.574\n",
       "Skew:                           1.781   Prob(JB):                         0.00\n",
       "Kurtosis:                      13.912   Cond. No.                     1.13e+16\n",
       "==============================================================================\n",
       "\n",
       "Notes:\n",
       "[1] Standard Errors assume that the covariance matrix of the errors is correctly specified.\n",
       "[2] The smallest eigenvalue is 2.99e-28. This might indicate that there are\n",
       "strong multicollinearity problems or that the design matrix is singular.\n",
       "\"\"\""
      ]
     },
     "execution_count": 71,
     "metadata": {},
     "output_type": "execute_result"
    }
   ],
   "source": [
    "x3_train_const = sm.add_constant(x3_train.to_numpy()) # adding a constant\n",
    "\n",
    "model3 = sm.OLS(y3_train, x3_train_const).fit()\n",
    "predictions_train3 = model3.predict(x3_train_const)\n",
    "\n",
    "x3_test_const = sm.add_constant(x3_test) # adding a constant\n",
    "predictions_test3 = model3.predict(x3_test_const)\n",
    "print_model3 = model3.summary()\n",
    "print_model3"
   ]
  },
  {
   "cell_type": "code",
   "execution_count": null,
   "id": "3176e96e",
   "metadata": {},
   "outputs": [],
   "source": []
  }
 ],
 "metadata": {
  "kernelspec": {
   "display_name": "Python 3 (ipykernel)",
   "language": "python",
   "name": "python3"
  },
  "language_info": {
   "codemirror_mode": {
    "name": "ipython",
    "version": 3
   },
   "file_extension": ".py",
   "mimetype": "text/x-python",
   "name": "python",
   "nbconvert_exporter": "python",
   "pygments_lexer": "ipython3",
   "version": "3.9.13"
  }
 },
 "nbformat": 4,
 "nbformat_minor": 5
}
