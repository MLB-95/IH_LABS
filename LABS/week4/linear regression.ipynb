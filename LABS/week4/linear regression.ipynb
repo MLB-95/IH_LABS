{
 "cells": [
  {
   "cell_type": "code",
   "execution_count": 1,
   "id": "db3d7abb",
   "metadata": {},
   "outputs": [],
   "source": [
    "import numpy as np\n",
    "import pandas as pd\n",
    "import matplotlib.pyplot as plt\n",
    "%matplotlib inline\n",
    "import seaborn as sns\n",
    "from sklearn.preprocessing import PowerTransformer, StandardScaler\n",
    "from sklearn.compose import ColumnTransformer\n",
    "from sklearn.linear_model import LinearRegression\n",
    "from sklearn.model_selection import train_test_split\n",
    "\n",
    "import statsmodels.api as sm\n",
    "from sklearn.metrics import r2_score\n",
    "from sklearn.metrics import mean_squared_error as mse\n",
    "from sklearn.metrics import mean_absolute_error as mae\n",
    "pd.options.display.max_rows = 50"
   ]
  },
  {
   "cell_type": "code",
   "execution_count": 2,
   "id": "9e2fcc1a",
   "metadata": {},
   "outputs": [],
   "source": [
    "RAND_STATE = 34 # for reproducible shuffling\n",
    "TT_RATIO = 0.3 # test/train"
   ]
  },
  {
   "cell_type": "code",
   "execution_count": 3,
   "id": "228f630a",
   "metadata": {},
   "outputs": [
    {
     "data": {
      "text/html": [
       "<div>\n",
       "<style scoped>\n",
       "    .dataframe tbody tr th:only-of-type {\n",
       "        vertical-align: middle;\n",
       "    }\n",
       "\n",
       "    .dataframe tbody tr th {\n",
       "        vertical-align: top;\n",
       "    }\n",
       "\n",
       "    .dataframe thead th {\n",
       "        text-align: right;\n",
       "    }\n",
       "</style>\n",
       "<table border=\"1\" class=\"dataframe\">\n",
       "  <thead>\n",
       "    <tr style=\"text-align: right;\">\n",
       "      <th></th>\n",
       "      <th>region</th>\n",
       "      <th>customer_lifetime_value</th>\n",
       "      <th>response</th>\n",
       "      <th>coverage</th>\n",
       "      <th>education</th>\n",
       "      <th>effective_to_date</th>\n",
       "      <th>month</th>\n",
       "      <th>employment_status</th>\n",
       "      <th>gender</th>\n",
       "      <th>income</th>\n",
       "      <th>...</th>\n",
       "      <th>months_since_policy_inception</th>\n",
       "      <th>number_of_open_complaints</th>\n",
       "      <th>number_of_policies</th>\n",
       "      <th>policy_type</th>\n",
       "      <th>policy</th>\n",
       "      <th>renew_offer_type</th>\n",
       "      <th>sales_channel</th>\n",
       "      <th>total_claim_amount</th>\n",
       "      <th>vehicle_class</th>\n",
       "      <th>vehicle_size</th>\n",
       "    </tr>\n",
       "  </thead>\n",
       "  <tbody>\n",
       "    <tr>\n",
       "      <th>0</th>\n",
       "      <td>central</td>\n",
       "      <td>4809</td>\n",
       "      <td>no</td>\n",
       "      <td>basic</td>\n",
       "      <td>college</td>\n",
       "      <td>2/18/11</td>\n",
       "      <td>feb</td>\n",
       "      <td>employed</td>\n",
       "      <td>m</td>\n",
       "      <td>48029</td>\n",
       "      <td>...</td>\n",
       "      <td>52</td>\n",
       "      <td>0</td>\n",
       "      <td>9</td>\n",
       "      <td>corporate auto</td>\n",
       "      <td>corporate l3</td>\n",
       "      <td>offer3</td>\n",
       "      <td>agent</td>\n",
       "      <td>292</td>\n",
       "      <td>four-door car</td>\n",
       "      <td>medsize</td>\n",
       "    </tr>\n",
       "    <tr>\n",
       "      <th>1</th>\n",
       "      <td>west region</td>\n",
       "      <td>2228</td>\n",
       "      <td>no</td>\n",
       "      <td>basic</td>\n",
       "      <td>college</td>\n",
       "      <td>1/18/11</td>\n",
       "      <td>jan</td>\n",
       "      <td>unemployed</td>\n",
       "      <td>f</td>\n",
       "      <td>92260</td>\n",
       "      <td>...</td>\n",
       "      <td>26</td>\n",
       "      <td>0</td>\n",
       "      <td>1</td>\n",
       "      <td>personal auto</td>\n",
       "      <td>personal l3</td>\n",
       "      <td>offer4</td>\n",
       "      <td>call center</td>\n",
       "      <td>744</td>\n",
       "      <td>four-door car</td>\n",
       "      <td>medsize</td>\n",
       "    </tr>\n",
       "    <tr>\n",
       "      <th>2</th>\n",
       "      <td>east</td>\n",
       "      <td>14947</td>\n",
       "      <td>no</td>\n",
       "      <td>basic</td>\n",
       "      <td>bachelor</td>\n",
       "      <td>2/10/11</td>\n",
       "      <td>feb</td>\n",
       "      <td>employed</td>\n",
       "      <td>m</td>\n",
       "      <td>22139</td>\n",
       "      <td>...</td>\n",
       "      <td>31</td>\n",
       "      <td>0</td>\n",
       "      <td>2</td>\n",
       "      <td>personal auto</td>\n",
       "      <td>personal l3</td>\n",
       "      <td>offer3</td>\n",
       "      <td>call center</td>\n",
       "      <td>480</td>\n",
       "      <td>suv</td>\n",
       "      <td>medsize</td>\n",
       "    </tr>\n",
       "    <tr>\n",
       "      <th>3</th>\n",
       "      <td>north west</td>\n",
       "      <td>22332</td>\n",
       "      <td>yes</td>\n",
       "      <td>extended</td>\n",
       "      <td>college</td>\n",
       "      <td>1/11/11</td>\n",
       "      <td>jan</td>\n",
       "      <td>employed</td>\n",
       "      <td>m</td>\n",
       "      <td>49078</td>\n",
       "      <td>...</td>\n",
       "      <td>3</td>\n",
       "      <td>0</td>\n",
       "      <td>2</td>\n",
       "      <td>corporate auto</td>\n",
       "      <td>corporate l3</td>\n",
       "      <td>offer2</td>\n",
       "      <td>branch</td>\n",
       "      <td>484</td>\n",
       "      <td>four-door car</td>\n",
       "      <td>medsize</td>\n",
       "    </tr>\n",
       "    <tr>\n",
       "      <th>4</th>\n",
       "      <td>north west</td>\n",
       "      <td>9025</td>\n",
       "      <td>no</td>\n",
       "      <td>premium</td>\n",
       "      <td>bachelor</td>\n",
       "      <td>1/17/11</td>\n",
       "      <td>jan</td>\n",
       "      <td>medical leave</td>\n",
       "      <td>f</td>\n",
       "      <td>23675</td>\n",
       "      <td>...</td>\n",
       "      <td>31</td>\n",
       "      <td>0</td>\n",
       "      <td>7</td>\n",
       "      <td>personal auto</td>\n",
       "      <td>personal l2</td>\n",
       "      <td>offer1</td>\n",
       "      <td>branch</td>\n",
       "      <td>707</td>\n",
       "      <td>four-door car</td>\n",
       "      <td>medsize</td>\n",
       "    </tr>\n",
       "    <tr>\n",
       "      <th>...</th>\n",
       "      <td>...</td>\n",
       "      <td>...</td>\n",
       "      <td>...</td>\n",
       "      <td>...</td>\n",
       "      <td>...</td>\n",
       "      <td>...</td>\n",
       "      <td>...</td>\n",
       "      <td>...</td>\n",
       "      <td>...</td>\n",
       "      <td>...</td>\n",
       "      <td>...</td>\n",
       "      <td>...</td>\n",
       "      <td>...</td>\n",
       "      <td>...</td>\n",
       "      <td>...</td>\n",
       "      <td>...</td>\n",
       "      <td>...</td>\n",
       "      <td>...</td>\n",
       "      <td>...</td>\n",
       "      <td>...</td>\n",
       "      <td>...</td>\n",
       "    </tr>\n",
       "    <tr>\n",
       "      <th>10684</th>\n",
       "      <td>central</td>\n",
       "      <td>15563</td>\n",
       "      <td>no</td>\n",
       "      <td>premium</td>\n",
       "      <td>bachelor</td>\n",
       "      <td>1/19/11</td>\n",
       "      <td>jan</td>\n",
       "      <td>unemployed</td>\n",
       "      <td>f</td>\n",
       "      <td>61541</td>\n",
       "      <td>...</td>\n",
       "      <td>40</td>\n",
       "      <td>0</td>\n",
       "      <td>7</td>\n",
       "      <td>personal auto</td>\n",
       "      <td>personal l1</td>\n",
       "      <td>offer3</td>\n",
       "      <td>web</td>\n",
       "      <td>1214</td>\n",
       "      <td>luxury car</td>\n",
       "      <td>medsize</td>\n",
       "    </tr>\n",
       "    <tr>\n",
       "      <th>10685</th>\n",
       "      <td>north west</td>\n",
       "      <td>5259</td>\n",
       "      <td>no</td>\n",
       "      <td>basic</td>\n",
       "      <td>college</td>\n",
       "      <td>1/6/11</td>\n",
       "      <td>jan</td>\n",
       "      <td>employed</td>\n",
       "      <td>f</td>\n",
       "      <td>61146</td>\n",
       "      <td>...</td>\n",
       "      <td>68</td>\n",
       "      <td>0</td>\n",
       "      <td>6</td>\n",
       "      <td>personal auto</td>\n",
       "      <td>personal l3</td>\n",
       "      <td>offer2</td>\n",
       "      <td>branch</td>\n",
       "      <td>273</td>\n",
       "      <td>four-door car</td>\n",
       "      <td>medsize</td>\n",
       "    </tr>\n",
       "    <tr>\n",
       "      <th>10686</th>\n",
       "      <td>central</td>\n",
       "      <td>23893</td>\n",
       "      <td>no</td>\n",
       "      <td>extended</td>\n",
       "      <td>bachelor</td>\n",
       "      <td>2/6/11</td>\n",
       "      <td>feb</td>\n",
       "      <td>employed</td>\n",
       "      <td>f</td>\n",
       "      <td>39837</td>\n",
       "      <td>...</td>\n",
       "      <td>63</td>\n",
       "      <td>0</td>\n",
       "      <td>2</td>\n",
       "      <td>corporate auto</td>\n",
       "      <td>corporate l3</td>\n",
       "      <td>offer1</td>\n",
       "      <td>web</td>\n",
       "      <td>381</td>\n",
       "      <td>luxury suv</td>\n",
       "      <td>medsize</td>\n",
       "    </tr>\n",
       "    <tr>\n",
       "      <th>10687</th>\n",
       "      <td>west region</td>\n",
       "      <td>11971</td>\n",
       "      <td>no</td>\n",
       "      <td>premium</td>\n",
       "      <td>college</td>\n",
       "      <td>2/13/11</td>\n",
       "      <td>feb</td>\n",
       "      <td>employed</td>\n",
       "      <td>f</td>\n",
       "      <td>64195</td>\n",
       "      <td>...</td>\n",
       "      <td>27</td>\n",
       "      <td>4</td>\n",
       "      <td>6</td>\n",
       "      <td>personal auto</td>\n",
       "      <td>personal l1</td>\n",
       "      <td>offer1</td>\n",
       "      <td>branch</td>\n",
       "      <td>618</td>\n",
       "      <td>suv</td>\n",
       "      <td>medsize</td>\n",
       "    </tr>\n",
       "    <tr>\n",
       "      <th>10688</th>\n",
       "      <td>central</td>\n",
       "      <td>6857</td>\n",
       "      <td>no</td>\n",
       "      <td>basic</td>\n",
       "      <td>bachelor</td>\n",
       "      <td>1/8/11</td>\n",
       "      <td>jan</td>\n",
       "      <td>unemployed</td>\n",
       "      <td>m</td>\n",
       "      <td>68942</td>\n",
       "      <td>...</td>\n",
       "      <td>1</td>\n",
       "      <td>0</td>\n",
       "      <td>3</td>\n",
       "      <td>personal auto</td>\n",
       "      <td>personal l1</td>\n",
       "      <td>offer4</td>\n",
       "      <td>web</td>\n",
       "      <td>1021</td>\n",
       "      <td>suv</td>\n",
       "      <td>medsize</td>\n",
       "    </tr>\n",
       "  </tbody>\n",
       "</table>\n",
       "<p>10689 rows × 24 columns</p>\n",
       "</div>"
      ],
      "text/plain": [
       "            region  customer_lifetime_value response  coverage education  \\\n",
       "0          central                     4809       no     basic   college   \n",
       "1      west region                     2228       no     basic   college   \n",
       "2             east                    14947       no     basic  bachelor   \n",
       "3       north west                    22332      yes  extended   college   \n",
       "4       north west                     9025       no   premium  bachelor   \n",
       "...            ...                      ...      ...       ...       ...   \n",
       "10684      central                    15563       no   premium  bachelor   \n",
       "10685   north west                     5259       no     basic   college   \n",
       "10686      central                    23893       no  extended  bachelor   \n",
       "10687  west region                    11971       no   premium   college   \n",
       "10688      central                     6857       no     basic  bachelor   \n",
       "\n",
       "      effective_to_date month employment_status gender  income  ...  \\\n",
       "0               2/18/11   feb          employed      m   48029  ...   \n",
       "1               1/18/11   jan        unemployed      f   92260  ...   \n",
       "2               2/10/11   feb          employed      m   22139  ...   \n",
       "3               1/11/11   jan          employed      m   49078  ...   \n",
       "4               1/17/11   jan     medical leave      f   23675  ...   \n",
       "...                 ...   ...               ...    ...     ...  ...   \n",
       "10684           1/19/11   jan        unemployed      f   61541  ...   \n",
       "10685            1/6/11   jan          employed      f   61146  ...   \n",
       "10686            2/6/11   feb          employed      f   39837  ...   \n",
       "10687           2/13/11   feb          employed      f   64195  ...   \n",
       "10688            1/8/11   jan        unemployed      m   68942  ...   \n",
       "\n",
       "      months_since_policy_inception number_of_open_complaints  \\\n",
       "0                                52                         0   \n",
       "1                                26                         0   \n",
       "2                                31                         0   \n",
       "3                                 3                         0   \n",
       "4                                31                         0   \n",
       "...                             ...                       ...   \n",
       "10684                            40                         0   \n",
       "10685                            68                         0   \n",
       "10686                            63                         0   \n",
       "10687                            27                         4   \n",
       "10688                             1                         0   \n",
       "\n",
       "       number_of_policies     policy_type        policy  renew_offer_type  \\\n",
       "0                       9  corporate auto  corporate l3            offer3   \n",
       "1                       1   personal auto   personal l3            offer4   \n",
       "2                       2   personal auto   personal l3            offer3   \n",
       "3                       2  corporate auto  corporate l3            offer2   \n",
       "4                       7   personal auto   personal l2            offer1   \n",
       "...                   ...             ...           ...               ...   \n",
       "10684                   7   personal auto   personal l1            offer3   \n",
       "10685                   6   personal auto   personal l3            offer2   \n",
       "10686                   2  corporate auto  corporate l3            offer1   \n",
       "10687                   6   personal auto   personal l1            offer1   \n",
       "10688                   3   personal auto   personal l1            offer4   \n",
       "\n",
       "       sales_channel total_claim_amount  vehicle_class vehicle_size  \n",
       "0              agent                292  four-door car      medsize  \n",
       "1        call center                744  four-door car      medsize  \n",
       "2        call center                480            suv      medsize  \n",
       "3             branch                484  four-door car      medsize  \n",
       "4             branch                707  four-door car      medsize  \n",
       "...              ...                ...            ...          ...  \n",
       "10684            web               1214     luxury car      medsize  \n",
       "10685         branch                273  four-door car      medsize  \n",
       "10686            web                381     luxury suv      medsize  \n",
       "10687         branch                618            suv      medsize  \n",
       "10688            web               1021            suv      medsize  \n",
       "\n",
       "[10689 rows x 24 columns]"
      ]
     },
     "execution_count": 3,
     "metadata": {},
     "output_type": "execute_result"
    }
   ],
   "source": [
    "cust_an = pd.read_csv(\"Data_Marketing_Customer_Analysis_Round3.csv\")\n",
    "cust_an"
   ]
  },
  {
   "cell_type": "code",
   "execution_count": 4,
   "id": "8785feaf",
   "metadata": {},
   "outputs": [],
   "source": [
    "numericalx = cust_an.select_dtypes(np.number)\n",
    "categoricalx = cust_an.select_dtypes(object)"
   ]
  },
  {
   "cell_type": "markdown",
   "id": "298ad425",
   "metadata": {},
   "source": [
    "####  X-y split (y is the target variable, which is the total claim amount)\n"
   ]
  },
  {
   "cell_type": "code",
   "execution_count": 5,
   "id": "6bd77870",
   "metadata": {},
   "outputs": [],
   "source": [
    "x = numericalx.drop('total_claim_amount', axis=1)\n",
    "y = numericalx.total_claim_amount"
   ]
  },
  {
   "cell_type": "code",
   "execution_count": 6,
   "id": "58f62ba6",
   "metadata": {},
   "outputs": [
    {
     "data": {
      "text/html": [
       "<div>\n",
       "<style scoped>\n",
       "    .dataframe tbody tr th:only-of-type {\n",
       "        vertical-align: middle;\n",
       "    }\n",
       "\n",
       "    .dataframe tbody tr th {\n",
       "        vertical-align: top;\n",
       "    }\n",
       "\n",
       "    .dataframe thead th {\n",
       "        text-align: right;\n",
       "    }\n",
       "</style>\n",
       "<table border=\"1\" class=\"dataframe\">\n",
       "  <thead>\n",
       "    <tr style=\"text-align: right;\">\n",
       "      <th></th>\n",
       "      <th>customer_lifetime_value</th>\n",
       "      <th>income</th>\n",
       "      <th>monthly_premium_auto</th>\n",
       "      <th>months_since_last_claim</th>\n",
       "      <th>months_since_policy_inception</th>\n",
       "      <th>number_of_open_complaints</th>\n",
       "      <th>number_of_policies</th>\n",
       "    </tr>\n",
       "  </thead>\n",
       "  <tbody>\n",
       "    <tr>\n",
       "      <th>0</th>\n",
       "      <td>4809</td>\n",
       "      <td>48029</td>\n",
       "      <td>61</td>\n",
       "      <td>7</td>\n",
       "      <td>52</td>\n",
       "      <td>0</td>\n",
       "      <td>9</td>\n",
       "    </tr>\n",
       "    <tr>\n",
       "      <th>1</th>\n",
       "      <td>2228</td>\n",
       "      <td>92260</td>\n",
       "      <td>64</td>\n",
       "      <td>3</td>\n",
       "      <td>26</td>\n",
       "      <td>0</td>\n",
       "      <td>1</td>\n",
       "    </tr>\n",
       "    <tr>\n",
       "      <th>2</th>\n",
       "      <td>14947</td>\n",
       "      <td>22139</td>\n",
       "      <td>100</td>\n",
       "      <td>34</td>\n",
       "      <td>31</td>\n",
       "      <td>0</td>\n",
       "      <td>2</td>\n",
       "    </tr>\n",
       "    <tr>\n",
       "      <th>3</th>\n",
       "      <td>22332</td>\n",
       "      <td>49078</td>\n",
       "      <td>97</td>\n",
       "      <td>10</td>\n",
       "      <td>3</td>\n",
       "      <td>0</td>\n",
       "      <td>2</td>\n",
       "    </tr>\n",
       "    <tr>\n",
       "      <th>4</th>\n",
       "      <td>9025</td>\n",
       "      <td>23675</td>\n",
       "      <td>117</td>\n",
       "      <td>33</td>\n",
       "      <td>31</td>\n",
       "      <td>0</td>\n",
       "      <td>7</td>\n",
       "    </tr>\n",
       "    <tr>\n",
       "      <th>...</th>\n",
       "      <td>...</td>\n",
       "      <td>...</td>\n",
       "      <td>...</td>\n",
       "      <td>...</td>\n",
       "      <td>...</td>\n",
       "      <td>...</td>\n",
       "      <td>...</td>\n",
       "    </tr>\n",
       "    <tr>\n",
       "      <th>10684</th>\n",
       "      <td>15563</td>\n",
       "      <td>61541</td>\n",
       "      <td>253</td>\n",
       "      <td>12</td>\n",
       "      <td>40</td>\n",
       "      <td>0</td>\n",
       "      <td>7</td>\n",
       "    </tr>\n",
       "    <tr>\n",
       "      <th>10685</th>\n",
       "      <td>5259</td>\n",
       "      <td>61146</td>\n",
       "      <td>65</td>\n",
       "      <td>7</td>\n",
       "      <td>68</td>\n",
       "      <td>0</td>\n",
       "      <td>6</td>\n",
       "    </tr>\n",
       "    <tr>\n",
       "      <th>10686</th>\n",
       "      <td>23893</td>\n",
       "      <td>39837</td>\n",
       "      <td>201</td>\n",
       "      <td>11</td>\n",
       "      <td>63</td>\n",
       "      <td>0</td>\n",
       "      <td>2</td>\n",
       "    </tr>\n",
       "    <tr>\n",
       "      <th>10687</th>\n",
       "      <td>11971</td>\n",
       "      <td>64195</td>\n",
       "      <td>158</td>\n",
       "      <td>0</td>\n",
       "      <td>27</td>\n",
       "      <td>4</td>\n",
       "      <td>6</td>\n",
       "    </tr>\n",
       "    <tr>\n",
       "      <th>10688</th>\n",
       "      <td>6857</td>\n",
       "      <td>68942</td>\n",
       "      <td>101</td>\n",
       "      <td>31</td>\n",
       "      <td>1</td>\n",
       "      <td>0</td>\n",
       "      <td>3</td>\n",
       "    </tr>\n",
       "  </tbody>\n",
       "</table>\n",
       "<p>10689 rows × 7 columns</p>\n",
       "</div>"
      ],
      "text/plain": [
       "       customer_lifetime_value  income  monthly_premium_auto  \\\n",
       "0                         4809   48029                    61   \n",
       "1                         2228   92260                    64   \n",
       "2                        14947   22139                   100   \n",
       "3                        22332   49078                    97   \n",
       "4                         9025   23675                   117   \n",
       "...                        ...     ...                   ...   \n",
       "10684                    15563   61541                   253   \n",
       "10685                     5259   61146                    65   \n",
       "10686                    23893   39837                   201   \n",
       "10687                    11971   64195                   158   \n",
       "10688                     6857   68942                   101   \n",
       "\n",
       "       months_since_last_claim  months_since_policy_inception  \\\n",
       "0                            7                             52   \n",
       "1                            3                             26   \n",
       "2                           34                             31   \n",
       "3                           10                              3   \n",
       "4                           33                             31   \n",
       "...                        ...                            ...   \n",
       "10684                       12                             40   \n",
       "10685                        7                             68   \n",
       "10686                       11                             63   \n",
       "10687                        0                             27   \n",
       "10688                       31                              1   \n",
       "\n",
       "       number_of_open_complaints  number_of_policies  \n",
       "0                              0                   9  \n",
       "1                              0                   1  \n",
       "2                              0                   2  \n",
       "3                              0                   2  \n",
       "4                              0                   7  \n",
       "...                          ...                 ...  \n",
       "10684                          0                   7  \n",
       "10685                          0                   6  \n",
       "10686                          0                   2  \n",
       "10687                          4                   6  \n",
       "10688                          0                   3  \n",
       "\n",
       "[10689 rows x 7 columns]"
      ]
     },
     "execution_count": 6,
     "metadata": {},
     "output_type": "execute_result"
    }
   ],
   "source": [
    "x"
   ]
  },
  {
   "cell_type": "code",
   "execution_count": 7,
   "id": "d00f6f55",
   "metadata": {},
   "outputs": [
    {
     "data": {
      "text/plain": [
       "0         292\n",
       "1         744\n",
       "2         480\n",
       "3         484\n",
       "4         707\n",
       "         ... \n",
       "10684    1214\n",
       "10685     273\n",
       "10686     381\n",
       "10687     618\n",
       "10688    1021\n",
       "Name: total_claim_amount, Length: 10689, dtype: int64"
      ]
     },
     "execution_count": 7,
     "metadata": {},
     "output_type": "execute_result"
    }
   ],
   "source": [
    "y"
   ]
  },
  {
   "cell_type": "markdown",
   "id": "23b5d09b",
   "metadata": {},
   "source": [
    "#### Train-test split.\n"
   ]
  },
  {
   "cell_type": "code",
   "execution_count": 8,
   "id": "83e3a007",
   "metadata": {},
   "outputs": [
    {
     "data": {
      "text/plain": [
       "customer_lifetime_value          False\n",
       "income                           False\n",
       "monthly_premium_auto             False\n",
       "months_since_last_claim          False\n",
       "months_since_policy_inception    False\n",
       "number_of_open_complaints        False\n",
       "number_of_policies               False\n",
       "dtype: bool"
      ]
     },
     "execution_count": 8,
     "metadata": {},
     "output_type": "execute_result"
    }
   ],
   "source": [
    "x.isna().any()"
   ]
  },
  {
   "cell_type": "code",
   "execution_count": 9,
   "id": "dd6dfc22",
   "metadata": {
    "scrolled": true
   },
   "outputs": [
    {
     "data": {
      "text/html": [
       "<div>\n",
       "<style scoped>\n",
       "    .dataframe tbody tr th:only-of-type {\n",
       "        vertical-align: middle;\n",
       "    }\n",
       "\n",
       "    .dataframe tbody tr th {\n",
       "        vertical-align: top;\n",
       "    }\n",
       "\n",
       "    .dataframe thead th {\n",
       "        text-align: right;\n",
       "    }\n",
       "</style>\n",
       "<table border=\"1\" class=\"dataframe\">\n",
       "  <thead>\n",
       "    <tr style=\"text-align: right;\">\n",
       "      <th></th>\n",
       "      <th>customer_lifetime_value</th>\n",
       "      <th>income</th>\n",
       "      <th>monthly_premium_auto</th>\n",
       "      <th>months_since_last_claim</th>\n",
       "      <th>months_since_policy_inception</th>\n",
       "      <th>number_of_open_complaints</th>\n",
       "      <th>number_of_policies</th>\n",
       "    </tr>\n",
       "  </thead>\n",
       "  <tbody>\n",
       "    <tr>\n",
       "      <th>count</th>\n",
       "      <td>7482.000000</td>\n",
       "      <td>7482.000000</td>\n",
       "      <td>7482.000000</td>\n",
       "      <td>7482.000000</td>\n",
       "      <td>7482.000000</td>\n",
       "      <td>7482.000000</td>\n",
       "      <td>7482.000000</td>\n",
       "    </tr>\n",
       "    <tr>\n",
       "      <th>mean</th>\n",
       "      <td>8025.418872</td>\n",
       "      <td>51950.402165</td>\n",
       "      <td>93.312216</td>\n",
       "      <td>15.098637</td>\n",
       "      <td>47.857124</td>\n",
       "      <td>0.371558</td>\n",
       "      <td>2.987437</td>\n",
       "    </tr>\n",
       "    <tr>\n",
       "      <th>std</th>\n",
       "      <td>6990.063435</td>\n",
       "      <td>24807.850658</td>\n",
       "      <td>34.164711</td>\n",
       "      <td>10.083326</td>\n",
       "      <td>27.966835</td>\n",
       "      <td>0.890703</td>\n",
       "      <td>2.415773</td>\n",
       "    </tr>\n",
       "    <tr>\n",
       "      <th>min</th>\n",
       "      <td>1898.000000</td>\n",
       "      <td>10037.000000</td>\n",
       "      <td>61.000000</td>\n",
       "      <td>0.000000</td>\n",
       "      <td>0.000000</td>\n",
       "      <td>0.000000</td>\n",
       "      <td>1.000000</td>\n",
       "    </tr>\n",
       "    <tr>\n",
       "      <th>25%</th>\n",
       "      <td>3979.250000</td>\n",
       "      <td>29479.500000</td>\n",
       "      <td>69.000000</td>\n",
       "      <td>6.000000</td>\n",
       "      <td>24.000000</td>\n",
       "      <td>0.000000</td>\n",
       "      <td>1.000000</td>\n",
       "    </tr>\n",
       "    <tr>\n",
       "      <th>50%</th>\n",
       "      <td>5799.000000</td>\n",
       "      <td>50603.000000</td>\n",
       "      <td>83.000000</td>\n",
       "      <td>14.000000</td>\n",
       "      <td>48.000000</td>\n",
       "      <td>0.000000</td>\n",
       "      <td>2.000000</td>\n",
       "    </tr>\n",
       "    <tr>\n",
       "      <th>75%</th>\n",
       "      <td>8936.750000</td>\n",
       "      <td>72332.500000</td>\n",
       "      <td>109.000000</td>\n",
       "      <td>23.000000</td>\n",
       "      <td>71.000000</td>\n",
       "      <td>0.000000</td>\n",
       "      <td>4.000000</td>\n",
       "    </tr>\n",
       "    <tr>\n",
       "      <th>max</th>\n",
       "      <td>83325.000000</td>\n",
       "      <td>99981.000000</td>\n",
       "      <td>298.000000</td>\n",
       "      <td>35.000000</td>\n",
       "      <td>99.000000</td>\n",
       "      <td>5.000000</td>\n",
       "      <td>9.000000</td>\n",
       "    </tr>\n",
       "  </tbody>\n",
       "</table>\n",
       "</div>"
      ],
      "text/plain": [
       "       customer_lifetime_value        income  monthly_premium_auto  \\\n",
       "count              7482.000000   7482.000000           7482.000000   \n",
       "mean               8025.418872  51950.402165             93.312216   \n",
       "std                6990.063435  24807.850658             34.164711   \n",
       "min                1898.000000  10037.000000             61.000000   \n",
       "25%                3979.250000  29479.500000             69.000000   \n",
       "50%                5799.000000  50603.000000             83.000000   \n",
       "75%                8936.750000  72332.500000            109.000000   \n",
       "max               83325.000000  99981.000000            298.000000   \n",
       "\n",
       "       months_since_last_claim  months_since_policy_inception  \\\n",
       "count              7482.000000                    7482.000000   \n",
       "mean                 15.098637                      47.857124   \n",
       "std                  10.083326                      27.966835   \n",
       "min                   0.000000                       0.000000   \n",
       "25%                   6.000000                      24.000000   \n",
       "50%                  14.000000                      48.000000   \n",
       "75%                  23.000000                      71.000000   \n",
       "max                  35.000000                      99.000000   \n",
       "\n",
       "       number_of_open_complaints  number_of_policies  \n",
       "count                7482.000000         7482.000000  \n",
       "mean                    0.371558            2.987437  \n",
       "std                     0.890703            2.415773  \n",
       "min                     0.000000            1.000000  \n",
       "25%                     0.000000            1.000000  \n",
       "50%                     0.000000            2.000000  \n",
       "75%                     0.000000            4.000000  \n",
       "max                     5.000000            9.000000  "
      ]
     },
     "execution_count": 9,
     "metadata": {},
     "output_type": "execute_result"
    }
   ],
   "source": [
    "# test-train split\n",
    "x_train, x_test, y_train, y_test = train_test_split(x, y, test_size=TT_RATIO, random_state=RAND_STATE)\n",
    "x_train = pd.DataFrame(x_train)\n",
    "x_test = pd.DataFrame(x_test)\n",
    "x_train.describe()"
   ]
  },
  {
   "cell_type": "markdown",
   "id": "551acee1",
   "metadata": {},
   "source": [
    "#### Standardize the data (after the data split).\n"
   ]
  },
  {
   "cell_type": "code",
   "execution_count": 10,
   "id": "5c1d4e71",
   "metadata": {
    "scrolled": true
   },
   "outputs": [
    {
     "data": {
      "text/plain": [
       "2705     236\n",
       "2209     511\n",
       "4004     478\n",
       "1898     768\n",
       "10016    450\n",
       "        ... \n",
       "5667     712\n",
       "324      806\n",
       "3157      35\n",
       "5993     422\n",
       "5242     552\n",
       "Name: total_claim_amount, Length: 7482, dtype: int64"
      ]
     },
     "execution_count": 10,
     "metadata": {},
     "output_type": "execute_result"
    }
   ],
   "source": [
    "y_train"
   ]
  },
  {
   "cell_type": "code",
   "execution_count": 11,
   "id": "2793d012",
   "metadata": {},
   "outputs": [
    {
     "data": {
      "text/plain": [
       "5613    542\n",
       "9585     60\n",
       "2042    303\n",
       "7819    552\n",
       "8261    345\n",
       "       ... \n",
       "8764    209\n",
       "7120    355\n",
       "6782     60\n",
       "1687     93\n",
       "11      199\n",
       "Name: total_claim_amount, Length: 3207, dtype: int64"
      ]
     },
     "execution_count": 11,
     "metadata": {},
     "output_type": "execute_result"
    }
   ],
   "source": [
    "y_test"
   ]
  },
  {
   "cell_type": "code",
   "execution_count": 12,
   "id": "34ee7787",
   "metadata": {},
   "outputs": [],
   "source": [
    "sts = StandardScaler()"
   ]
  },
  {
   "cell_type": "code",
   "execution_count": 13,
   "id": "3ea62ba0",
   "metadata": {},
   "outputs": [],
   "source": [
    "x_train_standarized = sts.fit_transform(x_train)\n",
    "x_test_standarized = sts.transform(x_test)"
   ]
  },
  {
   "cell_type": "code",
   "execution_count": 14,
   "id": "cd32f832",
   "metadata": {},
   "outputs": [],
   "source": [
    "x_train_standarized = pd.DataFrame(x_train_standarized)"
   ]
  },
  {
   "cell_type": "code",
   "execution_count": 15,
   "id": "5e4135a2",
   "metadata": {},
   "outputs": [
    {
     "data": {
      "text/html": [
       "<div>\n",
       "<style scoped>\n",
       "    .dataframe tbody tr th:only-of-type {\n",
       "        vertical-align: middle;\n",
       "    }\n",
       "\n",
       "    .dataframe tbody tr th {\n",
       "        vertical-align: top;\n",
       "    }\n",
       "\n",
       "    .dataframe thead th {\n",
       "        text-align: right;\n",
       "    }\n",
       "</style>\n",
       "<table border=\"1\" class=\"dataframe\">\n",
       "  <thead>\n",
       "    <tr style=\"text-align: right;\">\n",
       "      <th></th>\n",
       "      <th>0</th>\n",
       "      <th>1</th>\n",
       "      <th>2</th>\n",
       "      <th>3</th>\n",
       "      <th>4</th>\n",
       "      <th>5</th>\n",
       "      <th>6</th>\n",
       "    </tr>\n",
       "  </thead>\n",
       "  <tbody>\n",
       "    <tr>\n",
       "      <th>count</th>\n",
       "      <td>7.482000e+03</td>\n",
       "      <td>7.482000e+03</td>\n",
       "      <td>7.482000e+03</td>\n",
       "      <td>7.482000e+03</td>\n",
       "      <td>7.482000e+03</td>\n",
       "      <td>7.482000e+03</td>\n",
       "      <td>7.482000e+03</td>\n",
       "    </tr>\n",
       "    <tr>\n",
       "      <th>mean</th>\n",
       "      <td>-1.221494e-17</td>\n",
       "      <td>-3.024104e-17</td>\n",
       "      <td>-8.066997e-16</td>\n",
       "      <td>1.619261e-17</td>\n",
       "      <td>-7.799161e-17</td>\n",
       "      <td>-2.546153e-16</td>\n",
       "      <td>1.649086e-16</td>\n",
       "    </tr>\n",
       "    <tr>\n",
       "      <th>std</th>\n",
       "      <td>1.000067e+00</td>\n",
       "      <td>1.000067e+00</td>\n",
       "      <td>1.000067e+00</td>\n",
       "      <td>1.000067e+00</td>\n",
       "      <td>1.000067e+00</td>\n",
       "      <td>1.000067e+00</td>\n",
       "      <td>1.000067e+00</td>\n",
       "    </tr>\n",
       "    <tr>\n",
       "      <th>min</th>\n",
       "      <td>-8.766485e-01</td>\n",
       "      <td>-1.689635e+00</td>\n",
       "      <td>-9.458407e-01</td>\n",
       "      <td>-1.497487e+00</td>\n",
       "      <td>-1.711324e+00</td>\n",
       "      <td>-4.171796e-01</td>\n",
       "      <td>-8.227467e-01</td>\n",
       "    </tr>\n",
       "    <tr>\n",
       "      <th>25%</th>\n",
       "      <td>-5.788845e-01</td>\n",
       "      <td>-9.058586e-01</td>\n",
       "      <td>-7.116653e-01</td>\n",
       "      <td>-9.024051e-01</td>\n",
       "      <td>-8.531076e-01</td>\n",
       "      <td>-4.171796e-01</td>\n",
       "      <td>-8.227467e-01</td>\n",
       "    </tr>\n",
       "    <tr>\n",
       "      <th>50%</th>\n",
       "      <td>-3.185333e-01</td>\n",
       "      <td>-5.431717e-02</td>\n",
       "      <td>-3.018584e-01</td>\n",
       "      <td>-1.089631e-01</td>\n",
       "      <td>5.109115e-03</td>\n",
       "      <td>-4.171796e-01</td>\n",
       "      <td>-4.087728e-01</td>\n",
       "    </tr>\n",
       "    <tr>\n",
       "      <th>75%</th>\n",
       "      <td>1.303839e-01</td>\n",
       "      <td>8.216536e-01</td>\n",
       "      <td>4.592116e-01</td>\n",
       "      <td>7.836592e-01</td>\n",
       "      <td>8.275668e-01</td>\n",
       "      <td>-4.171796e-01</td>\n",
       "      <td>4.191748e-01</td>\n",
       "    </tr>\n",
       "    <tr>\n",
       "      <th>max</th>\n",
       "      <td>1.077309e+01</td>\n",
       "      <td>1.936234e+00</td>\n",
       "      <td>5.991605e+00</td>\n",
       "      <td>1.973822e+00</td>\n",
       "      <td>1.828820e+00</td>\n",
       "      <td>5.196738e+00</td>\n",
       "      <td>2.489044e+00</td>\n",
       "    </tr>\n",
       "  </tbody>\n",
       "</table>\n",
       "</div>"
      ],
      "text/plain": [
       "                  0             1             2             3             4  \\\n",
       "count  7.482000e+03  7.482000e+03  7.482000e+03  7.482000e+03  7.482000e+03   \n",
       "mean  -1.221494e-17 -3.024104e-17 -8.066997e-16  1.619261e-17 -7.799161e-17   \n",
       "std    1.000067e+00  1.000067e+00  1.000067e+00  1.000067e+00  1.000067e+00   \n",
       "min   -8.766485e-01 -1.689635e+00 -9.458407e-01 -1.497487e+00 -1.711324e+00   \n",
       "25%   -5.788845e-01 -9.058586e-01 -7.116653e-01 -9.024051e-01 -8.531076e-01   \n",
       "50%   -3.185333e-01 -5.431717e-02 -3.018584e-01 -1.089631e-01  5.109115e-03   \n",
       "75%    1.303839e-01  8.216536e-01  4.592116e-01  7.836592e-01  8.275668e-01   \n",
       "max    1.077309e+01  1.936234e+00  5.991605e+00  1.973822e+00  1.828820e+00   \n",
       "\n",
       "                  5             6  \n",
       "count  7.482000e+03  7.482000e+03  \n",
       "mean  -2.546153e-16  1.649086e-16  \n",
       "std    1.000067e+00  1.000067e+00  \n",
       "min   -4.171796e-01 -8.227467e-01  \n",
       "25%   -4.171796e-01 -8.227467e-01  \n",
       "50%   -4.171796e-01 -4.087728e-01  \n",
       "75%   -4.171796e-01  4.191748e-01  \n",
       "max    5.196738e+00  2.489044e+00  "
      ]
     },
     "execution_count": 15,
     "metadata": {},
     "output_type": "execute_result"
    }
   ],
   "source": [
    "x_train_standarized.describe()"
   ]
  },
  {
   "cell_type": "code",
   "execution_count": 16,
   "id": "9c895e03",
   "metadata": {},
   "outputs": [
    {
     "data": {
      "text/plain": [
       "0   -1.221494e-17\n",
       "1   -3.024104e-17\n",
       "2   -8.066997e-16\n",
       "3    1.619261e-17\n",
       "4   -7.799161e-17\n",
       "5   -2.546153e-16\n",
       "6    1.649086e-16\n",
       "dtype: float64"
      ]
     },
     "execution_count": 16,
     "metadata": {},
     "output_type": "execute_result"
    }
   ],
   "source": [
    "x_train_standarized.mean()"
   ]
  },
  {
   "cell_type": "code",
   "execution_count": 17,
   "id": "6e0b969c",
   "metadata": {},
   "outputs": [
    {
     "data": {
      "text/plain": [
       "0    1.000067\n",
       "1    1.000067\n",
       "2    1.000067\n",
       "3    1.000067\n",
       "4    1.000067\n",
       "5    1.000067\n",
       "6    1.000067\n",
       "dtype: float64"
      ]
     },
     "execution_count": 17,
     "metadata": {},
     "output_type": "execute_result"
    }
   ],
   "source": [
    "x_train_standarized.std()"
   ]
  },
  {
   "cell_type": "code",
   "execution_count": 18,
   "id": "37ad93c7",
   "metadata": {},
   "outputs": [
    {
     "data": {
      "text/plain": [
       "<seaborn.axisgrid.FacetGrid at 0x28ce51c2f10>"
      ]
     },
     "execution_count": 18,
     "metadata": {},
     "output_type": "execute_result"
    },
    {
     "data": {
      "image/png": "[encoded data removed]",
      "text/plain": [
       "<Figure size 558.875x500 with 1 Axes>"
      ]
     },
     "metadata": {},
     "output_type": "display_data"
    }
   ],
   "source": [
    "sns.displot(x_train_standarized)"
   ]
  },
  {
   "cell_type": "markdown",
   "id": "593fa6e4",
   "metadata": {},
   "source": [
    "#### Apply linear regression.\n"
   ]
  },
  {
   "cell_type": "code",
   "execution_count": 19,
   "id": "ed8a6dd3",
   "metadata": {
    "scrolled": false
   },
   "outputs": [
    {
     "name": "stdout",
     "output_type": "stream",
     "text": [
      "                            OLS Regression Results                            \n",
      "==============================================================================\n",
      "Dep. Variable:     total_claim_amount   R-squared:                       0.414\n",
      "Model:                            OLS   Adj. R-squared:                  0.413\n",
      "Method:                 Least Squares   F-statistic:                     753.9\n",
      "Date:                Thu, 02 Feb 2023   Prob (F-statistic):               0.00\n",
      "Time:                        10:24:29   Log-Likelihood:                -51074.\n",
      "No. Observations:                7482   AIC:                         1.022e+05\n",
      "Df Residuals:                    7474   BIC:                         1.022e+05\n",
      "Df Model:                           7                                         \n",
      "Covariance Type:            nonrobust                                         \n",
      "==============================================================================\n",
      "                 coef    std err          t      P>|t|      [0.025      0.975]\n",
      "------------------------------------------------------------------------------\n",
      "const        435.8295      2.580    168.931      0.000     430.772     440.887\n",
      "x1            -5.9960      2.834     -2.116      0.034     -11.551      -0.441\n",
      "x2           -31.7044      2.581    -12.282      0.000     -36.764     -26.644\n",
      "x3           187.0984      2.833     66.046      0.000     181.545     192.652\n",
      "x4             2.0556      2.583      0.796      0.426      -3.007       7.119\n",
      "x5            -0.6477      2.583     -0.251      0.802      -5.711       4.415\n",
      "x6            -0.5958      2.582     -0.231      0.817      -5.656       4.465\n",
      "x7            -0.1549      2.581     -0.060      0.952      -5.215       4.905\n",
      "==============================================================================\n",
      "Omnibus:                      798.517   Durbin-Watson:                   1.979\n",
      "Prob(Omnibus):                  0.000   Jarque-Bera (JB):             3714.401\n",
      "Skew:                           0.427   Prob(JB):                         0.00\n",
      "Kurtosis:                       6.344   Cond. No.                         1.55\n",
      "==============================================================================\n",
      "\n",
      "Notes:\n",
      "[1] Standard Errors assume that the covariance matrix of the errors is correctly specified.\n"
     ]
    }
   ],
   "source": [
    "x_train_const = sm.add_constant(x_train_standarized.to_numpy()) # adding a constant\n",
    "\n",
    "model = sm.OLS(y_train, x_train_const).fit()\n",
    "predictions_train = model.predict(x_train_const)\n",
    "\n",
    "x_test_const = sm.add_constant(x_test_standarized) # adding a constant\n",
    "predictions_test = model.predict(x_test_const)\n",
    "print_model = model.summary()\n",
    "print(print_model)"
   ]
  },
  {
   "cell_type": "markdown",
   "id": "94e050e0",
   "metadata": {},
   "source": [
    "#### Model Interpretation.\n"
   ]
  },
  {
   "cell_type": "code",
   "execution_count": 20,
   "id": "109f6681",
   "metadata": {},
   "outputs": [
    {
     "data": {
      "text/html": [
       "<table class=\"simpletable\">\n",
       "<caption>OLS Regression Results</caption>\n",
       "<tr>\n",
       "  <th>Dep. Variable:</th>    <td>total_claim_amount</td> <th>  R-squared:         </th> <td>   0.414</td> \n",
       "</tr>\n",
       "<tr>\n",
       "  <th>Model:</th>                    <td>OLS</td>        <th>  Adj. R-squared:    </th> <td>   0.413</td> \n",
       "</tr>\n",
       "<tr>\n",
       "  <th>Method:</th>              <td>Least Squares</td>   <th>  F-statistic:       </th> <td>   753.9</td> \n",
       "</tr>\n",
       "<tr>\n",
       "  <th>Date:</th>              <td>Thu, 02 Feb 2023</td>  <th>  Prob (F-statistic):</th>  <td>  0.00</td>  \n",
       "</tr>\n",
       "<tr>\n",
       "  <th>Time:</th>                  <td>10:24:29</td>      <th>  Log-Likelihood:    </th> <td> -51074.</td> \n",
       "</tr>\n",
       "<tr>\n",
       "  <th>No. Observations:</th>       <td>  7482</td>       <th>  AIC:               </th> <td>1.022e+05</td>\n",
       "</tr>\n",
       "<tr>\n",
       "  <th>Df Residuals:</th>           <td>  7474</td>       <th>  BIC:               </th> <td>1.022e+05</td>\n",
       "</tr>\n",
       "<tr>\n",
       "  <th>Df Model:</th>               <td>     7</td>       <th>                     </th>     <td> </td>    \n",
       "</tr>\n",
       "<tr>\n",
       "  <th>Covariance Type:</th>       <td>nonrobust</td>     <th>                     </th>     <td> </td>    \n",
       "</tr>\n",
       "</table>\n",
       "<table class=\"simpletable\">\n",
       "<tr>\n",
       "    <td></td>       <th>coef</th>     <th>std err</th>      <th>t</th>      <th>P>|t|</th>  <th>[0.025</th>    <th>0.975]</th>  \n",
       "</tr>\n",
       "<tr>\n",
       "  <th>const</th> <td>  435.8295</td> <td>    2.580</td> <td>  168.931</td> <td> 0.000</td> <td>  430.772</td> <td>  440.887</td>\n",
       "</tr>\n",
       "<tr>\n",
       "  <th>x1</th>    <td>   -5.9960</td> <td>    2.834</td> <td>   -2.116</td> <td> 0.034</td> <td>  -11.551</td> <td>   -0.441</td>\n",
       "</tr>\n",
       "<tr>\n",
       "  <th>x2</th>    <td>  -31.7044</td> <td>    2.581</td> <td>  -12.282</td> <td> 0.000</td> <td>  -36.764</td> <td>  -26.644</td>\n",
       "</tr>\n",
       "<tr>\n",
       "  <th>x3</th>    <td>  187.0984</td> <td>    2.833</td> <td>   66.046</td> <td> 0.000</td> <td>  181.545</td> <td>  192.652</td>\n",
       "</tr>\n",
       "<tr>\n",
       "  <th>x4</th>    <td>    2.0556</td> <td>    2.583</td> <td>    0.796</td> <td> 0.426</td> <td>   -3.007</td> <td>    7.119</td>\n",
       "</tr>\n",
       "<tr>\n",
       "  <th>x5</th>    <td>   -0.6477</td> <td>    2.583</td> <td>   -0.251</td> <td> 0.802</td> <td>   -5.711</td> <td>    4.415</td>\n",
       "</tr>\n",
       "<tr>\n",
       "  <th>x6</th>    <td>   -0.5958</td> <td>    2.582</td> <td>   -0.231</td> <td> 0.817</td> <td>   -5.656</td> <td>    4.465</td>\n",
       "</tr>\n",
       "<tr>\n",
       "  <th>x7</th>    <td>   -0.1549</td> <td>    2.581</td> <td>   -0.060</td> <td> 0.952</td> <td>   -5.215</td> <td>    4.905</td>\n",
       "</tr>\n",
       "</table>\n",
       "<table class=\"simpletable\">\n",
       "<tr>\n",
       "  <th>Omnibus:</th>       <td>798.517</td> <th>  Durbin-Watson:     </th> <td>   1.979</td>\n",
       "</tr>\n",
       "<tr>\n",
       "  <th>Prob(Omnibus):</th> <td> 0.000</td>  <th>  Jarque-Bera (JB):  </th> <td>3714.401</td>\n",
       "</tr>\n",
       "<tr>\n",
       "  <th>Skew:</th>          <td> 0.427</td>  <th>  Prob(JB):          </th> <td>    0.00</td>\n",
       "</tr>\n",
       "<tr>\n",
       "  <th>Kurtosis:</th>      <td> 6.344</td>  <th>  Cond. No.          </th> <td>    1.55</td>\n",
       "</tr>\n",
       "</table><br/><br/>Notes:<br/>[1] Standard Errors assume that the covariance matrix of the errors is correctly specified."
      ],
      "text/plain": [
       "<class 'statsmodels.iolib.summary.Summary'>\n",
       "\"\"\"\n",
       "                            OLS Regression Results                            \n",
       "==============================================================================\n",
       "Dep. Variable:     total_claim_amount   R-squared:                       0.414\n",
       "Model:                            OLS   Adj. R-squared:                  0.413\n",
       "Method:                 Least Squares   F-statistic:                     753.9\n",
       "Date:                Thu, 02 Feb 2023   Prob (F-statistic):               0.00\n",
       "Time:                        10:24:29   Log-Likelihood:                -51074.\n",
       "No. Observations:                7482   AIC:                         1.022e+05\n",
       "Df Residuals:                    7474   BIC:                         1.022e+05\n",
       "Df Model:                           7                                         \n",
       "Covariance Type:            nonrobust                                         \n",
       "==============================================================================\n",
       "                 coef    std err          t      P>|t|      [0.025      0.975]\n",
       "------------------------------------------------------------------------------\n",
       "const        435.8295      2.580    168.931      0.000     430.772     440.887\n",
       "x1            -5.9960      2.834     -2.116      0.034     -11.551      -0.441\n",
       "x2           -31.7044      2.581    -12.282      0.000     -36.764     -26.644\n",
       "x3           187.0984      2.833     66.046      0.000     181.545     192.652\n",
       "x4             2.0556      2.583      0.796      0.426      -3.007       7.119\n",
       "x5            -0.6477      2.583     -0.251      0.802      -5.711       4.415\n",
       "x6            -0.5958      2.582     -0.231      0.817      -5.656       4.465\n",
       "x7            -0.1549      2.581     -0.060      0.952      -5.215       4.905\n",
       "==============================================================================\n",
       "Omnibus:                      798.517   Durbin-Watson:                   1.979\n",
       "Prob(Omnibus):                  0.000   Jarque-Bera (JB):             3714.401\n",
       "Skew:                           0.427   Prob(JB):                         0.00\n",
       "Kurtosis:                       6.344   Cond. No.                         1.55\n",
       "==============================================================================\n",
       "\n",
       "Notes:\n",
       "[1] Standard Errors assume that the covariance matrix of the errors is correctly specified.\n",
       "\"\"\""
      ]
     },
     "execution_count": 20,
     "metadata": {},
     "output_type": "execute_result"
    }
   ],
   "source": [
    "print_model"
   ]
  },
  {
   "cell_type": "code",
   "execution_count": 21,
   "id": "5799d40b",
   "metadata": {},
   "outputs": [
    {
     "data": {
      "text/plain": [
       "-3.4644757684596925"
      ]
     },
     "execution_count": 21,
     "metadata": {},
     "output_type": "execute_result"
    }
   ],
   "source": [
    "lm = LinearRegression()\n",
    "model = lm.fit(x_train,y_train)\n",
    "model.coef_\n",
    "model.intercept_\n",
    "###"
   ]
  },
  {
   "cell_type": "markdown",
   "id": "a8603d26",
   "metadata": {},
   "source": [
    "#### Model Validation\n"
   ]
  },
  {
   "cell_type": "markdown",
   "id": "d460769a",
   "metadata": {},
   "source": [
    "#### Model Evaluation: \n",
    "- MSE."
   ]
  },
  {
   "cell_type": "code",
   "execution_count": 22,
   "id": "bb9c1d73",
   "metadata": {},
   "outputs": [],
   "source": [
    "y_pred = pd.DataFrame(model.predict(x_test),columns = ['total_claim_amount'] )      # model prediction\n",
    "y_pred_train =  pd.DataFrame(model.predict(x_train),columns = ['total_claim_amount'])"
   ]
  },
  {
   "cell_type": "code",
   "execution_count": 23,
   "id": "f4596db7",
   "metadata": {},
   "outputs": [
    {
     "data": {
      "text/plain": [
       "52330.37932325502"
      ]
     },
     "execution_count": 23,
     "metadata": {},
     "output_type": "execute_result"
    }
   ],
   "source": [
    "mse(y_test,y_pred)"
   ]
  },
  {
   "cell_type": "markdown",
   "id": "f52e01fe",
   "metadata": {},
   "source": [
    "- RMSE"
   ]
  },
  {
   "cell_type": "code",
   "execution_count": 24,
   "id": "82261196",
   "metadata": {},
   "outputs": [
    {
     "data": {
      "text/plain": [
       "228.75834263094106"
      ]
     },
     "execution_count": 24,
     "metadata": {},
     "output_type": "execute_result"
    }
   ],
   "source": [
    "rmse = np.sqrt(mse(y_test,y_pred))\n",
    "rmse"
   ]
  },
  {
   "cell_type": "code",
   "execution_count": 25,
   "id": "32d6b758",
   "metadata": {},
   "outputs": [
    {
     "data": {
      "text/plain": [
       "49747.15936894188"
      ]
     },
     "execution_count": 25,
     "metadata": {},
     "output_type": "execute_result"
    }
   ],
   "source": [
    "##prediction on the train set\n",
    "mse(y_train,y_pred_train)"
   ]
  },
  {
   "cell_type": "markdown",
   "id": "68106fdb",
   "metadata": {},
   "source": [
    "- MAE"
   ]
  },
  {
   "cell_type": "code",
   "execution_count": 26,
   "id": "a8e1dfea",
   "metadata": {},
   "outputs": [
    {
     "data": {
      "text/plain": [
       "153.8918560923347"
      ]
     },
     "execution_count": 26,
     "metadata": {},
     "output_type": "execute_result"
    }
   ],
   "source": [
    "mae(y_test,y_pred)"
   ]
  },
  {
   "cell_type": "markdown",
   "id": "ad945962",
   "metadata": {},
   "source": [
    "- R2"
   ]
  },
  {
   "cell_type": "code",
   "execution_count": 27,
   "id": "c6a41ba2",
   "metadata": {},
   "outputs": [
    {
     "data": {
      "text/plain": [
       "0.39992389876814183"
      ]
     },
     "execution_count": 27,
     "metadata": {},
     "output_type": "execute_result"
    }
   ],
   "source": [
    "R2=r2_score(y_test,y_pred)\n",
    "R2"
   ]
  },
  {
   "cell_type": "markdown",
   "id": "390f6a97",
   "metadata": {},
   "source": [
    "- Adjusted R2"
   ]
  },
  {
   "cell_type": "code",
   "execution_count": 28,
   "id": "4cef8968",
   "metadata": {},
   "outputs": [
    {
     "data": {
      "text/plain": [
       "0.3986108219601946"
      ]
     },
     "execution_count": 28,
     "metadata": {},
     "output_type": "execute_result"
    }
   ],
   "source": [
    "R2_test=model.score(x_test,y_test)\n",
    "R2_train=model.score(x_train,y_train)\n",
    "Adj_R2= 1 - (1-R2)*(len(y_test)-1)/(len(y_test)-x_test.shape[1]-1)\n",
    "Adj_R2"
   ]
  },
  {
   "cell_type": "markdown",
   "id": "1c56c880",
   "metadata": {},
   "source": [
    "#### Feature Importance"
   ]
  },
  {
   "cell_type": "code",
   "execution_count": 29,
   "id": "a352d23a",
   "metadata": {},
   "outputs": [
    {
     "data": {
      "text/html": [
       "<div>\n",
       "<style scoped>\n",
       "    .dataframe tbody tr th:only-of-type {\n",
       "        vertical-align: middle;\n",
       "    }\n",
       "\n",
       "    .dataframe tbody tr th {\n",
       "        vertical-align: top;\n",
       "    }\n",
       "\n",
       "    .dataframe thead th {\n",
       "        text-align: right;\n",
       "    }\n",
       "</style>\n",
       "<table border=\"1\" class=\"dataframe\">\n",
       "  <thead>\n",
       "    <tr style=\"text-align: right;\">\n",
       "      <th></th>\n",
       "      <th>Attribute</th>\n",
       "      <th>Importance</th>\n",
       "    </tr>\n",
       "  </thead>\n",
       "  <tbody>\n",
       "    <tr>\n",
       "      <th>2</th>\n",
       "      <td>monthly_premium_auto</td>\n",
       "      <td>5.476729</td>\n",
       "    </tr>\n",
       "    <tr>\n",
       "      <th>5</th>\n",
       "      <td>number_of_open_complaints</td>\n",
       "      <td>0.668978</td>\n",
       "    </tr>\n",
       "    <tr>\n",
       "      <th>3</th>\n",
       "      <td>months_since_last_claim</td>\n",
       "      <td>0.203879</td>\n",
       "    </tr>\n",
       "    <tr>\n",
       "      <th>6</th>\n",
       "      <td>number_of_policies</td>\n",
       "      <td>0.064126</td>\n",
       "    </tr>\n",
       "    <tr>\n",
       "      <th>4</th>\n",
       "      <td>months_since_policy_inception</td>\n",
       "      <td>0.023162</td>\n",
       "    </tr>\n",
       "    <tr>\n",
       "      <th>1</th>\n",
       "      <td>income</td>\n",
       "      <td>0.001278</td>\n",
       "    </tr>\n",
       "    <tr>\n",
       "      <th>0</th>\n",
       "      <td>customer_lifetime_value</td>\n",
       "      <td>0.000858</td>\n",
       "    </tr>\n",
       "  </tbody>\n",
       "</table>\n",
       "</div>"
      ],
      "text/plain": [
       "                       Attribute  Importance\n",
       "2           monthly_premium_auto    5.476729\n",
       "5      number_of_open_complaints    0.668978\n",
       "3        months_since_last_claim    0.203879\n",
       "6             number_of_policies    0.064126\n",
       "4  months_since_policy_inception    0.023162\n",
       "1                         income    0.001278\n",
       "0        customer_lifetime_value    0.000858"
      ]
     },
     "execution_count": 29,
     "metadata": {},
     "output_type": "execute_result"
    }
   ],
   "source": [
    "features_importances = pd.DataFrame(data={\n",
    "    'Attribute': x_train.columns,\n",
    "    'Importance': abs(model.coef_.reshape(len(x_train.columns),))\n",
    "})\n",
    "features_importances = features_importances.sort_values(by='Importance', ascending=False)\n",
    "features_importances"
   ]
  },
  {
   "cell_type": "markdown",
   "id": "d281c324",
   "metadata": {},
   "source": [
    "#### Model Iteration"
   ]
  },
  {
   "cell_type": "markdown",
   "id": "9474dee4",
   "metadata": {},
   "source": [
    "- Please rerun the model after adding the hot encoded categorical variables as well as other numeric categroical variables (e.g. number of open complaintes).\n"
   ]
  },
  {
   "cell_type": "markdown",
   "id": "7d137818",
   "metadata": {},
   "source": [
    "- #### x-y split"
   ]
  },
  {
   "cell_type": "code",
   "execution_count": 30,
   "id": "42ebad87",
   "metadata": {},
   "outputs": [],
   "source": [
    "x2 = cust_an.drop('total_claim_amount', axis=1)\n",
    "y2 = cust_an.total_claim_amount"
   ]
  },
  {
   "cell_type": "code",
   "execution_count": 31,
   "id": "61170d30",
   "metadata": {},
   "outputs": [],
   "source": [
    "numericalx2 = x2.select_dtypes(np.number)\n",
    "categoricalx2 = x2.select_dtypes(object)"
   ]
  },
  {
   "cell_type": "code",
   "execution_count": 32,
   "id": "d85b624f",
   "metadata": {},
   "outputs": [],
   "source": [
    "# one-hot encode the categorical features\n",
    "x2 = pd.concat([pd.get_dummies(x2[categoricalx2.columns],drop_first=True)], axis=1)"
   ]
  },
  {
   "cell_type": "markdown",
   "id": "c41e11f0",
   "metadata": {},
   "source": [
    "- Train-test split."
   ]
  },
  {
   "cell_type": "code",
   "execution_count": 33,
   "id": "8bb28787",
   "metadata": {},
   "outputs": [],
   "source": [
    "# test-train split\n",
    "x2_train, x2_test, y2_train, y2_test = train_test_split(x2, y2, test_size=TT_RATIO, random_state=RAND_STATE)\n",
    "x2_train = pd.DataFrame(x2_train)\n",
    "x2_test = pd.DataFrame(x2_test)\n",
    "y2_train = pd.DataFrame(y2_train)\n",
    "y2_test = pd.DataFrame(y2_test)"
   ]
  },
  {
   "cell_type": "code",
   "execution_count": 34,
   "id": "7c1fbb4d",
   "metadata": {},
   "outputs": [
    {
     "data": {
      "text/plain": [
       "Index(['region_east', 'region_north west', 'region_west region',\n",
       "       'response_yes', 'coverage_extended', 'coverage_premium',\n",
       "       'education_college', 'education_doctor',\n",
       "       'education_high school or below', 'education_master',\n",
       "       ...\n",
       "       'sales_channel_branch', 'sales_channel_call center',\n",
       "       'sales_channel_web', 'vehicle_class_luxury car',\n",
       "       'vehicle_class_luxury suv', 'vehicle_class_sports car',\n",
       "       'vehicle_class_suv', 'vehicle_class_two-door car',\n",
       "       'vehicle_size_medsize', 'vehicle_size_small'],\n",
       "      dtype='object', length=101)"
      ]
     },
     "execution_count": 34,
     "metadata": {},
     "output_type": "execute_result"
    }
   ],
   "source": [
    "x2.columns"
   ]
  },
  {
   "cell_type": "markdown",
   "id": "b9926db3",
   "metadata": {},
   "source": [
    "- Standardize the data (after the data split)."
   ]
  },
  {
   "cell_type": "code",
   "execution_count": 37,
   "id": "5b3d63c5",
   "metadata": {},
   "outputs": [],
   "source": [
    "x2_train_standarized = sts.fit_transform(x2_train)\n",
    "x2_test_standarized = sts.transform(x2_test)"
   ]
  },
  {
   "cell_type": "code",
   "execution_count": 40,
   "id": "fddc5228",
   "metadata": {},
   "outputs": [],
   "source": [
    "x2_train_standarized = pd.DataFrame(x_train_standarized)"
   ]
  },
  {
   "cell_type": "code",
   "execution_count": 41,
   "id": "60d1f61f",
   "metadata": {},
   "outputs": [
    {
     "data": {
      "text/plain": [
       "0   -1.221494e-17\n",
       "1   -3.024104e-17\n",
       "2   -8.066997e-16\n",
       "3    1.619261e-17\n",
       "4   -7.799161e-17\n",
       "5   -2.546153e-16\n",
       "6    1.649086e-16\n",
       "dtype: float64"
      ]
     },
     "execution_count": 41,
     "metadata": {},
     "output_type": "execute_result"
    }
   ],
   "source": [
    "x2_train_standarized.mean()"
   ]
  },
  {
   "cell_type": "code",
   "execution_count": 42,
   "id": "68d94798",
   "metadata": {},
   "outputs": [
    {
     "data": {
      "text/plain": [
       "0    1.000067\n",
       "1    1.000067\n",
       "2    1.000067\n",
       "3    1.000067\n",
       "4    1.000067\n",
       "5    1.000067\n",
       "6    1.000067\n",
       "dtype: float64"
      ]
     },
     "execution_count": 42,
     "metadata": {},
     "output_type": "execute_result"
    }
   ],
   "source": [
    "x2_train_standarized.std()"
   ]
  },
  {
   "cell_type": "markdown",
   "id": "19355994",
   "metadata": {},
   "source": [
    "- Apply linear regression."
   ]
  },
  {
   "cell_type": "code",
   "execution_count": 45,
   "id": "d5e5ffd3",
   "metadata": {},
   "outputs": [],
   "source": [
    "x2_train_const = sm.add_constant(x2_train_standarized) # adding a constant\n",
    "\n",
    "model2 = sm.OLS(y2_train, x2_train).fit()\n",
    "#predictions_train2 = model2.predict(x2_train_const)\n",
    "\n",
    "#x2_test_const = sm.add_constant(x2_test_standarized) # adding a constant\n",
    "#predictions_test2 = model2.predict(x2_test_const)\n",
    "#print_model2 = model2.summary()\n",
    "#print_model2"
   ]
  },
  {
   "cell_type": "code",
   "execution_count": 40,
   "id": "8196e281",
   "metadata": {},
   "outputs": [
    {
     "data": {
      "text/plain": [
       "array([[ 4.41621065e+00,  3.64412780e+00,  5.04906085e+00,\n",
       "        -1.04959155e+01,  9.47633554e+01,  2.32703885e+02,\n",
       "        -6.50611869e+00, -1.94547369e+01,  5.91637719e+00,\n",
       "        -1.17092595e+01,  1.59527588e+01, -1.10812398e+01,\n",
       "         3.63706930e+00,  1.24864289e+01,  1.84162653e+01,\n",
       "         8.83518205e+00, -2.70371414e+00, -1.00880545e+01,\n",
       "         1.54143296e+01, -7.28803380e+00,  1.94453389e+01,\n",
       "         4.10500100e+01, -1.65771034e+01,  2.53805282e+01,\n",
       "        -4.63541755e+00,  7.32733756e+00,  2.88420054e+01,\n",
       "         3.13216735e+01,  3.25080306e+01,  1.36892108e+01,\n",
       "         1.80010706e+01,  1.09318123e+01, -2.21501383e+01,\n",
       "        -7.26968704e+00, -3.24261250e+00,  3.69712268e+01,\n",
       "         2.66940452e+01, -2.74665835e-01, -1.45611073e+00,\n",
       "        -2.80602978e+00, -1.00734120e+15, -1.00734120e+15,\n",
       "        -1.00734120e+15, -1.00734120e+15, -1.00734120e+15,\n",
       "        -1.00734120e+15, -1.00734120e+15, -1.00734120e+15,\n",
       "        -1.00734120e+15, -1.00734120e+15, -1.00734120e+15,\n",
       "        -1.00734120e+15, -1.00734120e+15, -1.00734120e+15,\n",
       "        -1.00734120e+15, -1.00734120e+15, -1.00734120e+15,\n",
       "        -1.00734120e+15, -1.00734120e+15, -1.00734120e+15,\n",
       "        -1.00734120e+15, -1.00734120e+15, -1.00734120e+15,\n",
       "        -1.00734120e+15, -1.00734120e+15, -1.00734120e+15,\n",
       "        -1.00734120e+15, -1.00734120e+15, -1.00734120e+15,\n",
       "        -1.25540070e+01,  1.36340098e+01, -2.51976793e+01,\n",
       "         6.85929677e+01,  1.73909487e+01,  3.84971889e+02,\n",
       "         2.19340958e+02, -1.19011019e+00,  6.38502077e+01,\n",
       "         3.88456293e+15,  5.06541125e+15, -1.31055659e+01,\n",
       "        -5.11027569e+00, -3.88456293e+15, -3.88456293e+15,\n",
       "        -3.88456293e+15, -5.06541125e+15, -5.06541125e+15,\n",
       "        -5.06541125e+15,  1.25089567e+01,  1.80696890e+00,\n",
       "         5.66605940e+00, -3.45730548e+00,  6.93699536e-01,\n",
       "        -2.29242737e+00,  6.66495088e+02,  6.22757760e+02,\n",
       "         1.93543875e+02,  1.93354101e+02, -4.76549727e+00,\n",
       "        -4.27723296e+00, -1.33024198e+00]])"
      ]
     },
     "execution_count": 40,
     "metadata": {},
     "output_type": "execute_result"
    }
   ],
   "source": [
    "model2 = lm.fit(x2_train,y2_train)\n",
    "model2.coef_"
   ]
  },
  {
   "cell_type": "code",
   "execution_count": 41,
   "id": "50fb7d34",
   "metadata": {},
   "outputs": [
    {
     "data": {
      "text/plain": [
       "array([1.0073412e+15])"
      ]
     },
     "execution_count": 41,
     "metadata": {},
     "output_type": "execute_result"
    }
   ],
   "source": [
    "model2.intercept_"
   ]
  },
  {
   "cell_type": "code",
   "execution_count": 42,
   "id": "a2092bd2",
   "metadata": {},
   "outputs": [],
   "source": [
    "y2_pred = pd.DataFrame(model2.predict(x2_test),columns = ['total_claim_amount'] )      # model prediction\n",
    "y2_pred_train =  pd.DataFrame(model2.predict(x2_train),columns = ['total_claim_amount'])"
   ]
  },
  {
   "cell_type": "markdown",
   "id": "475935a9",
   "metadata": {},
   "source": [
    "- Model Interpretation."
   ]
  },
  {
   "cell_type": "code",
   "execution_count": 43,
   "id": "f0498325",
   "metadata": {
    "scrolled": true
   },
   "outputs": [
    {
     "name": "stderr",
     "output_type": "stream",
     "text": [
      "C:\\Users\\migue\\anaconda3\\lib\\site-packages\\seaborn\\_decorators.py:36: FutureWarning: Pass the following variables as keyword args: x, y. From version 0.12, the only valid positional argument will be `data`, and passing other arguments without an explicit keyword will result in an error or misinterpretation.\n",
      "  warnings.warn(\n"
     ]
    },
    {
     "data": {
      "text/plain": [
       "<AxesSubplot:>"
      ]
     },
     "execution_count": 43,
     "metadata": {},
     "output_type": "execute_result"
    },
    {
     "data": {
      "image/png": "[encoded data removed]",
      "text/plain": [
       "<Figure size 640x480 with 1 Axes>"
      ]
     },
     "metadata": {},
     "output_type": "display_data"
    }
   ],
   "source": [
    "yp_ = y2_pred.to_numpy()\n",
    "yt_ = y2_test.to_numpy()\n",
    "sns.regplot(yp_,yt_,scatter_kws={\"color\": \"red\"}, line_kws={\"color\": \"black\"})"
   ]
  },
  {
   "cell_type": "markdown",
   "id": "3f9344f2",
   "metadata": {},
   "source": [
    "#### Model Evaluation:\n",
    "- MSE."
   ]
  },
  {
   "cell_type": "code",
   "execution_count": 44,
   "id": "f65c935d",
   "metadata": {},
   "outputs": [
    {
     "data": {
      "text/plain": [
       "24357.160240294666"
      ]
     },
     "execution_count": 44,
     "metadata": {},
     "output_type": "execute_result"
    }
   ],
   "source": [
    "mse(y2_test,y2_pred)"
   ]
  },
  {
   "cell_type": "markdown",
   "id": "534fe902",
   "metadata": {},
   "source": [
    "- RMSE."
   ]
  },
  {
   "cell_type": "code",
   "execution_count": 45,
   "id": "78283c91",
   "metadata": {},
   "outputs": [
    {
     "data": {
      "text/plain": [
       "156.06780654668876"
      ]
     },
     "execution_count": 45,
     "metadata": {},
     "output_type": "execute_result"
    }
   ],
   "source": [
    "rmse2 = np.sqrt(mse(y2_test,y2_pred))\n",
    "rmse2"
   ]
  },
  {
   "cell_type": "markdown",
   "id": "6ae00dde",
   "metadata": {},
   "source": [
    "- MAE."
   ]
  },
  {
   "cell_type": "code",
   "execution_count": 46,
   "id": "88e5b993",
   "metadata": {},
   "outputs": [
    {
     "data": {
      "text/plain": [
       "104.49302307452447"
      ]
     },
     "execution_count": 46,
     "metadata": {},
     "output_type": "execute_result"
    }
   ],
   "source": [
    "mae(y2_test,y2_pred)"
   ]
  },
  {
   "cell_type": "markdown",
   "id": "65e97cd6",
   "metadata": {},
   "source": [
    "- R2"
   ]
  },
  {
   "cell_type": "code",
   "execution_count": 47,
   "id": "b9e0dd1f",
   "metadata": {},
   "outputs": [
    {
     "data": {
      "text/plain": [
       "0.7206947485744595"
      ]
     },
     "execution_count": 47,
     "metadata": {},
     "output_type": "execute_result"
    }
   ],
   "source": [
    "R2_2=r2_score(y2_test,y2_pred)\n",
    "R2_2"
   ]
  },
  {
   "cell_type": "markdown",
   "id": "1b181a30",
   "metadata": {},
   "source": [
    "- R2 adjusted"
   ]
  },
  {
   "cell_type": "code",
   "execution_count": 48,
   "id": "647a80cf",
   "metadata": {},
   "outputs": [
    {
     "data": {
      "text/plain": [
       "0.7116094569821956"
      ]
     },
     "execution_count": 48,
     "metadata": {},
     "output_type": "execute_result"
    }
   ],
   "source": [
    "R2_test2=model2.score(x2_test,y2_test)\n",
    "R2_train2=model2.score(x2_train,y2_train)\n",
    "Adj2_R2= 1 - (1-R2_2)*(len(y2_test)-1)/(len(y2_test)-x2_test.shape[1]-1)\n",
    "Adj2_R2"
   ]
  },
  {
   "cell_type": "markdown",
   "id": "e1ca7142",
   "metadata": {},
   "source": [
    "#### Feature Importance"
   ]
  },
  {
   "cell_type": "code",
   "execution_count": 49,
   "id": "e060218f",
   "metadata": {},
   "outputs": [
    {
     "data": {
      "text/html": [
       "<div>\n",
       "<style scoped>\n",
       "    .dataframe tbody tr th:only-of-type {\n",
       "        vertical-align: middle;\n",
       "    }\n",
       "\n",
       "    .dataframe tbody tr th {\n",
       "        vertical-align: top;\n",
       "    }\n",
       "\n",
       "    .dataframe thead th {\n",
       "        text-align: right;\n",
       "    }\n",
       "</style>\n",
       "<table border=\"1\" class=\"dataframe\">\n",
       "  <thead>\n",
       "    <tr style=\"text-align: right;\">\n",
       "      <th></th>\n",
       "      <th>Attribute</th>\n",
       "      <th>Importance</th>\n",
       "    </tr>\n",
       "  </thead>\n",
       "  <tbody>\n",
       "    <tr>\n",
       "      <th>2</th>\n",
       "      <td>monthly_premium_auto</td>\n",
       "      <td>5.476729</td>\n",
       "    </tr>\n",
       "    <tr>\n",
       "      <th>5</th>\n",
       "      <td>number_of_open_complaints</td>\n",
       "      <td>0.668978</td>\n",
       "    </tr>\n",
       "    <tr>\n",
       "      <th>3</th>\n",
       "      <td>months_since_last_claim</td>\n",
       "      <td>0.203879</td>\n",
       "    </tr>\n",
       "    <tr>\n",
       "      <th>6</th>\n",
       "      <td>number_of_policies</td>\n",
       "      <td>0.064126</td>\n",
       "    </tr>\n",
       "    <tr>\n",
       "      <th>4</th>\n",
       "      <td>months_since_policy_inception</td>\n",
       "      <td>0.023162</td>\n",
       "    </tr>\n",
       "    <tr>\n",
       "      <th>1</th>\n",
       "      <td>income</td>\n",
       "      <td>0.001278</td>\n",
       "    </tr>\n",
       "    <tr>\n",
       "      <th>0</th>\n",
       "      <td>customer_lifetime_value</td>\n",
       "      <td>0.000858</td>\n",
       "    </tr>\n",
       "  </tbody>\n",
       "</table>\n",
       "</div>"
      ],
      "text/plain": [
       "                       Attribute  Importance\n",
       "2           monthly_premium_auto    5.476729\n",
       "5      number_of_open_complaints    0.668978\n",
       "3        months_since_last_claim    0.203879\n",
       "6             number_of_policies    0.064126\n",
       "4  months_since_policy_inception    0.023162\n",
       "1                         income    0.001278\n",
       "0        customer_lifetime_value    0.000858"
      ]
     },
     "execution_count": 49,
     "metadata": {},
     "output_type": "execute_result"
    }
   ],
   "source": [
    "features_importances2 = pd.DataFrame(data={\n",
    "    'Attribute': x2_train.columns,\n",
    "    'Importance': abs(model2.coef_.reshape(len(x2_train.columns),))\n",
    "})\n",
    "features_importances2 = features_importances.sort_values(by='Importance', ascending=False)\n",
    "features_importances2"
   ]
  },
  {
   "cell_type": "code",
   "execution_count": null,
   "id": "953b54d3",
   "metadata": {},
   "outputs": [],
   "source": []
  }
 ],
 "metadata": {
  "kernelspec": {
   "display_name": "Python 3 (ipykernel)",
   "language": "python",
   "name": "python3"
  },
  "language_info": {
   "codemirror_mode": {
    "name": "ipython",
    "version": 3
   },
   "file_extension": ".py",
   "mimetype": "text/x-python",
   "name": "python",
   "nbconvert_exporter": "python",
   "pygments_lexer": "ipython3",
   "version": "3.9.13"
  }
 },
 "nbformat": 4,
 "nbformat_minor": 5
}
