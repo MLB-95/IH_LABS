{
 "cells": [
  {
   "cell_type": "markdown",
   "id": "a7e9b2eb",
   "metadata": {},
   "source": [
    "# Customer Analysis Case Study\n",
    "## Activity 1, Monday January 17th"
   ]
  },
  {
   "cell_type": "markdown",
   "id": "bfd15227",
   "metadata": {},
   "source": [
    "##### - Aggregate the data into one Data Frame using Pandas. Pay attention that files may have different names for the same column. therefore, make sure that you unify the columns names before concating them."
   ]
  },
  {
   "cell_type": "code",
   "execution_count": 1,
   "id": "5c0a2b13",
   "metadata": {},
   "outputs": [],
   "source": [
    "import numpy as np\n",
    "import pandas as pd"
   ]
  },
  {
   "cell_type": "code",
   "execution_count": 2,
   "id": "51ea0410",
   "metadata": {},
   "outputs": [],
   "source": [
    "cust_an = pd.read_csv('file1.csv')"
   ]
  },
  {
   "cell_type": "code",
   "execution_count": 3,
   "id": "7414467c",
   "metadata": {},
   "outputs": [
    {
     "data": {
      "text/plain": [
       "Index(['Customer', 'ST', 'GENDER', 'Education', 'Customer Lifetime Value',\n",
       "       'Income', 'Monthly Premium Auto', 'Number of Open Complaints',\n",
       "       'Policy Type', 'Vehicle Class', 'Total Claim Amount'],\n",
       "      dtype='object')"
      ]
     },
     "execution_count": 3,
     "metadata": {},
     "output_type": "execute_result"
    }
   ],
   "source": [
    "cust_an.columns"
   ]
  },
  {
   "cell_type": "code",
   "execution_count": 4,
   "id": "e9d628a7",
   "metadata": {},
   "outputs": [],
   "source": [
    "cust_an2 = pd.read_csv('file2.csv')"
   ]
  },
  {
   "cell_type": "code",
   "execution_count": 5,
   "id": "21be8505",
   "metadata": {},
   "outputs": [
    {
     "data": {
      "text/plain": [
       "Index(['Customer', 'ST', 'GENDER', 'Education', 'Customer Lifetime Value',\n",
       "       'Income', 'Monthly Premium Auto', 'Number of Open Complaints',\n",
       "       'Total Claim Amount', 'Policy Type', 'Vehicle Class'],\n",
       "      dtype='object')"
      ]
     },
     "execution_count": 5,
     "metadata": {},
     "output_type": "execute_result"
    }
   ],
   "source": [
    "cust_an2.columns"
   ]
  },
  {
   "cell_type": "code",
   "execution_count": 6,
   "id": "5dfac670",
   "metadata": {},
   "outputs": [],
   "source": [
    "cust_an3 = pd.read_csv('file3.csv')"
   ]
  },
  {
   "cell_type": "code",
   "execution_count": 7,
   "id": "31e94b6d",
   "metadata": {},
   "outputs": [
    {
     "data": {
      "text/plain": [
       "Index(['Customer', 'State', 'Customer Lifetime Value', 'Education', 'Gender',\n",
       "       'Income', 'Monthly Premium Auto', 'Number of Open Complaints',\n",
       "       'Policy Type', 'Total Claim Amount', 'Vehicle Class'],\n",
       "      dtype='object')"
      ]
     },
     "execution_count": 7,
     "metadata": {},
     "output_type": "execute_result"
    }
   ],
   "source": [
    "cust_an3.columns"
   ]
  },
  {
   "cell_type": "code",
   "execution_count": 8,
   "id": "bb3d4471",
   "metadata": {},
   "outputs": [
    {
     "data": {
      "text/plain": [
       "['Customer',\n",
       " 'ST',\n",
       " 'GENDER',\n",
       " 'Education',\n",
       " 'Customer Lifetime Value',\n",
       " 'Income',\n",
       " 'Monthly Premium Auto',\n",
       " 'Number of Open Complaints',\n",
       " 'Total Claim Amount',\n",
       " 'Policy Type',\n",
       " 'Vehicle Class']"
      ]
     },
     "execution_count": 8,
     "metadata": {},
     "output_type": "execute_result"
    }
   ],
   "source": [
    "list(cust_an2.columns)"
   ]
  },
  {
   "cell_type": "code",
   "execution_count": 9,
   "id": "a0cdd1fc",
   "metadata": {},
   "outputs": [],
   "source": [
    "cust_an2 = cust_an2 [['Customer', 'ST', 'GENDER', 'Education', 'Customer Lifetime Value', 'Income', 'Monthly Premium Auto', 'Number of Open Complaints', 'Policy Type', 'Vehicle Class', 'Total Claim Amount']]"
   ]
  },
  {
   "cell_type": "code",
   "execution_count": 10,
   "id": "1ab28b23",
   "metadata": {},
   "outputs": [
    {
     "data": {
      "text/plain": [
       "Index(['Customer', 'ST', 'GENDER', 'Education', 'Customer Lifetime Value',\n",
       "       'Income', 'Monthly Premium Auto', 'Number of Open Complaints',\n",
       "       'Policy Type', 'Vehicle Class', 'Total Claim Amount'],\n",
       "      dtype='object')"
      ]
     },
     "execution_count": 10,
     "metadata": {},
     "output_type": "execute_result"
    }
   ],
   "source": [
    "cust_an2.columns"
   ]
  },
  {
   "cell_type": "code",
   "execution_count": 11,
   "id": "3a3ca514",
   "metadata": {},
   "outputs": [],
   "source": [
    "cust_an3 = cust_an3 [['Customer', 'State', 'Gender', 'Education', 'Customer Lifetime Value', 'Income', 'Monthly Premium Auto', 'Number of Open Complaints', 'Policy Type', 'Vehicle Class', 'Total Claim Amount']]"
   ]
  },
  {
   "cell_type": "code",
   "execution_count": 12,
   "id": "0984132b",
   "metadata": {},
   "outputs": [],
   "source": [
    "cust_an3 = cust_an3.rename(columns={'State':'ST', 'Gender':'GENDER'})"
   ]
  },
  {
   "cell_type": "code",
   "execution_count": 13,
   "id": "813aa6b2",
   "metadata": {},
   "outputs": [
    {
     "data": {
      "text/plain": [
       "Index(['Customer', 'ST', 'GENDER', 'Education', 'Customer Lifetime Value',\n",
       "       'Income', 'Monthly Premium Auto', 'Number of Open Complaints',\n",
       "       'Policy Type', 'Vehicle Class', 'Total Claim Amount'],\n",
       "      dtype='object')"
      ]
     },
     "execution_count": 13,
     "metadata": {},
     "output_type": "execute_result"
    }
   ],
   "source": [
    "cust_an3.columns"
   ]
  },
  {
   "cell_type": "code",
   "execution_count": 14,
   "id": "d623946e",
   "metadata": {},
   "outputs": [],
   "source": [
    "## Concatenating all files after unifying the columns\n",
    "CA = pd.concat([cust_an, cust_an2, cust_an3]) "
   ]
  },
  {
   "cell_type": "code",
   "execution_count": 15,
   "id": "f18e68fd",
   "metadata": {},
   "outputs": [
    {
     "data": {
      "text/html": [
       "<div>\n",
       "<style scoped>\n",
       "    .dataframe tbody tr th:only-of-type {\n",
       "        vertical-align: middle;\n",
       "    }\n",
       "\n",
       "    .dataframe tbody tr th {\n",
       "        vertical-align: top;\n",
       "    }\n",
       "\n",
       "    .dataframe thead th {\n",
       "        text-align: right;\n",
       "    }\n",
       "</style>\n",
       "<table border=\"1\" class=\"dataframe\">\n",
       "  <thead>\n",
       "    <tr style=\"text-align: right;\">\n",
       "      <th></th>\n",
       "      <th>count</th>\n",
       "      <th>mean</th>\n",
       "      <th>std</th>\n",
       "      <th>min</th>\n",
       "      <th>25%</th>\n",
       "      <th>50%</th>\n",
       "      <th>75%</th>\n",
       "      <th>max</th>\n",
       "    </tr>\n",
       "  </thead>\n",
       "  <tbody>\n",
       "    <tr>\n",
       "      <th>Income</th>\n",
       "      <td>9137.0</td>\n",
       "      <td>37828.820291</td>\n",
       "      <td>30358.716159</td>\n",
       "      <td>0.000000</td>\n",
       "      <td>0.000000</td>\n",
       "      <td>34244.000000</td>\n",
       "      <td>62447.000000</td>\n",
       "      <td>99981.000000</td>\n",
       "    </tr>\n",
       "    <tr>\n",
       "      <th>Monthly Premium Auto</th>\n",
       "      <td>9137.0</td>\n",
       "      <td>110.391266</td>\n",
       "      <td>581.376032</td>\n",
       "      <td>61.000000</td>\n",
       "      <td>68.000000</td>\n",
       "      <td>83.000000</td>\n",
       "      <td>109.000000</td>\n",
       "      <td>35354.000000</td>\n",
       "    </tr>\n",
       "    <tr>\n",
       "      <th>Total Claim Amount</th>\n",
       "      <td>9137.0</td>\n",
       "      <td>430.527140</td>\n",
       "      <td>289.582968</td>\n",
       "      <td>0.099007</td>\n",
       "      <td>266.996814</td>\n",
       "      <td>377.561463</td>\n",
       "      <td>546.420009</td>\n",
       "      <td>2893.239678</td>\n",
       "    </tr>\n",
       "  </tbody>\n",
       "</table>\n",
       "</div>"
      ],
      "text/plain": [
       "                       count          mean           std        min  \\\n",
       "Income                9137.0  37828.820291  30358.716159   0.000000   \n",
       "Monthly Premium Auto  9137.0    110.391266    581.376032  61.000000   \n",
       "Total Claim Amount    9137.0    430.527140    289.582968   0.099007   \n",
       "\n",
       "                             25%           50%           75%           max  \n",
       "Income                  0.000000  34244.000000  62447.000000  99981.000000  \n",
       "Monthly Premium Auto   68.000000     83.000000    109.000000  35354.000000  \n",
       "Total Claim Amount    266.996814    377.561463    546.420009   2893.239678  "
      ]
     },
     "execution_count": 15,
     "metadata": {},
     "output_type": "execute_result"
    }
   ],
   "source": [
    "CA.describe().transpose()"
   ]
  },
  {
   "cell_type": "markdown",
   "id": "0b589a4d",
   "metadata": {},
   "source": [
    "#### - Standardizing header names\n"
   ]
  },
  {
   "cell_type": "code",
   "execution_count": 16,
   "id": "69859669",
   "metadata": {},
   "outputs": [],
   "source": [
    "## lower the column names\n",
    "def lower_columns(CA):\n",
    "    CA.columns=[i.lower() for i in CA.columns] #list comprehension\n",
    "    return CA\n"
   ]
  },
  {
   "cell_type": "code",
   "execution_count": 17,
   "id": "f342cf44",
   "metadata": {},
   "outputs": [],
   "source": [
    "CA = lower_columns(CA)"
   ]
  },
  {
   "cell_type": "code",
   "execution_count": 18,
   "id": "8ac6cc57",
   "metadata": {},
   "outputs": [
    {
     "data": {
      "text/plain": [
       "Index(['customer', 'st', 'gender', 'education', 'customer lifetime value',\n",
       "       'income', 'monthly premium auto', 'number of open complaints',\n",
       "       'policy type', 'vehicle class', 'total claim amount'],\n",
       "      dtype='object')"
      ]
     },
     "execution_count": 18,
     "metadata": {},
     "output_type": "execute_result"
    }
   ],
   "source": [
    "CA.columns"
   ]
  },
  {
   "cell_type": "markdown",
   "id": "5587f98a",
   "metadata": {},
   "source": [
    "#### - Removing duplicates"
   ]
  },
  {
   "cell_type": "code",
   "execution_count": 19,
   "id": "52ecc8e1",
   "metadata": {
    "scrolled": true
   },
   "outputs": [],
   "source": [
    "## remove duplicates\n",
    "CA = CA.drop_duplicates()"
   ]
  },
  {
   "cell_type": "code",
   "execution_count": 20,
   "id": "6e0a085f",
   "metadata": {},
   "outputs": [
    {
     "data": {
      "text/html": [
       "<div>\n",
       "<style scoped>\n",
       "    .dataframe tbody tr th:only-of-type {\n",
       "        vertical-align: middle;\n",
       "    }\n",
       "\n",
       "    .dataframe tbody tr th {\n",
       "        vertical-align: top;\n",
       "    }\n",
       "\n",
       "    .dataframe thead th {\n",
       "        text-align: right;\n",
       "    }\n",
       "</style>\n",
       "<table border=\"1\" class=\"dataframe\">\n",
       "  <thead>\n",
       "    <tr style=\"text-align: right;\">\n",
       "      <th></th>\n",
       "      <th>customer</th>\n",
       "      <th>st</th>\n",
       "      <th>gender</th>\n",
       "      <th>education</th>\n",
       "      <th>customer lifetime value</th>\n",
       "      <th>income</th>\n",
       "      <th>monthly premium auto</th>\n",
       "      <th>number of open complaints</th>\n",
       "      <th>policy type</th>\n",
       "      <th>vehicle class</th>\n",
       "      <th>total claim amount</th>\n",
       "    </tr>\n",
       "  </thead>\n",
       "  <tbody>\n",
       "    <tr>\n",
       "      <th>0</th>\n",
       "      <td>RB50392</td>\n",
       "      <td>Washington</td>\n",
       "      <td>NaN</td>\n",
       "      <td>Master</td>\n",
       "      <td>NaN</td>\n",
       "      <td>0.0</td>\n",
       "      <td>1000.0</td>\n",
       "      <td>1/0/00</td>\n",
       "      <td>Personal Auto</td>\n",
       "      <td>Four-Door Car</td>\n",
       "      <td>2.704934</td>\n",
       "    </tr>\n",
       "    <tr>\n",
       "      <th>1</th>\n",
       "      <td>QZ44356</td>\n",
       "      <td>Arizona</td>\n",
       "      <td>F</td>\n",
       "      <td>Bachelor</td>\n",
       "      <td>697953.59%</td>\n",
       "      <td>0.0</td>\n",
       "      <td>94.0</td>\n",
       "      <td>1/0/00</td>\n",
       "      <td>Personal Auto</td>\n",
       "      <td>Four-Door Car</td>\n",
       "      <td>1131.464935</td>\n",
       "    </tr>\n",
       "    <tr>\n",
       "      <th>2</th>\n",
       "      <td>AI49188</td>\n",
       "      <td>Nevada</td>\n",
       "      <td>F</td>\n",
       "      <td>Bachelor</td>\n",
       "      <td>1288743.17%</td>\n",
       "      <td>48767.0</td>\n",
       "      <td>108.0</td>\n",
       "      <td>1/0/00</td>\n",
       "      <td>Personal Auto</td>\n",
       "      <td>Two-Door Car</td>\n",
       "      <td>566.472247</td>\n",
       "    </tr>\n",
       "    <tr>\n",
       "      <th>3</th>\n",
       "      <td>WW63253</td>\n",
       "      <td>California</td>\n",
       "      <td>M</td>\n",
       "      <td>Bachelor</td>\n",
       "      <td>764586.18%</td>\n",
       "      <td>0.0</td>\n",
       "      <td>106.0</td>\n",
       "      <td>1/0/00</td>\n",
       "      <td>Corporate Auto</td>\n",
       "      <td>SUV</td>\n",
       "      <td>529.881344</td>\n",
       "    </tr>\n",
       "    <tr>\n",
       "      <th>4</th>\n",
       "      <td>GA49547</td>\n",
       "      <td>Washington</td>\n",
       "      <td>M</td>\n",
       "      <td>High School or Below</td>\n",
       "      <td>536307.65%</td>\n",
       "      <td>36357.0</td>\n",
       "      <td>68.0</td>\n",
       "      <td>1/0/00</td>\n",
       "      <td>Personal Auto</td>\n",
       "      <td>Four-Door Car</td>\n",
       "      <td>17.269323</td>\n",
       "    </tr>\n",
       "    <tr>\n",
       "      <th>...</th>\n",
       "      <td>...</td>\n",
       "      <td>...</td>\n",
       "      <td>...</td>\n",
       "      <td>...</td>\n",
       "      <td>...</td>\n",
       "      <td>...</td>\n",
       "      <td>...</td>\n",
       "      <td>...</td>\n",
       "      <td>...</td>\n",
       "      <td>...</td>\n",
       "      <td>...</td>\n",
       "    </tr>\n",
       "    <tr>\n",
       "      <th>7065</th>\n",
       "      <td>LA72316</td>\n",
       "      <td>California</td>\n",
       "      <td>M</td>\n",
       "      <td>Bachelor</td>\n",
       "      <td>23405.98798</td>\n",
       "      <td>71941.0</td>\n",
       "      <td>73.0</td>\n",
       "      <td>0</td>\n",
       "      <td>Personal Auto</td>\n",
       "      <td>Four-Door Car</td>\n",
       "      <td>198.234764</td>\n",
       "    </tr>\n",
       "    <tr>\n",
       "      <th>7066</th>\n",
       "      <td>PK87824</td>\n",
       "      <td>California</td>\n",
       "      <td>F</td>\n",
       "      <td>College</td>\n",
       "      <td>3096.511217</td>\n",
       "      <td>21604.0</td>\n",
       "      <td>79.0</td>\n",
       "      <td>0</td>\n",
       "      <td>Corporate Auto</td>\n",
       "      <td>Four-Door Car</td>\n",
       "      <td>379.200000</td>\n",
       "    </tr>\n",
       "    <tr>\n",
       "      <th>7067</th>\n",
       "      <td>TD14365</td>\n",
       "      <td>California</td>\n",
       "      <td>M</td>\n",
       "      <td>Bachelor</td>\n",
       "      <td>8163.890428</td>\n",
       "      <td>0.0</td>\n",
       "      <td>85.0</td>\n",
       "      <td>3</td>\n",
       "      <td>Corporate Auto</td>\n",
       "      <td>Four-Door Car</td>\n",
       "      <td>790.784983</td>\n",
       "    </tr>\n",
       "    <tr>\n",
       "      <th>7068</th>\n",
       "      <td>UP19263</td>\n",
       "      <td>California</td>\n",
       "      <td>M</td>\n",
       "      <td>College</td>\n",
       "      <td>7524.442436</td>\n",
       "      <td>21941.0</td>\n",
       "      <td>96.0</td>\n",
       "      <td>0</td>\n",
       "      <td>Personal Auto</td>\n",
       "      <td>Four-Door Car</td>\n",
       "      <td>691.200000</td>\n",
       "    </tr>\n",
       "    <tr>\n",
       "      <th>7069</th>\n",
       "      <td>Y167826</td>\n",
       "      <td>California</td>\n",
       "      <td>M</td>\n",
       "      <td>College</td>\n",
       "      <td>2611.836866</td>\n",
       "      <td>0.0</td>\n",
       "      <td>77.0</td>\n",
       "      <td>0</td>\n",
       "      <td>Corporate Auto</td>\n",
       "      <td>Two-Door Car</td>\n",
       "      <td>369.600000</td>\n",
       "    </tr>\n",
       "  </tbody>\n",
       "</table>\n",
       "<p>9135 rows × 11 columns</p>\n",
       "</div>"
      ],
      "text/plain": [
       "     customer          st gender             education  \\\n",
       "0     RB50392  Washington    NaN                Master   \n",
       "1     QZ44356     Arizona      F              Bachelor   \n",
       "2     AI49188      Nevada      F              Bachelor   \n",
       "3     WW63253  California      M              Bachelor   \n",
       "4     GA49547  Washington      M  High School or Below   \n",
       "...       ...         ...    ...                   ...   \n",
       "7065  LA72316  California      M              Bachelor   \n",
       "7066  PK87824  California      F               College   \n",
       "7067  TD14365  California      M              Bachelor   \n",
       "7068  UP19263  California      M               College   \n",
       "7069  Y167826  California      M               College   \n",
       "\n",
       "     customer lifetime value   income  monthly premium auto  \\\n",
       "0                        NaN      0.0                1000.0   \n",
       "1                 697953.59%      0.0                  94.0   \n",
       "2                1288743.17%  48767.0                 108.0   \n",
       "3                 764586.18%      0.0                 106.0   \n",
       "4                 536307.65%  36357.0                  68.0   \n",
       "...                      ...      ...                   ...   \n",
       "7065             23405.98798  71941.0                  73.0   \n",
       "7066             3096.511217  21604.0                  79.0   \n",
       "7067             8163.890428      0.0                  85.0   \n",
       "7068             7524.442436  21941.0                  96.0   \n",
       "7069             2611.836866      0.0                  77.0   \n",
       "\n",
       "     number of open complaints     policy type  vehicle class  \\\n",
       "0                       1/0/00   Personal Auto  Four-Door Car   \n",
       "1                       1/0/00   Personal Auto  Four-Door Car   \n",
       "2                       1/0/00   Personal Auto   Two-Door Car   \n",
       "3                       1/0/00  Corporate Auto            SUV   \n",
       "4                       1/0/00   Personal Auto  Four-Door Car   \n",
       "...                        ...             ...            ...   \n",
       "7065                         0   Personal Auto  Four-Door Car   \n",
       "7066                         0  Corporate Auto  Four-Door Car   \n",
       "7067                         3  Corporate Auto  Four-Door Car   \n",
       "7068                         0   Personal Auto  Four-Door Car   \n",
       "7069                         0  Corporate Auto   Two-Door Car   \n",
       "\n",
       "      total claim amount  \n",
       "0               2.704934  \n",
       "1            1131.464935  \n",
       "2             566.472247  \n",
       "3             529.881344  \n",
       "4              17.269323  \n",
       "...                  ...  \n",
       "7065          198.234764  \n",
       "7066          379.200000  \n",
       "7067          790.784983  \n",
       "7068          691.200000  \n",
       "7069          369.600000  \n",
       "\n",
       "[9135 rows x 11 columns]"
      ]
     },
     "execution_count": 20,
     "metadata": {},
     "output_type": "execute_result"
    }
   ],
   "source": [
    "CA"
   ]
  },
  {
   "cell_type": "markdown",
   "id": "525c24cf",
   "metadata": {},
   "source": [
    "####  - Deleting and rearranging columns – delete the column customer as it is only a unique identifier for each row of data\n"
   ]
  },
  {
   "cell_type": "code",
   "execution_count": 21,
   "id": "714960e6",
   "metadata": {},
   "outputs": [],
   "source": [
    "## remove the columns \"customer\"\n",
    "def drop_columns(CA):\n",
    "    CA.drop(columns=[\"customer\"], inplace=True)\n",
    "    return CA"
   ]
  },
  {
   "cell_type": "code",
   "execution_count": 22,
   "id": "0ba8366c",
   "metadata": {},
   "outputs": [],
   "source": [
    "CA = drop_columns(CA)"
   ]
  },
  {
   "cell_type": "code",
   "execution_count": 23,
   "id": "3c44ca6c",
   "metadata": {},
   "outputs": [
    {
     "data": {
      "text/plain": [
       "Index(['st', 'gender', 'education', 'customer lifetime value', 'income',\n",
       "       'monthly premium auto', 'number of open complaints', 'policy type',\n",
       "       'vehicle class', 'total claim amount'],\n",
       "      dtype='object')"
      ]
     },
     "execution_count": 23,
     "metadata": {},
     "output_type": "execute_result"
    }
   ],
   "source": [
    "CA.columns"
   ]
  },
  {
   "cell_type": "code",
   "execution_count": 24,
   "id": "cd547062",
   "metadata": {},
   "outputs": [
    {
     "name": "stdout",
     "output_type": "stream",
     "text": [
      "<class 'pandas.core.frame.DataFrame'>\n",
      "Int64Index: 9135 entries, 0 to 7069\n",
      "Data columns (total 10 columns):\n",
      " #   Column                     Non-Null Count  Dtype  \n",
      "---  ------                     --------------  -----  \n",
      " 0   st                         9134 non-null   object \n",
      " 1   gender                     9012 non-null   object \n",
      " 2   education                  9134 non-null   object \n",
      " 3   customer lifetime value    9127 non-null   object \n",
      " 4   income                     9134 non-null   float64\n",
      " 5   monthly premium auto       9134 non-null   float64\n",
      " 6   number of open complaints  9134 non-null   object \n",
      " 7   policy type                9134 non-null   object \n",
      " 8   vehicle class              9134 non-null   object \n",
      " 9   total claim amount         9134 non-null   float64\n",
      "dtypes: float64(3), object(7)\n",
      "memory usage: 785.0+ KB\n"
     ]
    }
   ],
   "source": [
    "CA.info()"
   ]
  },
  {
   "cell_type": "code",
   "execution_count": 25,
   "id": "84b16b5d",
   "metadata": {},
   "outputs": [],
   "source": [
    "## remove the \"%\" customer lifetime value\n",
    "CA['customer lifetime value'] = CA['customer lifetime value'].astype(\"string\")"
   ]
  },
  {
   "cell_type": "code",
   "execution_count": 26,
   "id": "be11f27c",
   "metadata": {},
   "outputs": [],
   "source": [
    "CA['customer lifetime value'] = CA['customer lifetime value'].str.replace(\"%\",\"\")"
   ]
  },
  {
   "cell_type": "code",
   "execution_count": 27,
   "id": "fc2b109b",
   "metadata": {},
   "outputs": [
    {
     "data": {
      "text/html": [
       "<div>\n",
       "<style scoped>\n",
       "    .dataframe tbody tr th:only-of-type {\n",
       "        vertical-align: middle;\n",
       "    }\n",
       "\n",
       "    .dataframe tbody tr th {\n",
       "        vertical-align: top;\n",
       "    }\n",
       "\n",
       "    .dataframe thead th {\n",
       "        text-align: right;\n",
       "    }\n",
       "</style>\n",
       "<table border=\"1\" class=\"dataframe\">\n",
       "  <thead>\n",
       "    <tr style=\"text-align: right;\">\n",
       "      <th></th>\n",
       "      <th>st</th>\n",
       "      <th>gender</th>\n",
       "      <th>education</th>\n",
       "      <th>customer lifetime value</th>\n",
       "      <th>income</th>\n",
       "      <th>monthly premium auto</th>\n",
       "      <th>number of open complaints</th>\n",
       "      <th>policy type</th>\n",
       "      <th>vehicle class</th>\n",
       "      <th>total claim amount</th>\n",
       "    </tr>\n",
       "  </thead>\n",
       "  <tbody>\n",
       "    <tr>\n",
       "      <th>0</th>\n",
       "      <td>Washington</td>\n",
       "      <td>NaN</td>\n",
       "      <td>Master</td>\n",
       "      <td>&lt;NA&gt;</td>\n",
       "      <td>0.0</td>\n",
       "      <td>1000.0</td>\n",
       "      <td>1/0/00</td>\n",
       "      <td>Personal Auto</td>\n",
       "      <td>Four-Door Car</td>\n",
       "      <td>2.704934</td>\n",
       "    </tr>\n",
       "    <tr>\n",
       "      <th>1</th>\n",
       "      <td>Arizona</td>\n",
       "      <td>F</td>\n",
       "      <td>Bachelor</td>\n",
       "      <td>697953.59</td>\n",
       "      <td>0.0</td>\n",
       "      <td>94.0</td>\n",
       "      <td>1/0/00</td>\n",
       "      <td>Personal Auto</td>\n",
       "      <td>Four-Door Car</td>\n",
       "      <td>1131.464935</td>\n",
       "    </tr>\n",
       "    <tr>\n",
       "      <th>2</th>\n",
       "      <td>Nevada</td>\n",
       "      <td>F</td>\n",
       "      <td>Bachelor</td>\n",
       "      <td>1288743.17</td>\n",
       "      <td>48767.0</td>\n",
       "      <td>108.0</td>\n",
       "      <td>1/0/00</td>\n",
       "      <td>Personal Auto</td>\n",
       "      <td>Two-Door Car</td>\n",
       "      <td>566.472247</td>\n",
       "    </tr>\n",
       "    <tr>\n",
       "      <th>3</th>\n",
       "      <td>California</td>\n",
       "      <td>M</td>\n",
       "      <td>Bachelor</td>\n",
       "      <td>764586.18</td>\n",
       "      <td>0.0</td>\n",
       "      <td>106.0</td>\n",
       "      <td>1/0/00</td>\n",
       "      <td>Corporate Auto</td>\n",
       "      <td>SUV</td>\n",
       "      <td>529.881344</td>\n",
       "    </tr>\n",
       "    <tr>\n",
       "      <th>4</th>\n",
       "      <td>Washington</td>\n",
       "      <td>M</td>\n",
       "      <td>High School or Below</td>\n",
       "      <td>536307.65</td>\n",
       "      <td>36357.0</td>\n",
       "      <td>68.0</td>\n",
       "      <td>1/0/00</td>\n",
       "      <td>Personal Auto</td>\n",
       "      <td>Four-Door Car</td>\n",
       "      <td>17.269323</td>\n",
       "    </tr>\n",
       "    <tr>\n",
       "      <th>...</th>\n",
       "      <td>...</td>\n",
       "      <td>...</td>\n",
       "      <td>...</td>\n",
       "      <td>...</td>\n",
       "      <td>...</td>\n",
       "      <td>...</td>\n",
       "      <td>...</td>\n",
       "      <td>...</td>\n",
       "      <td>...</td>\n",
       "      <td>...</td>\n",
       "    </tr>\n",
       "    <tr>\n",
       "      <th>7065</th>\n",
       "      <td>California</td>\n",
       "      <td>M</td>\n",
       "      <td>Bachelor</td>\n",
       "      <td>23405.98798</td>\n",
       "      <td>71941.0</td>\n",
       "      <td>73.0</td>\n",
       "      <td>0</td>\n",
       "      <td>Personal Auto</td>\n",
       "      <td>Four-Door Car</td>\n",
       "      <td>198.234764</td>\n",
       "    </tr>\n",
       "    <tr>\n",
       "      <th>7066</th>\n",
       "      <td>California</td>\n",
       "      <td>F</td>\n",
       "      <td>College</td>\n",
       "      <td>3096.511217</td>\n",
       "      <td>21604.0</td>\n",
       "      <td>79.0</td>\n",
       "      <td>0</td>\n",
       "      <td>Corporate Auto</td>\n",
       "      <td>Four-Door Car</td>\n",
       "      <td>379.200000</td>\n",
       "    </tr>\n",
       "    <tr>\n",
       "      <th>7067</th>\n",
       "      <td>California</td>\n",
       "      <td>M</td>\n",
       "      <td>Bachelor</td>\n",
       "      <td>8163.890428</td>\n",
       "      <td>0.0</td>\n",
       "      <td>85.0</td>\n",
       "      <td>3</td>\n",
       "      <td>Corporate Auto</td>\n",
       "      <td>Four-Door Car</td>\n",
       "      <td>790.784983</td>\n",
       "    </tr>\n",
       "    <tr>\n",
       "      <th>7068</th>\n",
       "      <td>California</td>\n",
       "      <td>M</td>\n",
       "      <td>College</td>\n",
       "      <td>7524.442436</td>\n",
       "      <td>21941.0</td>\n",
       "      <td>96.0</td>\n",
       "      <td>0</td>\n",
       "      <td>Personal Auto</td>\n",
       "      <td>Four-Door Car</td>\n",
       "      <td>691.200000</td>\n",
       "    </tr>\n",
       "    <tr>\n",
       "      <th>7069</th>\n",
       "      <td>California</td>\n",
       "      <td>M</td>\n",
       "      <td>College</td>\n",
       "      <td>2611.836866</td>\n",
       "      <td>0.0</td>\n",
       "      <td>77.0</td>\n",
       "      <td>0</td>\n",
       "      <td>Corporate Auto</td>\n",
       "      <td>Two-Door Car</td>\n",
       "      <td>369.600000</td>\n",
       "    </tr>\n",
       "  </tbody>\n",
       "</table>\n",
       "<p>9135 rows × 10 columns</p>\n",
       "</div>"
      ],
      "text/plain": [
       "              st gender             education customer lifetime value  \\\n",
       "0     Washington    NaN                Master                    <NA>   \n",
       "1        Arizona      F              Bachelor               697953.59   \n",
       "2         Nevada      F              Bachelor              1288743.17   \n",
       "3     California      M              Bachelor               764586.18   \n",
       "4     Washington      M  High School or Below               536307.65   \n",
       "...          ...    ...                   ...                     ...   \n",
       "7065  California      M              Bachelor             23405.98798   \n",
       "7066  California      F               College             3096.511217   \n",
       "7067  California      M              Bachelor             8163.890428   \n",
       "7068  California      M               College             7524.442436   \n",
       "7069  California      M               College             2611.836866   \n",
       "\n",
       "       income  monthly premium auto number of open complaints     policy type  \\\n",
       "0         0.0                1000.0                    1/0/00   Personal Auto   \n",
       "1         0.0                  94.0                    1/0/00   Personal Auto   \n",
       "2     48767.0                 108.0                    1/0/00   Personal Auto   \n",
       "3         0.0                 106.0                    1/0/00  Corporate Auto   \n",
       "4     36357.0                  68.0                    1/0/00   Personal Auto   \n",
       "...       ...                   ...                       ...             ...   \n",
       "7065  71941.0                  73.0                         0   Personal Auto   \n",
       "7066  21604.0                  79.0                         0  Corporate Auto   \n",
       "7067      0.0                  85.0                         3  Corporate Auto   \n",
       "7068  21941.0                  96.0                         0   Personal Auto   \n",
       "7069      0.0                  77.0                         0  Corporate Auto   \n",
       "\n",
       "      vehicle class  total claim amount  \n",
       "0     Four-Door Car            2.704934  \n",
       "1     Four-Door Car         1131.464935  \n",
       "2      Two-Door Car          566.472247  \n",
       "3               SUV          529.881344  \n",
       "4     Four-Door Car           17.269323  \n",
       "...             ...                 ...  \n",
       "7065  Four-Door Car          198.234764  \n",
       "7066  Four-Door Car          379.200000  \n",
       "7067  Four-Door Car          790.784983  \n",
       "7068  Four-Door Car          691.200000  \n",
       "7069   Two-Door Car          369.600000  \n",
       "\n",
       "[9135 rows x 10 columns]"
      ]
     },
     "execution_count": 27,
     "metadata": {},
     "output_type": "execute_result"
    }
   ],
   "source": [
    "CA"
   ]
  },
  {
   "cell_type": "markdown",
   "id": "0a9f3238",
   "metadata": {},
   "source": [
    "#### - clean the number of open complaints and extract the middle number which is changing between records."
   ]
  },
  {
   "cell_type": "code",
   "execution_count": 28,
   "id": "1c19c723",
   "metadata": {
    "scrolled": true
   },
   "outputs": [],
   "source": [
    "## change the data types\n",
    "CA['customer lifetime value'] = CA['customer lifetime value'].astype(\"float\")"
   ]
  },
  {
   "cell_type": "code",
   "execution_count": 29,
   "id": "bb3c21c4",
   "metadata": {},
   "outputs": [
    {
     "name": "stdout",
     "output_type": "stream",
     "text": [
      "<class 'pandas.core.frame.DataFrame'>\n",
      "Int64Index: 9135 entries, 0 to 7069\n",
      "Data columns (total 10 columns):\n",
      " #   Column                     Non-Null Count  Dtype  \n",
      "---  ------                     --------------  -----  \n",
      " 0   st                         9134 non-null   object \n",
      " 1   gender                     9012 non-null   object \n",
      " 2   education                  9134 non-null   object \n",
      " 3   customer lifetime value    9127 non-null   float64\n",
      " 4   income                     9134 non-null   float64\n",
      " 5   monthly premium auto       9134 non-null   float64\n",
      " 6   number of open complaints  9134 non-null   object \n",
      " 7   policy type                9134 non-null   object \n",
      " 8   vehicle class              9134 non-null   object \n",
      " 9   total claim amount         9134 non-null   float64\n",
      "dtypes: float64(4), object(6)\n",
      "memory usage: 785.0+ KB\n"
     ]
    }
   ],
   "source": [
    "CA.info()"
   ]
  },
  {
   "cell_type": "code",
   "execution_count": 30,
   "id": "26818fca",
   "metadata": {
    "scrolled": true
   },
   "outputs": [],
   "source": [
    "CA['number of open complaints'] = CA['number of open complaints'].astype(\"string\")"
   ]
  },
  {
   "cell_type": "code",
   "execution_count": 31,
   "id": "9e70a2ff",
   "metadata": {},
   "outputs": [
    {
     "data": {
      "text/plain": [
       "<StringArray>\n",
       "['1/0/00', '1/2/00', '1/1/00', '1/3/00', '1/5/00', '1/4/00',     <NA>,\n",
       "      '0',      '2',      '3',      '1',      '5',      '4']\n",
       "Length: 13, dtype: string"
      ]
     },
     "execution_count": 31,
     "metadata": {},
     "output_type": "execute_result"
    }
   ],
   "source": [
    "CA['number of open complaints'].unique()"
   ]
  },
  {
   "cell_type": "code",
   "execution_count": 32,
   "id": "baad3133",
   "metadata": {},
   "outputs": [],
   "source": [
    "## clean the number of open complaints\n",
    "CA.iloc[:, 6][CA[\"number of open complaints\"].str.contains(pat = \"1/\")] = \"0\""
   ]
  },
  {
   "cell_type": "code",
   "execution_count": 33,
   "id": "d925f398",
   "metadata": {},
   "outputs": [],
   "source": [
    "CA['number of open complaints'] = CA['number of open complaints'].replace(\"/00\",\"\")\n"
   ]
  },
  {
   "cell_type": "code",
   "execution_count": 34,
   "id": "3a801360",
   "metadata": {},
   "outputs": [
    {
     "data": {
      "text/plain": [
       "<StringArray>\n",
       "['0', <NA>, '2', '3', '1', '5', '4']\n",
       "Length: 7, dtype: string"
      ]
     },
     "execution_count": 34,
     "metadata": {},
     "output_type": "execute_result"
    }
   ],
   "source": [
    "CA['number of open complaints'].unique()"
   ]
  },
  {
   "cell_type": "code",
   "execution_count": 35,
   "id": "8d8cda91",
   "metadata": {},
   "outputs": [],
   "source": [
    "CA['number of open complaints'] =  pd.to_numeric(CA['number of open complaints'], errors='coerce')"
   ]
  },
  {
   "cell_type": "code",
   "execution_count": 36,
   "id": "1a093e29",
   "metadata": {},
   "outputs": [
    {
     "name": "stdout",
     "output_type": "stream",
     "text": [
      "<class 'pandas.core.frame.DataFrame'>\n",
      "Int64Index: 9135 entries, 0 to 7069\n",
      "Data columns (total 10 columns):\n",
      " #   Column                     Non-Null Count  Dtype  \n",
      "---  ------                     --------------  -----  \n",
      " 0   st                         9134 non-null   object \n",
      " 1   gender                     9012 non-null   object \n",
      " 2   education                  9134 non-null   object \n",
      " 3   customer lifetime value    9127 non-null   float64\n",
      " 4   income                     9134 non-null   float64\n",
      " 5   monthly premium auto       9134 non-null   float64\n",
      " 6   number of open complaints  9134 non-null   float64\n",
      " 7   policy type                9134 non-null   object \n",
      " 8   vehicle class              9134 non-null   object \n",
      " 9   total claim amount         9134 non-null   float64\n",
      "dtypes: float64(5), object(5)\n",
      "memory usage: 785.0+ KB\n"
     ]
    }
   ],
   "source": [
    "CA.info()"
   ]
  },
  {
   "cell_type": "code",
   "execution_count": 37,
   "id": "2a9cc457",
   "metadata": {},
   "outputs": [],
   "source": [
    "CA['number of open complaints'] = CA['number of open complaints'].astype(\"float\")"
   ]
  },
  {
   "cell_type": "code",
   "execution_count": 38,
   "id": "dbe95388",
   "metadata": {},
   "outputs": [],
   "source": [
    "median_number_open_complaints = np.median(CA['number of open complaints'])"
   ]
  },
  {
   "cell_type": "code",
   "execution_count": 39,
   "id": "b11db7e6",
   "metadata": {},
   "outputs": [
    {
     "data": {
      "text/plain": [
       "nan"
      ]
     },
     "execution_count": 39,
     "metadata": {},
     "output_type": "execute_result"
    }
   ],
   "source": [
    "median_number_open_complaints"
   ]
  },
  {
   "cell_type": "code",
   "execution_count": 40,
   "id": "934f4d60",
   "metadata": {
    "scrolled": true
   },
   "outputs": [],
   "source": [
    "CA['number of open complaints'] = CA['number of open complaints'].fillna(median_number_open_complaints)"
   ]
  },
  {
   "cell_type": "code",
   "execution_count": 41,
   "id": "7c6711c3",
   "metadata": {},
   "outputs": [
    {
     "data": {
      "text/plain": [
       "array([ 0., nan,  2.,  3.,  1.,  5.,  4.])"
      ]
     },
     "execution_count": 41,
     "metadata": {},
     "output_type": "execute_result"
    }
   ],
   "source": [
    "CA['number of open complaints'].unique()"
   ]
  },
  {
   "cell_type": "markdown",
   "id": "ebc121cd",
   "metadata": {},
   "source": [
    "#### - Filtering data and Correcting typos – Filter the data in state and gender column to standardize the texts in those columns"
   ]
  },
  {
   "cell_type": "code",
   "execution_count": 42,
   "id": "1946b267",
   "metadata": {},
   "outputs": [],
   "source": [
    "##clean data in 'st' and in 'gender'\n",
    "def st_clean(i):\n",
    "    if i =='AZ':\n",
    "        return 'Arizona'\n",
    "    elif i == 'WA':\n",
    "        return 'Washington'\n",
    "    elif i == 'Cali':\n",
    "        return 'California'\n",
    "    else:\n",
    "        return i"
   ]
  },
  {
   "cell_type": "code",
   "execution_count": 43,
   "id": "d96f6451",
   "metadata": {},
   "outputs": [
    {
     "data": {
      "text/plain": [
       "array(['Washington', 'Arizona', 'Nevada', 'California', 'Oregon', nan],\n",
       "      dtype=object)"
      ]
     },
     "execution_count": 43,
     "metadata": {},
     "output_type": "execute_result"
    }
   ],
   "source": [
    "CA ['st']= list(map(st_clean, CA['st']))\n",
    "CA['st'].unique()"
   ]
  },
  {
   "cell_type": "code",
   "execution_count": 44,
   "id": "8c68c981",
   "metadata": {},
   "outputs": [
    {
     "data": {
      "text/plain": [
       "array([nan, 'F', 'M', 'Femal', 'Male', 'female'], dtype=object)"
      ]
     },
     "execution_count": 44,
     "metadata": {},
     "output_type": "execute_result"
    }
   ],
   "source": [
    "CA.gender.unique()"
   ]
  },
  {
   "cell_type": "code",
   "execution_count": 45,
   "id": "c21c07bf",
   "metadata": {},
   "outputs": [
    {
     "data": {
      "text/plain": [
       "False    9012\n",
       "True      123\n",
       "Name: gender, dtype: int64"
      ]
     },
     "execution_count": 45,
     "metadata": {},
     "output_type": "execute_result"
    }
   ],
   "source": [
    "CA['gender'].isna().value_counts()"
   ]
  },
  {
   "cell_type": "code",
   "execution_count": 46,
   "id": "55f0e068",
   "metadata": {},
   "outputs": [],
   "source": [
    "def gender_clean(i):\n",
    "    if i in ['M', 'Male']:\n",
    "        return \"Male\"\n",
    "    elif i in ['F', 'Femal', 'female']:\n",
    "        return \"Female\"\n",
    "    else:\n",
    "        return i"
   ]
  },
  {
   "cell_type": "code",
   "execution_count": 47,
   "id": "9e562904",
   "metadata": {},
   "outputs": [
    {
     "data": {
      "text/plain": [
       "array([nan, 'Female', 'Male'], dtype=object)"
      ]
     },
     "execution_count": 47,
     "metadata": {},
     "output_type": "execute_result"
    }
   ],
   "source": [
    "CA['gender']= list(map(gender_clean, CA['gender']))\n",
    "CA['gender'].unique()"
   ]
  },
  {
   "cell_type": "code",
   "execution_count": 48,
   "id": "97aaf1f9",
   "metadata": {
    "scrolled": false
   },
   "outputs": [
    {
     "data": {
      "text/plain": [
       "array(['Master', 'Bachelor', 'High School or Below', 'College',\n",
       "       'Bachelors', 'Doctor', nan], dtype=object)"
      ]
     },
     "execution_count": 48,
     "metadata": {},
     "output_type": "execute_result"
    }
   ],
   "source": [
    "CA['education'].unique()"
   ]
  },
  {
   "cell_type": "code",
   "execution_count": 49,
   "id": "db24ddd6",
   "metadata": {},
   "outputs": [],
   "source": [
    "def education_clean(i):\n",
    "    if i ==\"Bachelors\":\n",
    "        return \"Bachelor\"\n",
    "    else:\n",
    "        return i"
   ]
  },
  {
   "cell_type": "code",
   "execution_count": 50,
   "id": "1504fe5c",
   "metadata": {},
   "outputs": [
    {
     "data": {
      "text/plain": [
       "array(['Master', 'Bachelor', 'High School or Below', 'College', 'Doctor',\n",
       "       nan], dtype=object)"
      ]
     },
     "execution_count": 50,
     "metadata": {},
     "output_type": "execute_result"
    }
   ],
   "source": [
    "CA['education'] = list(map(education_clean, CA['education']))\n",
    "CA['education'].unique()"
   ]
  },
  {
   "cell_type": "code",
   "execution_count": 51,
   "id": "b6ea2a1b",
   "metadata": {
    "scrolled": true
   },
   "outputs": [
    {
     "data": {
      "text/plain": [
       "False    9134\n",
       "True        1\n",
       "Name: income, dtype: int64"
      ]
     },
     "execution_count": 51,
     "metadata": {},
     "output_type": "execute_result"
    }
   ],
   "source": [
    "CA['income'].isna().value_counts()"
   ]
  },
  {
   "cell_type": "code",
   "execution_count": 52,
   "id": "d397138f",
   "metadata": {},
   "outputs": [
    {
     "data": {
      "text/plain": [
       "array(['Personal Auto', 'Corporate Auto', 'Special Auto', nan],\n",
       "      dtype=object)"
      ]
     },
     "execution_count": 52,
     "metadata": {},
     "output_type": "execute_result"
    }
   ],
   "source": [
    "CA['policy type'].unique()"
   ]
  },
  {
   "cell_type": "code",
   "execution_count": 53,
   "id": "212e6181",
   "metadata": {},
   "outputs": [
    {
     "data": {
      "text/plain": [
       "array(['Four-Door Car', 'Two-Door Car', 'SUV', 'Luxury SUV', 'Sports Car',\n",
       "       'Luxury Car', nan], dtype=object)"
      ]
     },
     "execution_count": 53,
     "metadata": {},
     "output_type": "execute_result"
    }
   ],
   "source": [
    "CA['vehicle class'].unique()"
   ]
  },
  {
   "cell_type": "code",
   "execution_count": 54,
   "id": "1f3f658b",
   "metadata": {},
   "outputs": [
    {
     "data": {
      "text/html": [
       "<div>\n",
       "<style scoped>\n",
       "    .dataframe tbody tr th:only-of-type {\n",
       "        vertical-align: middle;\n",
       "    }\n",
       "\n",
       "    .dataframe tbody tr th {\n",
       "        vertical-align: top;\n",
       "    }\n",
       "\n",
       "    .dataframe thead th {\n",
       "        text-align: right;\n",
       "    }\n",
       "</style>\n",
       "<table border=\"1\" class=\"dataframe\">\n",
       "  <thead>\n",
       "    <tr style=\"text-align: right;\">\n",
       "      <th></th>\n",
       "      <th>st</th>\n",
       "      <th>gender</th>\n",
       "      <th>education</th>\n",
       "      <th>customer lifetime value</th>\n",
       "      <th>income</th>\n",
       "      <th>monthly premium auto</th>\n",
       "      <th>number of open complaints</th>\n",
       "      <th>policy type</th>\n",
       "      <th>vehicle class</th>\n",
       "      <th>total claim amount</th>\n",
       "    </tr>\n",
       "  </thead>\n",
       "  <tbody>\n",
       "    <tr>\n",
       "      <th>0</th>\n",
       "      <td>Washington</td>\n",
       "      <td>NaN</td>\n",
       "      <td>Master</td>\n",
       "      <td>NaN</td>\n",
       "      <td>0.0</td>\n",
       "      <td>1000.0</td>\n",
       "      <td>0.0</td>\n",
       "      <td>Personal Auto</td>\n",
       "      <td>Four-Door Car</td>\n",
       "      <td>2.704934</td>\n",
       "    </tr>\n",
       "    <tr>\n",
       "      <th>1</th>\n",
       "      <td>Arizona</td>\n",
       "      <td>Female</td>\n",
       "      <td>Bachelor</td>\n",
       "      <td>6.979536e+05</td>\n",
       "      <td>0.0</td>\n",
       "      <td>94.0</td>\n",
       "      <td>0.0</td>\n",
       "      <td>Personal Auto</td>\n",
       "      <td>Four-Door Car</td>\n",
       "      <td>1131.464935</td>\n",
       "    </tr>\n",
       "    <tr>\n",
       "      <th>2</th>\n",
       "      <td>Nevada</td>\n",
       "      <td>Female</td>\n",
       "      <td>Bachelor</td>\n",
       "      <td>1.288743e+06</td>\n",
       "      <td>48767.0</td>\n",
       "      <td>108.0</td>\n",
       "      <td>0.0</td>\n",
       "      <td>Personal Auto</td>\n",
       "      <td>Two-Door Car</td>\n",
       "      <td>566.472247</td>\n",
       "    </tr>\n",
       "    <tr>\n",
       "      <th>3</th>\n",
       "      <td>California</td>\n",
       "      <td>Male</td>\n",
       "      <td>Bachelor</td>\n",
       "      <td>7.645862e+05</td>\n",
       "      <td>0.0</td>\n",
       "      <td>106.0</td>\n",
       "      <td>0.0</td>\n",
       "      <td>Corporate Auto</td>\n",
       "      <td>SUV</td>\n",
       "      <td>529.881344</td>\n",
       "    </tr>\n",
       "    <tr>\n",
       "      <th>4</th>\n",
       "      <td>Washington</td>\n",
       "      <td>Male</td>\n",
       "      <td>High School or Below</td>\n",
       "      <td>5.363077e+05</td>\n",
       "      <td>36357.0</td>\n",
       "      <td>68.0</td>\n",
       "      <td>0.0</td>\n",
       "      <td>Personal Auto</td>\n",
       "      <td>Four-Door Car</td>\n",
       "      <td>17.269323</td>\n",
       "    </tr>\n",
       "    <tr>\n",
       "      <th>...</th>\n",
       "      <td>...</td>\n",
       "      <td>...</td>\n",
       "      <td>...</td>\n",
       "      <td>...</td>\n",
       "      <td>...</td>\n",
       "      <td>...</td>\n",
       "      <td>...</td>\n",
       "      <td>...</td>\n",
       "      <td>...</td>\n",
       "      <td>...</td>\n",
       "    </tr>\n",
       "    <tr>\n",
       "      <th>7065</th>\n",
       "      <td>California</td>\n",
       "      <td>Male</td>\n",
       "      <td>Bachelor</td>\n",
       "      <td>2.340599e+04</td>\n",
       "      <td>71941.0</td>\n",
       "      <td>73.0</td>\n",
       "      <td>0.0</td>\n",
       "      <td>Personal Auto</td>\n",
       "      <td>Four-Door Car</td>\n",
       "      <td>198.234764</td>\n",
       "    </tr>\n",
       "    <tr>\n",
       "      <th>7066</th>\n",
       "      <td>California</td>\n",
       "      <td>Female</td>\n",
       "      <td>College</td>\n",
       "      <td>3.096511e+03</td>\n",
       "      <td>21604.0</td>\n",
       "      <td>79.0</td>\n",
       "      <td>0.0</td>\n",
       "      <td>Corporate Auto</td>\n",
       "      <td>Four-Door Car</td>\n",
       "      <td>379.200000</td>\n",
       "    </tr>\n",
       "    <tr>\n",
       "      <th>7067</th>\n",
       "      <td>California</td>\n",
       "      <td>Male</td>\n",
       "      <td>Bachelor</td>\n",
       "      <td>8.163890e+03</td>\n",
       "      <td>0.0</td>\n",
       "      <td>85.0</td>\n",
       "      <td>3.0</td>\n",
       "      <td>Corporate Auto</td>\n",
       "      <td>Four-Door Car</td>\n",
       "      <td>790.784983</td>\n",
       "    </tr>\n",
       "    <tr>\n",
       "      <th>7068</th>\n",
       "      <td>California</td>\n",
       "      <td>Male</td>\n",
       "      <td>College</td>\n",
       "      <td>7.524442e+03</td>\n",
       "      <td>21941.0</td>\n",
       "      <td>96.0</td>\n",
       "      <td>0.0</td>\n",
       "      <td>Personal Auto</td>\n",
       "      <td>Four-Door Car</td>\n",
       "      <td>691.200000</td>\n",
       "    </tr>\n",
       "    <tr>\n",
       "      <th>7069</th>\n",
       "      <td>California</td>\n",
       "      <td>Male</td>\n",
       "      <td>College</td>\n",
       "      <td>2.611837e+03</td>\n",
       "      <td>0.0</td>\n",
       "      <td>77.0</td>\n",
       "      <td>0.0</td>\n",
       "      <td>Corporate Auto</td>\n",
       "      <td>Two-Door Car</td>\n",
       "      <td>369.600000</td>\n",
       "    </tr>\n",
       "  </tbody>\n",
       "</table>\n",
       "<p>9135 rows × 10 columns</p>\n",
       "</div>"
      ],
      "text/plain": [
       "              st  gender             education  customer lifetime value  \\\n",
       "0     Washington     NaN                Master                      NaN   \n",
       "1        Arizona  Female              Bachelor             6.979536e+05   \n",
       "2         Nevada  Female              Bachelor             1.288743e+06   \n",
       "3     California    Male              Bachelor             7.645862e+05   \n",
       "4     Washington    Male  High School or Below             5.363077e+05   \n",
       "...          ...     ...                   ...                      ...   \n",
       "7065  California    Male              Bachelor             2.340599e+04   \n",
       "7066  California  Female               College             3.096511e+03   \n",
       "7067  California    Male              Bachelor             8.163890e+03   \n",
       "7068  California    Male               College             7.524442e+03   \n",
       "7069  California    Male               College             2.611837e+03   \n",
       "\n",
       "       income  monthly premium auto  number of open complaints  \\\n",
       "0         0.0                1000.0                        0.0   \n",
       "1         0.0                  94.0                        0.0   \n",
       "2     48767.0                 108.0                        0.0   \n",
       "3         0.0                 106.0                        0.0   \n",
       "4     36357.0                  68.0                        0.0   \n",
       "...       ...                   ...                        ...   \n",
       "7065  71941.0                  73.0                        0.0   \n",
       "7066  21604.0                  79.0                        0.0   \n",
       "7067      0.0                  85.0                        3.0   \n",
       "7068  21941.0                  96.0                        0.0   \n",
       "7069      0.0                  77.0                        0.0   \n",
       "\n",
       "         policy type  vehicle class  total claim amount  \n",
       "0      Personal Auto  Four-Door Car            2.704934  \n",
       "1      Personal Auto  Four-Door Car         1131.464935  \n",
       "2      Personal Auto   Two-Door Car          566.472247  \n",
       "3     Corporate Auto            SUV          529.881344  \n",
       "4      Personal Auto  Four-Door Car           17.269323  \n",
       "...              ...            ...                 ...  \n",
       "7065   Personal Auto  Four-Door Car          198.234764  \n",
       "7066  Corporate Auto  Four-Door Car          379.200000  \n",
       "7067  Corporate Auto  Four-Door Car          790.784983  \n",
       "7068   Personal Auto  Four-Door Car          691.200000  \n",
       "7069  Corporate Auto   Two-Door Car          369.600000  \n",
       "\n",
       "[9135 rows x 10 columns]"
      ]
     },
     "execution_count": 54,
     "metadata": {},
     "output_type": "execute_result"
    }
   ],
   "source": [
    "CA"
   ]
  },
  {
   "cell_type": "markdown",
   "id": "8294b4c7",
   "metadata": {},
   "source": [
    "## Activity 2, January 18th"
   ]
  },
  {
   "cell_type": "markdown",
   "id": "5a292ab5",
   "metadata": {},
   "source": [
    "#### - Replacing null values – Replace missing values with means of the column (for numerical columns). Pay attention that the Income feature for instance has 0s which is equivalent to null values. (We assume here that there is no such income with 0 as it refers to missing values) Hint: numpy.nan is considered of float64 data type."
   ]
  },
  {
   "cell_type": "code",
   "execution_count": 55,
   "id": "ed69b4d4",
   "metadata": {},
   "outputs": [],
   "source": [
    "## replace null values with means\n",
    "### 1st I calculate the mean of the variable and then I replace the null values with the mean"
   ]
  },
  {
   "cell_type": "code",
   "execution_count": 56,
   "id": "90a3f7ed",
   "metadata": {},
   "outputs": [],
   "source": [
    "### customer lifetime value\n",
    "mean_customer_lifetime_value = np.mean(CA['customer lifetime value'])"
   ]
  },
  {
   "cell_type": "code",
   "execution_count": 57,
   "id": "f94f08c8",
   "metadata": {},
   "outputs": [],
   "source": [
    "CA['customer lifetime value'] = CA['customer lifetime value'].fillna(mean_customer_lifetime_value)"
   ]
  },
  {
   "cell_type": "code",
   "execution_count": 58,
   "id": "9b578147",
   "metadata": {
    "scrolled": true
   },
   "outputs": [
    {
     "data": {
      "text/plain": [
       "False    9135\n",
       "Name: customer lifetime value, dtype: int64"
      ]
     },
     "execution_count": 58,
     "metadata": {},
     "output_type": "execute_result"
    }
   ],
   "source": [
    "CA['customer lifetime value'].isna().value_counts()"
   ]
  },
  {
   "cell_type": "code",
   "execution_count": 59,
   "id": "7a7b076d",
   "metadata": {},
   "outputs": [],
   "source": [
    "### monthly premium auto\n",
    "mean_monthly_premium_auto = np.mean(CA['monthly premium auto'])"
   ]
  },
  {
   "cell_type": "code",
   "execution_count": 60,
   "id": "93891d33",
   "metadata": {},
   "outputs": [],
   "source": [
    "CA['monthly premium auto'] = CA['monthly premium auto'].fillna(mean_monthly_premium_auto)"
   ]
  },
  {
   "cell_type": "code",
   "execution_count": 61,
   "id": "6c3d2be4",
   "metadata": {},
   "outputs": [
    {
     "data": {
      "text/plain": [
       "False    9134\n",
       "True        1\n",
       "Name: total claim amount, dtype: int64"
      ]
     },
     "execution_count": 61,
     "metadata": {},
     "output_type": "execute_result"
    }
   ],
   "source": [
    "### total claim amount\n",
    "CA['total claim amount'].isna().value_counts()"
   ]
  },
  {
   "cell_type": "code",
   "execution_count": 62,
   "id": "31e16dac",
   "metadata": {},
   "outputs": [],
   "source": [
    "mean_total_claim_amount = np.mean(CA['total claim amount'])"
   ]
  },
  {
   "cell_type": "code",
   "execution_count": 63,
   "id": "4a8935ff",
   "metadata": {},
   "outputs": [],
   "source": [
    "CA['total claim amount'] = CA['total claim amount'].fillna(mean_total_claim_amount)"
   ]
  },
  {
   "cell_type": "code",
   "execution_count": 64,
   "id": "b8e7419d",
   "metadata": {},
   "outputs": [],
   "source": [
    "mean_number_open_complaints = np.mean(CA['number of open complaints'])"
   ]
  },
  {
   "cell_type": "code",
   "execution_count": 65,
   "id": "a2276a76",
   "metadata": {},
   "outputs": [],
   "source": [
    "CA['number of open complaints'] = CA['number of open complaints'].fillna(mean_number_open_complaints)"
   ]
  },
  {
   "cell_type": "code",
   "execution_count": 66,
   "id": "66ba2f24",
   "metadata": {},
   "outputs": [],
   "source": [
    "### income, in this case there are values with 0, that I am going to interprete as null values as well.\n",
    "mean_income = np.mean(CA['income'])"
   ]
  },
  {
   "cell_type": "code",
   "execution_count": 67,
   "id": "41afcd76",
   "metadata": {},
   "outputs": [],
   "source": [
    "def income_clean(i):\n",
    "    if i == 0:\n",
    "        return mean_income\n",
    "    else:\n",
    "        return i"
   ]
  },
  {
   "cell_type": "code",
   "execution_count": 68,
   "id": "3f197188",
   "metadata": {},
   "outputs": [
    {
     "data": {
      "text/plain": [
       "array([37824.84705496, 48767.        , 36357.        , ...,\n",
       "       66367.        , 71941.        , 21941.        ])"
      ]
     },
     "execution_count": 68,
     "metadata": {},
     "output_type": "execute_result"
    }
   ],
   "source": [
    "CA['income'] = list(map(income_clean, CA['income']))\n",
    "CA['income'].unique()"
   ]
  },
  {
   "cell_type": "code",
   "execution_count": 69,
   "id": "c3ad4a40",
   "metadata": {},
   "outputs": [],
   "source": [
    "CA['income'] = CA['income'].fillna(mean_income)"
   ]
  },
  {
   "cell_type": "code",
   "execution_count": 70,
   "id": "ad1026e9",
   "metadata": {},
   "outputs": [
    {
     "data": {
      "text/plain": [
       "False    9135\n",
       "Name: income, dtype: int64"
      ]
     },
     "execution_count": 70,
     "metadata": {},
     "output_type": "execute_result"
    }
   ],
   "source": [
    "CA['income'].isna().value_counts()"
   ]
  },
  {
   "cell_type": "code",
   "execution_count": 71,
   "id": "637b7d07",
   "metadata": {},
   "outputs": [
    {
     "name": "stdout",
     "output_type": "stream",
     "text": [
      "<class 'pandas.core.frame.DataFrame'>\n",
      "Int64Index: 9135 entries, 0 to 7069\n",
      "Data columns (total 10 columns):\n",
      " #   Column                     Non-Null Count  Dtype  \n",
      "---  ------                     --------------  -----  \n",
      " 0   st                         9134 non-null   object \n",
      " 1   gender                     9012 non-null   object \n",
      " 2   education                  9134 non-null   object \n",
      " 3   customer lifetime value    9135 non-null   float64\n",
      " 4   income                     9135 non-null   float64\n",
      " 5   monthly premium auto       9135 non-null   float64\n",
      " 6   number of open complaints  9135 non-null   float64\n",
      " 7   policy type                9134 non-null   object \n",
      " 8   vehicle class              9134 non-null   object \n",
      " 9   total claim amount         9135 non-null   float64\n",
      "dtypes: float64(5), object(5)\n",
      "memory usage: 785.0+ KB\n"
     ]
    }
   ],
   "source": [
    "CA.info()"
   ]
  },
  {
   "cell_type": "markdown",
   "id": "514e09a3",
   "metadata": {},
   "source": [
    "#### - Bucketing the data - Write a function to replace column \"State\" to different zones. California as West Region, Oregon as North West, and Washington as East, and Arizona and Nevada as Central"
   ]
  },
  {
   "cell_type": "code",
   "execution_count": 72,
   "id": "bc379b22",
   "metadata": {
    "scrolled": false
   },
   "outputs": [
    {
     "data": {
      "text/plain": [
       "0       Washington\n",
       "1          Arizona\n",
       "2           Nevada\n",
       "3       California\n",
       "4       Washington\n",
       "           ...    \n",
       "7065    California\n",
       "7066    California\n",
       "7067    California\n",
       "7068    California\n",
       "7069    California\n",
       "Name: st, Length: 9135, dtype: object"
      ]
     },
     "execution_count": 72,
     "metadata": {},
     "output_type": "execute_result"
    }
   ],
   "source": [
    "CA['st']"
   ]
  },
  {
   "cell_type": "code",
   "execution_count": 73,
   "id": "7f7fb467",
   "metadata": {},
   "outputs": [],
   "source": [
    "def st_clean_2(i):\n",
    "    #if i == 'Washington':\n",
    "     #   return 'east'\n",
    "   # if i == 'Arizona' or 'Nevada':\n",
    "    #    return 'central'\n",
    "    if i == 'California':\n",
    "        return \"west region\"\n",
    "    if i == 'Oregon':\n",
    "        return \"north west\"\n",
    "    if i == 'Arizona' or i == \"Nevada\":\n",
    "        return \"central\"\n",
    "    if i == 'Washington':\n",
    "        return 'east' \n",
    "    else:\n",
    "        return i"
   ]
  },
  {
   "cell_type": "code",
   "execution_count": 74,
   "id": "28114bb0",
   "metadata": {},
   "outputs": [
    {
     "data": {
      "text/plain": [
       "array(['Washington', 'Arizona', 'Nevada', 'California', 'Oregon', nan],\n",
       "      dtype=object)"
      ]
     },
     "execution_count": 74,
     "metadata": {},
     "output_type": "execute_result"
    }
   ],
   "source": [
    "CA['st'].unique()"
   ]
  },
  {
   "cell_type": "code",
   "execution_count": 75,
   "id": "f548ed55",
   "metadata": {},
   "outputs": [],
   "source": [
    " x= list(map(st_clean_2, CA['st']))"
   ]
  },
  {
   "cell_type": "code",
   "execution_count": 76,
   "id": "8d428967",
   "metadata": {},
   "outputs": [
    {
     "data": {
      "text/plain": [
       "{'central', 'east', nan, 'north west', 'west region'}"
      ]
     },
     "execution_count": 76,
     "metadata": {},
     "output_type": "execute_result"
    }
   ],
   "source": [
    "set(x)"
   ]
  },
  {
   "cell_type": "code",
   "execution_count": 77,
   "id": "31f5872c",
   "metadata": {},
   "outputs": [],
   "source": [
    "CA['st'] = list(map(st_clean_2, CA['st']))"
   ]
  },
  {
   "cell_type": "code",
   "execution_count": 78,
   "id": "1c95b433",
   "metadata": {},
   "outputs": [
    {
     "data": {
      "text/plain": [
       "array(['east', 'central', 'west region', 'north west', nan], dtype=object)"
      ]
     },
     "execution_count": 78,
     "metadata": {},
     "output_type": "execute_result"
    }
   ],
   "source": [
    "CA['st'].unique()"
   ]
  },
  {
   "cell_type": "markdown",
   "id": "d90d3085",
   "metadata": {},
   "source": [
    "#### - (Optional) In the column Vehicle Class, merge the two categories Luxury SUV and Luxury Car into one category named Luxury Vehicle\n"
   ]
  },
  {
   "cell_type": "code",
   "execution_count": 79,
   "id": "17f56b4c",
   "metadata": {},
   "outputs": [
    {
     "data": {
      "text/plain": [
       "array(['Four-Door Car', 'Two-Door Car', 'SUV', 'Luxury SUV', 'Sports Car',\n",
       "       'Luxury Car', nan], dtype=object)"
      ]
     },
     "execution_count": 79,
     "metadata": {},
     "output_type": "execute_result"
    }
   ],
   "source": [
    "CA['vehicle class'].unique()"
   ]
  },
  {
   "cell_type": "code",
   "execution_count": 80,
   "id": "80d36020",
   "metadata": {
    "scrolled": true
   },
   "outputs": [],
   "source": [
    "def vehicle_class_clean(i):\n",
    "    if i == 'Luxury SUV':\n",
    "        return 'luxury'\n",
    "    elif i == 'Luxury Car':\n",
    "        return 'luxury'\n",
    "    else:\n",
    "        return i"
   ]
  },
  {
   "cell_type": "code",
   "execution_count": 81,
   "id": "7107dbda",
   "metadata": {},
   "outputs": [],
   "source": [
    "CA['vehicle class'] = list(map(vehicle_class_clean, CA['vehicle class']))"
   ]
  },
  {
   "cell_type": "code",
   "execution_count": 82,
   "id": "7ca5ad37",
   "metadata": {},
   "outputs": [
    {
     "data": {
      "text/plain": [
       "array(['Four-Door Car', 'Two-Door Car', 'SUV', 'luxury', 'Sports Car',\n",
       "       nan], dtype=object)"
      ]
     },
     "execution_count": 82,
     "metadata": {},
     "output_type": "execute_result"
    }
   ],
   "source": [
    "CA['vehicle class'].unique()"
   ]
  },
  {
   "cell_type": "markdown",
   "id": "b41de6a7",
   "metadata": {},
   "source": [
    "#### - (Optional) Removing outliers using 1.5*IQR technique for all numerical columns."
   ]
  },
  {
   "cell_type": "code",
   "execution_count": 83,
   "id": "a8f4a2a7",
   "metadata": {},
   "outputs": [],
   "source": [
    "## removing outliers for numerical columns: customer lifetime value, income, monthly premium auto, number of open complaints and total claim amount"
   ]
  },
  {
   "cell_type": "code",
   "execution_count": 84,
   "id": "192710eb",
   "metadata": {},
   "outputs": [],
   "source": [
    "## first I calculate IQR = 3rd quartile(75%) - 1st quartile(25%)"
   ]
  },
  {
   "cell_type": "code",
   "execution_count": 85,
   "id": "1f8d8cf2",
   "metadata": {},
   "outputs": [],
   "source": [
    "q3_customer_lifetime_value = np.percentile(CA['customer lifetime value'], 75)"
   ]
  },
  {
   "cell_type": "code",
   "execution_count": 86,
   "id": "f36c485d",
   "metadata": {},
   "outputs": [],
   "source": [
    "q1_customer_lifetime_value = np.percentile(CA['customer lifetime value'], 25)"
   ]
  },
  {
   "cell_type": "code",
   "execution_count": 87,
   "id": "80776b48",
   "metadata": {},
   "outputs": [
    {
     "data": {
      "text/plain": [
       "26200.180650000002"
      ]
     },
     "execution_count": 87,
     "metadata": {},
     "output_type": "execute_result"
    }
   ],
   "source": [
    "q3_customer_lifetime_value"
   ]
  },
  {
   "cell_type": "code",
   "execution_count": 88,
   "id": "c6a96da2",
   "metadata": {},
   "outputs": [
    {
     "data": {
      "text/plain": [
       "4650.063763"
      ]
     },
     "execution_count": 88,
     "metadata": {},
     "output_type": "execute_result"
    }
   ],
   "source": [
    "q1_customer_lifetime_value"
   ]
  },
  {
   "cell_type": "code",
   "execution_count": 89,
   "id": "4caf0c93",
   "metadata": {},
   "outputs": [],
   "source": [
    "IQR_customer_lifetime_value = q3_customer_lifetime_value - q1_customer_lifetime_value"
   ]
  },
  {
   "cell_type": "code",
   "execution_count": 90,
   "id": "8d3b91b1",
   "metadata": {
    "scrolled": false
   },
   "outputs": [
    {
     "data": {
      "text/plain": [
       "21550.116887000004"
      ]
     },
     "execution_count": 90,
     "metadata": {},
     "output_type": "execute_result"
    }
   ],
   "source": [
    "IQR_customer_lifetime_value"
   ]
  },
  {
   "cell_type": "code",
   "execution_count": 91,
   "id": "5b96ad94",
   "metadata": {},
   "outputs": [],
   "source": [
    "## Now, I want to see if there are outliers. Creating to variable for upper and lower bounds and checking if there are greater o lower observations"
   ]
  },
  {
   "cell_type": "code",
   "execution_count": 92,
   "id": "a847b0af",
   "metadata": {},
   "outputs": [],
   "source": [
    "x_upper= q3_customer_lifetime_value + (IQR_customer_lifetime_value*1.5)\n",
    "x_lower= q1_customer_lifetime_value - (IQR_customer_lifetime_value*1.5)"
   ]
  },
  {
   "cell_type": "code",
   "execution_count": 93,
   "id": "93ea3fed",
   "metadata": {},
   "outputs": [
    {
     "data": {
      "text/plain": [
       "58525.35598050001"
      ]
     },
     "execution_count": 93,
     "metadata": {},
     "output_type": "execute_result"
    }
   ],
   "source": [
    "x_upper"
   ]
  },
  {
   "cell_type": "code",
   "execution_count": 94,
   "id": "0fd7c709",
   "metadata": {},
   "outputs": [
    {
     "data": {
      "text/plain": [
       "-27675.111567500004"
      ]
     },
     "execution_count": 94,
     "metadata": {},
     "output_type": "execute_result"
    }
   ],
   "source": [
    "x_lower"
   ]
  },
  {
   "cell_type": "code",
   "execution_count": 112,
   "id": "eeeaf6f4",
   "metadata": {},
   "outputs": [
    {
     "data": {
      "text/plain": [
       "count    9.135000e+03\n",
       "mean     1.820715e+05\n",
       "std      4.408533e+05\n",
       "min      1.898008e+03\n",
       "25%      4.650064e+03\n",
       "50%      7.716998e+03\n",
       "75%      2.620018e+04\n",
       "max      5.816655e+06\n",
       "Name: customer lifetime value, dtype: float64"
      ]
     },
     "execution_count": 112,
     "metadata": {},
     "output_type": "execute_result"
    }
   ],
   "source": [
    "CA['customer lifetime value'].describe()"
   ]
  },
  {
   "cell_type": "code",
   "execution_count": 95,
   "id": "85e3f950",
   "metadata": {},
   "outputs": [],
   "source": [
    "x = CA['customer lifetime value'] > x_upper"
   ]
  },
  {
   "cell_type": "code",
   "execution_count": 96,
   "id": "8c20f7ad",
   "metadata": {},
   "outputs": [],
   "source": [
    "x2 = CA['customer lifetime value'] < x_lower"
   ]
  },
  {
   "cell_type": "code",
   "execution_count": 97,
   "id": "6b03eb2f",
   "metadata": {
    "scrolled": true
   },
   "outputs": [
    {
     "data": {
      "text/plain": [
       "False    7061\n",
       "True     2074\n",
       "Name: customer lifetime value, dtype: int64"
      ]
     },
     "execution_count": 97,
     "metadata": {},
     "output_type": "execute_result"
    }
   ],
   "source": [
    "x.value_counts()"
   ]
  },
  {
   "cell_type": "code",
   "execution_count": 98,
   "id": "e2f8e03e",
   "metadata": {},
   "outputs": [
    {
     "data": {
      "text/plain": [
       "False    9135\n",
       "Name: customer lifetime value, dtype: int64"
      ]
     },
     "execution_count": 98,
     "metadata": {},
     "output_type": "execute_result"
    }
   ],
   "source": [
    "x2.value_counts()"
   ]
  },
  {
   "cell_type": "code",
   "execution_count": 156,
   "id": "f8504aec",
   "metadata": {},
   "outputs": [],
   "source": [
    "def outlier(x):\n",
    "    q3 = np.percentile(x, 75)\n",
    "    q1 = np.percentile(x, 25)\n",
    "    IQR = q3 - q1\n",
    "    upper = q3 + 1.5*IQR\n",
    "    lower = q1 - 1.5*IQR\n",
    "    if x > upper == True:\n",
    "        return x.drop()\n",
    "    elif x < lower == True:\n",
    "        return x.drop()\n",
    "    else:\n",
    "        return x"
   ]
  },
  {
   "cell_type": "code",
   "execution_count": 157,
   "id": "9581a232",
   "metadata": {},
   "outputs": [
    {
     "ename": "ValueError",
     "evalue": "The truth value of a Series is ambiguous. Use a.empty, a.bool(), a.item(), a.any() or a.all().",
     "output_type": "error",
     "traceback": [
      "\u001b[1;31m---------------------------------------------------------------------------\u001b[0m",
      "\u001b[1;31mValueError\u001b[0m                                Traceback (most recent call last)",
      "\u001b[1;32m~\\AppData\\Local\\Temp\\ipykernel_8296\\1892088625.py\u001b[0m in \u001b[0;36m<module>\u001b[1;34m\u001b[0m\n\u001b[1;32m----> 1\u001b[1;33m \u001b[0moutlier\u001b[0m\u001b[1;33m(\u001b[0m\u001b[0mCA\u001b[0m\u001b[1;33m[\u001b[0m\u001b[1;34m'income'\u001b[0m\u001b[1;33m]\u001b[0m\u001b[1;33m)\u001b[0m\u001b[1;33m\u001b[0m\u001b[1;33m\u001b[0m\u001b[0m\n\u001b[0m",
      "\u001b[1;32m~\\AppData\\Local\\Temp\\ipykernel_8296\\33943572.py\u001b[0m in \u001b[0;36moutlier\u001b[1;34m(x)\u001b[0m\n\u001b[0;32m      5\u001b[0m     \u001b[0mupper\u001b[0m \u001b[1;33m=\u001b[0m \u001b[0mq3\u001b[0m \u001b[1;33m+\u001b[0m \u001b[1;36m1.5\u001b[0m\u001b[1;33m*\u001b[0m\u001b[0mIQR\u001b[0m\u001b[1;33m\u001b[0m\u001b[1;33m\u001b[0m\u001b[0m\n\u001b[0;32m      6\u001b[0m     \u001b[0mlower\u001b[0m \u001b[1;33m=\u001b[0m \u001b[0mq1\u001b[0m \u001b[1;33m-\u001b[0m \u001b[1;36m1.5\u001b[0m\u001b[1;33m*\u001b[0m\u001b[0mIQR\u001b[0m\u001b[1;33m\u001b[0m\u001b[1;33m\u001b[0m\u001b[0m\n\u001b[1;32m----> 7\u001b[1;33m     \u001b[1;32mif\u001b[0m \u001b[0mx\u001b[0m \u001b[1;33m>\u001b[0m \u001b[0mupper\u001b[0m \u001b[1;33m==\u001b[0m \u001b[1;32mTrue\u001b[0m\u001b[1;33m:\u001b[0m\u001b[1;33m\u001b[0m\u001b[1;33m\u001b[0m\u001b[0m\n\u001b[0m\u001b[0;32m      8\u001b[0m         \u001b[1;32mreturn\u001b[0m \u001b[0mx\u001b[0m\u001b[1;33m.\u001b[0m\u001b[0mdrop\u001b[0m\u001b[1;33m(\u001b[0m\u001b[1;33m)\u001b[0m\u001b[1;33m\u001b[0m\u001b[1;33m\u001b[0m\u001b[0m\n\u001b[0;32m      9\u001b[0m     \u001b[1;32melif\u001b[0m \u001b[0mx\u001b[0m \u001b[1;33m<\u001b[0m \u001b[0mlower\u001b[0m \u001b[1;33m==\u001b[0m \u001b[1;32mTrue\u001b[0m\u001b[1;33m:\u001b[0m\u001b[1;33m\u001b[0m\u001b[1;33m\u001b[0m\u001b[0m\n",
      "\u001b[1;32m~\\anaconda3\\lib\\site-packages\\pandas\\core\\generic.py\u001b[0m in \u001b[0;36m__nonzero__\u001b[1;34m(self)\u001b[0m\n\u001b[0;32m   1525\u001b[0m     \u001b[1;33m@\u001b[0m\u001b[0mfinal\u001b[0m\u001b[1;33m\u001b[0m\u001b[1;33m\u001b[0m\u001b[0m\n\u001b[0;32m   1526\u001b[0m     \u001b[1;32mdef\u001b[0m \u001b[0m__nonzero__\u001b[0m\u001b[1;33m(\u001b[0m\u001b[0mself\u001b[0m\u001b[1;33m)\u001b[0m\u001b[1;33m:\u001b[0m\u001b[1;33m\u001b[0m\u001b[1;33m\u001b[0m\u001b[0m\n\u001b[1;32m-> 1527\u001b[1;33m         raise ValueError(\n\u001b[0m\u001b[0;32m   1528\u001b[0m             \u001b[1;34mf\"The truth value of a {type(self).__name__} is ambiguous. \"\u001b[0m\u001b[1;33m\u001b[0m\u001b[1;33m\u001b[0m\u001b[0m\n\u001b[0;32m   1529\u001b[0m             \u001b[1;34m\"Use a.empty, a.bool(), a.item(), a.any() or a.all().\"\u001b[0m\u001b[1;33m\u001b[0m\u001b[1;33m\u001b[0m\u001b[0m\n",
      "\u001b[1;31mValueError\u001b[0m: The truth value of a Series is ambiguous. Use a.empty, a.bool(), a.item(), a.any() or a.all()."
     ]
    }
   ],
   "source": [
    "outlier(CA['income'])"
   ]
  },
  {
   "cell_type": "markdown",
   "id": "2d16113e",
   "metadata": {},
   "source": [
    "#### - (Optional) Standardizing the data – Use string functions to standardize the text data (lower case)\n"
   ]
  },
  {
   "cell_type": "code",
   "execution_count": 101,
   "id": "98279c5e",
   "metadata": {},
   "outputs": [],
   "source": [
    "##changing the data types of the columns to string and then lower them"
   ]
  },
  {
   "cell_type": "code",
   "execution_count": 102,
   "id": "3c02e2f4",
   "metadata": {},
   "outputs": [],
   "source": [
    "CA['gender'] = CA['gender'].astype('string')"
   ]
  },
  {
   "cell_type": "code",
   "execution_count": 103,
   "id": "2d93b655",
   "metadata": {},
   "outputs": [],
   "source": [
    "CA['gender'] = CA['gender'].str.lower()"
   ]
  },
  {
   "cell_type": "code",
   "execution_count": 104,
   "id": "d9e4a54c",
   "metadata": {},
   "outputs": [],
   "source": [
    "CA['education'] = CA['education'].astype('string')"
   ]
  },
  {
   "cell_type": "code",
   "execution_count": 105,
   "id": "5ab9e4a5",
   "metadata": {},
   "outputs": [],
   "source": [
    "CA['education'] = CA['education'].str.lower()"
   ]
  },
  {
   "cell_type": "code",
   "execution_count": 106,
   "id": "bbc21026",
   "metadata": {},
   "outputs": [],
   "source": [
    "CA['policy type'] = CA['policy type'].astype('string')"
   ]
  },
  {
   "cell_type": "code",
   "execution_count": 107,
   "id": "b7e34d40",
   "metadata": {},
   "outputs": [],
   "source": [
    "CA['policy type'] = CA['policy type'].str.lower()"
   ]
  },
  {
   "cell_type": "code",
   "execution_count": 108,
   "id": "c587d430",
   "metadata": {},
   "outputs": [],
   "source": [
    "CA['vehicle class'] = CA['vehicle class'].astype('string')"
   ]
  },
  {
   "cell_type": "code",
   "execution_count": 109,
   "id": "26566515",
   "metadata": {},
   "outputs": [],
   "source": [
    "CA['vehicle class'] = CA['vehicle class'].str.lower()"
   ]
  },
  {
   "cell_type": "code",
   "execution_count": 110,
   "id": "17e5d3d4",
   "metadata": {},
   "outputs": [],
   "source": [
    "CA['st'] = CA['st'].astype('string')"
   ]
  },
  {
   "cell_type": "code",
   "execution_count": 111,
   "id": "2eb33b8a",
   "metadata": {},
   "outputs": [
    {
     "data": {
      "text/html": [
       "<div>\n",
       "<style scoped>\n",
       "    .dataframe tbody tr th:only-of-type {\n",
       "        vertical-align: middle;\n",
       "    }\n",
       "\n",
       "    .dataframe tbody tr th {\n",
       "        vertical-align: top;\n",
       "    }\n",
       "\n",
       "    .dataframe thead th {\n",
       "        text-align: right;\n",
       "    }\n",
       "</style>\n",
       "<table border=\"1\" class=\"dataframe\">\n",
       "  <thead>\n",
       "    <tr style=\"text-align: right;\">\n",
       "      <th></th>\n",
       "      <th>st</th>\n",
       "      <th>gender</th>\n",
       "      <th>education</th>\n",
       "      <th>customer lifetime value</th>\n",
       "      <th>income</th>\n",
       "      <th>monthly premium auto</th>\n",
       "      <th>number of open complaints</th>\n",
       "      <th>policy type</th>\n",
       "      <th>vehicle class</th>\n",
       "      <th>total claim amount</th>\n",
       "    </tr>\n",
       "  </thead>\n",
       "  <tbody>\n",
       "    <tr>\n",
       "      <th>0</th>\n",
       "      <td>east</td>\n",
       "      <td>&lt;NA&gt;</td>\n",
       "      <td>master</td>\n",
       "      <td>1.820715e+05</td>\n",
       "      <td>37824.847055</td>\n",
       "      <td>1000.0</td>\n",
       "      <td>0.0</td>\n",
       "      <td>personal auto</td>\n",
       "      <td>four-door car</td>\n",
       "      <td>2.704934</td>\n",
       "    </tr>\n",
       "    <tr>\n",
       "      <th>1</th>\n",
       "      <td>central</td>\n",
       "      <td>female</td>\n",
       "      <td>bachelor</td>\n",
       "      <td>6.979536e+05</td>\n",
       "      <td>37824.847055</td>\n",
       "      <td>94.0</td>\n",
       "      <td>0.0</td>\n",
       "      <td>personal auto</td>\n",
       "      <td>four-door car</td>\n",
       "      <td>1131.464935</td>\n",
       "    </tr>\n",
       "    <tr>\n",
       "      <th>2</th>\n",
       "      <td>central</td>\n",
       "      <td>female</td>\n",
       "      <td>bachelor</td>\n",
       "      <td>1.288743e+06</td>\n",
       "      <td>48767.000000</td>\n",
       "      <td>108.0</td>\n",
       "      <td>0.0</td>\n",
       "      <td>personal auto</td>\n",
       "      <td>two-door car</td>\n",
       "      <td>566.472247</td>\n",
       "    </tr>\n",
       "    <tr>\n",
       "      <th>3</th>\n",
       "      <td>west region</td>\n",
       "      <td>male</td>\n",
       "      <td>bachelor</td>\n",
       "      <td>7.645862e+05</td>\n",
       "      <td>37824.847055</td>\n",
       "      <td>106.0</td>\n",
       "      <td>0.0</td>\n",
       "      <td>corporate auto</td>\n",
       "      <td>suv</td>\n",
       "      <td>529.881344</td>\n",
       "    </tr>\n",
       "    <tr>\n",
       "      <th>4</th>\n",
       "      <td>east</td>\n",
       "      <td>male</td>\n",
       "      <td>high school or below</td>\n",
       "      <td>5.363077e+05</td>\n",
       "      <td>36357.000000</td>\n",
       "      <td>68.0</td>\n",
       "      <td>0.0</td>\n",
       "      <td>personal auto</td>\n",
       "      <td>four-door car</td>\n",
       "      <td>17.269323</td>\n",
       "    </tr>\n",
       "    <tr>\n",
       "      <th>...</th>\n",
       "      <td>...</td>\n",
       "      <td>...</td>\n",
       "      <td>...</td>\n",
       "      <td>...</td>\n",
       "      <td>...</td>\n",
       "      <td>...</td>\n",
       "      <td>...</td>\n",
       "      <td>...</td>\n",
       "      <td>...</td>\n",
       "      <td>...</td>\n",
       "    </tr>\n",
       "    <tr>\n",
       "      <th>7065</th>\n",
       "      <td>west region</td>\n",
       "      <td>male</td>\n",
       "      <td>bachelor</td>\n",
       "      <td>2.340599e+04</td>\n",
       "      <td>71941.000000</td>\n",
       "      <td>73.0</td>\n",
       "      <td>0.0</td>\n",
       "      <td>personal auto</td>\n",
       "      <td>four-door car</td>\n",
       "      <td>198.234764</td>\n",
       "    </tr>\n",
       "    <tr>\n",
       "      <th>7066</th>\n",
       "      <td>west region</td>\n",
       "      <td>female</td>\n",
       "      <td>college</td>\n",
       "      <td>3.096511e+03</td>\n",
       "      <td>21604.000000</td>\n",
       "      <td>79.0</td>\n",
       "      <td>0.0</td>\n",
       "      <td>corporate auto</td>\n",
       "      <td>four-door car</td>\n",
       "      <td>379.200000</td>\n",
       "    </tr>\n",
       "    <tr>\n",
       "      <th>7067</th>\n",
       "      <td>west region</td>\n",
       "      <td>male</td>\n",
       "      <td>bachelor</td>\n",
       "      <td>8.163890e+03</td>\n",
       "      <td>37824.847055</td>\n",
       "      <td>85.0</td>\n",
       "      <td>3.0</td>\n",
       "      <td>corporate auto</td>\n",
       "      <td>four-door car</td>\n",
       "      <td>790.784983</td>\n",
       "    </tr>\n",
       "    <tr>\n",
       "      <th>7068</th>\n",
       "      <td>west region</td>\n",
       "      <td>male</td>\n",
       "      <td>college</td>\n",
       "      <td>7.524442e+03</td>\n",
       "      <td>21941.000000</td>\n",
       "      <td>96.0</td>\n",
       "      <td>0.0</td>\n",
       "      <td>personal auto</td>\n",
       "      <td>four-door car</td>\n",
       "      <td>691.200000</td>\n",
       "    </tr>\n",
       "    <tr>\n",
       "      <th>7069</th>\n",
       "      <td>west region</td>\n",
       "      <td>male</td>\n",
       "      <td>college</td>\n",
       "      <td>2.611837e+03</td>\n",
       "      <td>37824.847055</td>\n",
       "      <td>77.0</td>\n",
       "      <td>0.0</td>\n",
       "      <td>corporate auto</td>\n",
       "      <td>two-door car</td>\n",
       "      <td>369.600000</td>\n",
       "    </tr>\n",
       "  </tbody>\n",
       "</table>\n",
       "<p>9135 rows × 10 columns</p>\n",
       "</div>"
      ],
      "text/plain": [
       "               st  gender             education  customer lifetime value  \\\n",
       "0            east    <NA>                master             1.820715e+05   \n",
       "1         central  female              bachelor             6.979536e+05   \n",
       "2         central  female              bachelor             1.288743e+06   \n",
       "3     west region    male              bachelor             7.645862e+05   \n",
       "4            east    male  high school or below             5.363077e+05   \n",
       "...           ...     ...                   ...                      ...   \n",
       "7065  west region    male              bachelor             2.340599e+04   \n",
       "7066  west region  female               college             3.096511e+03   \n",
       "7067  west region    male              bachelor             8.163890e+03   \n",
       "7068  west region    male               college             7.524442e+03   \n",
       "7069  west region    male               college             2.611837e+03   \n",
       "\n",
       "            income  monthly premium auto  number of open complaints  \\\n",
       "0     37824.847055                1000.0                        0.0   \n",
       "1     37824.847055                  94.0                        0.0   \n",
       "2     48767.000000                 108.0                        0.0   \n",
       "3     37824.847055                 106.0                        0.0   \n",
       "4     36357.000000                  68.0                        0.0   \n",
       "...            ...                   ...                        ...   \n",
       "7065  71941.000000                  73.0                        0.0   \n",
       "7066  21604.000000                  79.0                        0.0   \n",
       "7067  37824.847055                  85.0                        3.0   \n",
       "7068  21941.000000                  96.0                        0.0   \n",
       "7069  37824.847055                  77.0                        0.0   \n",
       "\n",
       "         policy type  vehicle class  total claim amount  \n",
       "0      personal auto  four-door car            2.704934  \n",
       "1      personal auto  four-door car         1131.464935  \n",
       "2      personal auto   two-door car          566.472247  \n",
       "3     corporate auto            suv          529.881344  \n",
       "4      personal auto  four-door car           17.269323  \n",
       "...              ...            ...                 ...  \n",
       "7065   personal auto  four-door car          198.234764  \n",
       "7066  corporate auto  four-door car          379.200000  \n",
       "7067  corporate auto  four-door car          790.784983  \n",
       "7068   personal auto  four-door car          691.200000  \n",
       "7069  corporate auto   two-door car          369.600000  \n",
       "\n",
       "[9135 rows x 10 columns]"
      ]
     },
     "execution_count": 111,
     "metadata": {},
     "output_type": "execute_result"
    }
   ],
   "source": [
    "CA"
   ]
  }
 ],
 "metadata": {
  "kernelspec": {
   "display_name": "Python 3 (ipykernel)",
   "language": "python",
   "name": "python3"
  },
  "language_info": {
   "codemirror_mode": {
    "name": "ipython",
    "version": 3
   },
   "file_extension": ".py",
   "mimetype": "text/x-python",
   "name": "python",
   "nbconvert_exporter": "python",
   "pygments_lexer": "ipython3",
   "version": "3.9.13"
  }
 },
 "nbformat": 4,
 "nbformat_minor": 5
}
