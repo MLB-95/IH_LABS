{
 "cells": [
  {
   "cell_type": "markdown",
   "metadata": {},
   "source": [
    "<img src=\"https://bit.ly/2VnXWr2\" width=\"100\" align=\"left\">"
   ]
  },
  {
   "cell_type": "markdown",
   "metadata": {},
   "source": [
    "# Rock, Paper & Scissors\n",
    "\n",
    "Let's play the famous game against our computer. You can check the rules [here](https://en.wikipedia.org/wiki/Rock%E2%80%93paper%E2%80%93scissors). \n",
    "\n",
    "## Task\n",
    "Create a program that imitates the playability of the well known game of rock, paper, scissors. Follow the guidelines provided.\n",
    "\n",
    "## Tools\n",
    "1. Loop: **for/while**\n",
    "2. Functions: **input(), print()...**\n",
    "3. Conditional statements: **if, elif, else**\n",
    "4. Definition of functions. Modular programming\n",
    "5. Import modules\n",
    "\n",
    "- **To solve this challenge, the use of functions is recommended.**\n",
    "- <b>Hint: You dont need necessarily to follow the instructions in this notebook to solve the tasks. simply just get the job done effeciently ;) \n",
    "\n",
    "#### 1. Import the choice function of the random module."
   ]
  },
  {
   "cell_type": "code",
   "execution_count": 1,
   "metadata": {},
   "outputs": [],
   "source": [
    "import random"
   ]
  },
  {
   "cell_type": "markdown",
   "metadata": {},
   "source": [
    "#### 2. Create a list that includes the 3 possible gesture options of the game: 'rock', 'paper' or 'scissors'. Store the list in a variable called `gestures`."
   ]
  },
  {
   "cell_type": "code",
   "execution_count": 2,
   "metadata": {},
   "outputs": [],
   "source": [
    "gestures = [\"rock\", \"paper\", \"scissors\"]"
   ]
  },
  {
   "cell_type": "markdown",
   "metadata": {},
   "source": [
    "#### 3. Create a variable called `n_rounds` to store the maximum number of rounds to play in a game. \n",
    "Remember that the number of rounds must be odd: 1, 3, 5, ..."
   ]
  },
  {
   "cell_type": "code",
   "execution_count": 3,
   "metadata": {},
   "outputs": [],
   "source": [
    "cpu_score = 0\n",
    "player_score = 0"
   ]
  },
  {
   "cell_type": "code",
   "execution_count": null,
   "metadata": {},
   "outputs": [],
   "source": [
    "n_rounds = 3"
   ]
  },
  {
   "cell_type": "markdown",
   "metadata": {},
   "source": [
    "#### 4. Create a variable called `rounds_to_win` to store the number of rounds that a player must win to win the game.\n",
    "**Hint**: the value stored in `rounds_to_win` depends on the value of `n_rounds`. "
   ]
  },
  {
   "cell_type": "code",
   "execution_count": 5,
   "metadata": {},
   "outputs": [],
   "source": [
    "rounds_to_win = 2"
   ]
  },
  {
   "cell_type": "markdown",
   "metadata": {},
   "source": [
    "#### 5. Create two variables to store the number of rounds that the computer and the player have won. Call these variables `cpu_score` and `player_score`."
   ]
  },
  {
   "cell_type": "code",
   "execution_count": 5,
   "metadata": {},
   "outputs": [],
   "source": []
  },
  {
   "cell_type": "markdown",
   "metadata": {},
   "source": [
    "#### 6. Define a function that randomly returns one of the 3 gesture options.\n",
    "You will use this function to simulate the gesture choice of the computer. "
   ]
  },
  {
   "cell_type": "code",
   "execution_count": 7,
   "metadata": {},
   "outputs": [
    {
     "data": {
      "text/plain": [
       "'paper'"
      ]
     },
     "execution_count": 7,
     "metadata": {},
     "output_type": "execute_result"
    }
   ],
   "source": [
    "gestures = [\"rock\", \"paper\", \"scissors\"]\n",
    "\n",
    "random.choice(gestures)\n",
    "\n",
    "def cpu_choice():\n",
    "    return random.choice(gestures)\n",
    "\n",
    "cpu_choice()"
   ]
  },
  {
   "cell_type": "code",
   "execution_count": 8,
   "metadata": {},
   "outputs": [
    {
     "data": {
      "text/plain": [
       "'scissors'"
      ]
     },
     "execution_count": 8,
     "metadata": {},
     "output_type": "execute_result"
    }
   ],
   "source": [
    "cpu_choice()"
   ]
  },
  {
   "cell_type": "markdown",
   "metadata": {},
   "source": [
    "#### 7. Define a function that asks the player which is the gesture he or she wants to show: 'rock', 'paper' or 'scissors'.\n",
    "The player should only be allowed to choose one of the 3 gesture options. If the player's choice is not rock, paper or scissors, keep asking until it is."
   ]
  },
  {
   "cell_type": "code",
   "execution_count": 28,
   "metadata": {},
   "outputs": [],
   "source": [
    "def player_choice():\n",
    "    return input(\"\")\n",
    "    while player_choice not in gestures:\n",
    "        return (\"please input rock, paper or scissors\")\n"
   ]
  },
  {
   "cell_type": "code",
   "execution_count": 29,
   "metadata": {
    "scrolled": true
   },
   "outputs": [
    {
     "name": "stdout",
     "output_type": "stream",
     "text": [
      "rock\n"
     ]
    },
    {
     "data": {
      "text/plain": [
       "'rock'"
      ]
     },
     "execution_count": 29,
     "metadata": {},
     "output_type": "execute_result"
    }
   ],
   "source": [
    "player_choice()"
   ]
  },
  {
   "cell_type": "code",
   "execution_count": null,
   "metadata": {},
   "outputs": [],
   "source": []
  },
  {
   "cell_type": "code",
   "execution_count": 30,
   "metadata": {},
   "outputs": [
    {
     "name": "stdout",
     "output_type": "stream",
     "text": [
      "rock\n"
     ]
    },
    {
     "data": {
      "text/plain": [
       "'rock'"
      ]
     },
     "execution_count": 30,
     "metadata": {},
     "output_type": "execute_result"
    }
   ],
   "source": [
    "player_choice()"
   ]
  },
  {
   "cell_type": "markdown",
   "metadata": {},
   "source": [
    "#### 8. Define a function that checks who won a round. \n",
    "The function should return 0 if there is a tie, 1 if the computer wins and 2 if the player wins."
   ]
  },
  {
   "cell_type": "code",
   "execution_count": null,
   "metadata": {},
   "outputs": [],
   "source": []
  },
  {
   "cell_type": "code",
   "execution_count": 35,
   "metadata": {},
   "outputs": [
    {
     "name": "stdout",
     "output_type": "stream",
     "text": [
      "paper\n",
      "cpu choice is:  rock\n",
      "player choice is:  paper\n",
      "player wins\n"
     ]
    },
    {
     "data": {
      "text/plain": [
       "2"
      ]
     },
     "execution_count": 35,
     "metadata": {},
     "output_type": "execute_result"
    }
   ],
   "source": [
    "def round(cpu_choice, player_choice):\n",
    "    print(\"cpu choice is: \", cpu_choice)\n",
    "    print(\"player choice is: \", player_choice)\n",
    "    if cpu_choice == player_choice:\n",
    "        print(\"Tie\")\n",
    "        return(0)\n",
    "    elif cpu_choice == \"rock\" and player_choice == \"scissors\" or cpu_choice == \"paper\" and player_choice == \"rock\" or cpu_choice == \"scissors\" and player_choice == \"paper\":\n",
    "        # cpu wins\n",
    "        print(\"cpu wins\")\n",
    "        return (1)\n",
    "        cpu_score +=1\n",
    "    elif player_choice == \"rock\" and cpu_choice == \"scissors\" or player_choice == \"paper\" and cpu_choice == \"rock\" or player_choice == \"scissors\" and cpu_choice == \"paper\":\n",
    "        print(\"player wins\")\n",
    "        # player wins\n",
    "        return (2)\n",
    "        player_score +=1\n",
    "    \n",
    "round(cpu_choice(), player_choice())"
   ]
  },
  {
   "cell_type": "code",
   "execution_count": null,
   "metadata": {},
   "outputs": [],
   "source": []
  },
  {
   "cell_type": "markdown",
   "metadata": {},
   "source": [
    "#### 9. Define a function that prints the choice of the computer, the choice of the player and a message that announces who won the current round. \n",
    "You should also use this function to update the variables that count the number of rounds that the computer and the player have won. The score of the winner increases by one point. If there is a tie, the score does not increase."
   ]
  },
  {
   "cell_type": "code",
   "execution_count": null,
   "metadata": {},
   "outputs": [],
   "source": []
  },
  {
   "cell_type": "code",
   "execution_count": null,
   "metadata": {},
   "outputs": [],
   "source": []
  },
  {
   "cell_type": "markdown",
   "metadata": {},
   "source": [
    "#### 10. Now it's time to code the execution of the game using the functions and variables you defined above. \n",
    "\n",
    "First, create a loop structure that repeats while no player reaches the minimum score necessary to win and the number of rounds is less than the maximum number of rounds to play in a game.  \n",
    "\n",
    "Inside the loop, use the functions and variables above to create the execution of a round: ask for the player's choice, generate the random choice of the computer, show the round results, update the scores, etc. "
   ]
  },
  {
   "cell_type": "code",
   "execution_count": 41,
   "metadata": {},
   "outputs": [
    {
     "ename": "SyntaxError",
     "evalue": "invalid syntax (1465837661.py, line 10)",
     "output_type": "error",
     "traceback": [
      "\u001b[1;36m  File \u001b[1;32m\"C:\\Users\\migue\\AppData\\Local\\Temp\\ipykernel_26280\\1465837661.py\"\u001b[1;36m, line \u001b[1;32m10\u001b[0m\n\u001b[1;33m    global cpu_score += 1\u001b[0m\n\u001b[1;37m                     ^\u001b[0m\n\u001b[1;31mSyntaxError\u001b[0m\u001b[1;31m:\u001b[0m invalid syntax\n"
     ]
    }
   ],
   "source": [
    "#define the variables\n",
    "current_round = 0\n",
    "rounds_to_win = 2\n",
    "n_rounds = 3\n",
    "    \n",
    "while player_score <= rounds_to_win or cpu_score <= rounds_to_win:\n",
    "    round(cpu_choice(), player_choice())\n",
    "    current_round += 1\n",
    "    if round == 1:\n",
    "        global cpu_score += 1\n",
    "    elif round == 2:\n",
    "        global player_score += 2\n",
    "    print(\"Current round is: \" + str(current_round))\n",
    "    print(\"player_score is: \" + str(player_score))\n",
    "    print(\"cpu_score is: \" + str(cpu_score))\n",
    "    print(\"\")\n",
    "else:\n",
    "    if player_score == rounds_to_win:\n",
    "        print ('Player won!')\n",
    "    else:\n",
    "        print ('CPU won!')\n",
    "    print (\"GAME OVER\")\n"
   ]
  },
  {
   "cell_type": "markdown",
   "metadata": {},
   "source": [
    "#### 11. Print the winner of the game based on who won more rounds.\n",
    "Remember that the game might be tied. "
   ]
  },
  {
   "cell_type": "code",
   "execution_count": null,
   "metadata": {},
   "outputs": [],
   "source": [
    "import random\n",
    "def cpu_choice():\n",
    "    cpu_choice = random.choice(gestures)\n",
    "    return cpu_choice\n",
    "def player_choice():\n",
    "    player_choice = input('please choose between rock, paper or scissors: ').lower()\n",
    "    while player_choice not in gestures:\n",
    "        print ('please choose between rock, paper or scissors: ')\n",
    "        player_choice = input().lower()\n",
    "    return player_choice\n",
    "def one_round(cpu_choice, player_choice):\n",
    "    print(\"cpu choice is: \", cpu_choice)\n",
    "    print(\"player choice is: \", player_choice)\n",
    "    if cpu_choice == player_choice:\n",
    "        print(\"Tie\")\n",
    "        return(0)\n",
    "    elif cpu_choice == \"rock\" and player_choice == \"scissors\" or cpu_choice == \"paper\" and player_choice == \"rock\" or cpu_choice == \"scissors\" and player_choice == \"paper\":\n",
    "        print(\"cpu won\")\n",
    "        return (1)\n",
    "    elif player_choice == \"rock\" and cpu_choice == \"scissors\" or player_choice == \"paper\" and cpu_choice == \"rock\" or player_choice == \"scissors\" and cpu_choice == \"paper\":\n",
    "        print(\"player won\")\n",
    "        return (2)\n",
    "gestures = ['rock', 'paper', 'scissors']\n",
    "rounds_to_win = 2\n",
    "n_rounds = 3\n",
    "def game():\n",
    "    player_score = 0 #reset the variables\n",
    "    cpu_score = 0 #reset the variables\n",
    "    current_round = 0 #reset the variables\n",
    "    while current_round < n_rounds:\n",
    "        result = one_round(cpu_choice(), player_choice()) #this is the function for 1 round\n",
    "        if result == 1:\n",
    "            cpu_score += 1\n",
    "        elif result == 2:\n",
    "            player_score += 1\n",
    "        current_round += 1\n",
    "        print(\"Current round is: \" + str(current_round))\n",
    "        print(\"Player score is: \" + str(player_score))\n",
    "        print(\"CPU score is: \" + str(cpu_score))\n",
    "        if player_score == rounds_to_win:\n",
    "            print ('Game is over, player won!')\n",
    "            break\n",
    "        elif cpu_score == rounds_to_win:\n",
    "            print ('Game is over, CPU won!')\n",
    "            break\n",
    "        elif current_round == n_rounds:\n",
    "            print ('Game is over, the game is tied!')\n",
    "\n",
    "\n",
    "\n",
    "\n",
    "\n",
    "\n",
    "\n"
   ]
  },
  {
   "cell_type": "markdown",
   "metadata": {},
   "source": [
    "# (Optional) Rock, Paper, Scissors, Lizard & Spock\n",
    "![](images/rpsls.jpg)\n",
    "\n",
    "In this challenge, you need to improve the previous game by adding two new options. To know more about the rules of the improved version of rock, paper, scissors, check this [link](http://www.samkass.com/theories/RPSSL.html). \n",
    "\n",
    "In addition, you will also need to improve how the game interacts with the player: the number of rounds to play, which must be an odd number, will be requested to the user until a valid number is entered. Define a new function to make that request.\n",
    "\n",
    "**Hint**: Try to reuse the code that you already coded in the previous challenge. If your code is efficient, this bonus will only consist of simple modifications to the original game."
   ]
  },
  {
   "cell_type": "code",
   "execution_count": null,
   "metadata": {},
   "outputs": [],
   "source": []
  }
 ],
 "metadata": {
  "kernelspec": {
   "display_name": "Python 3 (ipykernel)",
   "language": "python",
   "name": "python3"
  },
  "language_info": {
   "codemirror_mode": {
    "name": "ipython",
    "version": 3
   },
   "file_extension": ".py",
   "mimetype": "text/x-python",
   "name": "python",
   "nbconvert_exporter": "python",
   "pygments_lexer": "ipython3",
   "version": "3.9.13"
  },
  "toc": {
   "base_numbering": 1,
   "nav_menu": {},
   "number_sections": true,
   "sideBar": true,
   "skip_h1_title": false,
   "title_cell": "Table of Contents",
   "title_sidebar": "Contents",
   "toc_cell": false,
   "toc_position": {},
   "toc_section_display": true,
   "toc_window_display": false
  }
 },
 "nbformat": 4,
 "nbformat_minor": 2
}
