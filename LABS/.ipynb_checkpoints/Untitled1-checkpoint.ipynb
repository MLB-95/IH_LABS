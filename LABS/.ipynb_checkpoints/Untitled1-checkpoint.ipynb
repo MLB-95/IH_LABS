{
 "cells": [
  {
   "cell_type": "markdown",
   "id": "99e5c64b",
   "metadata": {},
   "source": [
    "# numpy exercises\n",
    "\n",
    "This is a collection of exercises that have been collected in the numpy mailing list, on stack overflow\n",
    "and in the numpy documentation. The goal of this collection is to offer a quick reference for both old\n",
    "and new users but also to provide a set of exercises for those who teach.\n",
    "\n",
    "\n",
    "If you find an error or think you've a better way to solve some of them, feel\n",
    "free to open an issue at <https://github.com/rougier/numpy-100>.\n",
    "File automatically generated. See the documentation to update questions/answers/hints programmatically.\n"
   ]
  },
  {
   "cell_type": "code",
   "execution_count": null,
   "id": "6efe8984",
   "metadata": {},
   "outputs": [],
   "source": []
  },
  {
   "cell_type": "markdown",
   "id": "0e3741be",
   "metadata": {},
   "source": [
    "#### 1. Import the numpy package under the name `np` (★☆☆)\n",
    "`hint: import … as`"
   ]
  },
  {
   "cell_type": "code",
   "execution_count": 1,
   "id": "a1498731",
   "metadata": {},
   "outputs": [],
   "source": [
    "import numpy as np"
   ]
  },
  {
   "cell_type": "markdown",
   "id": "12145aaf",
   "metadata": {},
   "source": [
    "#### 2. Create a null vector of size 10 (★☆☆)\n",
    "`hint: np.zeros`\n"
   ]
  },
  {
   "cell_type": "code",
   "execution_count": 2,
   "id": "5ffb2ec5",
   "metadata": {},
   "outputs": [],
   "source": [
    "a = np.zeros(10)"
   ]
  },
  {
   "cell_type": "code",
   "execution_count": 3,
   "id": "09e01e4a",
   "metadata": {},
   "outputs": [
    {
     "data": {
      "text/plain": [
       "array([0., 0., 0., 0., 0., 0., 0., 0., 0., 0.])"
      ]
     },
     "execution_count": 3,
     "metadata": {},
     "output_type": "execute_result"
    }
   ],
   "source": [
    "a"
   ]
  },
  {
   "cell_type": "markdown",
   "id": "756e7d8c",
   "metadata": {},
   "source": [
    "#### 3. Create a null vector of size 10 but the fifth value which is 1 (★☆☆)\n",
    "`hint: array[4]`"
   ]
  },
  {
   "cell_type": "code",
   "execution_count": 4,
   "id": "90b75be5",
   "metadata": {
    "scrolled": true
   },
   "outputs": [
    {
     "data": {
      "text/plain": [
       "array([0., 0., 0., 0., 1., 0., 0., 0., 0., 0.])"
      ]
     },
     "execution_count": 4,
     "metadata": {},
     "output_type": "execute_result"
    }
   ],
   "source": [
    "a = np.zeros(10)\n",
    "\n",
    "a[4] = 1\n",
    "\n",
    "a"
   ]
  },
  {
   "cell_type": "markdown",
   "id": "2134872f",
   "metadata": {},
   "source": [
    "#### 4. Create a vector with values ranging from 10 to 49 (★☆☆)\n",
    "`hint: arange`"
   ]
  },
  {
   "cell_type": "code",
   "execution_count": 5,
   "id": "3c06d696",
   "metadata": {},
   "outputs": [
    {
     "data": {
      "text/plain": [
       "array([10, 11, 12, 13, 14, 15, 16, 17, 18, 19, 20, 21, 22, 23, 24, 25, 26,\n",
       "       27, 28, 29, 30, 31, 32, 33, 34, 35, 36, 37, 38, 39, 40, 41, 42, 43,\n",
       "       44, 45, 46, 47, 48])"
      ]
     },
     "execution_count": 5,
     "metadata": {},
     "output_type": "execute_result"
    }
   ],
   "source": [
    "b = np.arange(10, 49)\n",
    "b"
   ]
  },
  {
   "cell_type": "markdown",
   "id": "84509b86",
   "metadata": {},
   "source": [
    "#### 5. Create a 3x3 matrix with values ranging from 0 to 8 (★☆☆)\n",
    "`hint: reshape`"
   ]
  },
  {
   "cell_type": "code",
   "execution_count": 6,
   "id": "1d403895",
   "metadata": {},
   "outputs": [
    {
     "data": {
      "text/plain": [
       "array([[0, 1, 2],\n",
       "       [3, 4, 5],\n",
       "       [6, 7, 8]])"
      ]
     },
     "execution_count": 6,
     "metadata": {},
     "output_type": "execute_result"
    }
   ],
   "source": [
    "a = np.arange(0,9).reshape(3,3)\n",
    "a"
   ]
  },
  {
   "cell_type": "markdown",
   "id": "53963261",
   "metadata": {},
   "source": [
    "#### 6. Find indices of non-zero elements from [1,2,0,0,4,0] (★☆☆)\n",
    "`hint: np.nonzero`"
   ]
  },
  {
   "cell_type": "code",
   "execution_count": 7,
   "id": "a7779d6f",
   "metadata": {},
   "outputs": [
    {
     "data": {
      "text/plain": [
       "array([1, 2, 4])"
      ]
     },
     "execution_count": 7,
     "metadata": {},
     "output_type": "execute_result"
    }
   ],
   "source": [
    "a = np.array([1,2,0,0,4,0])\n",
    "\n",
    "a[np.nonzero(a)]"
   ]
  },
  {
   "cell_type": "markdown",
   "id": "19ca6080",
   "metadata": {},
   "source": [
    "#### 7. Create a 3x3 identity matrix (★☆☆)\n",
    "`hint: np.eye`\n"
   ]
  },
  {
   "cell_type": "code",
   "execution_count": 8,
   "id": "068fd086",
   "metadata": {},
   "outputs": [
    {
     "data": {
      "text/plain": [
       "array([[1., 0., 0.],\n",
       "       [0., 1., 0.],\n",
       "       [0., 0., 1.]])"
      ]
     },
     "execution_count": 8,
     "metadata": {},
     "output_type": "execute_result"
    }
   ],
   "source": [
    "np.eye(3)"
   ]
  },
  {
   "cell_type": "markdown",
   "id": "57ba4b86",
   "metadata": {},
   "source": [
    "\n",
    "#### 8. Create a 3x3x3 array with random values (★☆☆)\n",
    "`hint: np.random.random`\n"
   ]
  },
  {
   "cell_type": "code",
   "execution_count": 9,
   "id": "393d3e95",
   "metadata": {},
   "outputs": [
    {
     "data": {
      "text/plain": [
       "array([[0.01940931, 0.70358214, 0.75714009],\n",
       "       [0.86886006, 0.51297705, 0.0474661 ],\n",
       "       [0.65500871, 0.21546116, 0.98462463]])"
      ]
     },
     "execution_count": 9,
     "metadata": {},
     "output_type": "execute_result"
    }
   ],
   "source": [
    "a = np.random.random((3,3))\n",
    "a"
   ]
  },
  {
   "cell_type": "markdown",
   "id": "407cbb0c",
   "metadata": {},
   "source": [
    "#### 9. Create a 10x10 array with random values and find the minimum and maximum values (★☆☆)\n",
    "`hint: min, max`"
   ]
  },
  {
   "cell_type": "code",
   "execution_count": 10,
   "id": "8a299c7d",
   "metadata": {},
   "outputs": [
    {
     "data": {
      "text/plain": [
       "0.9892053590841718"
      ]
     },
     "execution_count": 10,
     "metadata": {},
     "output_type": "execute_result"
    }
   ],
   "source": [
    "a = np.random.random ((10,10))\n",
    "\n",
    "a\n",
    "\n",
    "np.min(a)\n",
    "np.max(a)"
   ]
  },
  {
   "cell_type": "markdown",
   "id": "b366a03c",
   "metadata": {},
   "source": [
    "#### 10. Create a random vector of size 30 and find the mean value (★☆☆)\n",
    "`hint: mean`"
   ]
  },
  {
   "cell_type": "code",
   "execution_count": 11,
   "id": "3c5c6dcc",
   "metadata": {},
   "outputs": [
    {
     "data": {
      "text/plain": [
       "0.4758323590187253"
      ]
     },
     "execution_count": 11,
     "metadata": {},
     "output_type": "execute_result"
    }
   ],
   "source": [
    "a = np.random.random((6,5))\n",
    "\n",
    "a\n",
    "\n",
    "np.mean(a)"
   ]
  },
  {
   "cell_type": "markdown",
   "id": "83cc2bf3",
   "metadata": {},
   "source": [
    "#### 11. Create a 5x5 matrix with values 1,2,3,4 just below the diagonal (★☆☆)\n",
    "`hint: np.diag`"
   ]
  },
  {
   "cell_type": "code",
   "execution_count": 31,
   "id": "61c0f2c0",
   "metadata": {},
   "outputs": [
    {
     "ename": "IndexError",
     "evalue": "arrays used as indices must be of integer (or boolean) type",
     "output_type": "error",
     "traceback": [
      "\u001b[1;31m---------------------------------------------------------------------------\u001b[0m",
      "\u001b[1;31mIndexError\u001b[0m                                Traceback (most recent call last)",
      "\u001b[1;32m~\\AppData\\Local\\Temp\\ipykernel_6452\\4189605579.py\u001b[0m in \u001b[0;36m<module>\u001b[1;34m\u001b[0m\n\u001b[0;32m      5\u001b[0m \u001b[0mnp\u001b[0m\u001b[1;33m.\u001b[0m\u001b[0mdiag\u001b[0m\u001b[1;33m(\u001b[0m\u001b[0ma\u001b[0m\u001b[1;33m,\u001b[0m\u001b[0mk\u001b[0m\u001b[1;33m=\u001b[0m\u001b[1;33m-\u001b[0m\u001b[1;36m1\u001b[0m\u001b[1;33m)\u001b[0m\u001b[1;33m\u001b[0m\u001b[1;33m\u001b[0m\u001b[0m\n\u001b[0;32m      6\u001b[0m \u001b[1;33m\u001b[0m\u001b[0m\n\u001b[1;32m----> 7\u001b[1;33m \u001b[0ma\u001b[0m\u001b[1;33m[\u001b[0m\u001b[0mnp\u001b[0m\u001b[1;33m.\u001b[0m\u001b[0mdiag\u001b[0m\u001b[1;33m(\u001b[0m\u001b[0ma\u001b[0m\u001b[1;33m,\u001b[0m\u001b[0mk\u001b[0m\u001b[1;33m=\u001b[0m\u001b[1;33m-\u001b[0m\u001b[1;36m1\u001b[0m\u001b[1;33m)\u001b[0m\u001b[1;33m]\u001b[0m \u001b[1;33m=\u001b[0m \u001b[1;33m(\u001b[0m\u001b[1;33m[\u001b[0m\u001b[1;36m1\u001b[0m\u001b[1;33m,\u001b[0m\u001b[1;36m2\u001b[0m\u001b[1;33m,\u001b[0m\u001b[1;36m3\u001b[0m\u001b[1;33m,\u001b[0m\u001b[1;36m4\u001b[0m\u001b[1;33m]\u001b[0m\u001b[1;33m)\u001b[0m\u001b[1;33m\u001b[0m\u001b[1;33m\u001b[0m\u001b[0m\n\u001b[0m",
      "\u001b[1;31mIndexError\u001b[0m: arrays used as indices must be of integer (or boolean) type"
     ]
    }
   ],
   "source": [
    "a = np.random.random((5,5))\n",
    "                     \n",
    "a\n",
    "\n",
    "np.diag(a,k=-1)\n",
    "\n",
    "a[np.diag(a,k=-1)] = ([1,2,3,4])"
   ]
  },
  {
   "cell_type": "markdown",
   "id": "47bf6d3c",
   "metadata": {},
   "source": [
    "#### 12. Normalize a 5x5 random matrix (★☆☆)\n",
    "`hint: (x -mean)/std`"
   ]
  },
  {
   "cell_type": "code",
   "execution_count": 16,
   "id": "545b13c6",
   "metadata": {},
   "outputs": [
    {
     "data": {
      "text/plain": [
       "array([[ 0.67411675,  1.63884626, -0.06256019, -0.29721317, -1.26998179],\n",
       "       [-0.87950901, -1.33906441, -0.5611702 , -0.16419199,  0.55178108],\n",
       "       [ 1.1744776 ,  1.41859754, -0.35495137, -0.77578045,  0.61637593],\n",
       "       [-1.35525872, -1.61236377, -1.08717132,  0.05870511,  1.4681255 ],\n",
       "       [-0.33257394, -0.46785332,  1.71023366,  0.06237563,  1.18600855]])"
      ]
     },
     "execution_count": 16,
     "metadata": {},
     "output_type": "execute_result"
    }
   ],
   "source": [
    "b = np.random.random((5,5))\n",
    "\n",
    "b\n",
    "\n",
    "db = (b-np.mean(b))/np.std(b)\n",
    "\n",
    "db"
   ]
  },
  {
   "cell_type": "markdown",
   "id": "547e82e1",
   "metadata": {},
   "source": [
    "#### 13. How to find common values between two arrays? (★☆☆)\n",
    "`hint: np.intersect1d`"
   ]
  },
  {
   "cell_type": "code",
   "execution_count": 17,
   "id": "296286f4",
   "metadata": {},
   "outputs": [
    {
     "data": {
      "text/plain": [
       "array([], dtype=float64)"
      ]
     },
     "execution_count": 17,
     "metadata": {},
     "output_type": "execute_result"
    }
   ],
   "source": [
    "x1 = np.random.random(10)\n",
    "x2 = np.random.random(10)\n",
    "\n",
    "np.intersect1d(x1,x2)\n"
   ]
  },
  {
   "cell_type": "markdown",
   "id": "164fa1cf",
   "metadata": {},
   "source": [
    "#### 14. Create a random vector of size 10 and sort it (★★☆)\n",
    "`hint: sort`"
   ]
  },
  {
   "cell_type": "code",
   "execution_count": 18,
   "id": "6199d786",
   "metadata": {},
   "outputs": [
    {
     "data": {
      "text/plain": [
       "array([0.03153986, 0.12386325, 0.26124173, 0.29840285, 0.44700827,\n",
       "       0.54745061, 0.65847933, 0.73618817, 0.78000626, 0.95099565])"
      ]
     },
     "execution_count": 18,
     "metadata": {},
     "output_type": "execute_result"
    }
   ],
   "source": [
    "x = np.random.random(10)\n",
    "\n",
    "x\n",
    "\n",
    "np.sort(x)"
   ]
  },
  {
   "cell_type": "markdown",
   "id": "aa67cc64",
   "metadata": {},
   "source": [
    "#### 15. Create random vector of size 10 and replace the maximum value by 0 (★★☆)\n",
    "`hint: argmax`"
   ]
  },
  {
   "cell_type": "code",
   "execution_count": 21,
   "id": "0c0ffd3c",
   "metadata": {},
   "outputs": [
    {
     "data": {
      "text/plain": [
       "array([0.61359033, 0.        , 0.43398296, 0.9340068 , 0.98374172,\n",
       "       0.42463686, 0.84632884, 0.01687323, 0.72479273, 0.23238491])"
      ]
     },
     "execution_count": 21,
     "metadata": {},
     "output_type": "execute_result"
    }
   ],
   "source": [
    "c = np.random.random(10)\n",
    "\n",
    "np.argmax(c)\n",
    "\n",
    "c[np.argmax(c)] = 0\n",
    "\n",
    "c"
   ]
  },
  {
   "cell_type": "markdown",
   "id": "e6821a1e",
   "metadata": {},
   "source": [
    "#### 16. Subtract the mean of each row of a matrix (★★☆)\n",
    "`hint: mean(axis=,keepdims=)`"
   ]
  },
  {
   "cell_type": "code",
   "execution_count": 62,
   "id": "5eb9c643",
   "metadata": {},
   "outputs": [
    {
     "data": {
      "text/plain": [
       "array([[-0.2093802 ,  0.34984984,  0.05933969],\n",
       "       [-0.10724597, -0.09634678, -0.16915408],\n",
       "       [-0.18034362,  0.33578808,  0.01749305]])"
      ]
     },
     "execution_count": 62,
     "metadata": {},
     "output_type": "execute_result"
    }
   ],
   "source": [
    "n = np.random.random((3,3))\n",
    "\n",
    "np.mean(n, axis=1)\n",
    "\n",
    "m = n - np.mean(n, axis=1)\n",
    "\n",
    "m"
   ]
  },
  {
   "cell_type": "markdown",
   "id": "187e5b75",
   "metadata": {},
   "source": [
    "#### 17. How to get the n largest values of an array (★★★)\n",
    "`Z = np.arange(10000)\n",
    "np.random.shuffle(Z)\n",
    "n = 5\n",
    "hint: np.argsort | np.argpartition`"
   ]
  },
  {
   "cell_type": "code",
   "execution_count": null,
   "id": "2fd0288e",
   "metadata": {},
   "outputs": [],
   "source": []
  },
  {
   "cell_type": "markdown",
   "id": "65290197",
   "metadata": {},
   "source": [
    "#### 18. Create a random 5*3 matrix and replace items that are larger than 4 by their squares ( Example:  6 --> 36) \n",
    "`hint: np.where`\n"
   ]
  },
  {
   "cell_type": "code",
   "execution_count": null,
   "id": "435aeed7",
   "metadata": {},
   "outputs": [],
   "source": []
  }
 ],
 "metadata": {
  "kernelspec": {
   "display_name": "Python 3 (ipykernel)",
   "language": "python",
   "name": "python3"
  },
  "language_info": {
   "codemirror_mode": {
    "name": "ipython",
    "version": 3
   },
   "file_extension": ".py",
   "mimetype": "text/x-python",
   "name": "python",
   "nbconvert_exporter": "python",
   "pygments_lexer": "ipython3",
   "version": "3.9.13"
  }
 },
 "nbformat": 4,
 "nbformat_minor": 5
}
