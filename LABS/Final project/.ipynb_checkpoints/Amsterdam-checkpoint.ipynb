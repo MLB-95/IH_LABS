{
 "cells": [
  {
   "cell_type": "code",
   "execution_count": 1,
   "id": "bbfa8368",
   "metadata": {},
   "outputs": [],
   "source": [
    "import pandas as pd\n",
    "import numpy as np\n",
    "\n",
    "import matplotlib.pyplot as plt\n",
    "%matplotlib inline\n",
    "import seaborn as sns\n",
    "from sklearn.preprocessing import PowerTransformer, StandardScaler\n",
    "from sklearn.compose import ColumnTransformer\n",
    "from sklearn.linear_model import LinearRegression\n",
    "from sklearn.model_selection import train_test_split\n",
    "\n",
    "import statsmodels.api as sm\n",
    "from sklearn.metrics import r2_score\n",
    "from sklearn.metrics import mean_squared_error as mse\n",
    "from sklearn.metrics import mean_absolute_error as mae\n",
    "\n",
    "RAND_STATE = 32 # for reproducible shuffling\n",
    "TT_RATIO = 0.25 # test/train\n",
    "\n",
    "from sklearn.linear_model import Lasso,Ridge,ElasticNet, LinearRegression\n",
    "\n",
    "from sklearn.model_selection import cross_val_score\n",
    "from sklearn.model_selection import cross_val_predict\n",
    "\n",
    "from sklearn.model_selection import train_test_split\n",
    "\n",
    "from sklearn.linear_model import LinearRegression\n",
    "from sklearn.neighbors import KNeighborsRegressor\n",
    "from sklearn.tree import DecisionTreeClassifier\n",
    "from sklearn.tree import DecisionTreeRegressor\n",
    "import warnings\n",
    "warnings.filterwarnings('ignore')"
   ]
  },
  {
   "cell_type": "code",
   "execution_count": 2,
   "id": "b215f9b4",
   "metadata": {},
   "outputs": [],
   "source": [
    "data_amsterdam = pd.read_csv('data_amsterdam.csv')"
   ]
  },
  {
   "cell_type": "code",
   "execution_count": 4,
   "id": "0b90a274",
   "metadata": {},
   "outputs": [
    {
     "data": {
      "text/plain": [
       "Index(['Unnamed: 0', 'realSum', 'person_capacity', 'multi', 'biz',\n",
       "       'cleanliness_rating', 'guest_satisfaction_overall', 'bedrooms', 'dist',\n",
       "       'metro_dist', 'attr_index_norm', 'rest_index_norm', 'lng', 'lat',\n",
       "       'room_shared_True', 'room_private_True', 'host_is_superhost_True',\n",
       "       'weekend_yes'],\n",
       "      dtype='object')"
      ]
     },
     "execution_count": 4,
     "metadata": {},
     "output_type": "execute_result"
    }
   ],
   "source": [
    "data_amsterdam.columns"
   ]
  },
  {
   "cell_type": "code",
   "execution_count": 5,
   "id": "1cffbc9e",
   "metadata": {},
   "outputs": [],
   "source": [
    "data_amsterdam = data_amsterdam.drop(['Unnamed: 0'], axis=1)"
   ]
  },
  {
   "cell_type": "code",
   "execution_count": 6,
   "id": "d46ca6fc",
   "metadata": {},
   "outputs": [],
   "source": [
    "from scipy import stats\n",
    "\n",
    "# Assuming df is the name of your dataframe\n",
    "z_scores = np.abs(stats.zscore(data_amsterdam))\n",
    "\n",
    "# Remove rows where any of the columns have a z-score greater than 3\n",
    "data_amsterdam_cleaned = data_amsterdam[(z_scores < 3).all(axis=1)]"
   ]
  },
  {
   "cell_type": "code",
   "execution_count": 7,
   "id": "8b596109",
   "metadata": {
    "scrolled": true
   },
   "outputs": [
    {
     "data": {
      "text/html": [
       "<div>\n",
       "<style scoped>\n",
       "    .dataframe tbody tr th:only-of-type {\n",
       "        vertical-align: middle;\n",
       "    }\n",
       "\n",
       "    .dataframe tbody tr th {\n",
       "        vertical-align: top;\n",
       "    }\n",
       "\n",
       "    .dataframe thead th {\n",
       "        text-align: right;\n",
       "    }\n",
       "</style>\n",
       "<table border=\"1\" class=\"dataframe\">\n",
       "  <thead>\n",
       "    <tr style=\"text-align: right;\">\n",
       "      <th></th>\n",
       "      <th>realSum</th>\n",
       "      <th>person_capacity</th>\n",
       "      <th>multi</th>\n",
       "      <th>biz</th>\n",
       "      <th>cleanliness_rating</th>\n",
       "      <th>guest_satisfaction_overall</th>\n",
       "      <th>bedrooms</th>\n",
       "      <th>dist</th>\n",
       "      <th>metro_dist</th>\n",
       "      <th>attr_index_norm</th>\n",
       "      <th>rest_index_norm</th>\n",
       "      <th>lng</th>\n",
       "      <th>lat</th>\n",
       "      <th>room_shared_True</th>\n",
       "      <th>room_private_True</th>\n",
       "      <th>host_is_superhost_True</th>\n",
       "      <th>weekend_yes</th>\n",
       "    </tr>\n",
       "  </thead>\n",
       "  <tbody>\n",
       "    <tr>\n",
       "      <th>realSum</th>\n",
       "      <td>1.000000</td>\n",
       "      <td>0.582634</td>\n",
       "      <td>-0.166164</td>\n",
       "      <td>-0.019447</td>\n",
       "      <td>-0.015354</td>\n",
       "      <td>0.124446</td>\n",
       "      <td>0.504269</td>\n",
       "      <td>-0.321887</td>\n",
       "      <td>-0.202476</td>\n",
       "      <td>0.349669</td>\n",
       "      <td>0.335122</td>\n",
       "      <td>0.050536</td>\n",
       "      <td>0.027782</td>\n",
       "      <td>NaN</td>\n",
       "      <td>-0.519748</td>\n",
       "      <td>-0.052223</td>\n",
       "      <td>0.099896</td>\n",
       "    </tr>\n",
       "    <tr>\n",
       "      <th>person_capacity</th>\n",
       "      <td>0.582634</td>\n",
       "      <td>1.000000</td>\n",
       "      <td>-0.136097</td>\n",
       "      <td>0.023386</td>\n",
       "      <td>-0.109162</td>\n",
       "      <td>0.002492</td>\n",
       "      <td>0.648573</td>\n",
       "      <td>-0.034859</td>\n",
       "      <td>-0.027224</td>\n",
       "      <td>0.054775</td>\n",
       "      <td>0.029041</td>\n",
       "      <td>0.008621</td>\n",
       "      <td>0.025935</td>\n",
       "      <td>NaN</td>\n",
       "      <td>-0.324242</td>\n",
       "      <td>-0.065245</td>\n",
       "      <td>-0.007936</td>\n",
       "    </tr>\n",
       "    <tr>\n",
       "      <th>multi</th>\n",
       "      <td>-0.166164</td>\n",
       "      <td>-0.136097</td>\n",
       "      <td>1.000000</td>\n",
       "      <td>-0.201104</td>\n",
       "      <td>0.030018</td>\n",
       "      <td>-0.058973</td>\n",
       "      <td>-0.093250</td>\n",
       "      <td>0.029811</td>\n",
       "      <td>-0.035614</td>\n",
       "      <td>0.012917</td>\n",
       "      <td>0.017325</td>\n",
       "      <td>-0.014803</td>\n",
       "      <td>-0.037731</td>\n",
       "      <td>NaN</td>\n",
       "      <td>0.281475</td>\n",
       "      <td>0.079652</td>\n",
       "      <td>-0.063681</td>\n",
       "    </tr>\n",
       "    <tr>\n",
       "      <th>biz</th>\n",
       "      <td>-0.019447</td>\n",
       "      <td>0.023386</td>\n",
       "      <td>-0.201104</td>\n",
       "      <td>1.000000</td>\n",
       "      <td>-0.036604</td>\n",
       "      <td>-0.171331</td>\n",
       "      <td>-0.097021</td>\n",
       "      <td>-0.112173</td>\n",
       "      <td>-0.085945</td>\n",
       "      <td>0.107361</td>\n",
       "      <td>0.132265</td>\n",
       "      <td>0.044473</td>\n",
       "      <td>0.062876</td>\n",
       "      <td>NaN</td>\n",
       "      <td>0.085315</td>\n",
       "      <td>-0.113858</td>\n",
       "      <td>-0.031670</td>\n",
       "    </tr>\n",
       "    <tr>\n",
       "      <th>cleanliness_rating</th>\n",
       "      <td>-0.015354</td>\n",
       "      <td>-0.109162</td>\n",
       "      <td>0.030018</td>\n",
       "      <td>-0.036604</td>\n",
       "      <td>1.000000</td>\n",
       "      <td>0.559087</td>\n",
       "      <td>-0.018202</td>\n",
       "      <td>-0.028639</td>\n",
       "      <td>-0.015177</td>\n",
       "      <td>0.004992</td>\n",
       "      <td>0.012495</td>\n",
       "      <td>-0.025834</td>\n",
       "      <td>0.000225</td>\n",
       "      <td>NaN</td>\n",
       "      <td>0.027985</td>\n",
       "      <td>0.298627</td>\n",
       "      <td>0.002591</td>\n",
       "    </tr>\n",
       "    <tr>\n",
       "      <th>guest_satisfaction_overall</th>\n",
       "      <td>0.124446</td>\n",
       "      <td>0.002492</td>\n",
       "      <td>-0.058973</td>\n",
       "      <td>-0.171331</td>\n",
       "      <td>0.559087</td>\n",
       "      <td>1.000000</td>\n",
       "      <td>0.109102</td>\n",
       "      <td>-0.030083</td>\n",
       "      <td>0.007462</td>\n",
       "      <td>-0.040911</td>\n",
       "      <td>-0.031476</td>\n",
       "      <td>-0.029906</td>\n",
       "      <td>0.026570</td>\n",
       "      <td>NaN</td>\n",
       "      <td>-0.177432</td>\n",
       "      <td>0.293309</td>\n",
       "      <td>0.037701</td>\n",
       "    </tr>\n",
       "    <tr>\n",
       "      <th>bedrooms</th>\n",
       "      <td>0.504269</td>\n",
       "      <td>0.648573</td>\n",
       "      <td>-0.093250</td>\n",
       "      <td>-0.097021</td>\n",
       "      <td>-0.018202</td>\n",
       "      <td>0.109102</td>\n",
       "      <td>1.000000</td>\n",
       "      <td>0.073893</td>\n",
       "      <td>0.014752</td>\n",
       "      <td>-0.074199</td>\n",
       "      <td>-0.083189</td>\n",
       "      <td>0.004473</td>\n",
       "      <td>-0.050510</td>\n",
       "      <td>NaN</td>\n",
       "      <td>-0.353769</td>\n",
       "      <td>-0.044329</td>\n",
       "      <td>0.015658</td>\n",
       "    </tr>\n",
       "    <tr>\n",
       "      <th>dist</th>\n",
       "      <td>-0.321887</td>\n",
       "      <td>-0.034859</td>\n",
       "      <td>0.029811</td>\n",
       "      <td>-0.112173</td>\n",
       "      <td>-0.028639</td>\n",
       "      <td>-0.030083</td>\n",
       "      <td>0.073893</td>\n",
       "      <td>1.000000</td>\n",
       "      <td>0.422075</td>\n",
       "      <td>-0.794082</td>\n",
       "      <td>-0.787015</td>\n",
       "      <td>-0.097483</td>\n",
       "      <td>-0.366751</td>\n",
       "      <td>NaN</td>\n",
       "      <td>0.089108</td>\n",
       "      <td>0.017159</td>\n",
       "      <td>-0.007378</td>\n",
       "    </tr>\n",
       "    <tr>\n",
       "      <th>metro_dist</th>\n",
       "      <td>-0.202476</td>\n",
       "      <td>-0.027224</td>\n",
       "      <td>-0.035614</td>\n",
       "      <td>-0.085945</td>\n",
       "      <td>-0.015177</td>\n",
       "      <td>0.007462</td>\n",
       "      <td>0.014752</td>\n",
       "      <td>0.422075</td>\n",
       "      <td>1.000000</td>\n",
       "      <td>-0.486375</td>\n",
       "      <td>-0.474267</td>\n",
       "      <td>-0.058042</td>\n",
       "      <td>0.306861</td>\n",
       "      <td>NaN</td>\n",
       "      <td>0.039108</td>\n",
       "      <td>-0.004491</td>\n",
       "      <td>0.004549</td>\n",
       "    </tr>\n",
       "    <tr>\n",
       "      <th>attr_index_norm</th>\n",
       "      <td>0.349669</td>\n",
       "      <td>0.054775</td>\n",
       "      <td>0.012917</td>\n",
       "      <td>0.107361</td>\n",
       "      <td>0.004992</td>\n",
       "      <td>-0.040911</td>\n",
       "      <td>-0.074199</td>\n",
       "      <td>-0.794082</td>\n",
       "      <td>-0.486375</td>\n",
       "      <td>1.000000</td>\n",
       "      <td>0.922032</td>\n",
       "      <td>0.059840</td>\n",
       "      <td>0.116621</td>\n",
       "      <td>NaN</td>\n",
       "      <td>0.014121</td>\n",
       "      <td>0.006061</td>\n",
       "      <td>-0.023384</td>\n",
       "    </tr>\n",
       "    <tr>\n",
       "      <th>rest_index_norm</th>\n",
       "      <td>0.335122</td>\n",
       "      <td>0.029041</td>\n",
       "      <td>0.017325</td>\n",
       "      <td>0.132265</td>\n",
       "      <td>0.012495</td>\n",
       "      <td>-0.031476</td>\n",
       "      <td>-0.083189</td>\n",
       "      <td>-0.787015</td>\n",
       "      <td>-0.474267</td>\n",
       "      <td>0.922032</td>\n",
       "      <td>1.000000</td>\n",
       "      <td>0.062618</td>\n",
       "      <td>0.132752</td>\n",
       "      <td>NaN</td>\n",
       "      <td>0.012898</td>\n",
       "      <td>-0.010793</td>\n",
       "      <td>0.139740</td>\n",
       "    </tr>\n",
       "    <tr>\n",
       "      <th>lng</th>\n",
       "      <td>0.050536</td>\n",
       "      <td>0.008621</td>\n",
       "      <td>-0.014803</td>\n",
       "      <td>0.044473</td>\n",
       "      <td>-0.025834</td>\n",
       "      <td>-0.029906</td>\n",
       "      <td>0.004473</td>\n",
       "      <td>-0.097483</td>\n",
       "      <td>-0.058042</td>\n",
       "      <td>0.059840</td>\n",
       "      <td>0.062618</td>\n",
       "      <td>1.000000</td>\n",
       "      <td>-0.017841</td>\n",
       "      <td>NaN</td>\n",
       "      <td>0.018929</td>\n",
       "      <td>-0.033134</td>\n",
       "      <td>-0.031166</td>\n",
       "    </tr>\n",
       "    <tr>\n",
       "      <th>lat</th>\n",
       "      <td>0.027782</td>\n",
       "      <td>0.025935</td>\n",
       "      <td>-0.037731</td>\n",
       "      <td>0.062876</td>\n",
       "      <td>0.000225</td>\n",
       "      <td>0.026570</td>\n",
       "      <td>-0.050510</td>\n",
       "      <td>-0.366751</td>\n",
       "      <td>0.306861</td>\n",
       "      <td>0.116621</td>\n",
       "      <td>0.132752</td>\n",
       "      <td>-0.017841</td>\n",
       "      <td>1.000000</td>\n",
       "      <td>NaN</td>\n",
       "      <td>-0.009634</td>\n",
       "      <td>0.009342</td>\n",
       "      <td>-0.003891</td>\n",
       "    </tr>\n",
       "    <tr>\n",
       "      <th>room_shared_True</th>\n",
       "      <td>NaN</td>\n",
       "      <td>NaN</td>\n",
       "      <td>NaN</td>\n",
       "      <td>NaN</td>\n",
       "      <td>NaN</td>\n",
       "      <td>NaN</td>\n",
       "      <td>NaN</td>\n",
       "      <td>NaN</td>\n",
       "      <td>NaN</td>\n",
       "      <td>NaN</td>\n",
       "      <td>NaN</td>\n",
       "      <td>NaN</td>\n",
       "      <td>NaN</td>\n",
       "      <td>NaN</td>\n",
       "      <td>NaN</td>\n",
       "      <td>NaN</td>\n",
       "      <td>NaN</td>\n",
       "    </tr>\n",
       "    <tr>\n",
       "      <th>room_private_True</th>\n",
       "      <td>-0.519748</td>\n",
       "      <td>-0.324242</td>\n",
       "      <td>0.281475</td>\n",
       "      <td>0.085315</td>\n",
       "      <td>0.027985</td>\n",
       "      <td>-0.177432</td>\n",
       "      <td>-0.353769</td>\n",
       "      <td>0.089108</td>\n",
       "      <td>0.039108</td>\n",
       "      <td>0.014121</td>\n",
       "      <td>0.012898</td>\n",
       "      <td>0.018929</td>\n",
       "      <td>-0.009634</td>\n",
       "      <td>NaN</td>\n",
       "      <td>1.000000</td>\n",
       "      <td>0.170956</td>\n",
       "      <td>-0.127376</td>\n",
       "    </tr>\n",
       "    <tr>\n",
       "      <th>host_is_superhost_True</th>\n",
       "      <td>-0.052223</td>\n",
       "      <td>-0.065245</td>\n",
       "      <td>0.079652</td>\n",
       "      <td>-0.113858</td>\n",
       "      <td>0.298627</td>\n",
       "      <td>0.293309</td>\n",
       "      <td>-0.044329</td>\n",
       "      <td>0.017159</td>\n",
       "      <td>-0.004491</td>\n",
       "      <td>0.006061</td>\n",
       "      <td>-0.010793</td>\n",
       "      <td>-0.033134</td>\n",
       "      <td>0.009342</td>\n",
       "      <td>NaN</td>\n",
       "      <td>0.170956</td>\n",
       "      <td>1.000000</td>\n",
       "      <td>-0.029538</td>\n",
       "    </tr>\n",
       "    <tr>\n",
       "      <th>weekend_yes</th>\n",
       "      <td>0.099896</td>\n",
       "      <td>-0.007936</td>\n",
       "      <td>-0.063681</td>\n",
       "      <td>-0.031670</td>\n",
       "      <td>0.002591</td>\n",
       "      <td>0.037701</td>\n",
       "      <td>0.015658</td>\n",
       "      <td>-0.007378</td>\n",
       "      <td>0.004549</td>\n",
       "      <td>-0.023384</td>\n",
       "      <td>0.139740</td>\n",
       "      <td>-0.031166</td>\n",
       "      <td>-0.003891</td>\n",
       "      <td>NaN</td>\n",
       "      <td>-0.127376</td>\n",
       "      <td>-0.029538</td>\n",
       "      <td>1.000000</td>\n",
       "    </tr>\n",
       "  </tbody>\n",
       "</table>\n",
       "</div>"
      ],
      "text/plain": [
       "                             realSum  person_capacity     multi       biz  \\\n",
       "realSum                     1.000000         0.582634 -0.166164 -0.019447   \n",
       "person_capacity             0.582634         1.000000 -0.136097  0.023386   \n",
       "multi                      -0.166164        -0.136097  1.000000 -0.201104   \n",
       "biz                        -0.019447         0.023386 -0.201104  1.000000   \n",
       "cleanliness_rating         -0.015354        -0.109162  0.030018 -0.036604   \n",
       "guest_satisfaction_overall  0.124446         0.002492 -0.058973 -0.171331   \n",
       "bedrooms                    0.504269         0.648573 -0.093250 -0.097021   \n",
       "dist                       -0.321887        -0.034859  0.029811 -0.112173   \n",
       "metro_dist                 -0.202476        -0.027224 -0.035614 -0.085945   \n",
       "attr_index_norm             0.349669         0.054775  0.012917  0.107361   \n",
       "rest_index_norm             0.335122         0.029041  0.017325  0.132265   \n",
       "lng                         0.050536         0.008621 -0.014803  0.044473   \n",
       "lat                         0.027782         0.025935 -0.037731  0.062876   \n",
       "room_shared_True                 NaN              NaN       NaN       NaN   \n",
       "room_private_True          -0.519748        -0.324242  0.281475  0.085315   \n",
       "host_is_superhost_True     -0.052223        -0.065245  0.079652 -0.113858   \n",
       "weekend_yes                 0.099896        -0.007936 -0.063681 -0.031670   \n",
       "\n",
       "                            cleanliness_rating  guest_satisfaction_overall  \\\n",
       "realSum                              -0.015354                    0.124446   \n",
       "person_capacity                      -0.109162                    0.002492   \n",
       "multi                                 0.030018                   -0.058973   \n",
       "biz                                  -0.036604                   -0.171331   \n",
       "cleanliness_rating                    1.000000                    0.559087   \n",
       "guest_satisfaction_overall            0.559087                    1.000000   \n",
       "bedrooms                             -0.018202                    0.109102   \n",
       "dist                                 -0.028639                   -0.030083   \n",
       "metro_dist                           -0.015177                    0.007462   \n",
       "attr_index_norm                       0.004992                   -0.040911   \n",
       "rest_index_norm                       0.012495                   -0.031476   \n",
       "lng                                  -0.025834                   -0.029906   \n",
       "lat                                   0.000225                    0.026570   \n",
       "room_shared_True                           NaN                         NaN   \n",
       "room_private_True                     0.027985                   -0.177432   \n",
       "host_is_superhost_True                0.298627                    0.293309   \n",
       "weekend_yes                           0.002591                    0.037701   \n",
       "\n",
       "                            bedrooms      dist  metro_dist  attr_index_norm  \\\n",
       "realSum                     0.504269 -0.321887   -0.202476         0.349669   \n",
       "person_capacity             0.648573 -0.034859   -0.027224         0.054775   \n",
       "multi                      -0.093250  0.029811   -0.035614         0.012917   \n",
       "biz                        -0.097021 -0.112173   -0.085945         0.107361   \n",
       "cleanliness_rating         -0.018202 -0.028639   -0.015177         0.004992   \n",
       "guest_satisfaction_overall  0.109102 -0.030083    0.007462        -0.040911   \n",
       "bedrooms                    1.000000  0.073893    0.014752        -0.074199   \n",
       "dist                        0.073893  1.000000    0.422075        -0.794082   \n",
       "metro_dist                  0.014752  0.422075    1.000000        -0.486375   \n",
       "attr_index_norm            -0.074199 -0.794082   -0.486375         1.000000   \n",
       "rest_index_norm            -0.083189 -0.787015   -0.474267         0.922032   \n",
       "lng                         0.004473 -0.097483   -0.058042         0.059840   \n",
       "lat                        -0.050510 -0.366751    0.306861         0.116621   \n",
       "room_shared_True                 NaN       NaN         NaN              NaN   \n",
       "room_private_True          -0.353769  0.089108    0.039108         0.014121   \n",
       "host_is_superhost_True     -0.044329  0.017159   -0.004491         0.006061   \n",
       "weekend_yes                 0.015658 -0.007378    0.004549        -0.023384   \n",
       "\n",
       "                            rest_index_norm       lng       lat  \\\n",
       "realSum                            0.335122  0.050536  0.027782   \n",
       "person_capacity                    0.029041  0.008621  0.025935   \n",
       "multi                              0.017325 -0.014803 -0.037731   \n",
       "biz                                0.132265  0.044473  0.062876   \n",
       "cleanliness_rating                 0.012495 -0.025834  0.000225   \n",
       "guest_satisfaction_overall        -0.031476 -0.029906  0.026570   \n",
       "bedrooms                          -0.083189  0.004473 -0.050510   \n",
       "dist                              -0.787015 -0.097483 -0.366751   \n",
       "metro_dist                        -0.474267 -0.058042  0.306861   \n",
       "attr_index_norm                    0.922032  0.059840  0.116621   \n",
       "rest_index_norm                    1.000000  0.062618  0.132752   \n",
       "lng                                0.062618  1.000000 -0.017841   \n",
       "lat                                0.132752 -0.017841  1.000000   \n",
       "room_shared_True                        NaN       NaN       NaN   \n",
       "room_private_True                  0.012898  0.018929 -0.009634   \n",
       "host_is_superhost_True            -0.010793 -0.033134  0.009342   \n",
       "weekend_yes                        0.139740 -0.031166 -0.003891   \n",
       "\n",
       "                            room_shared_True  room_private_True  \\\n",
       "realSum                                  NaN          -0.519748   \n",
       "person_capacity                          NaN          -0.324242   \n",
       "multi                                    NaN           0.281475   \n",
       "biz                                      NaN           0.085315   \n",
       "cleanliness_rating                       NaN           0.027985   \n",
       "guest_satisfaction_overall               NaN          -0.177432   \n",
       "bedrooms                                 NaN          -0.353769   \n",
       "dist                                     NaN           0.089108   \n",
       "metro_dist                               NaN           0.039108   \n",
       "attr_index_norm                          NaN           0.014121   \n",
       "rest_index_norm                          NaN           0.012898   \n",
       "lng                                      NaN           0.018929   \n",
       "lat                                      NaN          -0.009634   \n",
       "room_shared_True                         NaN                NaN   \n",
       "room_private_True                        NaN           1.000000   \n",
       "host_is_superhost_True                   NaN           0.170956   \n",
       "weekend_yes                              NaN          -0.127376   \n",
       "\n",
       "                            host_is_superhost_True  weekend_yes  \n",
       "realSum                                  -0.052223     0.099896  \n",
       "person_capacity                          -0.065245    -0.007936  \n",
       "multi                                     0.079652    -0.063681  \n",
       "biz                                      -0.113858    -0.031670  \n",
       "cleanliness_rating                        0.298627     0.002591  \n",
       "guest_satisfaction_overall                0.293309     0.037701  \n",
       "bedrooms                                 -0.044329     0.015658  \n",
       "dist                                      0.017159    -0.007378  \n",
       "metro_dist                               -0.004491     0.004549  \n",
       "attr_index_norm                           0.006061    -0.023384  \n",
       "rest_index_norm                          -0.010793     0.139740  \n",
       "lng                                      -0.033134    -0.031166  \n",
       "lat                                       0.009342    -0.003891  \n",
       "room_shared_True                               NaN          NaN  \n",
       "room_private_True                         0.170956    -0.127376  \n",
       "host_is_superhost_True                    1.000000    -0.029538  \n",
       "weekend_yes                              -0.029538     1.000000  "
      ]
     },
     "execution_count": 7,
     "metadata": {},
     "output_type": "execute_result"
    }
   ],
   "source": [
    "data_amsterdam_cleaned.corr()"
   ]
  },
  {
   "cell_type": "code",
   "execution_count": 8,
   "id": "6f0c7a49",
   "metadata": {},
   "outputs": [],
   "source": [
    "data_amsterdam_cleaned_reg = data_amsterdam_cleaned.drop(['cleanliness_rating', 'biz', 'multi', 'dist', 'metro_dist', 'rest_index_norm', 'room_shared_True', 'host_is_superhost_True', 'lat', 'lng'], axis=1)"
   ]
  },
  {
   "cell_type": "code",
   "execution_count": 9,
   "id": "ddf86af0",
   "metadata": {},
   "outputs": [],
   "source": [
    "x = data_amsterdam_cleaned_reg.drop('realSum', axis=1)\n",
    "y = data_amsterdam_cleaned_reg.realSum"
   ]
  },
  {
   "cell_type": "code",
   "execution_count": 10,
   "id": "175c984d",
   "metadata": {},
   "outputs": [
    {
     "data": {
      "text/html": [
       "<div>\n",
       "<style scoped>\n",
       "    .dataframe tbody tr th:only-of-type {\n",
       "        vertical-align: middle;\n",
       "    }\n",
       "\n",
       "    .dataframe tbody tr th {\n",
       "        vertical-align: top;\n",
       "    }\n",
       "\n",
       "    .dataframe thead th {\n",
       "        text-align: right;\n",
       "    }\n",
       "</style>\n",
       "<table border=\"1\" class=\"dataframe\">\n",
       "  <thead>\n",
       "    <tr style=\"text-align: right;\">\n",
       "      <th></th>\n",
       "      <th>person_capacity</th>\n",
       "      <th>guest_satisfaction_overall</th>\n",
       "      <th>bedrooms</th>\n",
       "      <th>attr_index_norm</th>\n",
       "      <th>room_private_True</th>\n",
       "      <th>weekend_yes</th>\n",
       "    </tr>\n",
       "  </thead>\n",
       "  <tbody>\n",
       "    <tr>\n",
       "      <th>count</th>\n",
       "      <td>1371.000000</td>\n",
       "      <td>1371.000000</td>\n",
       "      <td>1371.000000</td>\n",
       "      <td>1371.000000</td>\n",
       "      <td>1371.000000</td>\n",
       "      <td>1371.000000</td>\n",
       "    </tr>\n",
       "    <tr>\n",
       "      <th>mean</th>\n",
       "      <td>2.705325</td>\n",
       "      <td>95.099198</td>\n",
       "      <td>1.252371</td>\n",
       "      <td>14.103346</td>\n",
       "      <td>0.451495</td>\n",
       "      <td>0.464624</td>\n",
       "    </tr>\n",
       "    <tr>\n",
       "      <th>std</th>\n",
       "      <td>0.938609</td>\n",
       "      <td>4.698696</td>\n",
       "      <td>0.669829</td>\n",
       "      <td>8.546494</td>\n",
       "      <td>0.497823</td>\n",
       "      <td>0.498929</td>\n",
       "    </tr>\n",
       "    <tr>\n",
       "      <th>min</th>\n",
       "      <td>2.000000</td>\n",
       "      <td>76.000000</td>\n",
       "      <td>0.000000</td>\n",
       "      <td>2.719044</td>\n",
       "      <td>0.000000</td>\n",
       "      <td>0.000000</td>\n",
       "    </tr>\n",
       "    <tr>\n",
       "      <th>25%</th>\n",
       "      <td>2.000000</td>\n",
       "      <td>93.000000</td>\n",
       "      <td>1.000000</td>\n",
       "      <td>7.377210</td>\n",
       "      <td>0.000000</td>\n",
       "      <td>0.000000</td>\n",
       "    </tr>\n",
       "    <tr>\n",
       "      <th>50%</th>\n",
       "      <td>2.000000</td>\n",
       "      <td>96.000000</td>\n",
       "      <td>1.000000</td>\n",
       "      <td>11.226431</td>\n",
       "      <td>0.000000</td>\n",
       "      <td>0.000000</td>\n",
       "    </tr>\n",
       "    <tr>\n",
       "      <th>75%</th>\n",
       "      <td>4.000000</td>\n",
       "      <td>99.000000</td>\n",
       "      <td>2.000000</td>\n",
       "      <td>19.769228</td>\n",
       "      <td>1.000000</td>\n",
       "      <td>1.000000</td>\n",
       "    </tr>\n",
       "    <tr>\n",
       "      <th>max</th>\n",
       "      <td>5.000000</td>\n",
       "      <td>100.000000</td>\n",
       "      <td>3.000000</td>\n",
       "      <td>44.685530</td>\n",
       "      <td>1.000000</td>\n",
       "      <td>1.000000</td>\n",
       "    </tr>\n",
       "  </tbody>\n",
       "</table>\n",
       "</div>"
      ],
      "text/plain": [
       "       person_capacity  guest_satisfaction_overall     bedrooms  \\\n",
       "count      1371.000000                 1371.000000  1371.000000   \n",
       "mean          2.705325                   95.099198     1.252371   \n",
       "std           0.938609                    4.698696     0.669829   \n",
       "min           2.000000                   76.000000     0.000000   \n",
       "25%           2.000000                   93.000000     1.000000   \n",
       "50%           2.000000                   96.000000     1.000000   \n",
       "75%           4.000000                   99.000000     2.000000   \n",
       "max           5.000000                  100.000000     3.000000   \n",
       "\n",
       "       attr_index_norm  room_private_True  weekend_yes  \n",
       "count      1371.000000        1371.000000  1371.000000  \n",
       "mean         14.103346           0.451495     0.464624  \n",
       "std           8.546494           0.497823     0.498929  \n",
       "min           2.719044           0.000000     0.000000  \n",
       "25%           7.377210           0.000000     0.000000  \n",
       "50%          11.226431           0.000000     0.000000  \n",
       "75%          19.769228           1.000000     1.000000  \n",
       "max          44.685530           1.000000     1.000000  "
      ]
     },
     "execution_count": 10,
     "metadata": {},
     "output_type": "execute_result"
    }
   ],
   "source": [
    "# test-train split\n",
    "x_train, x_test, y_train, y_test = train_test_split(x, y, test_size=TT_RATIO, random_state=RAND_STATE)\n",
    "x_train = pd.DataFrame(x_train)\n",
    "x_test = pd.DataFrame(x_test)\n",
    "x_train.describe()"
   ]
  },
  {
   "cell_type": "code",
   "execution_count": 11,
   "id": "d86fa1a7",
   "metadata": {
    "scrolled": true
   },
   "outputs": [
    {
     "name": "stdout",
     "output_type": "stream",
     "text": [
      "                            OLS Regression Results                            \n",
      "==============================================================================\n",
      "Dep. Variable:                realSum   R-squared:                       0.607\n",
      "Model:                            OLS   Adj. R-squared:                  0.605\n",
      "Method:                 Least Squares   F-statistic:                     351.0\n",
      "Date:                Wed, 08 Mar 2023   Prob (F-statistic):          2.50e-272\n",
      "Time:                        12:09:07   Log-Likelihood:                -9014.7\n",
      "No. Observations:                1371   AIC:                         1.804e+04\n",
      "Df Residuals:                    1364   BIC:                         1.808e+04\n",
      "Df Model:                           6                                         \n",
      "Covariance Type:            nonrobust                                         \n",
      "==============================================================================================\n",
      "                                 coef    std err          t      P>|t|      [0.025      0.975]\n",
      "----------------------------------------------------------------------------------------------\n",
      "const                       -283.9978    101.239     -2.805      0.005    -482.598     -85.398\n",
      "person_capacity               99.0048      6.894     14.360      0.000      85.480     112.530\n",
      "guest_satisfaction_overall     3.8043      1.027      3.706      0.000       1.790       5.818\n",
      "bedrooms                      76.6847      9.778      7.842      0.000      57.502      95.867\n",
      "attr_index_norm               11.8644      0.557     21.300      0.000      10.772      12.957\n",
      "room_private_True           -185.7650     10.468    -17.746      0.000    -206.300    -165.230\n",
      "weekend_yes                   36.6220      9.517      3.848      0.000      17.953      55.291\n",
      "==============================================================================\n",
      "Omnibus:                      375.942   Durbin-Watson:                   1.952\n",
      "Prob(Omnibus):                  0.000   Jarque-Bera (JB):             1212.634\n",
      "Skew:                           1.346   Prob(JB):                    4.79e-264\n",
      "Kurtosis:                       6.739   Cond. No.                     2.08e+03\n",
      "==============================================================================\n",
      "\n",
      "Notes:\n",
      "[1] Standard Errors assume that the covariance matrix of the errors is correctly specified.\n",
      "[2] The condition number is large, 2.08e+03. This might indicate that there are\n",
      "strong multicollinearity or other numerical problems.\n"
     ]
    }
   ],
   "source": [
    "x_train_const = sm.add_constant(x_train) # adding a constant\n",
    "\n",
    "model = sm.OLS(y_train, x_train_const).fit()\n",
    "predictions_train = model.predict(x_train_const)\n",
    "\n",
    "x_test_const = sm.add_constant(x_test) # adding a constant\n",
    "predictions_test = model.predict(x_test_const)\n",
    "print_model = model.summary()\n",
    "print(print_model)"
   ]
  },
  {
   "cell_type": "code",
   "execution_count": 12,
   "id": "076fdabb",
   "metadata": {},
   "outputs": [],
   "source": [
    "sts = StandardScaler()\n",
    "\n",
    "x_train_standarized = sts.fit_transform(x_train)\n",
    "x_test_standarized = sts.transform(x_test)\n",
    "\n",
    "x_train_standarized = pd.DataFrame(x_train_standarized)"
   ]
  },
  {
   "cell_type": "code",
   "execution_count": 13,
   "id": "fe2c2815",
   "metadata": {
    "scrolled": true
   },
   "outputs": [
    {
     "name": "stdout",
     "output_type": "stream",
     "text": [
      "                            OLS Regression Results                            \n",
      "==============================================================================\n",
      "Dep. Variable:                realSum   R-squared:                       0.607\n",
      "Model:                            OLS   Adj. R-squared:                  0.605\n",
      "Method:                 Least Squares   F-statistic:                     351.0\n",
      "Date:                Wed, 08 Mar 2023   Prob (F-statistic):          2.50e-272\n",
      "Time:                        12:09:07   Log-Likelihood:                -9014.7\n",
      "No. Observations:                1371   AIC:                         1.804e+04\n",
      "Df Residuals:                    1364   BIC:                         1.808e+04\n",
      "Df Model:                           6                                         \n",
      "Covariance Type:            nonrobust                                         \n",
      "==============================================================================\n",
      "                 coef    std err          t      P>|t|      [0.025      0.975]\n",
      "------------------------------------------------------------------------------\n",
      "const        542.1346      4.698    115.385      0.000     532.918     551.352\n",
      "x1            92.8929      6.469     14.360      0.000      80.203     105.583\n",
      "x2            17.8686      4.822      3.706      0.000       8.409      27.328\n",
      "x3            51.3469      6.547      7.842      0.000      38.503      64.191\n",
      "x4           101.3619      4.759     21.300      0.000      92.026     110.697\n",
      "x5           -92.4444      5.209    -17.746      0.000    -102.663     -82.225\n",
      "x6            18.2651      4.746      3.848      0.000       8.954      27.576\n",
      "==============================================================================\n",
      "Omnibus:                      375.942   Durbin-Watson:                   1.952\n",
      "Prob(Omnibus):                  0.000   Jarque-Bera (JB):             1212.634\n",
      "Skew:                           1.346   Prob(JB):                    4.79e-264\n",
      "Kurtosis:                       6.739   Cond. No.                         2.50\n",
      "==============================================================================\n",
      "\n",
      "Notes:\n",
      "[1] Standard Errors assume that the covariance matrix of the errors is correctly specified.\n"
     ]
    }
   ],
   "source": [
    "x_train_const = sm.add_constant(x_train_standarized.to_numpy()) # adding a constant\n",
    "\n",
    "model = sm.OLS(y_train, x_train_const).fit()\n",
    "predictions_train = model.predict(x_train_const)\n",
    "\n",
    "x_test_const = sm.add_constant(x_test_standarized) # adding a constant\n",
    "predictions_test = model.predict(x_test_const)\n",
    "print_model = model.summary()\n",
    "print(print_model)"
   ]
  },
  {
   "cell_type": "code",
   "execution_count": 14,
   "id": "f6bbf4d1",
   "metadata": {},
   "outputs": [
    {
     "data": {
      "text/plain": [
       "-283.9977747535563"
      ]
     },
     "execution_count": 14,
     "metadata": {},
     "output_type": "execute_result"
    }
   ],
   "source": [
    "lm = LinearRegression()\n",
    "model = lm.fit(x_train,y_train)\n",
    "model.coef_\n",
    "model.intercept_"
   ]
  },
  {
   "cell_type": "code",
   "execution_count": 15,
   "id": "211260af",
   "metadata": {},
   "outputs": [
    {
     "data": {
      "text/plain": [
       "0.6068857155109262"
      ]
     },
     "execution_count": 15,
     "metadata": {},
     "output_type": "execute_result"
    }
   ],
   "source": [
    "model.score(x_train, y_train)"
   ]
  },
  {
   "cell_type": "code",
   "execution_count": 16,
   "id": "f57d09f4",
   "metadata": {},
   "outputs": [],
   "source": [
    "y_pred = pd.DataFrame(model.predict(x_test),columns = ['realSum'] )      # model prediction\n",
    "y_pred_train =  pd.DataFrame(model.predict(x_train),columns = ['realSum'])"
   ]
  },
  {
   "cell_type": "code",
   "execution_count": 17,
   "id": "5beb3f72",
   "metadata": {},
   "outputs": [
    {
     "data": {
      "text/plain": [
       "33666.86768141825"
      ]
     },
     "execution_count": 17,
     "metadata": {},
     "output_type": "execute_result"
    }
   ],
   "source": [
    "mse(y_test,y_pred)"
   ]
  },
  {
   "cell_type": "code",
   "execution_count": 18,
   "id": "474c9441",
   "metadata": {},
   "outputs": [
    {
     "data": {
      "text/plain": [
       "183.48533369568872"
      ]
     },
     "execution_count": 18,
     "metadata": {},
     "output_type": "execute_result"
    }
   ],
   "source": [
    "rmse = np.sqrt(mse(y_test,y_pred))\n",
    "rmse"
   ]
  },
  {
   "cell_type": "code",
   "execution_count": 19,
   "id": "1e317427",
   "metadata": {},
   "outputs": [
    {
     "data": {
      "text/plain": [
       "30111.19144764537"
      ]
     },
     "execution_count": 19,
     "metadata": {},
     "output_type": "execute_result"
    }
   ],
   "source": [
    "##prediction on the train set\n",
    "mse(y_train,y_pred_train)"
   ]
  },
  {
   "cell_type": "code",
   "execution_count": 20,
   "id": "661bbc22",
   "metadata": {},
   "outputs": [
    {
     "data": {
      "text/plain": [
       "131.28689931394692"
      ]
     },
     "execution_count": 20,
     "metadata": {},
     "output_type": "execute_result"
    }
   ],
   "source": [
    "mae(y_test,y_pred)"
   ]
  },
  {
   "cell_type": "code",
   "execution_count": 21,
   "id": "df5cfd64",
   "metadata": {},
   "outputs": [
    {
     "data": {
      "text/plain": [
       "0.5757932737633626"
      ]
     },
     "execution_count": 21,
     "metadata": {},
     "output_type": "execute_result"
    }
   ],
   "source": [
    "R2=r2_score(y_test,y_pred)\n",
    "R2"
   ]
  },
  {
   "cell_type": "code",
   "execution_count": 22,
   "id": "d9d07d9d",
   "metadata": {},
   "outputs": [
    {
     "data": {
      "text/plain": [
       "0.5701497252990171"
      ]
     },
     "execution_count": 22,
     "metadata": {},
     "output_type": "execute_result"
    }
   ],
   "source": [
    "R2_test=model.score(x_test,y_test)\n",
    "R2_train=model.score(x_train,y_train)\n",
    "Adj_R2= 1 - (1-R2)*(len(y_test)-1)/(len(y_test)-x_test.shape[1]-1)\n",
    "Adj_R2"
   ]
  },
  {
   "cell_type": "code",
   "execution_count": 23,
   "id": "fbe5de7f",
   "metadata": {},
   "outputs": [
    {
     "name": "stdout",
     "output_type": "stream",
     "text": [
      "Lasso: Train -> 0.6068854473742504, Test -> 0.5757919677994823\n"
     ]
    }
   ],
   "source": [
    "model_lasso=Lasso(alpha=0.05)\n",
    "\n",
    "model_lasso.fit(x_train, y_train)\n",
    "print(f\"{model_lasso.__class__.__name__}: Train -> {model_lasso.score(x_train, y_train)}, Test -> {model_lasso.score(x_test, y_test)}\")"
   ]
  },
  {
   "cell_type": "code",
   "execution_count": 24,
   "id": "f5be7487",
   "metadata": {},
   "outputs": [
    {
     "name": "stdout",
     "output_type": "stream",
     "text": [
      "Ridge: Train -> 0.5061928873155241, Test -> 0.4779224885053599\n"
     ]
    }
   ],
   "source": [
    "model_ridge=Ridge(alpha=1000)\n",
    "model_ridge.fit(x_train, y_train)\n",
    "print(f\"{model_ridge.__class__.__name__}: Train -> {model_ridge.score(x_train, y_train)}, Test -> {model_ridge.score(x_test, y_test)}\")"
   ]
  },
  {
   "cell_type": "code",
   "execution_count": 25,
   "id": "3a9359b5",
   "metadata": {},
   "outputs": [
    {
     "name": "stdout",
     "output_type": "stream",
     "text": [
      "X_train has 1371 rows and 6 columns\n",
      "-----------------------------------\n",
      "The coefficient of determination for the test data is R2=0.59\n",
      "The coefficient of determination for the train data is R2=1.00\n"
     ]
    }
   ],
   "source": [
    "model = DecisionTreeRegressor()\n",
    "model.fit(x_train, y_train)\n",
    "\n",
    "print(\"X_train has %d rows and %d columns\"  %(x_train.shape[0],x_train.shape[1]))\n",
    "print(\"-----------------------------------\")\n",
    "print(\"The coefficient of determination for the test data is R2=%.2f\"\n",
    "      %(model.score(x_test, y_test)))\n",
    "print(\"The coefficient of determination for the train data is R2=%.2f\"\n",
    "      %(model.score(x_train, y_train)))\n"
   ]
  },
  {
   "cell_type": "code",
   "execution_count": 26,
   "id": "36eed422",
   "metadata": {},
   "outputs": [
    {
     "name": "stdout",
     "output_type": "stream",
     "text": [
      "Cross validation scores:  [0.31178093 0.46152596 0.48117127 0.42939271 0.36814227]\n",
      "Score stats: 0.41 accuracy with a standard deviation of 0.06\n"
     ]
    }
   ],
   "source": [
    "scores=cross_val_score(model, x_train, y_train, cv=5)\n",
    "print(\"Cross validation scores: \", scores)\n",
    "print(\"Score stats: %0.2f accuracy with a standard deviation of %0.2f\" % (scores.mean(), scores.std()))"
   ]
  },
  {
   "cell_type": "code",
   "execution_count": 27,
   "id": "fff0336b",
   "metadata": {},
   "outputs": [
    {
     "name": "stdout",
     "output_type": "stream",
     "text": [
      "{'Regression Tree': 0.4102417921276742, 'Linear Regression': 0.5936014497796388, 'KNN': 0.500556385633674}\n"
     ]
    }
   ],
   "source": [
    "model1 = DecisionTreeRegressor()\n",
    "model2 = LinearRegression()\n",
    "model3 = KNeighborsRegressor()\n",
    "\n",
    "model_pipeline = [model1, model2, model3]\n",
    "model_names = ['Regression Tree', 'Linear Regression', 'KNN']\n",
    "scores = {}\n",
    "i=0\n",
    "for model in model_pipeline:\n",
    "    mean_score = np.mean(cross_val_score(model, x_train, y_train, cv=5))\n",
    "    scores[model_names[i]] = mean_score\n",
    "    i = i+1\n",
    "print(scores)"
   ]
  },
  {
   "cell_type": "code",
   "execution_count": 28,
   "id": "f4713457",
   "metadata": {},
   "outputs": [],
   "source": [
    "data_amsterdam_cleaned.to_excel('data_amsterdam.xlsx')"
   ]
  },
  {
   "cell_type": "code",
   "execution_count": null,
   "id": "1830c258",
   "metadata": {},
   "outputs": [],
   "source": []
  }
 ],
 "metadata": {
  "kernelspec": {
   "display_name": "Python 3 (ipykernel)",
   "language": "python",
   "name": "python3"
  },
  "language_info": {
   "codemirror_mode": {
    "name": "ipython",
    "version": 3
   },
   "file_extension": ".py",
   "mimetype": "text/x-python",
   "name": "python",
   "nbconvert_exporter": "python",
   "pygments_lexer": "ipython3",
   "version": "3.9.13"
  }
 },
 "nbformat": 4,
 "nbformat_minor": 5
}
