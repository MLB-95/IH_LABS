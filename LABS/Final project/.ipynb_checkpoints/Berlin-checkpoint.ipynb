{
 "cells": [
  {
   "cell_type": "code",
   "execution_count": 1,
   "id": "bbfa8368",
   "metadata": {},
   "outputs": [],
   "source": [
    "import pandas as pd\n",
    "import numpy as np\n",
    "\n",
    "import matplotlib.pyplot as plt\n",
    "%matplotlib inline\n",
    "import seaborn as sns\n",
    "from sklearn.preprocessing import PowerTransformer, StandardScaler\n",
    "from sklearn.compose import ColumnTransformer\n",
    "from sklearn.linear_model import LinearRegression\n",
    "from sklearn.model_selection import train_test_split\n",
    "\n",
    "import statsmodels.api as sm\n",
    "from sklearn.metrics import r2_score\n",
    "from sklearn.metrics import mean_squared_error as mse\n",
    "from sklearn.metrics import mean_absolute_error as mae\n",
    "\n",
    "RAND_STATE = 32 # for reproducible shuffling\n",
    "TT_RATIO = 0.25 # test/train\n",
    "\n",
    "from sklearn.linear_model import Lasso,Ridge,ElasticNet, LinearRegression\n",
    "\n",
    "from sklearn.model_selection import cross_val_score\n",
    "from sklearn.model_selection import cross_val_predict\n",
    "\n",
    "from sklearn.model_selection import train_test_split\n",
    "\n",
    "from sklearn.linear_model import LinearRegression\n",
    "from sklearn.neighbors import KNeighborsRegressor\n",
    "from sklearn.tree import DecisionTreeClassifier\n",
    "from sklearn.tree import DecisionTreeRegressor\n",
    "import warnings\n",
    "warnings.filterwarnings('ignore')"
   ]
  },
  {
   "cell_type": "code",
   "execution_count": 2,
   "id": "b215f9b4",
   "metadata": {},
   "outputs": [],
   "source": [
    "data_berlin = pd.read_csv('data_berlin.csv')"
   ]
  },
  {
   "cell_type": "code",
   "execution_count": 3,
   "id": "3916e8cc",
   "metadata": {},
   "outputs": [
    {
     "data": {
      "text/html": [
       "<div>\n",
       "<style scoped>\n",
       "    .dataframe tbody tr th:only-of-type {\n",
       "        vertical-align: middle;\n",
       "    }\n",
       "\n",
       "    .dataframe tbody tr th {\n",
       "        vertical-align: top;\n",
       "    }\n",
       "\n",
       "    .dataframe thead th {\n",
       "        text-align: right;\n",
       "    }\n",
       "</style>\n",
       "<table border=\"1\" class=\"dataframe\">\n",
       "  <thead>\n",
       "    <tr style=\"text-align: right;\">\n",
       "      <th></th>\n",
       "      <th>Unnamed: 0</th>\n",
       "      <th>realSum</th>\n",
       "      <th>person_capacity</th>\n",
       "      <th>multi</th>\n",
       "      <th>biz</th>\n",
       "      <th>cleanliness_rating</th>\n",
       "      <th>guest_satisfaction_overall</th>\n",
       "      <th>bedrooms</th>\n",
       "      <th>dist</th>\n",
       "      <th>metro_dist</th>\n",
       "      <th>attr_index_norm</th>\n",
       "      <th>rest_index_norm</th>\n",
       "      <th>room_shared_True</th>\n",
       "      <th>room_private_True</th>\n",
       "      <th>host_is_superhost_True</th>\n",
       "      <th>weekend_yes</th>\n",
       "    </tr>\n",
       "  </thead>\n",
       "  <tbody>\n",
       "    <tr>\n",
       "      <th>Unnamed: 0</th>\n",
       "      <td>1.000000</td>\n",
       "      <td>0.005568</td>\n",
       "      <td>-0.028852</td>\n",
       "      <td>0.009420</td>\n",
       "      <td>-0.093729</td>\n",
       "      <td>0.029422</td>\n",
       "      <td>0.013309</td>\n",
       "      <td>-0.012154</td>\n",
       "      <td>0.236886</td>\n",
       "      <td>0.182713</td>\n",
       "      <td>-0.090715</td>\n",
       "      <td>-0.121209</td>\n",
       "      <td>-0.044434</td>\n",
       "      <td>0.005658</td>\n",
       "      <td>-0.068089</td>\n",
       "      <td>-0.058339</td>\n",
       "    </tr>\n",
       "    <tr>\n",
       "      <th>realSum</th>\n",
       "      <td>0.005568</td>\n",
       "      <td>1.000000</td>\n",
       "      <td>0.312270</td>\n",
       "      <td>0.005560</td>\n",
       "      <td>0.128866</td>\n",
       "      <td>0.045257</td>\n",
       "      <td>0.007343</td>\n",
       "      <td>0.260299</td>\n",
       "      <td>-0.137876</td>\n",
       "      <td>-0.093474</td>\n",
       "      <td>0.276868</td>\n",
       "      <td>0.262607</td>\n",
       "      <td>-0.067590</td>\n",
       "      <td>-0.344527</td>\n",
       "      <td>0.021213</td>\n",
       "      <td>0.019183</td>\n",
       "    </tr>\n",
       "    <tr>\n",
       "      <th>person_capacity</th>\n",
       "      <td>-0.028852</td>\n",
       "      <td>0.312270</td>\n",
       "      <td>1.000000</td>\n",
       "      <td>0.023784</td>\n",
       "      <td>0.303146</td>\n",
       "      <td>-0.126857</td>\n",
       "      <td>-0.143367</td>\n",
       "      <td>0.368039</td>\n",
       "      <td>-0.054244</td>\n",
       "      <td>-0.001157</td>\n",
       "      <td>0.058483</td>\n",
       "      <td>0.056577</td>\n",
       "      <td>0.215564</td>\n",
       "      <td>-0.440222</td>\n",
       "      <td>-0.066055</td>\n",
       "      <td>-0.021669</td>\n",
       "    </tr>\n",
       "    <tr>\n",
       "      <th>multi</th>\n",
       "      <td>0.009420</td>\n",
       "      <td>0.005560</td>\n",
       "      <td>0.023784</td>\n",
       "      <td>1.000000</td>\n",
       "      <td>-0.284207</td>\n",
       "      <td>-0.001870</td>\n",
       "      <td>-0.006750</td>\n",
       "      <td>0.019040</td>\n",
       "      <td>0.004567</td>\n",
       "      <td>0.010004</td>\n",
       "      <td>0.002051</td>\n",
       "      <td>0.029869</td>\n",
       "      <td>-0.086155</td>\n",
       "      <td>0.073556</td>\n",
       "      <td>0.081426</td>\n",
       "      <td>0.001079</td>\n",
       "    </tr>\n",
       "    <tr>\n",
       "      <th>biz</th>\n",
       "      <td>-0.093729</td>\n",
       "      <td>0.128866</td>\n",
       "      <td>0.303146</td>\n",
       "      <td>-0.284207</td>\n",
       "      <td>1.000000</td>\n",
       "      <td>-0.094133</td>\n",
       "      <td>-0.243159</td>\n",
       "      <td>-0.041444</td>\n",
       "      <td>-0.144784</td>\n",
       "      <td>-0.122711</td>\n",
       "      <td>0.197954</td>\n",
       "      <td>0.197218</td>\n",
       "      <td>0.252632</td>\n",
       "      <td>-0.240041</td>\n",
       "      <td>-0.130110</td>\n",
       "      <td>-0.024741</td>\n",
       "    </tr>\n",
       "    <tr>\n",
       "      <th>cleanliness_rating</th>\n",
       "      <td>0.029422</td>\n",
       "      <td>0.045257</td>\n",
       "      <td>-0.126857</td>\n",
       "      <td>-0.001870</td>\n",
       "      <td>-0.094133</td>\n",
       "      <td>1.000000</td>\n",
       "      <td>0.588026</td>\n",
       "      <td>0.036240</td>\n",
       "      <td>0.057492</td>\n",
       "      <td>0.001517</td>\n",
       "      <td>0.004338</td>\n",
       "      <td>0.005453</td>\n",
       "      <td>-0.103035</td>\n",
       "      <td>0.032135</td>\n",
       "      <td>0.245033</td>\n",
       "      <td>-0.016228</td>\n",
       "    </tr>\n",
       "    <tr>\n",
       "      <th>guest_satisfaction_overall</th>\n",
       "      <td>0.013309</td>\n",
       "      <td>0.007343</td>\n",
       "      <td>-0.143367</td>\n",
       "      <td>-0.006750</td>\n",
       "      <td>-0.243159</td>\n",
       "      <td>0.588026</td>\n",
       "      <td>1.000000</td>\n",
       "      <td>0.048037</td>\n",
       "      <td>0.062014</td>\n",
       "      <td>0.013188</td>\n",
       "      <td>-0.042089</td>\n",
       "      <td>-0.029315</td>\n",
       "      <td>-0.104206</td>\n",
       "      <td>0.071852</td>\n",
       "      <td>0.260165</td>\n",
       "      <td>0.003739</td>\n",
       "    </tr>\n",
       "    <tr>\n",
       "      <th>bedrooms</th>\n",
       "      <td>-0.012154</td>\n",
       "      <td>0.260299</td>\n",
       "      <td>0.368039</td>\n",
       "      <td>0.019040</td>\n",
       "      <td>-0.041444</td>\n",
       "      <td>0.036240</td>\n",
       "      <td>0.048037</td>\n",
       "      <td>1.000000</td>\n",
       "      <td>0.001604</td>\n",
       "      <td>-0.011852</td>\n",
       "      <td>0.005718</td>\n",
       "      <td>-0.007947</td>\n",
       "      <td>-0.022211</td>\n",
       "      <td>-0.130027</td>\n",
       "      <td>0.025000</td>\n",
       "      <td>-0.025604</td>\n",
       "    </tr>\n",
       "    <tr>\n",
       "      <th>dist</th>\n",
       "      <td>0.236886</td>\n",
       "      <td>-0.137876</td>\n",
       "      <td>-0.054244</td>\n",
       "      <td>0.004567</td>\n",
       "      <td>-0.144784</td>\n",
       "      <td>0.057492</td>\n",
       "      <td>0.062014</td>\n",
       "      <td>0.001604</td>\n",
       "      <td>1.000000</td>\n",
       "      <td>0.633582</td>\n",
       "      <td>-0.591303</td>\n",
       "      <td>-0.636395</td>\n",
       "      <td>-0.085008</td>\n",
       "      <td>0.059922</td>\n",
       "      <td>0.038484</td>\n",
       "      <td>-0.002041</td>\n",
       "    </tr>\n",
       "    <tr>\n",
       "      <th>metro_dist</th>\n",
       "      <td>0.182713</td>\n",
       "      <td>-0.093474</td>\n",
       "      <td>-0.001157</td>\n",
       "      <td>0.010004</td>\n",
       "      <td>-0.122711</td>\n",
       "      <td>0.001517</td>\n",
       "      <td>0.013188</td>\n",
       "      <td>-0.011852</td>\n",
       "      <td>0.633582</td>\n",
       "      <td>1.000000</td>\n",
       "      <td>-0.369059</td>\n",
       "      <td>-0.430824</td>\n",
       "      <td>-0.021806</td>\n",
       "      <td>-0.012791</td>\n",
       "      <td>0.010192</td>\n",
       "      <td>-0.001613</td>\n",
       "    </tr>\n",
       "    <tr>\n",
       "      <th>attr_index_norm</th>\n",
       "      <td>-0.090715</td>\n",
       "      <td>0.276868</td>\n",
       "      <td>0.058483</td>\n",
       "      <td>0.002051</td>\n",
       "      <td>0.197954</td>\n",
       "      <td>0.004338</td>\n",
       "      <td>-0.042089</td>\n",
       "      <td>0.005718</td>\n",
       "      <td>-0.591303</td>\n",
       "      <td>-0.369059</td>\n",
       "      <td>1.000000</td>\n",
       "      <td>0.867843</td>\n",
       "      <td>0.013282</td>\n",
       "      <td>-0.153161</td>\n",
       "      <td>0.005526</td>\n",
       "      <td>0.005971</td>\n",
       "    </tr>\n",
       "    <tr>\n",
       "      <th>rest_index_norm</th>\n",
       "      <td>-0.121209</td>\n",
       "      <td>0.262607</td>\n",
       "      <td>0.056577</td>\n",
       "      <td>0.029869</td>\n",
       "      <td>0.197218</td>\n",
       "      <td>0.005453</td>\n",
       "      <td>-0.029315</td>\n",
       "      <td>-0.007947</td>\n",
       "      <td>-0.636395</td>\n",
       "      <td>-0.430824</td>\n",
       "      <td>0.867843</td>\n",
       "      <td>1.000000</td>\n",
       "      <td>0.003331</td>\n",
       "      <td>-0.153248</td>\n",
       "      <td>-0.004205</td>\n",
       "      <td>0.026976</td>\n",
       "    </tr>\n",
       "    <tr>\n",
       "      <th>room_shared_True</th>\n",
       "      <td>-0.044434</td>\n",
       "      <td>-0.067590</td>\n",
       "      <td>0.215564</td>\n",
       "      <td>-0.086155</td>\n",
       "      <td>0.252632</td>\n",
       "      <td>-0.103035</td>\n",
       "      <td>-0.104206</td>\n",
       "      <td>-0.022211</td>\n",
       "      <td>-0.085008</td>\n",
       "      <td>-0.021806</td>\n",
       "      <td>0.013282</td>\n",
       "      <td>0.003331</td>\n",
       "      <td>1.000000</td>\n",
       "      <td>-0.220173</td>\n",
       "      <td>-0.069685</td>\n",
       "      <td>0.013043</td>\n",
       "    </tr>\n",
       "    <tr>\n",
       "      <th>room_private_True</th>\n",
       "      <td>0.005658</td>\n",
       "      <td>-0.344527</td>\n",
       "      <td>-0.440222</td>\n",
       "      <td>0.073556</td>\n",
       "      <td>-0.240041</td>\n",
       "      <td>0.032135</td>\n",
       "      <td>0.071852</td>\n",
       "      <td>-0.130027</td>\n",
       "      <td>0.059922</td>\n",
       "      <td>-0.012791</td>\n",
       "      <td>-0.153161</td>\n",
       "      <td>-0.153248</td>\n",
       "      <td>-0.220173</td>\n",
       "      <td>1.000000</td>\n",
       "      <td>0.076997</td>\n",
       "      <td>0.025425</td>\n",
       "    </tr>\n",
       "    <tr>\n",
       "      <th>host_is_superhost_True</th>\n",
       "      <td>-0.068089</td>\n",
       "      <td>0.021213</td>\n",
       "      <td>-0.066055</td>\n",
       "      <td>0.081426</td>\n",
       "      <td>-0.130110</td>\n",
       "      <td>0.245033</td>\n",
       "      <td>0.260165</td>\n",
       "      <td>0.025000</td>\n",
       "      <td>0.038484</td>\n",
       "      <td>0.010192</td>\n",
       "      <td>0.005526</td>\n",
       "      <td>-0.004205</td>\n",
       "      <td>-0.069685</td>\n",
       "      <td>0.076997</td>\n",
       "      <td>1.000000</td>\n",
       "      <td>-0.021555</td>\n",
       "    </tr>\n",
       "    <tr>\n",
       "      <th>weekend_yes</th>\n",
       "      <td>-0.058339</td>\n",
       "      <td>0.019183</td>\n",
       "      <td>-0.021669</td>\n",
       "      <td>0.001079</td>\n",
       "      <td>-0.024741</td>\n",
       "      <td>-0.016228</td>\n",
       "      <td>0.003739</td>\n",
       "      <td>-0.025604</td>\n",
       "      <td>-0.002041</td>\n",
       "      <td>-0.001613</td>\n",
       "      <td>0.005971</td>\n",
       "      <td>0.026976</td>\n",
       "      <td>0.013043</td>\n",
       "      <td>0.025425</td>\n",
       "      <td>-0.021555</td>\n",
       "      <td>1.000000</td>\n",
       "    </tr>\n",
       "  </tbody>\n",
       "</table>\n",
       "</div>"
      ],
      "text/plain": [
       "                            Unnamed: 0   realSum  person_capacity     multi  \\\n",
       "Unnamed: 0                    1.000000  0.005568        -0.028852  0.009420   \n",
       "realSum                       0.005568  1.000000         0.312270  0.005560   \n",
       "person_capacity              -0.028852  0.312270         1.000000  0.023784   \n",
       "multi                         0.009420  0.005560         0.023784  1.000000   \n",
       "biz                          -0.093729  0.128866         0.303146 -0.284207   \n",
       "cleanliness_rating            0.029422  0.045257        -0.126857 -0.001870   \n",
       "guest_satisfaction_overall    0.013309  0.007343        -0.143367 -0.006750   \n",
       "bedrooms                     -0.012154  0.260299         0.368039  0.019040   \n",
       "dist                          0.236886 -0.137876        -0.054244  0.004567   \n",
       "metro_dist                    0.182713 -0.093474        -0.001157  0.010004   \n",
       "attr_index_norm              -0.090715  0.276868         0.058483  0.002051   \n",
       "rest_index_norm              -0.121209  0.262607         0.056577  0.029869   \n",
       "room_shared_True             -0.044434 -0.067590         0.215564 -0.086155   \n",
       "room_private_True             0.005658 -0.344527        -0.440222  0.073556   \n",
       "host_is_superhost_True       -0.068089  0.021213        -0.066055  0.081426   \n",
       "weekend_yes                  -0.058339  0.019183        -0.021669  0.001079   \n",
       "\n",
       "                                 biz  cleanliness_rating  \\\n",
       "Unnamed: 0                 -0.093729            0.029422   \n",
       "realSum                     0.128866            0.045257   \n",
       "person_capacity             0.303146           -0.126857   \n",
       "multi                      -0.284207           -0.001870   \n",
       "biz                         1.000000           -0.094133   \n",
       "cleanliness_rating         -0.094133            1.000000   \n",
       "guest_satisfaction_overall -0.243159            0.588026   \n",
       "bedrooms                   -0.041444            0.036240   \n",
       "dist                       -0.144784            0.057492   \n",
       "metro_dist                 -0.122711            0.001517   \n",
       "attr_index_norm             0.197954            0.004338   \n",
       "rest_index_norm             0.197218            0.005453   \n",
       "room_shared_True            0.252632           -0.103035   \n",
       "room_private_True          -0.240041            0.032135   \n",
       "host_is_superhost_True     -0.130110            0.245033   \n",
       "weekend_yes                -0.024741           -0.016228   \n",
       "\n",
       "                            guest_satisfaction_overall  bedrooms      dist  \\\n",
       "Unnamed: 0                                    0.013309 -0.012154  0.236886   \n",
       "realSum                                       0.007343  0.260299 -0.137876   \n",
       "person_capacity                              -0.143367  0.368039 -0.054244   \n",
       "multi                                        -0.006750  0.019040  0.004567   \n",
       "biz                                          -0.243159 -0.041444 -0.144784   \n",
       "cleanliness_rating                            0.588026  0.036240  0.057492   \n",
       "guest_satisfaction_overall                    1.000000  0.048037  0.062014   \n",
       "bedrooms                                      0.048037  1.000000  0.001604   \n",
       "dist                                          0.062014  0.001604  1.000000   \n",
       "metro_dist                                    0.013188 -0.011852  0.633582   \n",
       "attr_index_norm                              -0.042089  0.005718 -0.591303   \n",
       "rest_index_norm                              -0.029315 -0.007947 -0.636395   \n",
       "room_shared_True                             -0.104206 -0.022211 -0.085008   \n",
       "room_private_True                             0.071852 -0.130027  0.059922   \n",
       "host_is_superhost_True                        0.260165  0.025000  0.038484   \n",
       "weekend_yes                                   0.003739 -0.025604 -0.002041   \n",
       "\n",
       "                            metro_dist  attr_index_norm  rest_index_norm  \\\n",
       "Unnamed: 0                    0.182713        -0.090715        -0.121209   \n",
       "realSum                      -0.093474         0.276868         0.262607   \n",
       "person_capacity              -0.001157         0.058483         0.056577   \n",
       "multi                         0.010004         0.002051         0.029869   \n",
       "biz                          -0.122711         0.197954         0.197218   \n",
       "cleanliness_rating            0.001517         0.004338         0.005453   \n",
       "guest_satisfaction_overall    0.013188        -0.042089        -0.029315   \n",
       "bedrooms                     -0.011852         0.005718        -0.007947   \n",
       "dist                          0.633582        -0.591303        -0.636395   \n",
       "metro_dist                    1.000000        -0.369059        -0.430824   \n",
       "attr_index_norm              -0.369059         1.000000         0.867843   \n",
       "rest_index_norm              -0.430824         0.867843         1.000000   \n",
       "room_shared_True             -0.021806         0.013282         0.003331   \n",
       "room_private_True            -0.012791        -0.153161        -0.153248   \n",
       "host_is_superhost_True        0.010192         0.005526        -0.004205   \n",
       "weekend_yes                  -0.001613         0.005971         0.026976   \n",
       "\n",
       "                            room_shared_True  room_private_True  \\\n",
       "Unnamed: 0                         -0.044434           0.005658   \n",
       "realSum                            -0.067590          -0.344527   \n",
       "person_capacity                     0.215564          -0.440222   \n",
       "multi                              -0.086155           0.073556   \n",
       "biz                                 0.252632          -0.240041   \n",
       "cleanliness_rating                 -0.103035           0.032135   \n",
       "guest_satisfaction_overall         -0.104206           0.071852   \n",
       "bedrooms                           -0.022211          -0.130027   \n",
       "dist                               -0.085008           0.059922   \n",
       "metro_dist                         -0.021806          -0.012791   \n",
       "attr_index_norm                     0.013282          -0.153161   \n",
       "rest_index_norm                     0.003331          -0.153248   \n",
       "room_shared_True                    1.000000          -0.220173   \n",
       "room_private_True                  -0.220173           1.000000   \n",
       "host_is_superhost_True             -0.069685           0.076997   \n",
       "weekend_yes                         0.013043           0.025425   \n",
       "\n",
       "                            host_is_superhost_True  weekend_yes  \n",
       "Unnamed: 0                               -0.068089    -0.058339  \n",
       "realSum                                   0.021213     0.019183  \n",
       "person_capacity                          -0.066055    -0.021669  \n",
       "multi                                     0.081426     0.001079  \n",
       "biz                                      -0.130110    -0.024741  \n",
       "cleanliness_rating                        0.245033    -0.016228  \n",
       "guest_satisfaction_overall                0.260165     0.003739  \n",
       "bedrooms                                  0.025000    -0.025604  \n",
       "dist                                      0.038484    -0.002041  \n",
       "metro_dist                                0.010192    -0.001613  \n",
       "attr_index_norm                           0.005526     0.005971  \n",
       "rest_index_norm                          -0.004205     0.026976  \n",
       "room_shared_True                         -0.069685     0.013043  \n",
       "room_private_True                         0.076997     0.025425  \n",
       "host_is_superhost_True                    1.000000    -0.021555  \n",
       "weekend_yes                              -0.021555     1.000000  "
      ]
     },
     "execution_count": 3,
     "metadata": {},
     "output_type": "execute_result"
    }
   ],
   "source": [
    "data_berlin.corr()"
   ]
  },
  {
   "cell_type": "code",
   "execution_count": 4,
   "id": "6f0c7a49",
   "metadata": {},
   "outputs": [],
   "source": [
    "data_berlin = data_berlin.drop(['Unnamed: 0', 'multi', 'biz', 'guest_satisfaction_overall', 'host_is_superhost_True', 'rest_index_norm', 'dist'], axis=1)"
   ]
  },
  {
   "cell_type": "code",
   "execution_count": 5,
   "id": "ddf86af0",
   "metadata": {},
   "outputs": [],
   "source": [
    "x = data_berlin.drop('realSum', axis=1)\n",
    "y = data_berlin.realSum"
   ]
  },
  {
   "cell_type": "code",
   "execution_count": 6,
   "id": "175c984d",
   "metadata": {},
   "outputs": [
    {
     "data": {
      "text/html": [
       "<div>\n",
       "<style scoped>\n",
       "    .dataframe tbody tr th:only-of-type {\n",
       "        vertical-align: middle;\n",
       "    }\n",
       "\n",
       "    .dataframe tbody tr th {\n",
       "        vertical-align: top;\n",
       "    }\n",
       "\n",
       "    .dataframe thead th {\n",
       "        text-align: right;\n",
       "    }\n",
       "</style>\n",
       "<table border=\"1\" class=\"dataframe\">\n",
       "  <thead>\n",
       "    <tr style=\"text-align: right;\">\n",
       "      <th></th>\n",
       "      <th>person_capacity</th>\n",
       "      <th>cleanliness_rating</th>\n",
       "      <th>bedrooms</th>\n",
       "      <th>metro_dist</th>\n",
       "      <th>attr_index_norm</th>\n",
       "      <th>room_shared_True</th>\n",
       "      <th>room_private_True</th>\n",
       "      <th>weekend_yes</th>\n",
       "    </tr>\n",
       "  </thead>\n",
       "  <tbody>\n",
       "    <tr>\n",
       "      <th>count</th>\n",
       "      <td>1863.000000</td>\n",
       "      <td>1863.000000</td>\n",
       "      <td>1863.000000</td>\n",
       "      <td>1863.000000</td>\n",
       "      <td>1863.000000</td>\n",
       "      <td>1863.000000</td>\n",
       "      <td>1863.000000</td>\n",
       "      <td>1863.000000</td>\n",
       "    </tr>\n",
       "    <tr>\n",
       "      <th>mean</th>\n",
       "      <td>2.777778</td>\n",
       "      <td>9.464305</td>\n",
       "      <td>1.078368</td>\n",
       "      <td>0.852185</td>\n",
       "      <td>16.815629</td>\n",
       "      <td>0.031669</td>\n",
       "      <td>0.615137</td>\n",
       "      <td>0.478261</td>\n",
       "    </tr>\n",
       "    <tr>\n",
       "      <th>std</th>\n",
       "      <td>1.185302</td>\n",
       "      <td>0.863192</td>\n",
       "      <td>0.572629</td>\n",
       "      <td>1.306485</td>\n",
       "      <td>11.040598</td>\n",
       "      <td>0.175165</td>\n",
       "      <td>0.486694</td>\n",
       "      <td>0.499661</td>\n",
       "    </tr>\n",
       "    <tr>\n",
       "      <th>min</th>\n",
       "      <td>2.000000</td>\n",
       "      <td>4.000000</td>\n",
       "      <td>0.000000</td>\n",
       "      <td>0.010000</td>\n",
       "      <td>2.309508</td>\n",
       "      <td>0.000000</td>\n",
       "      <td>0.000000</td>\n",
       "      <td>0.000000</td>\n",
       "    </tr>\n",
       "    <tr>\n",
       "      <th>25%</th>\n",
       "      <td>2.000000</td>\n",
       "      <td>9.000000</td>\n",
       "      <td>1.000000</td>\n",
       "      <td>0.280000</td>\n",
       "      <td>10.365119</td>\n",
       "      <td>0.000000</td>\n",
       "      <td>0.000000</td>\n",
       "      <td>0.000000</td>\n",
       "    </tr>\n",
       "    <tr>\n",
       "      <th>50%</th>\n",
       "      <td>2.000000</td>\n",
       "      <td>10.000000</td>\n",
       "      <td>1.000000</td>\n",
       "      <td>0.460000</td>\n",
       "      <td>13.858678</td>\n",
       "      <td>0.000000</td>\n",
       "      <td>1.000000</td>\n",
       "      <td>0.000000</td>\n",
       "    </tr>\n",
       "    <tr>\n",
       "      <th>75%</th>\n",
       "      <td>3.000000</td>\n",
       "      <td>10.000000</td>\n",
       "      <td>1.000000</td>\n",
       "      <td>0.810000</td>\n",
       "      <td>19.840643</td>\n",
       "      <td>0.000000</td>\n",
       "      <td>1.000000</td>\n",
       "      <td>1.000000</td>\n",
       "    </tr>\n",
       "    <tr>\n",
       "      <th>max</th>\n",
       "      <td>6.000000</td>\n",
       "      <td>10.000000</td>\n",
       "      <td>9.000000</td>\n",
       "      <td>14.270000</td>\n",
       "      <td>100.000000</td>\n",
       "      <td>1.000000</td>\n",
       "      <td>1.000000</td>\n",
       "      <td>1.000000</td>\n",
       "    </tr>\n",
       "  </tbody>\n",
       "</table>\n",
       "</div>"
      ],
      "text/plain": [
       "       person_capacity  cleanliness_rating     bedrooms   metro_dist  \\\n",
       "count      1863.000000         1863.000000  1863.000000  1863.000000   \n",
       "mean          2.777778            9.464305     1.078368     0.852185   \n",
       "std           1.185302            0.863192     0.572629     1.306485   \n",
       "min           2.000000            4.000000     0.000000     0.010000   \n",
       "25%           2.000000            9.000000     1.000000     0.280000   \n",
       "50%           2.000000           10.000000     1.000000     0.460000   \n",
       "75%           3.000000           10.000000     1.000000     0.810000   \n",
       "max           6.000000           10.000000     9.000000    14.270000   \n",
       "\n",
       "       attr_index_norm  room_shared_True  room_private_True  weekend_yes  \n",
       "count      1863.000000       1863.000000        1863.000000  1863.000000  \n",
       "mean         16.815629          0.031669           0.615137     0.478261  \n",
       "std          11.040598          0.175165           0.486694     0.499661  \n",
       "min           2.309508          0.000000           0.000000     0.000000  \n",
       "25%          10.365119          0.000000           0.000000     0.000000  \n",
       "50%          13.858678          0.000000           1.000000     0.000000  \n",
       "75%          19.840643          0.000000           1.000000     1.000000  \n",
       "max         100.000000          1.000000           1.000000     1.000000  "
      ]
     },
     "execution_count": 6,
     "metadata": {},
     "output_type": "execute_result"
    }
   ],
   "source": [
    "# test-train split\n",
    "x_train, x_test, y_train, y_test = train_test_split(x, y, test_size=TT_RATIO, random_state=RAND_STATE)\n",
    "x_train = pd.DataFrame(x_train)\n",
    "x_test = pd.DataFrame(x_test)\n",
    "x_train.describe()"
   ]
  },
  {
   "cell_type": "code",
   "execution_count": 7,
   "id": "d86fa1a7",
   "metadata": {
    "scrolled": true
   },
   "outputs": [
    {
     "name": "stdout",
     "output_type": "stream",
     "text": [
      "                            OLS Regression Results                            \n",
      "==============================================================================\n",
      "Dep. Variable:                realSum   R-squared:                       0.292\n",
      "Model:                            OLS   Adj. R-squared:                  0.289\n",
      "Method:                 Least Squares   F-statistic:                     95.71\n",
      "Date:                Mon, 06 Mar 2023   Prob (F-statistic):          2.20e-133\n",
      "Time:                        16:38:11   Log-Likelihood:                -12286.\n",
      "No. Observations:                1863   AIC:                         2.459e+04\n",
      "Df Residuals:                    1854   BIC:                         2.464e+04\n",
      "Df Model:                           8                                         \n",
      "Covariance Type:            nonrobust                                         \n",
      "======================================================================================\n",
      "                         coef    std err          t      P>|t|      [0.025      0.975]\n",
      "--------------------------------------------------------------------------------------\n",
      "const                -25.3562     50.471     -0.502      0.615    -124.342      73.630\n",
      "person_capacity       30.3535      4.235      7.168      0.000      22.048      38.659\n",
      "cleanliness_rating    13.9610      4.824      2.894      0.004       4.500      23.422\n",
      "bedrooms              61.4299      7.771      7.905      0.000      46.190      76.670\n",
      "metro_dist            -4.9376      3.398     -1.453      0.146     -11.603       1.727\n",
      "attr_index_norm        3.9034      0.406      9.607      0.000       3.107       4.700\n",
      "room_shared_True    -214.2888     24.564     -8.724      0.000    -262.464    -166.113\n",
      "room_private_True   -129.8781      9.759    -13.309      0.000    -149.017    -110.739\n",
      "weekend_yes           18.1465      8.243      2.201      0.028       1.980      34.313\n",
      "==============================================================================\n",
      "Omnibus:                     3710.179   Durbin-Watson:                   2.006\n",
      "Prob(Omnibus):                  0.000   Jarque-Bera (JB):         12290358.084\n",
      "Skew:                          15.392   Prob(JB):                         0.00\n",
      "Kurtosis:                     399.714   Cond. No.                         271.\n",
      "==============================================================================\n",
      "\n",
      "Notes:\n",
      "[1] Standard Errors assume that the covariance matrix of the errors is correctly specified.\n"
     ]
    }
   ],
   "source": [
    "x_train_const = sm.add_constant(x_train) # adding a constant\n",
    "\n",
    "model = sm.OLS(y_train, x_train_const).fit()\n",
    "predictions_train = model.predict(x_train_const)\n",
    "\n",
    "x_test_const = sm.add_constant(x_test) # adding a constant\n",
    "predictions_test = model.predict(x_test_const)\n",
    "print_model = model.summary()\n",
    "print(print_model)"
   ]
  },
  {
   "cell_type": "code",
   "execution_count": 8,
   "id": "076fdabb",
   "metadata": {},
   "outputs": [],
   "source": [
    "sts = StandardScaler()\n",
    "\n",
    "x_train_standarized = sts.fit_transform(x_train)\n",
    "x_test_standarized = sts.transform(x_test)\n",
    "\n",
    "x_train_standarized = pd.DataFrame(x_train_standarized)"
   ]
  },
  {
   "cell_type": "code",
   "execution_count": 9,
   "id": "fe2c2815",
   "metadata": {
    "scrolled": true
   },
   "outputs": [
    {
     "name": "stdout",
     "output_type": "stream",
     "text": [
      "                            OLS Regression Results                            \n",
      "==============================================================================\n",
      "Dep. Variable:                realSum   R-squared:                       0.292\n",
      "Model:                            OLS   Adj. R-squared:                  0.289\n",
      "Method:                 Least Squares   F-statistic:                     95.71\n",
      "Date:                Mon, 06 Mar 2023   Prob (F-statistic):          2.20e-133\n",
      "Time:                        16:38:11   Log-Likelihood:                -12286.\n",
      "No. Observations:                1863   AIC:                         2.459e+04\n",
      "Df Residuals:                    1854   BIC:                         2.464e+04\n",
      "Df Model:                           8                                         \n",
      "Covariance Type:            nonrobust                                         \n",
      "==============================================================================\n",
      "                 coef    std err          t      P>|t|      [0.025      0.975]\n",
      "------------------------------------------------------------------------------\n",
      "const        240.7646      4.110     58.585      0.000     232.704     248.825\n",
      "x1            35.9684      5.018      7.168      0.000      26.127      45.810\n",
      "x2            12.0478      4.163      2.894      0.004       3.883      20.213\n",
      "x3            35.1671      4.448      7.905      0.000      26.443      43.892\n",
      "x4            -6.4492      4.439     -1.453      0.146     -15.155       2.256\n",
      "x5            43.0844      4.485      9.607      0.000      34.289      51.880\n",
      "x6           -37.5259      4.302     -8.724      0.000     -45.962     -29.089\n",
      "x7           -63.1939      4.748    -13.309      0.000     -72.506     -53.881\n",
      "x8             9.0646      4.118      2.201      0.028       0.989      17.140\n",
      "==============================================================================\n",
      "Omnibus:                     3710.179   Durbin-Watson:                   2.006\n",
      "Prob(Omnibus):                  0.000   Jarque-Bera (JB):         12290358.084\n",
      "Skew:                          15.392   Prob(JB):                         0.00\n",
      "Kurtosis:                     399.714   Cond. No.                         1.98\n",
      "==============================================================================\n",
      "\n",
      "Notes:\n",
      "[1] Standard Errors assume that the covariance matrix of the errors is correctly specified.\n"
     ]
    }
   ],
   "source": [
    "x_train_const = sm.add_constant(x_train_standarized.to_numpy()) # adding a constant\n",
    "\n",
    "model = sm.OLS(y_train, x_train_const).fit()\n",
    "predictions_train = model.predict(x_train_const)\n",
    "\n",
    "x_test_const = sm.add_constant(x_test_standarized) # adding a constant\n",
    "predictions_test = model.predict(x_test_const)\n",
    "print_model = model.summary()\n",
    "print(print_model)"
   ]
  },
  {
   "cell_type": "code",
   "execution_count": 10,
   "id": "622de890",
   "metadata": {},
   "outputs": [
    {
     "data": {
      "text/plain": [
       "-25.35621688212592"
      ]
     },
     "execution_count": 10,
     "metadata": {},
     "output_type": "execute_result"
    }
   ],
   "source": [
    "lm = LinearRegression()\n",
    "model = lm.fit(x_train,y_train)\n",
    "model.coef_\n",
    "model.intercept_"
   ]
  },
  {
   "cell_type": "code",
   "execution_count": 11,
   "id": "9529bbeb",
   "metadata": {},
   "outputs": [
    {
     "data": {
      "text/plain": [
       "0.2922889648010154"
      ]
     },
     "execution_count": 11,
     "metadata": {},
     "output_type": "execute_result"
    }
   ],
   "source": [
    "model.score(x_train, y_train)"
   ]
  },
  {
   "cell_type": "code",
   "execution_count": 12,
   "id": "8af0b49c",
   "metadata": {},
   "outputs": [],
   "source": [
    "y_pred = pd.DataFrame(model.predict(x_test),columns = ['realSum'] )      # model prediction\n",
    "y_pred_train =  pd.DataFrame(model.predict(x_train),columns = ['realSum'])"
   ]
  },
  {
   "cell_type": "code",
   "execution_count": 13,
   "id": "772b6c5a",
   "metadata": {},
   "outputs": [
    {
     "data": {
      "text/plain": [
       "70915.98371072921"
      ]
     },
     "execution_count": 13,
     "metadata": {},
     "output_type": "execute_result"
    }
   ],
   "source": [
    "mse(y_test,y_pred)"
   ]
  },
  {
   "cell_type": "code",
   "execution_count": 14,
   "id": "85e72633",
   "metadata": {},
   "outputs": [
    {
     "data": {
      "text/plain": [
       "266.30055146531186"
      ]
     },
     "execution_count": 14,
     "metadata": {},
     "output_type": "execute_result"
    }
   ],
   "source": [
    "rmse = np.sqrt(mse(y_test,y_pred))\n",
    "rmse"
   ]
  },
  {
   "cell_type": "code",
   "execution_count": 15,
   "id": "5f25f437",
   "metadata": {},
   "outputs": [
    {
     "data": {
      "text/plain": [
       "31313.14189934445"
      ]
     },
     "execution_count": 15,
     "metadata": {},
     "output_type": "execute_result"
    }
   ],
   "source": [
    "##prediction on the train set\n",
    "mse(y_train,y_pred_train)"
   ]
  },
  {
   "cell_type": "code",
   "execution_count": 16,
   "id": "78425a83",
   "metadata": {},
   "outputs": [
    {
     "data": {
      "text/plain": [
       "81.60857942176045"
      ]
     },
     "execution_count": 16,
     "metadata": {},
     "output_type": "execute_result"
    }
   ],
   "source": [
    "mae(y_test,y_pred)"
   ]
  },
  {
   "cell_type": "code",
   "execution_count": 17,
   "id": "837510e2",
   "metadata": {},
   "outputs": [
    {
     "data": {
      "text/plain": [
       "0.19885284771628786"
      ]
     },
     "execution_count": 17,
     "metadata": {},
     "output_type": "execute_result"
    }
   ],
   "source": [
    "R2=r2_score(y_test,y_pred)\n",
    "R2"
   ]
  },
  {
   "cell_type": "code",
   "execution_count": 18,
   "id": "511f8b66",
   "metadata": {},
   "outputs": [
    {
     "data": {
      "text/plain": [
       "0.18838033592172954"
      ]
     },
     "execution_count": 18,
     "metadata": {},
     "output_type": "execute_result"
    }
   ],
   "source": [
    "R2_test=model.score(x_test,y_test)\n",
    "R2_train=model.score(x_train,y_train)\n",
    "Adj_R2= 1 - (1-R2)*(len(y_test)-1)/(len(y_test)-x_test.shape[1]-1)\n",
    "Adj_R2"
   ]
  },
  {
   "cell_type": "code",
   "execution_count": 19,
   "id": "143510e6",
   "metadata": {},
   "outputs": [
    {
     "name": "stdout",
     "output_type": "stream",
     "text": [
      "Lasso: Train -> 0.29228594656393725, Test -> 0.19884972541239732\n"
     ]
    }
   ],
   "source": [
    "model_lasso=Lasso(alpha=0.05)\n",
    "\n",
    "model_lasso.fit(x_train, y_train)\n",
    "print(f\"{model_lasso.__class__.__name__}: Train -> {model_lasso.score(x_train, y_train)}, Test -> {model_lasso.score(x_test, y_test)}\")"
   ]
  },
  {
   "cell_type": "code",
   "execution_count": 20,
   "id": "6ac37b68",
   "metadata": {},
   "outputs": [
    {
     "name": "stdout",
     "output_type": "stream",
     "text": [
      "Ridge: Train -> 0.21998885021010495, Test -> 0.16503105824816144\n"
     ]
    }
   ],
   "source": [
    "model_ridge=Ridge(alpha=1000)\n",
    "model_ridge.fit(x_train, y_train)\n",
    "print(f\"{model_ridge.__class__.__name__}: Train -> {model_ridge.score(x_train, y_train)}, Test -> {model_ridge.score(x_test, y_test)}\")"
   ]
  },
  {
   "cell_type": "code",
   "execution_count": 21,
   "id": "12ad834c",
   "metadata": {},
   "outputs": [
    {
     "name": "stdout",
     "output_type": "stream",
     "text": [
      "X_train has 1863 rows and 8 columns\n",
      "-----------------------------------\n",
      "The coefficient of determination for the test data is R2=0.12\n",
      "The coefficient of determination for the train data is R2=1.00\n"
     ]
    }
   ],
   "source": [
    "model = DecisionTreeRegressor()\n",
    "model.fit(x_train, y_train)\n",
    "\n",
    "print(\"X_train has %d rows and %d columns\"  %(x_train.shape[0],x_train.shape[1]))\n",
    "print(\"-----------------------------------\")\n",
    "print(\"The coefficient of determination for the test data is R2=%.2f\"\n",
    "      %(model.score(x_test, y_test)))\n",
    "print(\"The coefficient of determination for the train data is R2=%.2f\"\n",
    "      %(model.score(x_train, y_train)))\n"
   ]
  },
  {
   "cell_type": "code",
   "execution_count": 22,
   "id": "3d3a562e",
   "metadata": {},
   "outputs": [
    {
     "name": "stdout",
     "output_type": "stream",
     "text": [
      "Cross validation scores:  [0.51981235 0.21051494 0.61634653 0.42344244 0.45143361]\n",
      "Score stats: 0.44 accuracy with a standard deviation of 0.13\n"
     ]
    }
   ],
   "source": [
    "scores=cross_val_score(model, x_train, y_train, cv=5)\n",
    "print(\"Cross validation scores: \", scores)\n",
    "print(\"Score stats: %0.2f accuracy with a standard deviation of %0.2f\" % (scores.mean(), scores.std()))"
   ]
  },
  {
   "cell_type": "code",
   "execution_count": 23,
   "id": "c176a9c0",
   "metadata": {},
   "outputs": [
    {
     "name": "stdout",
     "output_type": "stream",
     "text": [
      "{'Regression Tree': -0.3041261170922427, 'Linear Regression': 0.32417769318926215, 'KNN': 0.22920626984862696}\n"
     ]
    }
   ],
   "source": [
    "model1 = DecisionTreeRegressor()\n",
    "model2 = LinearRegression()\n",
    "model3 = KNeighborsRegressor()\n",
    "\n",
    "model_pipeline = [model1, model2, model3]\n",
    "model_names = ['Regression Tree', 'Linear Regression', 'KNN']\n",
    "scores = {}\n",
    "i=0\n",
    "for model in model_pipeline:\n",
    "    mean_score = np.mean(cross_val_score(model, x_train, y_train, cv=5))\n",
    "    scores[model_names[i]] = mean_score\n",
    "    i = i+1\n",
    "print(scores)"
   ]
  },
  {
   "cell_type": "code",
   "execution_count": null,
   "id": "32ad397e",
   "metadata": {},
   "outputs": [],
   "source": []
  }
 ],
 "metadata": {
  "kernelspec": {
   "display_name": "Python 3 (ipykernel)",
   "language": "python",
   "name": "python3"
  },
  "language_info": {
   "codemirror_mode": {
    "name": "ipython",
    "version": 3
   },
   "file_extension": ".py",
   "mimetype": "text/x-python",
   "name": "python",
   "nbconvert_exporter": "python",
   "pygments_lexer": "ipython3",
   "version": "3.9.13"
  }
 },
 "nbformat": 4,
 "nbformat_minor": 5
}
