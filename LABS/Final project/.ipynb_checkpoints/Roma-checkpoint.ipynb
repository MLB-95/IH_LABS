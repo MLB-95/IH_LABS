{
 "cells": [
  {
   "cell_type": "code",
   "execution_count": 2,
   "id": "bbfa8368",
   "metadata": {},
   "outputs": [],
   "source": [
    "import pandas as pd\n",
    "import numpy as np\n",
    "\n",
    "import matplotlib.pyplot as plt\n",
    "%matplotlib inline\n",
    "import seaborn as sns\n",
    "from sklearn.preprocessing import PowerTransformer, StandardScaler\n",
    "from sklearn.compose import ColumnTransformer\n",
    "from sklearn.linear_model import LinearRegression\n",
    "from sklearn.model_selection import train_test_split\n",
    "\n",
    "import statsmodels.api as sm\n",
    "from sklearn.metrics import r2_score\n",
    "from sklearn.metrics import mean_squared_error as mse\n",
    "from sklearn.metrics import mean_absolute_error as mae\n",
    "\n",
    "RAND_STATE = 32 # for reproducible shuffling\n",
    "TT_RATIO = 0.25 # test/train\n",
    "\n",
    "from sklearn.linear_model import Lasso,Ridge,ElasticNet, LinearRegression\n",
    "\n",
    "from sklearn.model_selection import cross_val_score\n",
    "from sklearn.model_selection import cross_val_predict\n",
    "\n",
    "from sklearn.model_selection import train_test_split\n",
    "\n",
    "from sklearn.linear_model import LinearRegression\n",
    "from sklearn.neighbors import KNeighborsRegressor\n",
    "from sklearn.tree import DecisionTreeClassifier\n",
    "from sklearn.tree import DecisionTreeRegressor\n",
    "import warnings\n",
    "warnings.filterwarnings('ignore')"
   ]
  },
  {
   "cell_type": "code",
   "execution_count": 4,
   "id": "b215f9b4",
   "metadata": {},
   "outputs": [],
   "source": [
    "data_rome = pd.read_csv('data_rome.csv')"
   ]
  },
  {
   "cell_type": "code",
   "execution_count": 5,
   "id": "8b596109",
   "metadata": {},
   "outputs": [
    {
     "data": {
      "text/html": [
       "<div>\n",
       "<style scoped>\n",
       "    .dataframe tbody tr th:only-of-type {\n",
       "        vertical-align: middle;\n",
       "    }\n",
       "\n",
       "    .dataframe tbody tr th {\n",
       "        vertical-align: top;\n",
       "    }\n",
       "\n",
       "    .dataframe thead th {\n",
       "        text-align: right;\n",
       "    }\n",
       "</style>\n",
       "<table border=\"1\" class=\"dataframe\">\n",
       "  <thead>\n",
       "    <tr style=\"text-align: right;\">\n",
       "      <th></th>\n",
       "      <th>Unnamed: 0</th>\n",
       "      <th>realSum</th>\n",
       "      <th>person_capacity</th>\n",
       "      <th>multi</th>\n",
       "      <th>biz</th>\n",
       "      <th>cleanliness_rating</th>\n",
       "      <th>bedrooms</th>\n",
       "      <th>dist</th>\n",
       "      <th>metro_dist</th>\n",
       "      <th>attr_index_norm</th>\n",
       "      <th>rest_index_norm</th>\n",
       "      <th>room_private_True</th>\n",
       "      <th>host_is_superhost_True</th>\n",
       "      <th>weekend_yes</th>\n",
       "    </tr>\n",
       "  </thead>\n",
       "  <tbody>\n",
       "    <tr>\n",
       "      <th>Unnamed: 0</th>\n",
       "      <td>1.000000</td>\n",
       "      <td>0.023414</td>\n",
       "      <td>0.010820</td>\n",
       "      <td>-0.000715</td>\n",
       "      <td>-0.015856</td>\n",
       "      <td>0.026060</td>\n",
       "      <td>0.013546</td>\n",
       "      <td>0.006587</td>\n",
       "      <td>0.003059</td>\n",
       "      <td>0.018313</td>\n",
       "      <td>0.021186</td>\n",
       "      <td>-0.025772</td>\n",
       "      <td>0.004583</td>\n",
       "      <td>0.008250</td>\n",
       "    </tr>\n",
       "    <tr>\n",
       "      <th>realSum</th>\n",
       "      <td>0.023414</td>\n",
       "      <td>1.000000</td>\n",
       "      <td>0.403907</td>\n",
       "      <td>-0.065923</td>\n",
       "      <td>0.057400</td>\n",
       "      <td>0.005998</td>\n",
       "      <td>0.336617</td>\n",
       "      <td>-0.183023</td>\n",
       "      <td>0.032553</td>\n",
       "      <td>0.402306</td>\n",
       "      <td>0.402724</td>\n",
       "      <td>-0.375700</td>\n",
       "      <td>0.034289</td>\n",
       "      <td>0.031666</td>\n",
       "    </tr>\n",
       "    <tr>\n",
       "      <th>person_capacity</th>\n",
       "      <td>0.010820</td>\n",
       "      <td>0.403907</td>\n",
       "      <td>1.000000</td>\n",
       "      <td>-0.094933</td>\n",
       "      <td>-0.007686</td>\n",
       "      <td>-0.015427</td>\n",
       "      <td>0.597036</td>\n",
       "      <td>0.022424</td>\n",
       "      <td>0.041276</td>\n",
       "      <td>0.117925</td>\n",
       "      <td>0.137297</td>\n",
       "      <td>-0.585820</td>\n",
       "      <td>0.041342</td>\n",
       "      <td>0.004624</td>\n",
       "    </tr>\n",
       "    <tr>\n",
       "      <th>multi</th>\n",
       "      <td>-0.000715</td>\n",
       "      <td>-0.065923</td>\n",
       "      <td>-0.094933</td>\n",
       "      <td>1.000000</td>\n",
       "      <td>-0.561577</td>\n",
       "      <td>0.042467</td>\n",
       "      <td>-0.042833</td>\n",
       "      <td>0.036889</td>\n",
       "      <td>-0.007044</td>\n",
       "      <td>-0.065168</td>\n",
       "      <td>-0.083941</td>\n",
       "      <td>0.155870</td>\n",
       "      <td>0.085794</td>\n",
       "      <td>-0.001501</td>\n",
       "    </tr>\n",
       "    <tr>\n",
       "      <th>biz</th>\n",
       "      <td>-0.015856</td>\n",
       "      <td>0.057400</td>\n",
       "      <td>-0.007686</td>\n",
       "      <td>-0.561577</td>\n",
       "      <td>1.000000</td>\n",
       "      <td>-0.129658</td>\n",
       "      <td>-0.059793</td>\n",
       "      <td>-0.205920</td>\n",
       "      <td>-0.044512</td>\n",
       "      <td>0.215446</td>\n",
       "      <td>0.237018</td>\n",
       "      <td>0.084559</td>\n",
       "      <td>-0.161892</td>\n",
       "      <td>0.010248</td>\n",
       "    </tr>\n",
       "    <tr>\n",
       "      <th>cleanliness_rating</th>\n",
       "      <td>0.026060</td>\n",
       "      <td>0.005998</td>\n",
       "      <td>-0.015427</td>\n",
       "      <td>0.042467</td>\n",
       "      <td>-0.129658</td>\n",
       "      <td>1.000000</td>\n",
       "      <td>0.004377</td>\n",
       "      <td>0.054313</td>\n",
       "      <td>-0.023382</td>\n",
       "      <td>-0.041654</td>\n",
       "      <td>-0.053077</td>\n",
       "      <td>-0.007528</td>\n",
       "      <td>0.297224</td>\n",
       "      <td>-0.001662</td>\n",
       "    </tr>\n",
       "    <tr>\n",
       "      <th>bedrooms</th>\n",
       "      <td>0.013546</td>\n",
       "      <td>0.336617</td>\n",
       "      <td>0.597036</td>\n",
       "      <td>-0.042833</td>\n",
       "      <td>-0.059793</td>\n",
       "      <td>0.004377</td>\n",
       "      <td>1.000000</td>\n",
       "      <td>0.040150</td>\n",
       "      <td>0.011601</td>\n",
       "      <td>0.009073</td>\n",
       "      <td>0.006744</td>\n",
       "      <td>-0.284690</td>\n",
       "      <td>0.030274</td>\n",
       "      <td>0.004458</td>\n",
       "    </tr>\n",
       "    <tr>\n",
       "      <th>dist</th>\n",
       "      <td>0.006587</td>\n",
       "      <td>-0.183023</td>\n",
       "      <td>0.022424</td>\n",
       "      <td>0.036889</td>\n",
       "      <td>-0.205920</td>\n",
       "      <td>0.054313</td>\n",
       "      <td>0.040150</td>\n",
       "      <td>1.000000</td>\n",
       "      <td>0.346068</td>\n",
       "      <td>-0.467529</td>\n",
       "      <td>-0.470964</td>\n",
       "      <td>-0.025375</td>\n",
       "      <td>0.019758</td>\n",
       "      <td>-0.010746</td>\n",
       "    </tr>\n",
       "    <tr>\n",
       "      <th>metro_dist</th>\n",
       "      <td>0.003059</td>\n",
       "      <td>0.032553</td>\n",
       "      <td>0.041276</td>\n",
       "      <td>-0.007044</td>\n",
       "      <td>-0.044512</td>\n",
       "      <td>-0.023382</td>\n",
       "      <td>0.011601</td>\n",
       "      <td>0.346068</td>\n",
       "      <td>1.000000</td>\n",
       "      <td>-0.030664</td>\n",
       "      <td>0.111299</td>\n",
       "      <td>-0.113753</td>\n",
       "      <td>-0.041129</td>\n",
       "      <td>-0.025774</td>\n",
       "    </tr>\n",
       "    <tr>\n",
       "      <th>attr_index_norm</th>\n",
       "      <td>0.018313</td>\n",
       "      <td>0.402306</td>\n",
       "      <td>0.117925</td>\n",
       "      <td>-0.065168</td>\n",
       "      <td>0.215446</td>\n",
       "      <td>-0.041654</td>\n",
       "      <td>0.009073</td>\n",
       "      <td>-0.467529</td>\n",
       "      <td>-0.030664</td>\n",
       "      <td>1.000000</td>\n",
       "      <td>0.804241</td>\n",
       "      <td>-0.192505</td>\n",
       "      <td>0.018770</td>\n",
       "      <td>0.016623</td>\n",
       "    </tr>\n",
       "    <tr>\n",
       "      <th>rest_index_norm</th>\n",
       "      <td>0.021186</td>\n",
       "      <td>0.402724</td>\n",
       "      <td>0.137297</td>\n",
       "      <td>-0.083941</td>\n",
       "      <td>0.237018</td>\n",
       "      <td>-0.053077</td>\n",
       "      <td>0.006744</td>\n",
       "      <td>-0.470964</td>\n",
       "      <td>0.111299</td>\n",
       "      <td>0.804241</td>\n",
       "      <td>1.000000</td>\n",
       "      <td>-0.221888</td>\n",
       "      <td>-0.005651</td>\n",
       "      <td>0.001054</td>\n",
       "    </tr>\n",
       "    <tr>\n",
       "      <th>room_private_True</th>\n",
       "      <td>-0.025772</td>\n",
       "      <td>-0.375700</td>\n",
       "      <td>-0.585820</td>\n",
       "      <td>0.155870</td>\n",
       "      <td>0.084559</td>\n",
       "      <td>-0.007528</td>\n",
       "      <td>-0.284690</td>\n",
       "      <td>-0.025375</td>\n",
       "      <td>-0.113753</td>\n",
       "      <td>-0.192505</td>\n",
       "      <td>-0.221888</td>\n",
       "      <td>1.000000</td>\n",
       "      <td>-0.065790</td>\n",
       "      <td>-0.005574</td>\n",
       "    </tr>\n",
       "    <tr>\n",
       "      <th>host_is_superhost_True</th>\n",
       "      <td>0.004583</td>\n",
       "      <td>0.034289</td>\n",
       "      <td>0.041342</td>\n",
       "      <td>0.085794</td>\n",
       "      <td>-0.161892</td>\n",
       "      <td>0.297224</td>\n",
       "      <td>0.030274</td>\n",
       "      <td>0.019758</td>\n",
       "      <td>-0.041129</td>\n",
       "      <td>0.018770</td>\n",
       "      <td>-0.005651</td>\n",
       "      <td>-0.065790</td>\n",
       "      <td>1.000000</td>\n",
       "      <td>-0.020561</td>\n",
       "    </tr>\n",
       "    <tr>\n",
       "      <th>weekend_yes</th>\n",
       "      <td>0.008250</td>\n",
       "      <td>0.031666</td>\n",
       "      <td>0.004624</td>\n",
       "      <td>-0.001501</td>\n",
       "      <td>0.010248</td>\n",
       "      <td>-0.001662</td>\n",
       "      <td>0.004458</td>\n",
       "      <td>-0.010746</td>\n",
       "      <td>-0.025774</td>\n",
       "      <td>0.016623</td>\n",
       "      <td>0.001054</td>\n",
       "      <td>-0.005574</td>\n",
       "      <td>-0.020561</td>\n",
       "      <td>1.000000</td>\n",
       "    </tr>\n",
       "  </tbody>\n",
       "</table>\n",
       "</div>"
      ],
      "text/plain": [
       "                        Unnamed: 0   realSum  person_capacity     multi  \\\n",
       "Unnamed: 0                1.000000  0.023414         0.010820 -0.000715   \n",
       "realSum                   0.023414  1.000000         0.403907 -0.065923   \n",
       "person_capacity           0.010820  0.403907         1.000000 -0.094933   \n",
       "multi                    -0.000715 -0.065923        -0.094933  1.000000   \n",
       "biz                      -0.015856  0.057400        -0.007686 -0.561577   \n",
       "cleanliness_rating        0.026060  0.005998        -0.015427  0.042467   \n",
       "bedrooms                  0.013546  0.336617         0.597036 -0.042833   \n",
       "dist                      0.006587 -0.183023         0.022424  0.036889   \n",
       "metro_dist                0.003059  0.032553         0.041276 -0.007044   \n",
       "attr_index_norm           0.018313  0.402306         0.117925 -0.065168   \n",
       "rest_index_norm           0.021186  0.402724         0.137297 -0.083941   \n",
       "room_private_True        -0.025772 -0.375700        -0.585820  0.155870   \n",
       "host_is_superhost_True    0.004583  0.034289         0.041342  0.085794   \n",
       "weekend_yes               0.008250  0.031666         0.004624 -0.001501   \n",
       "\n",
       "                             biz  cleanliness_rating  bedrooms      dist  \\\n",
       "Unnamed: 0             -0.015856            0.026060  0.013546  0.006587   \n",
       "realSum                 0.057400            0.005998  0.336617 -0.183023   \n",
       "person_capacity        -0.007686           -0.015427  0.597036  0.022424   \n",
       "multi                  -0.561577            0.042467 -0.042833  0.036889   \n",
       "biz                     1.000000           -0.129658 -0.059793 -0.205920   \n",
       "cleanliness_rating     -0.129658            1.000000  0.004377  0.054313   \n",
       "bedrooms               -0.059793            0.004377  1.000000  0.040150   \n",
       "dist                   -0.205920            0.054313  0.040150  1.000000   \n",
       "metro_dist             -0.044512           -0.023382  0.011601  0.346068   \n",
       "attr_index_norm         0.215446           -0.041654  0.009073 -0.467529   \n",
       "rest_index_norm         0.237018           -0.053077  0.006744 -0.470964   \n",
       "room_private_True       0.084559           -0.007528 -0.284690 -0.025375   \n",
       "host_is_superhost_True -0.161892            0.297224  0.030274  0.019758   \n",
       "weekend_yes             0.010248           -0.001662  0.004458 -0.010746   \n",
       "\n",
       "                        metro_dist  attr_index_norm  rest_index_norm  \\\n",
       "Unnamed: 0                0.003059         0.018313         0.021186   \n",
       "realSum                   0.032553         0.402306         0.402724   \n",
       "person_capacity           0.041276         0.117925         0.137297   \n",
       "multi                    -0.007044        -0.065168        -0.083941   \n",
       "biz                      -0.044512         0.215446         0.237018   \n",
       "cleanliness_rating       -0.023382        -0.041654        -0.053077   \n",
       "bedrooms                  0.011601         0.009073         0.006744   \n",
       "dist                      0.346068        -0.467529        -0.470964   \n",
       "metro_dist                1.000000        -0.030664         0.111299   \n",
       "attr_index_norm          -0.030664         1.000000         0.804241   \n",
       "rest_index_norm           0.111299         0.804241         1.000000   \n",
       "room_private_True        -0.113753        -0.192505        -0.221888   \n",
       "host_is_superhost_True   -0.041129         0.018770        -0.005651   \n",
       "weekend_yes              -0.025774         0.016623         0.001054   \n",
       "\n",
       "                        room_private_True  host_is_superhost_True  weekend_yes  \n",
       "Unnamed: 0                      -0.025772                0.004583     0.008250  \n",
       "realSum                         -0.375700                0.034289     0.031666  \n",
       "person_capacity                 -0.585820                0.041342     0.004624  \n",
       "multi                            0.155870                0.085794    -0.001501  \n",
       "biz                              0.084559               -0.161892     0.010248  \n",
       "cleanliness_rating              -0.007528                0.297224    -0.001662  \n",
       "bedrooms                        -0.284690                0.030274     0.004458  \n",
       "dist                            -0.025375                0.019758    -0.010746  \n",
       "metro_dist                      -0.113753               -0.041129    -0.025774  \n",
       "attr_index_norm                 -0.192505                0.018770     0.016623  \n",
       "rest_index_norm                 -0.221888               -0.005651     0.001054  \n",
       "room_private_True                1.000000               -0.065790    -0.005574  \n",
       "host_is_superhost_True          -0.065790                1.000000    -0.020561  \n",
       "weekend_yes                     -0.005574               -0.020561     1.000000  "
      ]
     },
     "execution_count": 5,
     "metadata": {},
     "output_type": "execute_result"
    }
   ],
   "source": [
    "data_rome.corr()"
   ]
  },
  {
   "cell_type": "code",
   "execution_count": 8,
   "id": "6f0c7a49",
   "metadata": {},
   "outputs": [],
   "source": [
    "data_rome = data_rome.drop(['Unnamed: 0'], axis=1)"
   ]
  },
  {
   "cell_type": "code",
   "execution_count": 9,
   "id": "ddf86af0",
   "metadata": {},
   "outputs": [],
   "source": [
    "x = data_rome.drop('realSum', axis=1)\n",
    "y = data_rome.realSum"
   ]
  },
  {
   "cell_type": "code",
   "execution_count": 10,
   "id": "175c984d",
   "metadata": {},
   "outputs": [
    {
     "data": {
      "text/html": [
       "<div>\n",
       "<style scoped>\n",
       "    .dataframe tbody tr th:only-of-type {\n",
       "        vertical-align: middle;\n",
       "    }\n",
       "\n",
       "    .dataframe tbody tr th {\n",
       "        vertical-align: top;\n",
       "    }\n",
       "\n",
       "    .dataframe thead th {\n",
       "        text-align: right;\n",
       "    }\n",
       "</style>\n",
       "<table border=\"1\" class=\"dataframe\">\n",
       "  <thead>\n",
       "    <tr style=\"text-align: right;\">\n",
       "      <th></th>\n",
       "      <th>person_capacity</th>\n",
       "      <th>multi</th>\n",
       "      <th>biz</th>\n",
       "      <th>cleanliness_rating</th>\n",
       "      <th>bedrooms</th>\n",
       "      <th>dist</th>\n",
       "      <th>metro_dist</th>\n",
       "      <th>attr_index_norm</th>\n",
       "      <th>rest_index_norm</th>\n",
       "      <th>room_private_True</th>\n",
       "      <th>host_is_superhost_True</th>\n",
       "      <th>weekend_yes</th>\n",
       "    </tr>\n",
       "  </thead>\n",
       "  <tbody>\n",
       "    <tr>\n",
       "      <th>count</th>\n",
       "      <td>6770.000000</td>\n",
       "      <td>6770.000000</td>\n",
       "      <td>6770.000000</td>\n",
       "      <td>6770.000000</td>\n",
       "      <td>6770.000000</td>\n",
       "      <td>6770.000000</td>\n",
       "      <td>6770.000000</td>\n",
       "      <td>6770.000000</td>\n",
       "      <td>6770.000000</td>\n",
       "      <td>6770.000000</td>\n",
       "      <td>6770.000000</td>\n",
       "      <td>6770.000000</td>\n",
       "    </tr>\n",
       "    <tr>\n",
       "      <th>mean</th>\n",
       "      <td>3.370015</td>\n",
       "      <td>0.386115</td>\n",
       "      <td>0.336780</td>\n",
       "      <td>9.512408</td>\n",
       "      <td>1.228656</td>\n",
       "      <td>3.010529</td>\n",
       "      <td>0.815390</td>\n",
       "      <td>10.444306</td>\n",
       "      <td>25.166024</td>\n",
       "      <td>0.377105</td>\n",
       "      <td>0.328508</td>\n",
       "      <td>0.499114</td>\n",
       "    </tr>\n",
       "    <tr>\n",
       "      <th>std</th>\n",
       "      <td>1.304113</td>\n",
       "      <td>0.486893</td>\n",
       "      <td>0.472644</td>\n",
       "      <td>0.812760</td>\n",
       "      <td>0.549250</td>\n",
       "      <td>1.628708</td>\n",
       "      <td>0.627754</td>\n",
       "      <td>6.726752</td>\n",
       "      <td>13.429044</td>\n",
       "      <td>0.484697</td>\n",
       "      <td>0.469705</td>\n",
       "      <td>0.500036</td>\n",
       "    </tr>\n",
       "    <tr>\n",
       "      <th>min</th>\n",
       "      <td>2.000000</td>\n",
       "      <td>0.000000</td>\n",
       "      <td>0.000000</td>\n",
       "      <td>2.000000</td>\n",
       "      <td>0.000000</td>\n",
       "      <td>0.040000</td>\n",
       "      <td>0.010000</td>\n",
       "      <td>2.006476</td>\n",
       "      <td>5.535266</td>\n",
       "      <td>0.000000</td>\n",
       "      <td>0.000000</td>\n",
       "      <td>0.000000</td>\n",
       "    </tr>\n",
       "    <tr>\n",
       "      <th>25%</th>\n",
       "      <td>2.000000</td>\n",
       "      <td>0.000000</td>\n",
       "      <td>0.000000</td>\n",
       "      <td>9.000000</td>\n",
       "      <td>1.000000</td>\n",
       "      <td>1.880000</td>\n",
       "      <td>0.330000</td>\n",
       "      <td>5.389982</td>\n",
       "      <td>14.343042</td>\n",
       "      <td>0.000000</td>\n",
       "      <td>0.000000</td>\n",
       "      <td>0.000000</td>\n",
       "    </tr>\n",
       "    <tr>\n",
       "      <th>50%</th>\n",
       "      <td>3.000000</td>\n",
       "      <td>0.000000</td>\n",
       "      <td>0.000000</td>\n",
       "      <td>10.000000</td>\n",
       "      <td>1.000000</td>\n",
       "      <td>2.815000</td>\n",
       "      <td>0.610000</td>\n",
       "      <td>9.034893</td>\n",
       "      <td>21.571617</td>\n",
       "      <td>0.000000</td>\n",
       "      <td>0.000000</td>\n",
       "      <td>0.000000</td>\n",
       "    </tr>\n",
       "    <tr>\n",
       "      <th>75%</th>\n",
       "      <td>4.000000</td>\n",
       "      <td>1.000000</td>\n",
       "      <td>1.000000</td>\n",
       "      <td>10.000000</td>\n",
       "      <td>1.000000</td>\n",
       "      <td>4.010000</td>\n",
       "      <td>1.220000</td>\n",
       "      <td>13.937868</td>\n",
       "      <td>33.718199</td>\n",
       "      <td>1.000000</td>\n",
       "      <td>1.000000</td>\n",
       "      <td>1.000000</td>\n",
       "    </tr>\n",
       "    <tr>\n",
       "      <th>max</th>\n",
       "      <td>6.000000</td>\n",
       "      <td>1.000000</td>\n",
       "      <td>1.000000</td>\n",
       "      <td>10.000000</td>\n",
       "      <td>5.000000</td>\n",
       "      <td>9.550000</td>\n",
       "      <td>4.150000</td>\n",
       "      <td>100.000000</td>\n",
       "      <td>100.000000</td>\n",
       "      <td>1.000000</td>\n",
       "      <td>1.000000</td>\n",
       "      <td>1.000000</td>\n",
       "    </tr>\n",
       "  </tbody>\n",
       "</table>\n",
       "</div>"
      ],
      "text/plain": [
       "       person_capacity        multi          biz  cleanliness_rating  \\\n",
       "count      6770.000000  6770.000000  6770.000000         6770.000000   \n",
       "mean          3.370015     0.386115     0.336780            9.512408   \n",
       "std           1.304113     0.486893     0.472644            0.812760   \n",
       "min           2.000000     0.000000     0.000000            2.000000   \n",
       "25%           2.000000     0.000000     0.000000            9.000000   \n",
       "50%           3.000000     0.000000     0.000000           10.000000   \n",
       "75%           4.000000     1.000000     1.000000           10.000000   \n",
       "max           6.000000     1.000000     1.000000           10.000000   \n",
       "\n",
       "          bedrooms         dist   metro_dist  attr_index_norm  \\\n",
       "count  6770.000000  6770.000000  6770.000000      6770.000000   \n",
       "mean      1.228656     3.010529     0.815390        10.444306   \n",
       "std       0.549250     1.628708     0.627754         6.726752   \n",
       "min       0.000000     0.040000     0.010000         2.006476   \n",
       "25%       1.000000     1.880000     0.330000         5.389982   \n",
       "50%       1.000000     2.815000     0.610000         9.034893   \n",
       "75%       1.000000     4.010000     1.220000        13.937868   \n",
       "max       5.000000     9.550000     4.150000       100.000000   \n",
       "\n",
       "       rest_index_norm  room_private_True  host_is_superhost_True  weekend_yes  \n",
       "count      6770.000000        6770.000000             6770.000000  6770.000000  \n",
       "mean         25.166024           0.377105                0.328508     0.499114  \n",
       "std          13.429044           0.484697                0.469705     0.500036  \n",
       "min           5.535266           0.000000                0.000000     0.000000  \n",
       "25%          14.343042           0.000000                0.000000     0.000000  \n",
       "50%          21.571617           0.000000                0.000000     0.000000  \n",
       "75%          33.718199           1.000000                1.000000     1.000000  \n",
       "max         100.000000           1.000000                1.000000     1.000000  "
      ]
     },
     "execution_count": 10,
     "metadata": {},
     "output_type": "execute_result"
    }
   ],
   "source": [
    "# test-train split\n",
    "x_train, x_test, y_train, y_test = train_test_split(x, y, test_size=TT_RATIO, random_state=RAND_STATE)\n",
    "x_train = pd.DataFrame(x_train)\n",
    "x_test = pd.DataFrame(x_test)\n",
    "x_train.describe()"
   ]
  },
  {
   "cell_type": "code",
   "execution_count": 12,
   "id": "d86fa1a7",
   "metadata": {
    "scrolled": true
   },
   "outputs": [
    {
     "name": "stdout",
     "output_type": "stream",
     "text": [
      "                            OLS Regression Results                            \n",
      "==============================================================================\n",
      "Dep. Variable:                realSum   R-squared:                       0.330\n",
      "Model:                            OLS   Adj. R-squared:                  0.329\n",
      "Method:                 Least Squares   F-statistic:                     277.9\n",
      "Date:                Mon, 06 Mar 2023   Prob (F-statistic):               0.00\n",
      "Time:                        16:30:34   Log-Likelihood:                -40689.\n",
      "No. Observations:                6770   AIC:                         8.140e+04\n",
      "Df Residuals:                    6757   BIC:                         8.149e+04\n",
      "Df Model:                          12                                         \n",
      "Covariance Type:            nonrobust                                         \n",
      "==========================================================================================\n",
      "                             coef    std err          t      P>|t|      [0.025      0.975]\n",
      "------------------------------------------------------------------------------------------\n",
      "const                     40.5194     16.362      2.476      0.013       8.445      72.594\n",
      "person_capacity           12.1927      1.378      8.848      0.000       9.491      14.894\n",
      "multi                      1.4920      3.121      0.478      0.633      -4.626       7.610\n",
      "biz                        1.0948      3.364      0.325      0.745      -5.500       7.690\n",
      "cleanliness_rating         0.9872      1.562      0.632      0.527      -2.075       4.049\n",
      "bedrooms                  46.3922      2.755     16.839      0.000      40.991      51.793\n",
      "dist                      -2.1946      0.949     -2.313      0.021      -4.055      -0.334\n",
      "metro_dist                -0.4116      2.188     -0.188      0.851      -4.700       3.877\n",
      "attr_index_norm            3.2641      0.299     10.912      0.000       2.678       3.850\n",
      "rest_index_norm            1.6791      0.160     10.501      0.000       1.366       1.993\n",
      "room_private_True        -37.8651      3.290    -11.511      0.000     -44.314     -31.416\n",
      "host_is_superhost_True     1.0835      2.727      0.397      0.691      -4.263       6.430\n",
      "weekend_yes                3.7413      2.403      1.557      0.119      -0.969       8.451\n",
      "==============================================================================\n",
      "Omnibus:                    10397.246   Durbin-Watson:                   2.031\n",
      "Prob(Omnibus):                  0.000   Jarque-Bera (JB):          7805198.506\n",
      "Skew:                           9.466   Prob(JB):                         0.00\n",
      "Kurtosis:                     168.262   Cond. No.                         443.\n",
      "==============================================================================\n",
      "\n",
      "Notes:\n",
      "[1] Standard Errors assume that the covariance matrix of the errors is correctly specified.\n"
     ]
    }
   ],
   "source": [
    "x_train_const = sm.add_constant(x_train) # adding a constant\n",
    "\n",
    "model = sm.OLS(y_train, x_train_const).fit()\n",
    "predictions_train = model.predict(x_train_const)\n",
    "\n",
    "x_test_const = sm.add_constant(x_test) # adding a constant\n",
    "predictions_test = model.predict(x_test_const)\n",
    "print_model = model.summary()\n",
    "print(print_model)"
   ]
  },
  {
   "cell_type": "code",
   "execution_count": 13,
   "id": "076fdabb",
   "metadata": {},
   "outputs": [],
   "source": [
    "sts = StandardScaler()\n",
    "\n",
    "x_train_standarized = sts.fit_transform(x_train)\n",
    "x_test_standarized = sts.transform(x_test)\n",
    "\n",
    "x_train_standarized = pd.DataFrame(x_train_standarized)"
   ]
  },
  {
   "cell_type": "code",
   "execution_count": 14,
   "id": "fe2c2815",
   "metadata": {
    "scrolled": true
   },
   "outputs": [
    {
     "name": "stdout",
     "output_type": "stream",
     "text": [
      "                            OLS Regression Results                            \n",
      "==============================================================================\n",
      "Dep. Variable:                realSum   R-squared:                       0.330\n",
      "Model:                            OLS   Adj. R-squared:                  0.329\n",
      "Method:                 Least Squares   F-statistic:                     277.9\n",
      "Date:                Mon, 06 Mar 2023   Prob (F-statistic):               0.00\n",
      "Time:                        16:30:35   Log-Likelihood:                -40689.\n",
      "No. Observations:                6770   AIC:                         8.140e+04\n",
      "Df Residuals:                    6757   BIC:                         8.149e+04\n",
      "Df Model:                          12                                         \n",
      "Covariance Type:            nonrobust                                         \n",
      "==============================================================================\n",
      "                 coef    std err          t      P>|t|      [0.025      0.975]\n",
      "------------------------------------------------------------------------------\n",
      "const        206.2925      1.200    171.947      0.000     203.941     208.644\n",
      "x1            15.8995      1.797      8.848      0.000      12.377      19.422\n",
      "x2             0.7264      1.520      0.478      0.633      -2.252       3.705\n",
      "x3             0.5174      1.590      0.325      0.745      -2.599       3.634\n",
      "x4             0.8023      1.269      0.632      0.527      -1.686       3.291\n",
      "x5            25.4790      1.513     16.839      0.000      22.513      28.445\n",
      "x6            -3.5741      1.545     -2.313      0.021      -6.603      -0.545\n",
      "x7            -0.2584      1.373     -0.188      0.851      -2.950       2.434\n",
      "x8            21.9550      2.012     10.912      0.000      18.011      25.899\n",
      "x9            22.5467      2.147     10.501      0.000      18.337      26.756\n",
      "x10          -18.3518      1.594    -11.511      0.000     -21.477     -15.226\n",
      "x11            0.5089      1.281      0.397      0.691      -2.002       3.020\n",
      "x12            1.8707      1.201      1.557      0.119      -0.484       4.226\n",
      "==============================================================================\n",
      "Omnibus:                    10397.246   Durbin-Watson:                   2.031\n",
      "Prob(Omnibus):                  0.000   Jarque-Bera (JB):          7805198.506\n",
      "Skew:                           9.466   Prob(JB):                         0.00\n",
      "Kurtosis:                     168.262   Cond. No.                         3.63\n",
      "==============================================================================\n",
      "\n",
      "Notes:\n",
      "[1] Standard Errors assume that the covariance matrix of the errors is correctly specified.\n"
     ]
    }
   ],
   "source": [
    "x_train_const = sm.add_constant(x_train_standarized.to_numpy()) # adding a constant\n",
    "\n",
    "model = sm.OLS(y_train, x_train_const).fit()\n",
    "predictions_train = model.predict(x_train_const)\n",
    "\n",
    "x_test_const = sm.add_constant(x_test_standarized) # adding a constant\n",
    "predictions_test = model.predict(x_test_const)\n",
    "print_model = model.summary()\n",
    "print(print_model)"
   ]
  },
  {
   "cell_type": "code",
   "execution_count": 15,
   "id": "f6bbf4d1",
   "metadata": {},
   "outputs": [
    {
     "data": {
      "text/plain": [
       "40.519366806189"
      ]
     },
     "execution_count": 15,
     "metadata": {},
     "output_type": "execute_result"
    }
   ],
   "source": [
    "lm = LinearRegression()\n",
    "model = lm.fit(x_train,y_train)\n",
    "model.coef_\n",
    "model.intercept_"
   ]
  },
  {
   "cell_type": "code",
   "execution_count": 16,
   "id": "211260af",
   "metadata": {},
   "outputs": [
    {
     "data": {
      "text/plain": [
       "0.33046547430721196"
      ]
     },
     "execution_count": 16,
     "metadata": {},
     "output_type": "execute_result"
    }
   ],
   "source": [
    "model.score(x_train, y_train)"
   ]
  },
  {
   "cell_type": "code",
   "execution_count": 17,
   "id": "f57d09f4",
   "metadata": {},
   "outputs": [],
   "source": [
    "y_pred = pd.DataFrame(model.predict(x_test),columns = ['realSum'] )      # model prediction\n",
    "y_pred_train =  pd.DataFrame(model.predict(x_train),columns = ['realSum'])"
   ]
  },
  {
   "cell_type": "code",
   "execution_count": 18,
   "id": "5beb3f72",
   "metadata": {},
   "outputs": [
    {
     "data": {
      "text/plain": [
       "7867.702549766665"
      ]
     },
     "execution_count": 18,
     "metadata": {},
     "output_type": "execute_result"
    }
   ],
   "source": [
    "mse(y_test,y_pred)"
   ]
  },
  {
   "cell_type": "code",
   "execution_count": 19,
   "id": "474c9441",
   "metadata": {},
   "outputs": [
    {
     "data": {
      "text/plain": [
       "88.70007074273765"
      ]
     },
     "execution_count": 19,
     "metadata": {},
     "output_type": "execute_result"
    }
   ],
   "source": [
    "rmse = np.sqrt(mse(y_test,y_pred))\n",
    "rmse"
   ]
  },
  {
   "cell_type": "code",
   "execution_count": 20,
   "id": "1e317427",
   "metadata": {},
   "outputs": [
    {
     "data": {
      "text/plain": [
       "9725.938570905664"
      ]
     },
     "execution_count": 20,
     "metadata": {},
     "output_type": "execute_result"
    }
   ],
   "source": [
    "##prediction on the train set\n",
    "mse(y_train,y_pred_train)"
   ]
  },
  {
   "cell_type": "code",
   "execution_count": 21,
   "id": "661bbc22",
   "metadata": {},
   "outputs": [
    {
     "data": {
      "text/plain": [
       "49.39854203602682"
      ]
     },
     "execution_count": 21,
     "metadata": {},
     "output_type": "execute_result"
    }
   ],
   "source": [
    "mae(y_test,y_pred)"
   ]
  },
  {
   "cell_type": "code",
   "execution_count": 22,
   "id": "df5cfd64",
   "metadata": {},
   "outputs": [
    {
     "data": {
      "text/plain": [
       "0.37981195470437246"
      ]
     },
     "execution_count": 22,
     "metadata": {},
     "output_type": "execute_result"
    }
   ],
   "source": [
    "R2=r2_score(y_test,y_pred)\n",
    "R2"
   ]
  },
  {
   "cell_type": "code",
   "execution_count": 23,
   "id": "d9d07d9d",
   "metadata": {},
   "outputs": [
    {
     "data": {
      "text/plain": [
       "0.3764954410931659"
      ]
     },
     "execution_count": 23,
     "metadata": {},
     "output_type": "execute_result"
    }
   ],
   "source": [
    "R2_test=model.score(x_test,y_test)\n",
    "R2_train=model.score(x_train,y_train)\n",
    "Adj_R2= 1 - (1-R2)*(len(y_test)-1)/(len(y_test)-x_test.shape[1]-1)\n",
    "Adj_R2"
   ]
  },
  {
   "cell_type": "code",
   "execution_count": 24,
   "id": "fbe5de7f",
   "metadata": {},
   "outputs": [
    {
     "name": "stdout",
     "output_type": "stream",
     "text": [
      "Lasso: Train -> 0.3304563257693435, Test -> 0.379704360811167\n"
     ]
    }
   ],
   "source": [
    "model_lasso=Lasso(alpha=0.05)\n",
    "\n",
    "model_lasso.fit(x_train, y_train)\n",
    "print(f\"{model_lasso.__class__.__name__}: Train -> {model_lasso.score(x_train, y_train)}, Test -> {model_lasso.score(x_test, y_test)}\")"
   ]
  },
  {
   "cell_type": "code",
   "execution_count": 25,
   "id": "f5be7487",
   "metadata": {},
   "outputs": [
    {
     "name": "stdout",
     "output_type": "stream",
     "text": [
      "Ridge: Train -> 0.3229423747258222, Test -> 0.3735727623765899\n"
     ]
    }
   ],
   "source": [
    "model_ridge=Ridge(alpha=1000)\n",
    "model_ridge.fit(x_train, y_train)\n",
    "print(f\"{model_ridge.__class__.__name__}: Train -> {model_ridge.score(x_train, y_train)}, Test -> {model_ridge.score(x_test, y_test)}\")"
   ]
  },
  {
   "cell_type": "code",
   "execution_count": 26,
   "id": "3a9359b5",
   "metadata": {},
   "outputs": [
    {
     "name": "stdout",
     "output_type": "stream",
     "text": [
      "X_train has 6770 rows and 12 columns\n",
      "-----------------------------------\n",
      "The coefficient of determination for the test data is R2=0.66\n",
      "The coefficient of determination for the train data is R2=1.00\n"
     ]
    }
   ],
   "source": [
    "model = DecisionTreeRegressor()\n",
    "model.fit(x_train, y_train)\n",
    "\n",
    "print(\"X_train has %d rows and %d columns\"  %(x_train.shape[0],x_train.shape[1]))\n",
    "print(\"-----------------------------------\")\n",
    "print(\"The coefficient of determination for the test data is R2=%.2f\"\n",
    "      %(model.score(x_test, y_test)))\n",
    "print(\"The coefficient of determination for the train data is R2=%.2f\"\n",
    "      %(model.score(x_train, y_train)))\n"
   ]
  },
  {
   "cell_type": "code",
   "execution_count": 27,
   "id": "36eed422",
   "metadata": {},
   "outputs": [
    {
     "name": "stdout",
     "output_type": "stream",
     "text": [
      "Cross validation scores:  [-0.12574729  0.28603063 -0.01338211 -0.05848552  0.47212307]\n",
      "Score stats: 0.11 accuracy with a standard deviation of 0.23\n"
     ]
    }
   ],
   "source": [
    "scores=cross_val_score(model, x_train, y_train, cv=5)\n",
    "print(\"Cross validation scores: \", scores)\n",
    "print(\"Score stats: %0.2f accuracy with a standard deviation of %0.2f\" % (scores.mean(), scores.std()))"
   ]
  },
  {
   "cell_type": "code",
   "execution_count": 28,
   "id": "fff0336b",
   "metadata": {},
   "outputs": [
    {
     "name": "stdout",
     "output_type": "stream",
     "text": [
      "{'Regression Tree': 0.09090438765829853, 'Linear Regression': 0.33393510573811835, 'KNN': 0.378732400509481}\n"
     ]
    }
   ],
   "source": [
    "model1 = DecisionTreeRegressor()\n",
    "model2 = LinearRegression()\n",
    "model3 = KNeighborsRegressor()\n",
    "\n",
    "model_pipeline = [model1, model2, model3]\n",
    "model_names = ['Regression Tree', 'Linear Regression', 'KNN']\n",
    "scores = {}\n",
    "i=0\n",
    "for model in model_pipeline:\n",
    "    mean_score = np.mean(cross_val_score(model, x_train, y_train, cv=5))\n",
    "    scores[model_names[i]] = mean_score\n",
    "    i = i+1\n",
    "print(scores)"
   ]
  },
  {
   "cell_type": "code",
   "execution_count": null,
   "id": "4c759f05",
   "metadata": {},
   "outputs": [],
   "source": []
  }
 ],
 "metadata": {
  "kernelspec": {
   "display_name": "Python 3 (ipykernel)",
   "language": "python",
   "name": "python3"
  },
  "language_info": {
   "codemirror_mode": {
    "name": "ipython",
    "version": 3
   },
   "file_extension": ".py",
   "mimetype": "text/x-python",
   "name": "python",
   "nbconvert_exporter": "python",
   "pygments_lexer": "ipython3",
   "version": "3.9.13"
  }
 },
 "nbformat": 4,
 "nbformat_minor": 5
}
