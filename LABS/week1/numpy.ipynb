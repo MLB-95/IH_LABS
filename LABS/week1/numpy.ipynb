{
 "cells": [
  {
   "cell_type": "markdown",
   "id": "99e5c64b",
   "metadata": {},
   "source": [
    "# numpy exercises\n",
    "\n",
    "This is a collection of exercises that have been collected in the numpy mailing list, on stack overflow\n",
    "and in the numpy documentation. The goal of this collection is to offer a quick reference for both old\n",
    "and new users but also to provide a set of exercises for those who teach.\n",
    "\n",
    "\n",
    "If you find an error or think you've a better way to solve some of them, feel\n",
    "free to open an issue at <https://github.com/rougier/numpy-100>.\n",
    "File automatically generated. See the documentation to update questions/answers/hints programmatically.\n"
   ]
  },
  {
   "cell_type": "code",
   "execution_count": null,
   "id": "6efe8984",
   "metadata": {},
   "outputs": [],
   "source": []
  },
  {
   "cell_type": "markdown",
   "id": "0e3741be",
   "metadata": {},
   "source": [
    "#### 1. Import the numpy package under the name `np` (★☆☆)\n",
    "`hint: import … as`"
   ]
  },
  {
   "cell_type": "code",
   "execution_count": 23,
   "id": "a1498731",
   "metadata": {},
   "outputs": [],
   "source": [
    "import numpy as np\n",
    "import random"
   ]
  },
  {
   "cell_type": "markdown",
   "id": "12145aaf",
   "metadata": {},
   "source": [
    "#### 2. Create a null vector of size 10 (★☆☆)\n",
    "`hint: np.zeros`\n"
   ]
  },
  {
   "cell_type": "code",
   "execution_count": 24,
   "id": "5ffb2ec5",
   "metadata": {},
   "outputs": [],
   "source": [
    "a = np.zeros(10)"
   ]
  },
  {
   "cell_type": "code",
   "execution_count": 25,
   "id": "09e01e4a",
   "metadata": {},
   "outputs": [
    {
     "data": {
      "text/plain": [
       "array([0., 0., 0., 0., 0., 0., 0., 0., 0., 0.])"
      ]
     },
     "execution_count": 25,
     "metadata": {},
     "output_type": "execute_result"
    }
   ],
   "source": [
    "a"
   ]
  },
  {
   "cell_type": "markdown",
   "id": "756e7d8c",
   "metadata": {},
   "source": [
    "#### 3. Create a null vector of size 10 but the fifth value which is 1 (★☆☆)\n",
    "`hint: array[4]`"
   ]
  },
  {
   "cell_type": "code",
   "execution_count": 26,
   "id": "90b75be5",
   "metadata": {
    "scrolled": true
   },
   "outputs": [
    {
     "data": {
      "text/plain": [
       "array([0., 0., 0., 0., 1., 0., 0., 0., 0., 0.])"
      ]
     },
     "execution_count": 26,
     "metadata": {},
     "output_type": "execute_result"
    }
   ],
   "source": [
    "a = np.zeros(10)\n",
    "\n",
    "a[4] = 1\n",
    "\n",
    "a"
   ]
  },
  {
   "cell_type": "markdown",
   "id": "2134872f",
   "metadata": {},
   "source": [
    "#### 4. Create a vector with values ranging from 10 to 49 (★☆☆)\n",
    "`hint: arange`"
   ]
  },
  {
   "cell_type": "code",
   "execution_count": 27,
   "id": "3c06d696",
   "metadata": {},
   "outputs": [
    {
     "data": {
      "text/plain": [
       "array([10, 11, 12, 13, 14, 15, 16, 17, 18, 19, 20, 21, 22, 23, 24, 25, 26,\n",
       "       27, 28, 29, 30, 31, 32, 33, 34, 35, 36, 37, 38, 39, 40, 41, 42, 43,\n",
       "       44, 45, 46, 47, 48])"
      ]
     },
     "execution_count": 27,
     "metadata": {},
     "output_type": "execute_result"
    }
   ],
   "source": [
    "b = np.arange(10, 49)\n",
    "b"
   ]
  },
  {
   "cell_type": "markdown",
   "id": "84509b86",
   "metadata": {},
   "source": [
    "#### 5. Create a 3x3 matrix with values ranging from 0 to 8 (★☆☆)\n",
    "`hint: reshape`"
   ]
  },
  {
   "cell_type": "code",
   "execution_count": 28,
   "id": "1d403895",
   "metadata": {},
   "outputs": [
    {
     "data": {
      "text/plain": [
       "array([[0, 1, 2],\n",
       "       [3, 4, 5],\n",
       "       [6, 7, 8]])"
      ]
     },
     "execution_count": 28,
     "metadata": {},
     "output_type": "execute_result"
    }
   ],
   "source": [
    "a = np.arange(0,9).reshape(3,3)\n",
    "a"
   ]
  },
  {
   "cell_type": "markdown",
   "id": "53963261",
   "metadata": {},
   "source": [
    "#### 6. Find indices of non-zero elements from [1,2,0,0,4,0] (★☆☆)\n",
    "`hint: np.nonzero`"
   ]
  },
  {
   "cell_type": "code",
   "execution_count": 29,
   "id": "a7779d6f",
   "metadata": {
    "scrolled": true
   },
   "outputs": [
    {
     "data": {
      "text/plain": [
       "array([1, 2, 4])"
      ]
     },
     "execution_count": 29,
     "metadata": {},
     "output_type": "execute_result"
    }
   ],
   "source": [
    "a = np.array([1,2,0,0,4,0])\n",
    "\n",
    "a[np.nonzero(a)]"
   ]
  },
  {
   "cell_type": "code",
   "execution_count": 30,
   "id": "3b176532",
   "metadata": {},
   "outputs": [
    {
     "data": {
      "text/plain": [
       "(array([0, 1, 4], dtype=int64),)"
      ]
     },
     "execution_count": 30,
     "metadata": {},
     "output_type": "execute_result"
    }
   ],
   "source": [
    "np.nonzero(np.array([1,2,0,0,4,0]))"
   ]
  },
  {
   "cell_type": "markdown",
   "id": "19ca6080",
   "metadata": {},
   "source": [
    "#### 7. Create a 3x3 identity matrix (★☆☆)\n",
    "`hint: np.eye`\n"
   ]
  },
  {
   "cell_type": "code",
   "execution_count": 31,
   "id": "068fd086",
   "metadata": {},
   "outputs": [
    {
     "data": {
      "text/plain": [
       "array([[1., 0., 0.],\n",
       "       [0., 1., 0.],\n",
       "       [0., 0., 1.]])"
      ]
     },
     "execution_count": 31,
     "metadata": {},
     "output_type": "execute_result"
    }
   ],
   "source": [
    "np.eye(3)"
   ]
  },
  {
   "cell_type": "markdown",
   "id": "57ba4b86",
   "metadata": {},
   "source": [
    "\n",
    "#### 8. Create a 3x3x3 array with random values (★☆☆)\n",
    "`hint: np.random.random`\n"
   ]
  },
  {
   "cell_type": "code",
   "execution_count": 32,
   "id": "393d3e95",
   "metadata": {},
   "outputs": [
    {
     "data": {
      "text/plain": [
       "array([[0.75997277, 0.81541888, 0.54362743],\n",
       "       [0.90875887, 0.47620786, 0.2151512 ],\n",
       "       [0.09297254, 0.91310146, 0.23327552]])"
      ]
     },
     "execution_count": 32,
     "metadata": {},
     "output_type": "execute_result"
    }
   ],
   "source": [
    "\n",
    "\n",
    "a = np.random.random((3,3))\n",
    "a"
   ]
  },
  {
   "cell_type": "markdown",
   "id": "407cbb0c",
   "metadata": {},
   "source": [
    "#### 9. Create a 10x10 array with random values and find the minimum and maximum values (★☆☆)\n",
    "`hint: min, max`"
   ]
  },
  {
   "cell_type": "code",
   "execution_count": 45,
   "id": "8a299c7d",
   "metadata": {},
   "outputs": [
    {
     "data": {
      "text/plain": [
       "96"
      ]
     },
     "execution_count": 45,
     "metadata": {},
     "output_type": "execute_result"
    }
   ],
   "source": [
    "a = np.random.randint(-100,100,(10,10))\n",
    "\n",
    "np.min(a)\n",
    "np.max(a)"
   ]
  },
  {
   "cell_type": "markdown",
   "id": "b366a03c",
   "metadata": {},
   "source": [
    "#### 10. Create a random vector of size 30 and find the mean value (★☆☆)\n",
    "`hint: mean`"
   ]
  },
  {
   "cell_type": "code",
   "execution_count": 11,
   "id": "3c5c6dcc",
   "metadata": {},
   "outputs": [
    {
     "data": {
      "text/plain": [
       "0.4758323590187253"
      ]
     },
     "execution_count": 11,
     "metadata": {},
     "output_type": "execute_result"
    }
   ],
   "source": [
    "a = np.random.random((6,5))\n",
    "\n",
    "a\n",
    "\n",
    "np.mean(a)"
   ]
  },
  {
   "cell_type": "markdown",
   "id": "83cc2bf3",
   "metadata": {},
   "source": [
    "#### 11. Create a 5x5 matrix with values 1,2,3,4 just below the diagonal (★☆☆)\n",
    "`hint: np.diag`"
   ]
  },
  {
   "cell_type": "code",
   "execution_count": 16,
   "id": "61c0f2c0",
   "metadata": {},
   "outputs": [
    {
     "data": {
      "text/plain": [
       "array([[0, 0, 0, 0, 0],\n",
       "       [1, 0, 0, 0, 0],\n",
       "       [0, 2, 0, 0, 0],\n",
       "       [0, 0, 3, 0, 0],\n",
       "       [0, 0, 0, 4, 0]])"
      ]
     },
     "execution_count": 16,
     "metadata": {},
     "output_type": "execute_result"
    }
   ],
   "source": [
    "np.diag([1,2,3,4], k=-1)"
   ]
  },
  {
   "cell_type": "markdown",
   "id": "47bf6d3c",
   "metadata": {},
   "source": [
    "#### 12. Normalize a 5x5 random matrix (★☆☆)\n",
    "`hint: (x -mean)/std`"
   ]
  },
  {
   "cell_type": "code",
   "execution_count": 34,
   "id": "545b13c6",
   "metadata": {},
   "outputs": [
    {
     "data": {
      "text/plain": [
       "array([[-1.06214721,  0.83077562,  1.46027114,  0.5227985 ,  1.27497829],\n",
       "       [-0.60060821, -0.96312834,  0.1824476 ,  1.6521781 , -1.08586599],\n",
       "       [ 0.25078139, -0.55543953,  0.70498999,  1.15426167,  0.40515345],\n",
       "       [ 0.4253055 ,  1.57450348, -1.44127469, -0.16262784, -0.04200084],\n",
       "       [-1.54833262, -1.2667784 ,  0.35790611, -0.52375267, -1.54439447]])"
      ]
     },
     "execution_count": 34,
     "metadata": {},
     "output_type": "execute_result"
    }
   ],
   "source": [
    "b = np.random.random((5,5))\n",
    "\n",
    "b\n",
    "\n",
    "db = (b-np.mean(b))/np.std(b)\n",
    "\n",
    "db"
   ]
  },
  {
   "cell_type": "markdown",
   "id": "547e82e1",
   "metadata": {},
   "source": [
    "#### 13. How to find common values between two arrays? (★☆☆)\n",
    "`hint: np.intersect1d`"
   ]
  },
  {
   "cell_type": "code",
   "execution_count": 17,
   "id": "296286f4",
   "metadata": {},
   "outputs": [
    {
     "data": {
      "text/plain": [
       "array([], dtype=float64)"
      ]
     },
     "execution_count": 17,
     "metadata": {},
     "output_type": "execute_result"
    }
   ],
   "source": [
    "x1 = np.random.random(10)\n",
    "x2 = np.random.random(10)\n",
    "\n",
    "np.intersect1d(x1,x2)\n"
   ]
  },
  {
   "cell_type": "markdown",
   "id": "164fa1cf",
   "metadata": {},
   "source": [
    "#### 14. Create a random vector of size 10 and sort it (★★☆)\n",
    "`hint: sort`"
   ]
  },
  {
   "cell_type": "code",
   "execution_count": 18,
   "id": "6199d786",
   "metadata": {},
   "outputs": [
    {
     "data": {
      "text/plain": [
       "array([0.03153986, 0.12386325, 0.26124173, 0.29840285, 0.44700827,\n",
       "       0.54745061, 0.65847933, 0.73618817, 0.78000626, 0.95099565])"
      ]
     },
     "execution_count": 18,
     "metadata": {},
     "output_type": "execute_result"
    }
   ],
   "source": [
    "x = np.random.random(10)\n",
    "\n",
    "x\n",
    "\n",
    "np.sort(x)"
   ]
  },
  {
   "cell_type": "markdown",
   "id": "aa67cc64",
   "metadata": {},
   "source": [
    "#### 15. Create random vector of size 10 and replace the maximum value by 0 (★★☆)\n",
    "`hint: argmax`"
   ]
  },
  {
   "cell_type": "code",
   "execution_count": 49,
   "id": "0c0ffd3c",
   "metadata": {},
   "outputs": [
    {
     "data": {
      "text/plain": [
       "array([0.26918912, 0.28137176, 0.17715067, 0.61536757, 0.69632745,\n",
       "       0.19707437, 0.65477417, 0.49382254, 0.        , 0.29510633])"
      ]
     },
     "execution_count": 49,
     "metadata": {},
     "output_type": "execute_result"
    }
   ],
   "source": [
    "c = np.random.random(10)\n",
    "\n",
    "np.argmax(c)\n",
    "\n",
    "c[np.argmax(c)] = 0\n",
    "\n",
    "c"
   ]
  },
  {
   "cell_type": "markdown",
   "id": "e6821a1e",
   "metadata": {},
   "source": [
    "#### 16. Subtract the mean of each row of a matrix (★★☆)\n",
    "`hint: mean(axis=,keepdims=)`"
   ]
  },
  {
   "cell_type": "code",
   "execution_count": 57,
   "id": "5eb9c643",
   "metadata": {},
   "outputs": [
    {
     "data": {
      "text/plain": [
       "array([[-0.06657941, -0.15999078,  0.22657019],\n",
       "       [ 0.10254606, -0.12675179,  0.02420573],\n",
       "       [ 0.13916329,  0.06901169, -0.20817498]])"
      ]
     },
     "execution_count": 57,
     "metadata": {},
     "output_type": "execute_result"
    }
   ],
   "source": [
    "n = np.random.random((3,3))\n",
    "\n",
    "n\n",
    "\n",
    "m = n - np.mean(n, axis=1, keepdims=True)\n",
    "\n",
    "m"
   ]
  },
  {
   "cell_type": "markdown",
   "id": "187e5b75",
   "metadata": {},
   "source": [
    "#### 17. How to get the n largest values of an array (★★★)\n",
    "`Z = np.arange(10000)\n",
    "np.random.shuffle(Z)\n",
    "n = 5\n",
    "hint: np.argsort | np.argpartition`"
   ]
  },
  {
   "cell_type": "code",
   "execution_count": 62,
   "id": "2fd0288e",
   "metadata": {},
   "outputs": [
    {
     "name": "stdout",
     "output_type": "stream",
     "text": [
      "\n",
      "    Perform an indirect partition along the given axis using the\n",
      "    algorithm specified by the `kind` keyword. It returns an array of\n",
      "    indices of the same shape as `a` that index data along the given\n",
      "    axis in partitioned order.\n",
      "\n",
      "    .. versionadded:: 1.8.0\n",
      "\n",
      "    Parameters\n",
      "    ----------\n",
      "    a : array_like\n",
      "        Array to sort.\n",
      "    kth : int or sequence of ints\n",
      "        Element index to partition by. The k-th element will be in its\n",
      "        final sorted position and all smaller elements will be moved\n",
      "        before it and all larger elements behind it. The order all\n",
      "        elements in the partitions is undefined. If provided with a\n",
      "        sequence of k-th it will partition all of them into their sorted\n",
      "        position at once.\n",
      "    axis : int or None, optional\n",
      "        Axis along which to sort. The default is -1 (the last axis). If\n",
      "        None, the flattened array is used.\n",
      "    kind : {'introselect'}, optional\n",
      "        Selection algorithm. Default is 'introselect'\n",
      "    order : str or list of str, optional\n",
      "        When `a` is an array with fields defined, this argument\n",
      "        specifies which fields to compare first, second, etc. A single\n",
      "        field can be specified as a string, and not all fields need be\n",
      "        specified, but unspecified fields will still be used, in the\n",
      "        order in which they come up in the dtype, to break ties.\n",
      "\n",
      "    Returns\n",
      "    -------\n",
      "    index_array : ndarray, int\n",
      "        Array of indices that partition `a` along the specified axis.\n",
      "        If `a` is one-dimensional, ``a[index_array]`` yields a partitioned `a`.\n",
      "        More generally, ``np.take_along_axis(a, index_array, axis=a)`` always\n",
      "        yields the partitioned `a`, irrespective of dimensionality.\n",
      "\n",
      "    See Also\n",
      "    --------\n",
      "    partition : Describes partition algorithms used.\n",
      "    ndarray.partition : Inplace partition.\n",
      "    argsort : Full indirect sort.\n",
      "    take_along_axis : Apply ``index_array`` from argpartition\n",
      "                      to an array as if by calling partition.\n",
      "\n",
      "    Notes\n",
      "    -----\n",
      "    See `partition` for notes on the different selection algorithms.\n",
      "\n",
      "    Examples\n",
      "    --------\n",
      "    One dimensional array:\n",
      "\n",
      "    >>> x = np.array([3, 4, 2, 1])\n",
      "    >>> x[np.argpartition(x, 3)]\n",
      "    array([2, 1, 3, 4])\n",
      "    >>> x[np.argpartition(x, (1, 3))]\n",
      "    array([1, 2, 3, 4])\n",
      "\n",
      "    >>> x = [3, 4, 2, 1]\n",
      "    >>> np.array(x)[np.argpartition(x, 3)]\n",
      "    array([2, 1, 3, 4])\n",
      "\n",
      "    Multi-dimensional array:\n",
      "\n",
      "    >>> x = np.array([[3, 4, 2], [1, 3, 1]])\n",
      "    >>> index_array = np.argpartition(x, kth=1, axis=-1)\n",
      "    >>> np.take_along_axis(x, index_array, axis=-1)  # same as np.partition(x, kth=1)\n",
      "    array([[2, 3, 4],\n",
      "           [1, 1, 3]])\n",
      "\n",
      "    \n"
     ]
    }
   ],
   "source": [
    "Z = np.arange(10000)\n",
    "np.random.shuffle(Z)\n",
    "n = 5\n",
    "\n",
    "\n",
    "print(np.argpartition.__doc__)"
   ]
  },
  {
   "cell_type": "code",
   "execution_count": null,
   "id": "3f07b6aa",
   "metadata": {},
   "outputs": [],
   "source": []
  },
  {
   "cell_type": "markdown",
   "id": "65290197",
   "metadata": {},
   "source": [
    "#### 18. Create a random 5*3 matrix and replace items that are larger than 4 by their squares ( Example:  6 --> 36) \n",
    "`hint: np.where`\n"
   ]
  },
  {
   "cell_type": "code",
   "execution_count": 63,
   "id": "435aeed7",
   "metadata": {},
   "outputs": [],
   "source": [
    "l = np.random.randint(0,10,size=(5,3))"
   ]
  },
  {
   "cell_type": "code",
   "execution_count": 64,
   "id": "6b094546",
   "metadata": {},
   "outputs": [
    {
     "data": {
      "text/plain": [
       "array([[2, 1, 5],\n",
       "       [9, 4, 7],\n",
       "       [0, 3, 6],\n",
       "       [8, 2, 5],\n",
       "       [3, 4, 1]])"
      ]
     },
     "execution_count": 64,
     "metadata": {},
     "output_type": "execute_result"
    }
   ],
   "source": [
    "l"
   ]
  },
  {
   "cell_type": "code",
   "execution_count": 65,
   "id": "dd06c7d6",
   "metadata": {},
   "outputs": [],
   "source": [
    "l = np.where(l>4)"
   ]
  },
  {
   "cell_type": "code",
   "execution_count": 72,
   "id": "14d81b3e",
   "metadata": {},
   "outputs": [
    {
     "ename": "NameError",
     "evalue": "name 'i' is not defined",
     "output_type": "error",
     "traceback": [
      "\u001b[1;31m---------------------------------------------------------------------------\u001b[0m",
      "\u001b[1;31mNameError\u001b[0m                                 Traceback (most recent call last)",
      "\u001b[1;32m~\\AppData\\Local\\Temp\\ipykernel_23032\\1484805837.py\u001b[0m in \u001b[0;36m<module>\u001b[1;34m\u001b[0m\n\u001b[1;32m----> 1\u001b[1;33m \u001b[0ml\u001b[0m \u001b[1;33m[\u001b[0m\u001b[0mnp\u001b[0m\u001b[1;33m.\u001b[0m\u001b[0mwhere\u001b[0m\u001b[1;33m(\u001b[0m\u001b[0ml\u001b[0m\u001b[1;33m>\u001b[0m\u001b[1;36m4\u001b[0m\u001b[1;33m)\u001b[0m\u001b[1;33m]\u001b[0m \u001b[1;33m=\u001b[0m \u001b[0ml\u001b[0m\u001b[1;33m(\u001b[0m\u001b[1;33m[\u001b[0m\u001b[0mi\u001b[0m\u001b[1;33m]\u001b[0m\u001b[1;33m)\u001b[0m\u001b[1;33m\u001b[0m\u001b[1;33m\u001b[0m\u001b[0m\n\u001b[0m",
      "\u001b[1;31mNameError\u001b[0m: name 'i' is not defined"
     ]
    }
   ],
   "source": [
    "l [np.where(l>4)] = l([i])"
   ]
  },
  {
   "cell_type": "code",
   "execution_count": null,
   "id": "d0815f3e",
   "metadata": {},
   "outputs": [],
   "source": []
  }
 ],
 "metadata": {
  "kernelspec": {
   "display_name": "Python 3 (ipykernel)",
   "language": "python",
   "name": "python3"
  },
  "language_info": {
   "codemirror_mode": {
    "name": "ipython",
    "version": 3
   },
   "file_extension": ".py",
   "mimetype": "text/x-python",
   "name": "python",
   "nbconvert_exporter": "python",
   "pygments_lexer": "ipython3",
   "version": "3.9.13"
  }
 },
 "nbformat": 4,
 "nbformat_minor": 5
}
